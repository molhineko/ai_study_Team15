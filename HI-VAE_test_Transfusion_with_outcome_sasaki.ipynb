{
 "cells": [
  {
   "cell_type": "markdown",
   "metadata": {},
   "source": [
    "## HI-VAEによる離散値および連続値を含むデータセットによるデータ生成\n",
    "##### Transfusion Data から、condition, outcome を除いたFeatureをencode, decode"
   ]
  },
  {
   "cell_type": "code",
   "execution_count": 1,
   "metadata": {},
   "outputs": [],
   "source": [
    "import tensorflow as tf\n",
    "import graph_new\n",
    "import parser_arguments\n",
    "import time\n",
    "import numpy as np\n",
    "np.seterr(divide='ignore', invalid='ignore')\n",
    "import pandas as pd\n",
    "from matplotlib import pyplot as plt\n",
    "#import plot_functions\n",
    "import read_functions\n",
    "import os\n",
    "pd.set_option(\"display.max_columns\", 500)\n",
    "pd.set_option(\"display.max_rows\", 1000)"
   ]
  },
  {
   "cell_type": "code",
   "execution_count": 2,
   "metadata": {},
   "outputs": [],
   "source": [
    "def print_loss(epoch, start_time, avg_loss, avg_test_loglik, avg_KL_s, avg_KL_z):\n",
    "    print(\"Epoch: [%2d]  time: %4.4f, train_loglik: %.8f, KL_z: %.8f, KL_s: %.8f, ELBO: %.8f, Test_loglik: %.8f\"\n",
    "          % (epoch, time.time() - start_time, avg_loss, avg_KL_z, avg_KL_s, avg_loss-avg_KL_z-avg_KL_s, avg_test_loglik))\n",
    "\n",
    "\n",
    "plt.close('all')"
   ]
  },
  {
   "cell_type": "code",
   "execution_count": 3,
   "metadata": {},
   "outputs": [],
   "source": [
    "df_trans = pd.read_csv('/home/ubuntu/ai-study/DeepLearning基礎講座/Spring Seminar & Project/Team15/sample_dataset/transfusion_data_0321.csv')"
   ]
  },
  {
   "cell_type": "code",
   "execution_count": 4,
   "metadata": {
    "scrolled": true
   },
   "outputs": [
    {
     "data": {
      "text/html": [
       "<div>\n",
       "<style scoped>\n",
       "    .dataframe tbody tr th:only-of-type {\n",
       "        vertical-align: middle;\n",
       "    }\n",
       "\n",
       "    .dataframe tbody tr th {\n",
       "        vertical-align: top;\n",
       "    }\n",
       "\n",
       "    .dataframe thead th {\n",
       "        text-align: right;\n",
       "    }\n",
       "</style>\n",
       "<table border=\"1\" class=\"dataframe\">\n",
       "  <thead>\n",
       "    <tr style=\"text-align: right;\">\n",
       "      <th></th>\n",
       "      <th>Unnamed: 0</th>\n",
       "      <th>TXA.day1_2</th>\n",
       "      <th>dth24h</th>\n",
       "      <th>Outcome.Survive</th>\n",
       "      <th>complication.thrombosis</th>\n",
       "      <th>sex</th>\n",
       "      <th>age</th>\n",
       "      <th>jcs</th>\n",
       "      <th>Year</th>\n",
       "      <th>Fibrinogen.day1_2</th>\n",
       "      <th>X7thCoag.day1_2</th>\n",
       "      <th>FFP.dose.day1_2</th>\n",
       "      <th>Plt.dose.day1_2</th>\n",
       "      <th>Trauma_Severity_Score</th>\n",
       "      <th>Head_injury</th>\n",
       "      <th>RCC.dose.day1</th>\n",
       "      <th>RCC.dose.day1_2</th>\n",
       "    </tr>\n",
       "  </thead>\n",
       "  <tbody>\n",
       "    <tr>\n",
       "      <th>0</th>\n",
       "      <td>0</td>\n",
       "      <td>False</td>\n",
       "      <td>0</td>\n",
       "      <td>True</td>\n",
       "      <td>False</td>\n",
       "      <td>1</td>\n",
       "      <td>33</td>\n",
       "      <td>100</td>\n",
       "      <td>2010</td>\n",
       "      <td>False</td>\n",
       "      <td>False</td>\n",
       "      <td>10.000</td>\n",
       "      <td>0</td>\n",
       "      <td>10.84</td>\n",
       "      <td>True</td>\n",
       "      <td>10</td>\n",
       "      <td>10</td>\n",
       "    </tr>\n",
       "    <tr>\n",
       "      <th>1</th>\n",
       "      <td>1</td>\n",
       "      <td>False</td>\n",
       "      <td>0</td>\n",
       "      <td>True</td>\n",
       "      <td>False</td>\n",
       "      <td>2</td>\n",
       "      <td>73</td>\n",
       "      <td>10</td>\n",
       "      <td>2010</td>\n",
       "      <td>False</td>\n",
       "      <td>False</td>\n",
       "      <td>3.333</td>\n",
       "      <td>0</td>\n",
       "      <td>3.26</td>\n",
       "      <td>True</td>\n",
       "      <td>10</td>\n",
       "      <td>10</td>\n",
       "    </tr>\n",
       "    <tr>\n",
       "      <th>2</th>\n",
       "      <td>2</td>\n",
       "      <td>True</td>\n",
       "      <td>0</td>\n",
       "      <td>True</td>\n",
       "      <td>False</td>\n",
       "      <td>2</td>\n",
       "      <td>55</td>\n",
       "      <td>1</td>\n",
       "      <td>2010</td>\n",
       "      <td>False</td>\n",
       "      <td>False</td>\n",
       "      <td>18.000</td>\n",
       "      <td>20</td>\n",
       "      <td>9.92</td>\n",
       "      <td>False</td>\n",
       "      <td>26</td>\n",
       "      <td>26</td>\n",
       "    </tr>\n",
       "    <tr>\n",
       "      <th>3</th>\n",
       "      <td>3</td>\n",
       "      <td>False</td>\n",
       "      <td>0</td>\n",
       "      <td>True</td>\n",
       "      <td>False</td>\n",
       "      <td>2</td>\n",
       "      <td>52</td>\n",
       "      <td>0</td>\n",
       "      <td>2010</td>\n",
       "      <td>False</td>\n",
       "      <td>False</td>\n",
       "      <td>13.332</td>\n",
       "      <td>0</td>\n",
       "      <td>3.12</td>\n",
       "      <td>False</td>\n",
       "      <td>12</td>\n",
       "      <td>12</td>\n",
       "    </tr>\n",
       "    <tr>\n",
       "      <th>4</th>\n",
       "      <td>4</td>\n",
       "      <td>False</td>\n",
       "      <td>0</td>\n",
       "      <td>True</td>\n",
       "      <td>False</td>\n",
       "      <td>1</td>\n",
       "      <td>18</td>\n",
       "      <td>0</td>\n",
       "      <td>2010</td>\n",
       "      <td>False</td>\n",
       "      <td>False</td>\n",
       "      <td>6.000</td>\n",
       "      <td>0</td>\n",
       "      <td>2.26</td>\n",
       "      <td>False</td>\n",
       "      <td>0</td>\n",
       "      <td>14</td>\n",
       "    </tr>\n",
       "  </tbody>\n",
       "</table>\n",
       "</div>"
      ],
      "text/plain": [
       "   Unnamed: 0  TXA.day1_2  dth24h  Outcome.Survive  complication.thrombosis  \\\n",
       "0           0       False       0             True                    False   \n",
       "1           1       False       0             True                    False   \n",
       "2           2        True       0             True                    False   \n",
       "3           3       False       0             True                    False   \n",
       "4           4       False       0             True                    False   \n",
       "\n",
       "   sex  age  jcs  Year  Fibrinogen.day1_2  X7thCoag.day1_2  FFP.dose.day1_2  \\\n",
       "0    1   33  100  2010              False            False           10.000   \n",
       "1    2   73   10  2010              False            False            3.333   \n",
       "2    2   55    1  2010              False            False           18.000   \n",
       "3    2   52    0  2010              False            False           13.332   \n",
       "4    1   18    0  2010              False            False            6.000   \n",
       "\n",
       "   Plt.dose.day1_2  Trauma_Severity_Score  Head_injury  RCC.dose.day1  \\\n",
       "0                0                  10.84         True             10   \n",
       "1                0                   3.26         True             10   \n",
       "2               20                   9.92        False             26   \n",
       "3                0                   3.12        False             12   \n",
       "4                0                   2.26        False              0   \n",
       "\n",
       "   RCC.dose.day1_2  \n",
       "0               10  \n",
       "1               10  \n",
       "2               26  \n",
       "3               12  \n",
       "4               14  "
      ]
     },
     "execution_count": 4,
     "metadata": {},
     "output_type": "execute_result"
    }
   ],
   "source": [
    "df_trans.head()"
   ]
  },
  {
   "cell_type": "code",
   "execution_count": 5,
   "metadata": {},
   "outputs": [
    {
     "data": {
      "text/plain": [
       "(7645, 17)"
      ]
     },
     "execution_count": 5,
     "metadata": {},
     "output_type": "execute_result"
    }
   ],
   "source": [
    "df_trans.shape"
   ]
  },
  {
   "cell_type": "code",
   "execution_count": 6,
   "metadata": {},
   "outputs": [
    {
     "data": {
      "text/plain": [
       "Index(['Unnamed: 0', 'TXA.day1_2', 'dth24h', 'Outcome.Survive',\n",
       "       'complication.thrombosis', 'sex', 'age', 'jcs', 'Year',\n",
       "       'Fibrinogen.day1_2', 'X7thCoag.day1_2', 'FFP.dose.day1_2',\n",
       "       'Plt.dose.day1_2', 'Trauma_Severity_Score', 'Head_injury',\n",
       "       'RCC.dose.day1', 'RCC.dose.day1_2'],\n",
       "      dtype='object')"
      ]
     },
     "execution_count": 6,
     "metadata": {},
     "output_type": "execute_result"
    }
   ],
   "source": [
    "df_trans.columns"
   ]
  },
  {
   "cell_type": "markdown",
   "metadata": {},
   "source": [
    "TXA.day1_2: 治療の有無（タグ）<- 入力には含めない。  \n",
    "  \n",
    "dth24h, Outcome.Survive, complication.Survive:  \n",
    "outcome(潜在空間からDNNしたoutcomeに相当）  \n",
    "\n",
    "その他は入力Xに相当。  \n",
    "sex:カテゴリ変数(binary)   \n",
    "age:連続変数（整数）   \n",
    "jcs:カテゴリ変数（値は0,1,2,3,10,20,30,100,200,300)の10種類で数が大きいほど重症   \n",
    "Year:カテゴリ変数（傾向スコアでは年度毎の偏りをなくすために使っていましたが無視しても大丈夫かもしれません。そのまま変数に入れても差し支えないかもしれません）   \n",
    "Fibrinogen.day1_2, X7thCoag.day1_2：カテゴリ変数((binary)   \n",
    "FFP.dose.day1_2,Plt.dose.day1_2:連続変数（正値のみとる）   \n",
    "Trauma_Severity_Score(連続変数）おそらく一番outcomeに作用する   \n",
    "Head_injury:カテゴリ変数((binary)   \n",
    "RCC.dose.day1：これは変数に入れないで下さい。   \n",
    "RCC.dose.day1_2:連続変数（10以上の整数)    "
   ]
  },
  {
   "cell_type": "code",
   "execution_count": 7,
   "metadata": {},
   "outputs": [],
   "source": [
    "train_columns = ['sex', 'age', 'jcs', 'Year', 'Fibrinogen.day1_2', 'X7thCoag.day1_2', 'FFP.dose.day1_2',\n",
    "                 'Plt.dose.day1_2', 'Trauma_Severity_Score', 'Head_injury', 'RCC.dose.day1_2']"
   ]
  },
  {
   "cell_type": "code",
   "execution_count": 8,
   "metadata": {},
   "outputs": [
    {
     "data": {
      "text/plain": [
       "11"
      ]
     },
     "execution_count": 8,
     "metadata": {},
     "output_type": "execute_result"
    }
   ],
   "source": [
    "len(train_columns)"
   ]
  },
  {
   "cell_type": "code",
   "execution_count": 9,
   "metadata": {},
   "outputs": [],
   "source": [
    "df_train_data = df_trans[train_columns]"
   ]
  },
  {
   "cell_type": "code",
   "execution_count": 10,
   "metadata": {},
   "outputs": [
    {
     "data": {
      "text/html": [
       "<div>\n",
       "<style scoped>\n",
       "    .dataframe tbody tr th:only-of-type {\n",
       "        vertical-align: middle;\n",
       "    }\n",
       "\n",
       "    .dataframe tbody tr th {\n",
       "        vertical-align: top;\n",
       "    }\n",
       "\n",
       "    .dataframe thead th {\n",
       "        text-align: right;\n",
       "    }\n",
       "</style>\n",
       "<table border=\"1\" class=\"dataframe\">\n",
       "  <thead>\n",
       "    <tr style=\"text-align: right;\">\n",
       "      <th></th>\n",
       "      <th>sex</th>\n",
       "      <th>age</th>\n",
       "      <th>jcs</th>\n",
       "      <th>Year</th>\n",
       "      <th>Fibrinogen.day1_2</th>\n",
       "      <th>X7thCoag.day1_2</th>\n",
       "      <th>FFP.dose.day1_2</th>\n",
       "      <th>Plt.dose.day1_2</th>\n",
       "      <th>Trauma_Severity_Score</th>\n",
       "      <th>Head_injury</th>\n",
       "      <th>RCC.dose.day1_2</th>\n",
       "    </tr>\n",
       "  </thead>\n",
       "  <tbody>\n",
       "    <tr>\n",
       "      <th>0</th>\n",
       "      <td>1</td>\n",
       "      <td>33</td>\n",
       "      <td>100</td>\n",
       "      <td>2010</td>\n",
       "      <td>False</td>\n",
       "      <td>False</td>\n",
       "      <td>10.000</td>\n",
       "      <td>0</td>\n",
       "      <td>10.84</td>\n",
       "      <td>True</td>\n",
       "      <td>10</td>\n",
       "    </tr>\n",
       "    <tr>\n",
       "      <th>1</th>\n",
       "      <td>2</td>\n",
       "      <td>73</td>\n",
       "      <td>10</td>\n",
       "      <td>2010</td>\n",
       "      <td>False</td>\n",
       "      <td>False</td>\n",
       "      <td>3.333</td>\n",
       "      <td>0</td>\n",
       "      <td>3.26</td>\n",
       "      <td>True</td>\n",
       "      <td>10</td>\n",
       "    </tr>\n",
       "    <tr>\n",
       "      <th>2</th>\n",
       "      <td>2</td>\n",
       "      <td>55</td>\n",
       "      <td>1</td>\n",
       "      <td>2010</td>\n",
       "      <td>False</td>\n",
       "      <td>False</td>\n",
       "      <td>18.000</td>\n",
       "      <td>20</td>\n",
       "      <td>9.92</td>\n",
       "      <td>False</td>\n",
       "      <td>26</td>\n",
       "    </tr>\n",
       "    <tr>\n",
       "      <th>3</th>\n",
       "      <td>2</td>\n",
       "      <td>52</td>\n",
       "      <td>0</td>\n",
       "      <td>2010</td>\n",
       "      <td>False</td>\n",
       "      <td>False</td>\n",
       "      <td>13.332</td>\n",
       "      <td>0</td>\n",
       "      <td>3.12</td>\n",
       "      <td>False</td>\n",
       "      <td>12</td>\n",
       "    </tr>\n",
       "    <tr>\n",
       "      <th>4</th>\n",
       "      <td>1</td>\n",
       "      <td>18</td>\n",
       "      <td>0</td>\n",
       "      <td>2010</td>\n",
       "      <td>False</td>\n",
       "      <td>False</td>\n",
       "      <td>6.000</td>\n",
       "      <td>0</td>\n",
       "      <td>2.26</td>\n",
       "      <td>False</td>\n",
       "      <td>14</td>\n",
       "    </tr>\n",
       "  </tbody>\n",
       "</table>\n",
       "</div>"
      ],
      "text/plain": [
       "   sex  age  jcs  Year  Fibrinogen.day1_2  X7thCoag.day1_2  FFP.dose.day1_2  \\\n",
       "0    1   33  100  2010              False            False           10.000   \n",
       "1    2   73   10  2010              False            False            3.333   \n",
       "2    2   55    1  2010              False            False           18.000   \n",
       "3    2   52    0  2010              False            False           13.332   \n",
       "4    1   18    0  2010              False            False            6.000   \n",
       "\n",
       "   Plt.dose.day1_2  Trauma_Severity_Score  Head_injury  RCC.dose.day1_2  \n",
       "0                0                  10.84         True               10  \n",
       "1                0                   3.26         True               10  \n",
       "2               20                   9.92        False               26  \n",
       "3                0                   3.12        False               12  \n",
       "4                0                   2.26        False               14  "
      ]
     },
     "execution_count": 10,
     "metadata": {},
     "output_type": "execute_result"
    }
   ],
   "source": [
    "df_train_data.head()"
   ]
  },
  {
   "cell_type": "code",
   "execution_count": 11,
   "metadata": {},
   "outputs": [],
   "source": [
    "df_train_data = df_train_data.replace({True:1, False:0})"
   ]
  },
  {
   "cell_type": "code",
   "execution_count": 12,
   "metadata": {},
   "outputs": [
    {
     "data": {
      "text/plain": [
       "-2.5"
      ]
     },
     "execution_count": 12,
     "metadata": {},
     "output_type": "execute_result"
    }
   ],
   "source": [
    "df_train_data['Trauma_Severity_Score'].min()"
   ]
  },
  {
   "cell_type": "code",
   "execution_count": 13,
   "metadata": {},
   "outputs": [
    {
     "name": "stdout",
     "output_type": "stream",
     "text": [
      "<class 'pandas.core.frame.DataFrame'>\n",
      "RangeIndex: 7645 entries, 0 to 7644\n",
      "Data columns (total 11 columns):\n",
      "sex                      7645 non-null int64\n",
      "age                      7645 non-null int64\n",
      "jcs                      7645 non-null int64\n",
      "Year                     7645 non-null int64\n",
      "Fibrinogen.day1_2        7645 non-null int64\n",
      "X7thCoag.day1_2          7645 non-null int64\n",
      "FFP.dose.day1_2          7645 non-null float64\n",
      "Plt.dose.day1_2          7645 non-null int64\n",
      "Trauma_Severity_Score    7645 non-null float64\n",
      "Head_injury              7645 non-null int64\n",
      "RCC.dose.day1_2          7645 non-null int64\n",
      "dtypes: float64(2), int64(9)\n",
      "memory usage: 657.1 KB\n"
     ]
    }
   ],
   "source": [
    "df_train_data.info()"
   ]
  },
  {
   "cell_type": "code",
   "execution_count": 14,
   "metadata": {},
   "outputs": [],
   "source": [
    "df_train_data.to_csv('transfusion/transfusion.csv', header=False, index=False)"
   ]
  },
  {
   "cell_type": "markdown",
   "metadata": {},
   "source": [
    "###  data types\n",
    "'sex', cat, 2   \n",
    "'age', pos,    \n",
    "'jcs', ordinal, 10   \n",
    "'Year', cat, 6   \n",
    "'Fibrinogen.day1_2', cat, 2   \n",
    "'X7thCoag.day1_2', cat, 2    \n",
    "'FFP.dose.day1_2', pos,    \n",
    "'Plt.dose.day1_2', pos,    \n",
    "'Trauma_Severity_Score', real   \n",
    "'Head_injury', cat, 2   \n",
    "'RCC.dose.day1_2', pos,    "
   ]
  },
  {
   "cell_type": "code",
   "execution_count": 15,
   "metadata": {},
   "outputs": [],
   "source": [
    "df_data_types = pd.DataFrame({'type':  ['cat', 'pos', 'ordinal', 'cat',  'cat', 'cat', 'pos', 'pos', 'real', 'cat', 'pos'],\n",
    "                              'dim':   [ 2,     1,     10,        6,      2,     2,     1,     1,     1,     2,     1],\n",
    "                              'nclass':[ 2,     None,  10,        6,      2,     2,     None,  None,  None, 2,     None]})\n",
    "df_data_types.to_csv('transfusion/trans_data_types.csv', index=False)"
   ]
  },
  {
   "cell_type": "code",
   "execution_count": 16,
   "metadata": {},
   "outputs": [],
   "source": [
    "# settings = '--epochs 100 --model_name model_HIVAE_inputDropout --restore 0 --train 1 \\\n",
    "#             --data_file transfusion/transfusion.csv --types_file transfusion/trans_data_types.csv --miss_file transfusion/Missing_1.csv \\\n",
    "#             --batch_size 1000 --save 1001 --save_file transfusion_model_test\\\n",
    "#             --dim_latent_s 5 --dim_latent_z 5 --dim_latent_y 3 \\\n",
    "#             --miss_percentage_train 0.0 --miss_percentage_test 0.0'"
   ]
  },
  {
   "cell_type": "code",
   "execution_count": 17,
   "metadata": {},
   "outputs": [],
   "source": [
    "settings = '--epochs 100 --model_name model_HIVAE_inputDropout --restore 0 --train 1 \\\n",
    "            --data_file transfusion/transfusion.csv --types_file transfusion/trans_data_types.csv \\\n",
    "            --batch_size 100 --save 1001 --save_file transfusion_model_test\\\n",
    "            --dim_latent_s 10 --dim_latent_z 10 --dim_latent_y 5 \\\n",
    "            --miss_percentage_train 0.0 --miss_percentage_test 0.0'"
   ]
  },
  {
   "cell_type": "code",
   "execution_count": 18,
   "metadata": {},
   "outputs": [
    {
     "data": {
      "text/plain": [
       "['--epochs',\n",
       " '100',\n",
       " '--model_name',\n",
       " 'model_HIVAE_inputDropout',\n",
       " '--restore',\n",
       " '0',\n",
       " '--train',\n",
       " '1',\n",
       " '--data_file',\n",
       " 'transfusion/transfusion.csv',\n",
       " '--types_file',\n",
       " 'transfusion/trans_data_types.csv',\n",
       " '--batch_size',\n",
       " '100',\n",
       " '--save',\n",
       " '1001',\n",
       " '--save_file',\n",
       " 'transfusion_model_test',\n",
       " '--dim_latent_s',\n",
       " '10',\n",
       " '--dim_latent_z',\n",
       " '10',\n",
       " '--dim_latent_y',\n",
       " '5',\n",
       " '--miss_percentage_train',\n",
       " '0.0',\n",
       " '--miss_percentage_test',\n",
       " '0.0']"
      ]
     },
     "execution_count": 18,
     "metadata": {},
     "output_type": "execute_result"
    }
   ],
   "source": [
    "argvals = settings.split()\n",
    "args = parser_arguments.getArgs(argvals)\n",
    "argvals"
   ]
  },
  {
   "cell_type": "code",
   "execution_count": 19,
   "metadata": {},
   "outputs": [
    {
     "name": "stdout",
     "output_type": "stream",
     "text": [
      "Namespace(batch_size=100, data_file='transfusion/transfusion.csv', dim_latent_s=10, dim_latent_y=5, dim_latent_y_partition=None, dim_latent_z=10, display=1, epochs=100, miss_file='Missing_test.csv', miss_percentage_test=0.0, miss_percentage_train=0.0, model_name='model_HIVAE_inputDropout', perp=10, plot=1, restore=0, save=1001, save_file='transfusion_model_test', train=1, true_miss_file=None, types_file='transfusion/trans_data_types.csv')\n"
     ]
    }
   ],
   "source": [
    "#Create a directoy for the save file\n",
    "if not os.path.exists('./Saved_Networks/' + args.save_file):\n",
    "    os.makedirs('./Saved_Networks/' + args.save_file)\n",
    "\n",
    "network_file_name='./Saved_Networks/' + args.save_file + '/' + args.save_file +'.ckpt'\n",
    "log_file_name='./Saved_Network/' + args.save_file + '/log_file_' + args.save_file +'.txt'\n",
    "\n",
    "print(args)"
   ]
  },
  {
   "cell_type": "code",
   "execution_count": 20,
   "metadata": {},
   "outputs": [],
   "source": [
    "#Creating graph\n",
    "sess_HVAE = tf.Graph()"
   ]
  },
  {
   "cell_type": "code",
   "execution_count": 21,
   "metadata": {},
   "outputs": [
    {
     "name": "stdout",
     "output_type": "stream",
     "text": [
      "[*] Importing model: model_HIVAE_inputDropout\n",
      "[*] Defining placeholders\n",
      "[*] Defining Encoder...\n",
      "[*] Defining Decoder...\n",
      "WARNING:tensorflow:From /home/ubuntu/ai-study/HI-VAE/HI-VAE/loglik_models_missing_normalize.py:95: softmax_cross_entropy_with_logits (from tensorflow.python.ops.nn_ops) is deprecated and will be removed in a future version.\n",
      "Instructions for updating:\n",
      "\n",
      "Future major versions of TensorFlow will allow gradients to flow\n",
      "into the labels input on backprop by default.\n",
      "\n",
      "See `tf.nn.softmax_cross_entropy_with_logits_v2`.\n",
      "\n",
      "[*] Defining Cost function...\n"
     ]
    }
   ],
   "source": [
    "with sess_HVAE.as_default():\n",
    "    \n",
    "    tf_nodes = graph_new.HVAE_graph(args.model_name, args.types_file, args.batch_size,\n",
    "                                    learning_rate=1e-3, z_dim=args.dim_latent_z, y_dim=args.dim_latent_y, \n",
    "                                    s_dim=args.dim_latent_s, y_dim_partition=args.dim_latent_y_partition)"
   ]
  },
  {
   "cell_type": "code",
   "execution_count": 22,
   "metadata": {},
   "outputs": [],
   "source": [
    "################### Running the VAE Training #################################\n",
    "\n",
    "train_data, types_dict, miss_mask, true_miss_mask, n_samples = read_functions.read_data(args.data_file, args.types_file, args.miss_file, \n",
    "                                                                                        args.true_miss_file)\n",
    "#Get an integer number of batches\n",
    "n_batches = int(np.floor(np.shape(train_data)[0]/args.batch_size))\n",
    "#Compute the real miss_mask\n",
    "miss_mask = np.multiply(miss_mask, true_miss_mask)"
   ]
  },
  {
   "cell_type": "code",
   "execution_count": 23,
   "metadata": {},
   "outputs": [
    {
     "data": {
      "text/plain": [
       "(7645, 29)"
      ]
     },
     "execution_count": 23,
     "metadata": {},
     "output_type": "execute_result"
    }
   ],
   "source": [
    "train_data.shape"
   ]
  },
  {
   "cell_type": "code",
   "execution_count": 24,
   "metadata": {
    "scrolled": true
   },
   "outputs": [
    {
     "name": "stdout",
     "output_type": "stream",
     "text": [
      "Initizalizing Variables ...\n",
      "Training the HVAE ...\n",
      "Epoch: [ 0]  time: 3.7309, train_loglik: -24.88914701, KL_z: 0.08645364, KL_s: 0.02859568, ELBO: -25.00419632, Test_loglik: nan\n",
      "\n",
      "Saving Variables ...\n",
      "Epoch: [ 1]  time: 4.7808, train_loglik: -23.83678060, KL_z: 0.15830615, KL_s: 0.31722506, ELBO: -24.31231181, Test_loglik: nan\n",
      "\n",
      "Epoch: [ 2]  time: 5.5535, train_loglik: -22.58398134, KL_z: 0.24161431, KL_s: 0.94682243, ELBO: -23.77241808, Test_loglik: nan\n",
      "\n",
      "Epoch: [ 3]  time: 6.3485, train_loglik: -21.93794572, KL_z: 0.36558777, KL_s: 1.29130885, ELBO: -23.59484234, Test_loglik: nan\n",
      "\n",
      "Epoch: [ 4]  time: 7.1011, train_loglik: -21.53476745, KL_z: 0.41361843, KL_s: 1.49555199, ELBO: -23.44393788, Test_loglik: nan\n",
      "\n",
      "Epoch: [ 5]  time: 7.9119, train_loglik: -21.27651059, KL_z: 0.42209183, KL_s: 1.71493964, ELBO: -23.41354206, Test_loglik: nan\n",
      "\n",
      "Epoch: [ 6]  time: 8.6540, train_loglik: -21.03384856, KL_z: 0.44345692, KL_s: 1.83200907, ELBO: -23.30931455, Test_loglik: nan\n",
      "\n",
      "Epoch: [ 7]  time: 9.4215, train_loglik: -20.85902867, KL_z: 0.48043140, KL_s: 1.88763024, ELBO: -23.22709030, Test_loglik: nan\n",
      "\n",
      "Epoch: [ 8]  time: 10.1914, train_loglik: -20.72100584, KL_z: 0.50791612, KL_s: 1.91491509, ELBO: -23.14383706, Test_loglik: nan\n",
      "\n",
      "Epoch: [ 9]  time: 11.0169, train_loglik: -20.56892699, KL_z: 0.53963355, KL_s: 1.93009806, ELBO: -23.03865860, Test_loglik: nan\n",
      "\n",
      "Epoch: [10]  time: 11.7855, train_loglik: -20.47273606, KL_z: 0.57934418, KL_s: 1.93617658, ELBO: -22.98825682, Test_loglik: nan\n",
      "\n",
      "Epoch: [11]  time: 12.5542, train_loglik: -20.36630166, KL_z: 0.61479824, KL_s: 1.92547334, ELBO: -22.90657324, Test_loglik: nan\n",
      "\n",
      "Epoch: [12]  time: 13.3238, train_loglik: -20.26179472, KL_z: 0.65089435, KL_s: 1.89228977, ELBO: -22.80497884, Test_loglik: nan\n",
      "\n",
      "Epoch: [13]  time: 14.1018, train_loglik: -20.13654011, KL_z: 0.66537704, KL_s: 1.85345812, ELBO: -22.65537526, Test_loglik: nan\n",
      "\n",
      "Epoch: [14]  time: 14.8918, train_loglik: -20.09111221, KL_z: 0.68649550, KL_s: 1.85161587, ELBO: -22.62922358, Test_loglik: nan\n",
      "\n",
      "Epoch: [15]  time: 15.6710, train_loglik: -20.00586989, KL_z: 0.70887772, KL_s: 1.86989661, ELBO: -22.58464423, Test_loglik: nan\n",
      "\n",
      "Epoch: [16]  time: 16.4713, train_loglik: -19.90859052, KL_z: 0.73536982, KL_s: 1.88694486, ELBO: -22.53090520, Test_loglik: nan\n",
      "\n",
      "Epoch: [17]  time: 17.2943, train_loglik: -19.87161421, KL_z: 0.74365675, KL_s: 1.90077682, ELBO: -22.51604777, Test_loglik: nan\n",
      "\n",
      "Epoch: [18]  time: 18.1029, train_loglik: -19.81641350, KL_z: 0.75159624, KL_s: 1.91064869, ELBO: -22.47865844, Test_loglik: nan\n",
      "\n",
      "Epoch: [19]  time: 18.8799, train_loglik: -19.76532336, KL_z: 0.76680056, KL_s: 1.91891629, ELBO: -22.45104021, Test_loglik: nan\n",
      "\n",
      "Epoch: [20]  time: 19.6737, train_loglik: -19.72699268, KL_z: 0.79050212, KL_s: 1.92508662, ELBO: -22.44258142, Test_loglik: nan\n",
      "\n",
      "Epoch: [21]  time: 20.4582, train_loglik: -19.67190622, KL_z: 0.80450700, KL_s: 1.92913470, ELBO: -22.40554792, Test_loglik: nan\n",
      "\n",
      "Epoch: [22]  time: 21.2279, train_loglik: -19.62445226, KL_z: 0.82518173, KL_s: 1.93091277, ELBO: -22.38054676, Test_loglik: nan\n",
      "\n",
      "Epoch: [23]  time: 22.0181, train_loglik: -19.59289671, KL_z: 0.84655208, KL_s: 1.92510813, ELBO: -22.36455692, Test_loglik: nan\n",
      "\n",
      "Epoch: [24]  time: 22.7832, train_loglik: -19.54563455, KL_z: 0.85547483, KL_s: 1.91252088, ELBO: -22.31363025, Test_loglik: nan\n",
      "\n",
      "Epoch: [25]  time: 23.5303, train_loglik: -19.52384512, KL_z: 0.87795661, KL_s: 1.88449738, ELBO: -22.28629911, Test_loglik: nan\n",
      "\n",
      "Epoch: [26]  time: 24.2861, train_loglik: -19.46362558, KL_z: 0.87848517, KL_s: 1.84712022, ELBO: -22.18923097, Test_loglik: nan\n",
      "\n",
      "Epoch: [27]  time: 25.0277, train_loglik: -19.42060706, KL_z: 0.88387264, KL_s: 1.84165840, ELBO: -22.14613811, Test_loglik: nan\n",
      "\n",
      "Epoch: [28]  time: 25.7648, train_loglik: -19.39658449, KL_z: 0.89797491, KL_s: 1.85167279, ELBO: -22.14623218, Test_loglik: nan\n",
      "\n",
      "Epoch: [29]  time: 26.5013, train_loglik: -19.33710286, KL_z: 0.91496150, KL_s: 1.86013623, ELBO: -22.11220060, Test_loglik: nan\n",
      "\n",
      "Epoch: [30]  time: 27.3145, train_loglik: -19.31278788, KL_z: 0.92479165, KL_s: 1.86729062, ELBO: -22.10487016, Test_loglik: nan\n",
      "\n",
      "Epoch: [31]  time: 28.0691, train_loglik: -19.25717389, KL_z: 0.93202682, KL_s: 1.86776648, ELBO: -22.05696719, Test_loglik: nan\n",
      "\n",
      "Epoch: [32]  time: 28.8833, train_loglik: -19.22568472, KL_z: 0.92793840, KL_s: 1.86447911, ELBO: -22.01810223, Test_loglik: nan\n",
      "\n",
      "Epoch: [33]  time: 29.6333, train_loglik: -19.17277411, KL_z: 0.92857821, KL_s: 1.84469222, ELBO: -21.94604455, Test_loglik: nan\n",
      "\n",
      "Epoch: [34]  time: 30.4603, train_loglik: -19.15743113, KL_z: 0.94147796, KL_s: 1.82410210, ELBO: -21.92301119, Test_loglik: nan\n",
      "\n",
      "Epoch: [35]  time: 31.2547, train_loglik: -19.11580665, KL_z: 0.94674803, KL_s: 1.82332325, ELBO: -21.88587794, Test_loglik: nan\n",
      "\n",
      "Epoch: [36]  time: 32.0572, train_loglik: -19.06536165, KL_z: 0.94978507, KL_s: 1.81852032, ELBO: -21.83366704, Test_loglik: nan\n",
      "\n",
      "Epoch: [37]  time: 32.8491, train_loglik: -19.03446845, KL_z: 0.95629726, KL_s: 1.81136226, ELBO: -21.80212797, Test_loglik: nan\n",
      "\n",
      "Epoch: [38]  time: 33.6266, train_loglik: -19.00749789, KL_z: 0.95971075, KL_s: 1.80608467, ELBO: -21.77329331, Test_loglik: nan\n",
      "\n",
      "Epoch: [39]  time: 34.3530, train_loglik: -18.97213178, KL_z: 0.96116834, KL_s: 1.79925319, ELBO: -21.73255331, Test_loglik: nan\n",
      "\n",
      "Epoch: [40]  time: 35.1293, train_loglik: -18.92877682, KL_z: 0.97256498, KL_s: 1.79939943, ELBO: -21.70074122, Test_loglik: nan\n",
      "\n",
      "Epoch: [41]  time: 35.8957, train_loglik: -18.87449892, KL_z: 0.98896146, KL_s: 1.79498021, ELBO: -21.65844059, Test_loglik: nan\n",
      "\n",
      "Epoch: [42]  time: 36.7047, train_loglik: -18.85366457, KL_z: 1.01046612, KL_s: 1.80526909, ELBO: -21.66939979, Test_loglik: nan\n",
      "\n",
      "Epoch: [43]  time: 37.5102, train_loglik: -18.82286094, KL_z: 1.01414943, KL_s: 1.80608748, ELBO: -21.64309785, Test_loglik: nan\n",
      "\n",
      "Epoch: [44]  time: 38.3649, train_loglik: -18.79317833, KL_z: 1.02386131, KL_s: 1.81017613, ELBO: -21.62721578, Test_loglik: nan\n",
      "\n",
      "Epoch: [45]  time: 39.1849, train_loglik: -18.75498199, KL_z: 1.02836342, KL_s: 1.81535678, ELBO: -21.59870219, Test_loglik: nan\n",
      "\n",
      "Epoch: [46]  time: 39.9759, train_loglik: -18.73212290, KL_z: 1.02654370, KL_s: 1.81552902, ELBO: -21.57419563, Test_loglik: nan\n",
      "\n",
      "Epoch: [47]  time: 40.8111, train_loglik: -18.71215221, KL_z: 1.05329049, KL_s: 1.81732285, ELBO: -21.58276554, Test_loglik: nan\n",
      "\n",
      "Epoch: [48]  time: 41.5870, train_loglik: -18.69379877, KL_z: 1.04141017, KL_s: 1.82222007, ELBO: -21.55742900, Test_loglik: nan\n",
      "\n",
      "Epoch: [49]  time: 42.3839, train_loglik: -18.64504172, KL_z: 1.04385900, KL_s: 1.82564394, ELBO: -21.51454466, Test_loglik: nan\n",
      "\n",
      "Epoch: [50]  time: 43.1671, train_loglik: -18.66524521, KL_z: 1.07198091, KL_s: 1.82751957, ELBO: -21.56474569, Test_loglik: nan\n",
      "\n",
      "Epoch: [51]  time: 43.9258, train_loglik: -18.66667258, KL_z: 1.07122748, KL_s: 1.82934576, ELBO: -21.56724583, Test_loglik: nan\n",
      "\n",
      "Epoch: [52]  time: 44.6944, train_loglik: -18.61299791, KL_z: 1.07079688, KL_s: 1.83234130, ELBO: -21.51613609, Test_loglik: nan\n",
      "\n",
      "Epoch: [53]  time: 45.4456, train_loglik: -18.62466652, KL_z: 1.06863370, KL_s: 1.83479589, ELBO: -21.52809610, Test_loglik: nan\n",
      "\n",
      "Epoch: [54]  time: 46.1929, train_loglik: -18.60828159, KL_z: 1.07845336, KL_s: 1.83587213, ELBO: -21.52260708, Test_loglik: nan\n",
      "\n",
      "Epoch: [55]  time: 46.9464, train_loglik: -18.60267519, KL_z: 1.07948642, KL_s: 1.83829189, ELBO: -21.52045350, Test_loglik: nan\n",
      "\n",
      "Epoch: [56]  time: 47.6886, train_loglik: -18.61581740, KL_z: 1.08991263, KL_s: 1.84070208, ELBO: -21.54643211, Test_loglik: nan\n",
      "\n",
      "Epoch: [57]  time: 48.4381, train_loglik: -18.54604741, KL_z: 1.07934130, KL_s: 1.84108228, ELBO: -21.46647099, Test_loglik: nan\n",
      "\n",
      "Epoch: [58]  time: 49.1893, train_loglik: -18.53757153, KL_z: 1.08848046, KL_s: 1.84235903, ELBO: -21.46841102, Test_loglik: nan\n",
      "\n",
      "Epoch: [59]  time: 49.9250, train_loglik: -18.54597842, KL_z: 1.09072926, KL_s: 1.84456116, ELBO: -21.48126884, Test_loglik: nan\n",
      "\n",
      "Epoch: [60]  time: 50.7278, train_loglik: -18.49113183, KL_z: 1.09577246, KL_s: 1.84610743, ELBO: -21.43301172, Test_loglik: nan\n",
      "\n",
      "Epoch: [61]  time: 51.4873, train_loglik: -18.50738167, KL_z: 1.10134382, KL_s: 1.84727361, ELBO: -21.45599909, Test_loglik: nan\n",
      "\n",
      "Epoch: [62]  time: 52.2812, train_loglik: -18.52378451, KL_z: 1.10162946, KL_s: 1.84893692, ELBO: -21.47435089, Test_loglik: nan\n",
      "\n"
     ]
    },
    {
     "name": "stdout",
     "output_type": "stream",
     "text": [
      "Epoch: [63]  time: 53.0268, train_loglik: -18.49719329, KL_z: 1.10695336, KL_s: 1.84837531, ELBO: -21.45252196, Test_loglik: nan\n",
      "\n",
      "Epoch: [64]  time: 53.7764, train_loglik: -18.51226741, KL_z: 1.10525806, KL_s: 1.84730900, ELBO: -21.46483447, Test_loglik: nan\n",
      "\n",
      "Epoch: [65]  time: 54.5757, train_loglik: -18.49708482, KL_z: 1.11499644, KL_s: 1.84776373, ELBO: -21.45984499, Test_loglik: nan\n",
      "\n",
      "Epoch: [66]  time: 55.3529, train_loglik: -18.49885476, KL_z: 1.10782334, KL_s: 1.85018536, ELBO: -21.45686347, Test_loglik: nan\n",
      "\n",
      "Epoch: [67]  time: 56.2164, train_loglik: -18.48145718, KL_z: 1.11960118, KL_s: 1.84956228, ELBO: -21.45062064, Test_loglik: nan\n",
      "\n",
      "Epoch: [68]  time: 57.0424, train_loglik: -18.49619323, KL_z: 1.11067240, KL_s: 1.85220297, ELBO: -21.45906860, Test_loglik: nan\n",
      "\n",
      "Epoch: [69]  time: 57.8216, train_loglik: -18.45133578, KL_z: 1.10821006, KL_s: 1.85177596, ELBO: -21.41132181, Test_loglik: nan\n",
      "\n",
      "Epoch: [70]  time: 58.5863, train_loglik: -18.44689964, KL_z: 1.12476894, KL_s: 1.85182878, ELBO: -21.42349736, Test_loglik: nan\n",
      "\n",
      "Epoch: [71]  time: 59.4020, train_loglik: -18.45301601, KL_z: 1.12776047, KL_s: 1.85190761, ELBO: -21.43268409, Test_loglik: nan\n",
      "\n",
      "Epoch: [72]  time: 60.2340, train_loglik: -18.42605779, KL_z: 1.12557692, KL_s: 1.85357511, ELBO: -21.40520983, Test_loglik: nan\n",
      "\n",
      "Epoch: [73]  time: 61.0071, train_loglik: -18.45304630, KL_z: 1.12736115, KL_s: 1.85432535, ELBO: -21.43473280, Test_loglik: nan\n",
      "\n",
      "Epoch: [74]  time: 61.7680, train_loglik: -18.45648891, KL_z: 1.12846666, KL_s: 1.85303457, ELBO: -21.43799014, Test_loglik: nan\n",
      "\n",
      "Epoch: [75]  time: 62.5232, train_loglik: -18.39803999, KL_z: 1.12383317, KL_s: 1.85492932, ELBO: -21.37680248, Test_loglik: nan\n",
      "\n",
      "Epoch: [76]  time: 63.2461, train_loglik: -18.41531816, KL_z: 1.13490173, KL_s: 1.85499398, ELBO: -21.40521387, Test_loglik: nan\n",
      "\n",
      "Epoch: [77]  time: 64.0804, train_loglik: -18.43777165, KL_z: 1.13524099, KL_s: 1.85564034, ELBO: -21.42865297, Test_loglik: nan\n",
      "\n",
      "Epoch: [78]  time: 64.8518, train_loglik: -18.42476820, KL_z: 1.13536800, KL_s: 1.85460130, ELBO: -21.41473750, Test_loglik: nan\n",
      "\n",
      "Epoch: [79]  time: 65.6363, train_loglik: -18.38898275, KL_z: 1.14472099, KL_s: 1.85253523, ELBO: -21.38623897, Test_loglik: nan\n",
      "\n",
      "Epoch: [80]  time: 66.4767, train_loglik: -18.39416381, KL_z: 1.13173794, KL_s: 1.85126721, ELBO: -21.37716896, Test_loglik: nan\n",
      "\n",
      "Epoch: [81]  time: 67.2377, train_loglik: -18.37900506, KL_z: 1.14043702, KL_s: 1.84917213, ELBO: -21.36861421, Test_loglik: nan\n",
      "\n",
      "Epoch: [82]  time: 67.8916, train_loglik: -18.41019284, KL_z: 1.14630105, KL_s: 1.84392453, ELBO: -21.40041842, Test_loglik: nan\n",
      "\n",
      "Epoch: [83]  time: 68.6377, train_loglik: -18.37793983, KL_z: 1.13984253, KL_s: 1.83708645, ELBO: -21.35486881, Test_loglik: nan\n",
      "\n",
      "Epoch: [84]  time: 69.4775, train_loglik: -18.36528552, KL_z: 1.14180624, KL_s: 1.82777219, ELBO: -21.33486395, Test_loglik: nan\n",
      "\n",
      "Epoch: [85]  time: 70.2848, train_loglik: -18.36516503, KL_z: 1.15328134, KL_s: 1.82487759, ELBO: -21.34332397, Test_loglik: nan\n",
      "\n",
      "Epoch: [86]  time: 71.0565, train_loglik: -18.35100345, KL_z: 1.16414474, KL_s: 1.82071992, ELBO: -21.33586811, Test_loglik: nan\n",
      "\n",
      "Epoch: [87]  time: 71.8544, train_loglik: -18.36657835, KL_z: 1.16684929, KL_s: 1.81677167, ELBO: -21.35019931, Test_loglik: nan\n",
      "\n",
      "Epoch: [88]  time: 72.6229, train_loglik: -18.34877898, KL_z: 1.16795911, KL_s: 1.81414925, ELBO: -21.33088734, Test_loglik: nan\n",
      "\n",
      "Epoch: [89]  time: 73.4293, train_loglik: -18.34934611, KL_z: 1.16513649, KL_s: 1.81272243, ELBO: -21.32720504, Test_loglik: nan\n",
      "\n",
      "Epoch: [90]  time: 74.1874, train_loglik: -18.34519803, KL_z: 1.15386681, KL_s: 1.80916277, ELBO: -21.30822762, Test_loglik: nan\n",
      "\n",
      "Epoch: [91]  time: 74.9350, train_loglik: -18.33284549, KL_z: 1.17153358, KL_s: 1.81064817, ELBO: -21.31502724, Test_loglik: nan\n",
      "\n",
      "Epoch: [92]  time: 75.6880, train_loglik: -18.29999718, KL_z: 1.16598862, KL_s: 1.81025914, ELBO: -21.27624494, Test_loglik: nan\n",
      "\n",
      "Epoch: [93]  time: 76.5061, train_loglik: -18.28734719, KL_z: 1.17100427, KL_s: 1.80901836, ELBO: -21.26736982, Test_loglik: nan\n",
      "\n",
      "Epoch: [94]  time: 77.2734, train_loglik: -18.29701828, KL_z: 1.17587109, KL_s: 1.80976497, ELBO: -21.28265434, Test_loglik: nan\n",
      "\n",
      "Epoch: [95]  time: 78.0437, train_loglik: -18.29277194, KL_z: 1.17722556, KL_s: 1.81034342, ELBO: -21.28034093, Test_loglik: nan\n",
      "\n",
      "Epoch: [96]  time: 78.7978, train_loglik: -18.29783836, KL_z: 1.17808856, KL_s: 1.81131557, ELBO: -21.28724249, Test_loglik: nan\n",
      "\n",
      "Epoch: [97]  time: 79.5543, train_loglik: -18.30115702, KL_z: 1.16774458, KL_s: 1.81341574, ELBO: -21.28231734, Test_loglik: nan\n",
      "\n",
      "Epoch: [98]  time: 80.3181, train_loglik: -18.30057373, KL_z: 1.17793539, KL_s: 1.81482398, ELBO: -21.29333309, Test_loglik: nan\n",
      "\n",
      "Epoch: [99]  time: 81.1214, train_loglik: -18.30784376, KL_z: 1.17078312, KL_s: 1.81390871, ELBO: -21.29253559, Test_loglik: nan\n",
      "\n",
      "Training Finished ...\n"
     ]
    }
   ],
   "source": [
    "with tf.Session(graph=sess_HVAE) as session:\n",
    "        \n",
    "    # Add ops to save and restore all the variables.\n",
    "    saver = tf.train.Saver()\n",
    "        \n",
    "    if(args.restore == 1):\n",
    "        saver.restore(session, network_file_name)\n",
    "        print(\"Model restored.\")\n",
    "    else:\n",
    "#        saver = tf.train.Saver()\n",
    "        print('Initizalizing Variables ...')\n",
    "        tf.global_variables_initializer().run()\n",
    "    \n",
    "    print('Training the HVAE ...')\n",
    "    if(args.train == 1):\n",
    "        \n",
    "        start_time = time.time()\n",
    "        # Training cycle\n",
    "        \n",
    "        loglik_epoch = []\n",
    "        testloglik_epoch = []\n",
    "        KL_s_epoch = []\n",
    "        KL_z_epoch = []\n",
    "        for epoch in range(args.epochs):\n",
    "            avg_loss = 0.\n",
    "            avg_KL_s = 0.\n",
    "            avg_KL_z = 0.\n",
    "            samples_list = []\n",
    "            p_params_list = []\n",
    "            q_params_list = []\n",
    "            log_p_x_total = []\n",
    "            log_p_x_missing_total = []\n",
    "            \n",
    "            # Annealing of Gumbel-Softmax parameter\n",
    "            tau = np.max([1.0 - 0.001*epoch,1e-3])\n",
    "            \n",
    "#             #Randomize the data in the mini-batches\n",
    "#             random_perm = np.random.permutation(range(np.shape(train_data)[0]))\n",
    "#             train_data_aux = train_data[random_perm,:]\n",
    "#             miss_mask_aux = miss_mask[random_perm,:]\n",
    "#             true_miss_mask_aux = true_miss_mask[random_perm,:]\n",
    "\n",
    "            train_data_aux = train_data[:]\n",
    "            miss_mask_aux = miss_mask[:]\n",
    "            true_miss_mask_aux = true_miss_mask[:]\n",
    "\n",
    "            for i in range(n_batches):      \n",
    "                \n",
    "                #Create inputs for the feed_dict\n",
    "                data_list, miss_list = read_functions.next_batch(train_data_aux, types_dict, miss_mask_aux, args.batch_size, index_batch=i)\n",
    "\n",
    "                #Delete not known data (input zeros)\n",
    "                data_list_observed = [data_list[i]*np.reshape(miss_list[:,i],[args.batch_size,1]) for i in range(len(data_list))]\n",
    "                \n",
    "                #Create feed dictionary\n",
    "                feedDict = {i: d for i, d in zip(tf_nodes['ground_batch'], data_list)}\n",
    "                feedDict.update({i: d for i, d in zip(tf_nodes['ground_batch_observed'], data_list_observed)})\n",
    "                feedDict[tf_nodes['miss_list']] = miss_list\n",
    "                feedDict[tf_nodes['tau_GS']] = tau\n",
    "                \n",
    "                #Running VAE\n",
    "                _,loss,KL_z,KL_s,samples,log_p_x,log_p_x_missing,p_params,q_params  = session.run([tf_nodes['optim'], \n",
    "                                                                                                   tf_nodes['loss_re'], \n",
    "                                                                                                   tf_nodes['KL_z'], \n",
    "                                                                                                   tf_nodes['KL_s'], \n",
    "                                                                                                   tf_nodes['samples'],\n",
    "                                                                                                   tf_nodes['log_p_x'], \n",
    "                                                                                                   tf_nodes['log_p_x_missing'],\n",
    "                                                                                                   tf_nodes['p_params'],\n",
    "                                                                                                   tf_nodes['q_params']],\n",
    "                                                                                                  feed_dict=feedDict)\n",
    "                \n",
    "                #Collect all samples, distirbution parameters and logliks in lists\n",
    "                samples_list.append(samples)\n",
    "                p_params_list.append(p_params)\n",
    "                q_params_list.append(q_params)\n",
    "                log_p_x_total.append(log_p_x)\n",
    "                log_p_x_missing_total.append(log_p_x_missing)\n",
    "                \n",
    "                # Compute average loss\n",
    "                avg_loss += np.mean(loss)\n",
    "                avg_KL_s += np.mean(KL_s)\n",
    "                avg_KL_z += np.mean(KL_z)\n",
    "                \n",
    "            #Concatenate samples in arrays\n",
    "            s_total, z_total, y_total, est_data = read_functions.samples_concatenation(samples_list)\n",
    "            \n",
    "            #Transform discrete variables back to the original values\n",
    "            train_data_transformed = read_functions.discrete_variables_transformation(train_data_aux[:n_batches*args.batch_size,:], \n",
    "                                                                                      types_dict)\n",
    "            est_data_transformed = read_functions.discrete_variables_transformation(est_data, types_dict)\n",
    "            est_data_imputed = read_functions.mean_imputation(train_data_transformed, miss_mask_aux[:n_batches*args.batch_size,:], \n",
    "                                                              types_dict)\n",
    "            \n",
    "            #Create global dictionary of the distribution parameters\n",
    "            p_params_complete = read_functions.p_distribution_params_concatenation(p_params_list, types_dict, args.dim_latent_z, \n",
    "                                                                                   args.dim_latent_s)\n",
    "            q_params_complete = read_functions.q_distribution_params_concatenation(q_params_list,  args.dim_latent_z, args.dim_latent_s)\n",
    "            \n",
    "            #Compute mean and mode of our loglik models\n",
    "            loglik_mean, loglik_mode = read_functions.statistics(p_params_complete['x'],types_dict)\n",
    "                \n",
    "            #Try this for the errors\n",
    "            error_train_mean, error_test_mean = read_functions.error_computation(train_data_transformed, loglik_mean, \n",
    "                                                                                 types_dict, miss_mask_aux[:n_batches*args.batch_size,:])\n",
    "            error_train_mode, error_test_mode = read_functions.error_computation(train_data_transformed, loglik_mode, \n",
    "                                                                                 types_dict, miss_mask_aux[:n_batches*args.batch_size,:])\n",
    "            error_train_samples, error_test_samples = read_functions.error_computation(train_data_transformed, est_data_transformed, \n",
    "                                                                                       types_dict, \n",
    "                                                                                       miss_mask_aux[:n_batches*args.batch_size,:])\n",
    "            error_train_imputed, error_test_imputed = read_functions.error_computation(train_data_transformed, est_data_imputed, \n",
    "                                                                                       types_dict, \n",
    "                                                                                       miss_mask_aux[:n_batches*args.batch_size,:])\n",
    "                \n",
    "            #Compute test-loglik from log_p_x_missing\n",
    "            log_p_x_total = np.transpose(np.concatenate(log_p_x_total,1))\n",
    "            log_p_x_missing_total = np.transpose(np.concatenate(log_p_x_missing_total,1))\n",
    "            if args.true_miss_file:\n",
    "                log_p_x_missing_total = np.multiply(log_p_x_missing_total,true_miss_mask_aux[:n_batches*args.batch_size,:])\n",
    "            avg_test_loglik = np.sum(log_p_x_missing_total)/np.sum(1.0-miss_mask_aux)\n",
    "\n",
    "            # Display logs per epoch step\n",
    "            if epoch % args.display == 0:\n",
    "                print_loss(epoch, start_time, avg_loss/n_batches, avg_test_loglik, avg_KL_s/n_batches, avg_KL_z/n_batches)\n",
    "                print(\"\")\n",
    "                \n",
    "            #Compute train and test loglik per variables\n",
    "            loglik_per_variable = np.sum(log_p_x_total,0)/np.sum(miss_mask_aux,0)\n",
    "            loglik_per_variable_missing = np.sum(log_p_x_missing_total,0)/np.sum(1.0-miss_mask_aux,0)\n",
    "            \n",
    "            #Store evolution of all the terms in the ELBO\n",
    "            loglik_epoch.append(loglik_per_variable)\n",
    "            testloglik_epoch.append(loglik_per_variable_missing)\n",
    "            KL_s_epoch.append(avg_KL_s/n_batches)\n",
    "            KL_z_epoch.append(avg_KL_z/n_batches)\n",
    "            \n",
    "            \n",
    "            if epoch % args.save == 0:\n",
    "                print('Saving Variables ...')  \n",
    "                save_path = saver.save(session, network_file_name)    \n",
    "            \n",
    "        print('Training Finished ...')\n",
    "        \n",
    "        \n",
    "    #Test phase\n",
    "    else:\n",
    "        \n",
    "        start_time = time.time()\n",
    "        # Testing cycle\n",
    "        \n",
    "        f_toy2, ax_toy2 = plt.subplots(4,4,figsize=(8, 8))\n",
    "        loglik_epoch = []\n",
    "        testloglik_epoch = []\n",
    "        for epoch in range(args.epochs):\n",
    "            avg_loss = 0.\n",
    "            avg_KL_s = 0.\n",
    "            avg_KL_y = 0.\n",
    "            avg_KL_z = 0.\n",
    "            samples_list = []\n",
    "            p_params_list = []\n",
    "            q_params_list = []\n",
    "            log_p_x_total = []\n",
    "            log_p_x_missing_total = []\n",
    "            \n",
    "            # Constant Gumbel-Softmax parameter (where we have finished the annealing)\n",
    "            tau = 1e-3\n",
    "            \n",
    "            for i in range(n_batches):      \n",
    "                \n",
    "                #Create train minibatch\n",
    "                data_list, miss_list = read_functions.next_batch(train_data, types_dict, miss_mask, args.batch_size, \n",
    "                                                                 index_batch=i) # miss_percentage=args.miss_percentage_train)\n",
    "\n",
    "                #Delete not known data\n",
    "                data_list_observed = [data_list[i]*np.reshape(miss_list[:,i],[args.batch_size,1]) for i in range(len(data_list))]\n",
    "                \n",
    "                #Create feed dictionary\n",
    "                feedDict = {i: d for i, d in zip(tf_nodes['ground_batch'], data_list)}\n",
    "                feedDict.update({i: d for i, d in zip(tf_nodes['ground_batch_observed'], data_list_observed)})\n",
    "                feedDict[tf_nodes['miss_list']] = miss_list\n",
    "                feedDict[tf_nodes['tau_GS']] = tau\n",
    "                \n",
    "                #Get samples from the model\n",
    "#                 KL_s,loss,samples,dec_data,log_p_x,log_p_x_missing,loss_total,KL_z,p_params,q_params = session.run([tf_nodes['KL_s'], \n",
    "                KL_s,loss,samples,log_p_x,log_p_x_missing,loss_total,KL_z,p_params,q_params = session.run([tf_nodes['KL_s'], \n",
    "                                                                                                           tf_nodes['loss_re'],\n",
    "                                                                                                           tf_nodes['samples'],\n",
    "#                                                                                                          tf_nodes['dec_data'],\n",
    "                                                                                                           tf_nodes['log_p_x'],\n",
    "                                                                                                           tf_nodes['log_p_x_missing'],\n",
    "                                                                                                           tf_nodes['loss'],\n",
    "                                                                                                           tf_nodes['KL_z'],\n",
    "                                                                                                           tf_nodes['p_params'],\n",
    "                                                                                                           tf_nodes['q_params']],\n",
    "                                                                                                          feed_dict=feedDict)\n",
    "                \n",
    "                #Get samples from the generator function (computing the mode of all distributions)\n",
    "                samples_test,log_p_x_test,log_p_x_missing_test,test_params  = session.run([tf_nodes['samples_test'],\n",
    "                                                                                           tf_nodes['log_p_x_test'],\n",
    "                                                                                           tf_nodes['log_p_x_missing_test'],\n",
    "                                                                                           tf_nodes['test_params']],\n",
    "                                                                                          feed_dict=feedDict)\n",
    "                \n",
    "                \n",
    "                samples_list.append(samples)\n",
    "                p_params_list.append(test_params)\n",
    "                q_params_list.append(q_params)\n",
    "                log_p_x_total.append(log_p_x)\n",
    "                log_p_x_missing_total.append(log_p_x_missing)\n",
    "                \n",
    "                # Compute average loss\n",
    "                avg_loss += np.mean(loss)\n",
    "                avg_KL_s += np.mean(KL_s)\n",
    "                avg_KL_z += np.mean(KL_z)\n",
    "                \n",
    "            #Separate the samples from the batch list\n",
    "#             s_aux, z_aux, y_total, est_data = read_functions.samples_concatenation(samples_list, args.dim_latent_z, args.dim_latent_s)\n",
    "            s_aux, z_aux, y_total, est_data = read_functions.samples_concatenation(samples_list)\n",
    "\n",
    "            \n",
    "            #Transform discrete variables to original values\n",
    "            train_data_transformed = read_functions.discrete_variables_transformation(train_data, types_dict)\n",
    "            est_data_transformed = read_functions.discrete_variables_transformation(est_data, types_dict)\n",
    "            est_data_imputed = read_functions.mean_imputation(train_data_transformed, miss_mask, types_dict)\n",
    "            \n",
    "            #Create global dictionary of the distribution parameters\n",
    "            p_params_complete = read_functions.p_distribution_params_concatenation(p_params_list, types_dict, args.dim_latent_z, \n",
    "                                                                                   args.dim_latent_s)\n",
    "            q_params_complete = read_functions.q_distribution_params_concatenation(q_params_list, args.dim_latent_z, args.dim_latent_s)\n",
    "            \n",
    "            #Compute mean and mode of our loglik models\n",
    "            loglik_mean, loglik_mode = read_functions.statistics(p_params_complete['x'],types_dict)\n",
    "                \n",
    "            #Try this for the errors\n",
    "            error_train_mean, error_test_mean = read_functions.error_computation(train_data_transformed, loglik_mean, types_dict, miss_mask)\n",
    "            error_train_mode, error_test_mode = read_functions.error_computation(train_data_transformed, loglik_mode, types_dict, miss_mask)\n",
    "            error_train_samples, error_test_samples = read_functions.error_computation(train_data_transformed, est_data_transformed, \n",
    "                                                                                       types_dict, miss_mask)\n",
    "            error_train_imputed, error_test_imputed = read_functions.error_computation(train_data_transformed, est_data_imputed,\n",
    "                                                                                       types_dict, miss_mask)\n",
    "#            error_train_mean, error_test_mean_den = read_functions.error_computation_mean_den(train_data_transformed, loglik_mean, types_dict, miss_mask)\n",
    "                \n",
    "#            Compute test-loglik from log_p_x_missing\n",
    "            log_p_x_missing_total = np.transpose(np.concatenate(log_p_x_missing_total,1))\n",
    "            if args.true_miss_file:\n",
    "                log_p_x_missing_total = np.multiply(log_p_x_missing_total,true_miss_mask)\n",
    "            avg_test_loglik = np.sum(log_p_x_missing_total)/np.sum(1.0-miss_mask)\n",
    "\n",
    "            # Display logs per epoch step\n",
    "            if epoch % args.display == 0:\n",
    "                print_loss(epoch, start_time, avg_loss/n_batches, avg_test_loglik, avg_KL_s/n_batches, avg_KL_z/n_batches)\n",
    "                print(\"\")\n",
    "                \n",
    "            #Plot evolution of test loglik\n",
    "            loglik_per_variable = np.sum(np.concatenate(log_p_x_total,1),1)/np.sum(miss_mask,0)\n",
    "            loglik_per_variable_missing = np.sum(log_p_x_missing_total,0)/np.sum(1.0-miss_mask,0)\n",
    "            loglik_epoch.append(loglik_per_variable)\n",
    "            testloglik_epoch.append(loglik_per_variable_missing)\n",
    " \n"
   ]
  },
  {
   "cell_type": "code",
   "execution_count": 25,
   "metadata": {},
   "outputs": [
    {
     "data": {
      "text/plain": [
       "(7645, 11)"
      ]
     },
     "execution_count": 25,
     "metadata": {},
     "output_type": "execute_result"
    }
   ],
   "source": [
    "train_arr = np.array(df_train_data)\n",
    "train_arr.shape"
   ]
  },
  {
   "cell_type": "code",
   "execution_count": 26,
   "metadata": {},
   "outputs": [
    {
     "data": {
      "image/png": "[encoded data removed]",
      "text/plain": [
       "<Figure size 432x288 with 1 Axes>"
      ]
     },
     "metadata": {
      "needs_background": "light"
     },
     "output_type": "display_data"
    },
    {
     "data": {
      "image/png": "[encoded data removed]",
      "text/plain": [
       "<Figure size 432x288 with 1 Axes>"
      ]
     },
     "metadata": {
      "needs_background": "light"
     },
     "output_type": "display_data"
    }
   ],
   "source": [
    "# 'sex', cat, 2\n",
    "plt.hist(train_arr[:,0], bins=10)\n",
    "plt.show()\n",
    "plt.hist(est_data_transformed[:,0], bins=10)\n",
    "plt.show()"
   ]
  },
  {
   "cell_type": "code",
   "execution_count": 27,
   "metadata": {},
   "outputs": [
    {
     "data": {
      "image/png": "[encoded data removed]",
      "text/plain": [
       "<Figure size 432x288 with 1 Axes>"
      ]
     },
     "metadata": {
      "needs_background": "light"
     },
     "output_type": "display_data"
    },
    {
     "data": {
      "image/png": "[encoded data removed]",
      "text/plain": [
       "<Figure size 432x288 with 1 Axes>"
      ]
     },
     "metadata": {
      "needs_background": "light"
     },
     "output_type": "display_data"
    }
   ],
   "source": [
    "# 'age', pos,\n",
    "plt.hist(train_arr[:,1], bins=10)\n",
    "plt.show()\n",
    "plt.hist(est_data_transformed[:,1], bins=10)\n",
    "plt.show()"
   ]
  },
  {
   "cell_type": "code",
   "execution_count": 28,
   "metadata": {},
   "outputs": [
    {
     "data": {
      "image/png": "[encoded data removed]",
      "text/plain": [
       "<Figure size 432x288 with 1 Axes>"
      ]
     },
     "metadata": {
      "needs_background": "light"
     },
     "output_type": "display_data"
    },
    {
     "data": {
      "image/png": "[encoded data removed]",
      "text/plain": [
       "<Figure size 432x288 with 1 Axes>"
      ]
     },
     "metadata": {
      "needs_background": "light"
     },
     "output_type": "display_data"
    }
   ],
   "source": [
    "#''jcs', ordinal, 10\n",
    "plt.hist(train_arr[:,2], bins=10)\n",
    "plt.show()\n",
    "plt.hist(est_data_transformed[:,2], bins=10)\n",
    "plt.show()"
   ]
  },
  {
   "cell_type": "code",
   "execution_count": 29,
   "metadata": {},
   "outputs": [
    {
     "data": {
      "image/png": "[encoded data removed]",
      "text/plain": [
       "<Figure size 432x288 with 1 Axes>"
      ]
     },
     "metadata": {
      "needs_background": "light"
     },
     "output_type": "display_data"
    },
    {
     "data": {
      "image/png": "[encoded data removed]",
      "text/plain": [
       "<Figure size 432x288 with 1 Axes>"
      ]
     },
     "metadata": {
      "needs_background": "light"
     },
     "output_type": "display_data"
    }
   ],
   "source": [
    "# 'Year', cat, 6\n",
    "plt.hist(train_arr[:,3], bins=10)\n",
    "plt.show()\n",
    "plt.hist(est_data_transformed[:,3], bins=10)\n",
    "plt.show()"
   ]
  },
  {
   "cell_type": "code",
   "execution_count": 30,
   "metadata": {},
   "outputs": [
    {
     "data": {
      "image/png": "[encoded data removed]",
      "text/plain": [
       "<Figure size 432x288 with 1 Axes>"
      ]
     },
     "metadata": {
      "needs_background": "light"
     },
     "output_type": "display_data"
    },
    {
     "data": {
      "image/png": "[encoded data removed]",
      "text/plain": [
       "<Figure size 432x288 with 1 Axes>"
      ]
     },
     "metadata": {
      "needs_background": "light"
     },
     "output_type": "display_data"
    }
   ],
   "source": [
    "# 'Fibrinogen.day1_2', cat, 2\n",
    "plt.hist(train_arr[:,4], bins=10)\n",
    "plt.show()\n",
    "plt.hist(est_data_transformed[:,4], bins=10)\n",
    "plt.show()"
   ]
  },
  {
   "cell_type": "code",
   "execution_count": 31,
   "metadata": {},
   "outputs": [
    {
     "data": {
      "image/png": "[encoded data removed]",
      "text/plain": [
       "<Figure size 432x288 with 1 Axes>"
      ]
     },
     "metadata": {
      "needs_background": "light"
     },
     "output_type": "display_data"
    },
    {
     "data": {
      "image/png": "[encoded data removed]",
      "text/plain": [
       "<Figure size 432x288 with 1 Axes>"
      ]
     },
     "metadata": {
      "needs_background": "light"
     },
     "output_type": "display_data"
    }
   ],
   "source": [
    "# 'X7thCoag.day1_2', cat, 2\n",
    "plt.hist(train_arr[:,5], bins=10)\n",
    "plt.show()\n",
    "plt.hist(est_data_transformed[:,5], bins=10)\n",
    "plt.show()"
   ]
  },
  {
   "cell_type": "code",
   "execution_count": 32,
   "metadata": {},
   "outputs": [
    {
     "data": {
      "image/png": "[encoded data removed]",
      "text/plain": [
       "<Figure size 432x288 with 1 Axes>"
      ]
     },
     "metadata": {
      "needs_background": "light"
     },
     "output_type": "display_data"
    },
    {
     "data": {
      "image/png": "[encoded data removed]",
      "text/plain": [
       "<Figure size 432x288 with 1 Axes>"
      ]
     },
     "metadata": {
      "needs_background": "light"
     },
     "output_type": "display_data"
    }
   ],
   "source": [
    "# 'FFP.dose.day1_2', pos,\n",
    "plt.hist(train_arr[:,6], bins=10)\n",
    "plt.show()\n",
    "plt.hist(est_data_transformed[:,6], bins=10)\n",
    "plt.show()"
   ]
  },
  {
   "cell_type": "code",
   "execution_count": 33,
   "metadata": {},
   "outputs": [
    {
     "data": {
      "image/png": "[encoded data removed]",
      "text/plain": [
       "<Figure size 432x288 with 1 Axes>"
      ]
     },
     "metadata": {
      "needs_background": "light"
     },
     "output_type": "display_data"
    },
    {
     "data": {
      "image/png": "[encoded data removed]",
      "text/plain": [
       "<Figure size 432x288 with 1 Axes>"
      ]
     },
     "metadata": {
      "needs_background": "light"
     },
     "output_type": "display_data"
    }
   ],
   "source": [
    "# 'Plt.dose.day1_2', pos,\n",
    "plt.hist(train_arr[:,7], bins=10)\n",
    "plt.show()\n",
    "plt.hist(est_data_transformed[:,7], bins=10)\n",
    "plt.show()"
   ]
  },
  {
   "cell_type": "code",
   "execution_count": 34,
   "metadata": {},
   "outputs": [
    {
     "data": {
      "image/png": "[encoded data removed]",
      "text/plain": [
       "<Figure size 432x288 with 1 Axes>"
      ]
     },
     "metadata": {
      "needs_background": "light"
     },
     "output_type": "display_data"
    },
    {
     "data": {
      "image/png": "[encoded data removed]",
      "text/plain": [
       "<Figure size 432x288 with 1 Axes>"
      ]
     },
     "metadata": {
      "needs_background": "light"
     },
     "output_type": "display_data"
    }
   ],
   "source": [
    "# 'Trauma_Severity_Score', pos\n",
    "plt.hist(train_arr[:,8], bins=10)\n",
    "plt.show()\n",
    "plt.hist(est_data_transformed[:,8], bins=10)\n",
    "plt.show()"
   ]
  },
  {
   "cell_type": "code",
   "execution_count": 35,
   "metadata": {},
   "outputs": [
    {
     "data": {
      "image/png": "[encoded data removed]",
      "text/plain": [
       "<Figure size 432x288 with 1 Axes>"
      ]
     },
     "metadata": {
      "needs_background": "light"
     },
     "output_type": "display_data"
    },
    {
     "data": {
      "image/png": "[encoded data removed]",
      "text/plain": [
       "<Figure size 432x288 with 1 Axes>"
      ]
     },
     "metadata": {
      "needs_background": "light"
     },
     "output_type": "display_data"
    }
   ],
   "source": [
    "# 'Head_injury', cat, 2\n",
    "plt.hist(train_arr[:,9], bins=10)\n",
    "plt.show()\n",
    "plt.hist(est_data_transformed[:,9], bins=10)\n",
    "plt.show()"
   ]
  },
  {
   "cell_type": "code",
   "execution_count": 36,
   "metadata": {},
   "outputs": [
    {
     "data": {
      "image/png": "[encoded data removed]",
      "text/plain": [
       "<Figure size 432x288 with 1 Axes>"
      ]
     },
     "metadata": {
      "needs_background": "light"
     },
     "output_type": "display_data"
    },
    {
     "data": {
      "image/png": "[encoded data removed]",
      "text/plain": [
       "<Figure size 432x288 with 1 Axes>"
      ]
     },
     "metadata": {
      "needs_background": "light"
     },
     "output_type": "display_data"
    }
   ],
   "source": [
    "# 'RCC.dose.day1_2', pos,\n",
    "plt.hist(train_arr[:,10], bins=10)\n",
    "plt.show()\n",
    "plt.hist(est_data_transformed[:,10], bins=10)\n",
    "plt.show()"
   ]
  },
  {
   "cell_type": "code",
   "execution_count": 37,
   "metadata": {},
   "outputs": [],
   "source": [
    "import torch\n",
    "import torch.nn as nn\n",
    "import torch.nn.functional as F\n",
    "import torchvision.transforms as transforms\n",
    "from torch.autograd import Variable\n",
    "from torch import optim\n",
    "import pyro\n",
    "import pyro.distributions as dist\n",
    "\n",
    "from tensorboardX import SummaryWriter\n",
    "\n",
    "from tqdm import tqdm\n",
    "import time\n",
    "\n",
    "import random\n",
    "from numpy.random import *\n",
    "import matplotlib.pyplot as plt \n",
    "#np.random.seed(100)\n",
    "from mpl_toolkits.mplot3d import Axes3D\n",
    "%matplotlib inline\n",
    "\n",
    "import csv\n",
    "\n",
    "from sklearn.utils import shuffle\n",
    "from sklearn.model_selection import train_test_split\n",
    "\n",
    "seed = 1234\n",
    "rng = np.random.RandomState(seed)\n",
    "torch.manual_seed(seed)\n",
    "\n",
    "if torch.cuda.is_available():\n",
    "    device='cuda'\n",
    "else:\n",
    "    device='cpu'"
   ]
  },
  {
   "cell_type": "code",
   "execution_count": 38,
   "metadata": {},
   "outputs": [],
   "source": [
    "df_treat_outcome = pd.read_csv('/home/ubuntu/ai-study/DeepLearning基礎講座/Spring Seminar & Project/Team15/sample_dataset/transfusion_data_0321.csv', \n",
    "                               usecols=['TXA.day1_2', 'dth24h', 'Outcome.Survive', 'complication.thrombosis'])"
   ]
  },
  {
   "cell_type": "code",
   "execution_count": 39,
   "metadata": {},
   "outputs": [
    {
     "data": {
      "text/html": [
       "<div>\n",
       "<style scoped>\n",
       "    .dataframe tbody tr th:only-of-type {\n",
       "        vertical-align: middle;\n",
       "    }\n",
       "\n",
       "    .dataframe tbody tr th {\n",
       "        vertical-align: top;\n",
       "    }\n",
       "\n",
       "    .dataframe thead th {\n",
       "        text-align: right;\n",
       "    }\n",
       "</style>\n",
       "<table border=\"1\" class=\"dataframe\">\n",
       "  <thead>\n",
       "    <tr style=\"text-align: right;\">\n",
       "      <th></th>\n",
       "      <th>TXA.day1_2</th>\n",
       "      <th>dth24h</th>\n",
       "      <th>Outcome.Survive</th>\n",
       "      <th>complication.thrombosis</th>\n",
       "    </tr>\n",
       "  </thead>\n",
       "  <tbody>\n",
       "    <tr>\n",
       "      <th>0</th>\n",
       "      <td>False</td>\n",
       "      <td>0</td>\n",
       "      <td>True</td>\n",
       "      <td>False</td>\n",
       "    </tr>\n",
       "    <tr>\n",
       "      <th>1</th>\n",
       "      <td>False</td>\n",
       "      <td>0</td>\n",
       "      <td>True</td>\n",
       "      <td>False</td>\n",
       "    </tr>\n",
       "    <tr>\n",
       "      <th>2</th>\n",
       "      <td>True</td>\n",
       "      <td>0</td>\n",
       "      <td>True</td>\n",
       "      <td>False</td>\n",
       "    </tr>\n",
       "    <tr>\n",
       "      <th>3</th>\n",
       "      <td>False</td>\n",
       "      <td>0</td>\n",
       "      <td>True</td>\n",
       "      <td>False</td>\n",
       "    </tr>\n",
       "    <tr>\n",
       "      <th>4</th>\n",
       "      <td>False</td>\n",
       "      <td>0</td>\n",
       "      <td>True</td>\n",
       "      <td>False</td>\n",
       "    </tr>\n",
       "  </tbody>\n",
       "</table>\n",
       "</div>"
      ],
      "text/plain": [
       "   TXA.day1_2  dth24h  Outcome.Survive  complication.thrombosis\n",
       "0       False       0             True                    False\n",
       "1       False       0             True                    False\n",
       "2        True       0             True                    False\n",
       "3       False       0             True                    False\n",
       "4       False       0             True                    False"
      ]
     },
     "execution_count": 39,
     "metadata": {},
     "output_type": "execute_result"
    }
   ],
   "source": [
    "df_treat_outcome.head()"
   ]
  },
  {
   "cell_type": "code",
   "execution_count": 40,
   "metadata": {},
   "outputs": [
    {
     "data": {
      "text/plain": [
       "array([False,  True])"
      ]
     },
     "execution_count": 40,
     "metadata": {},
     "output_type": "execute_result"
    }
   ],
   "source": [
    "df_treat_outcome['TXA.day1_2'].unique()"
   ]
  },
  {
   "cell_type": "code",
   "execution_count": 41,
   "metadata": {},
   "outputs": [],
   "source": [
    "df_treat_outcome = df_treat_outcome.replace({True:1, False:0})"
   ]
  },
  {
   "cell_type": "code",
   "execution_count": 42,
   "metadata": {},
   "outputs": [
    {
     "data": {
      "text/html": [
       "<div>\n",
       "<style scoped>\n",
       "    .dataframe tbody tr th:only-of-type {\n",
       "        vertical-align: middle;\n",
       "    }\n",
       "\n",
       "    .dataframe tbody tr th {\n",
       "        vertical-align: top;\n",
       "    }\n",
       "\n",
       "    .dataframe thead th {\n",
       "        text-align: right;\n",
       "    }\n",
       "</style>\n",
       "<table border=\"1\" class=\"dataframe\">\n",
       "  <thead>\n",
       "    <tr style=\"text-align: right;\">\n",
       "      <th></th>\n",
       "      <th>TXA.day1_2</th>\n",
       "      <th>dth24h</th>\n",
       "      <th>Outcome.Survive</th>\n",
       "      <th>complication.thrombosis</th>\n",
       "    </tr>\n",
       "  </thead>\n",
       "  <tbody>\n",
       "    <tr>\n",
       "      <th>0</th>\n",
       "      <td>0</td>\n",
       "      <td>0</td>\n",
       "      <td>1</td>\n",
       "      <td>0</td>\n",
       "    </tr>\n",
       "    <tr>\n",
       "      <th>1</th>\n",
       "      <td>0</td>\n",
       "      <td>0</td>\n",
       "      <td>1</td>\n",
       "      <td>0</td>\n",
       "    </tr>\n",
       "    <tr>\n",
       "      <th>2</th>\n",
       "      <td>1</td>\n",
       "      <td>0</td>\n",
       "      <td>1</td>\n",
       "      <td>0</td>\n",
       "    </tr>\n",
       "    <tr>\n",
       "      <th>3</th>\n",
       "      <td>0</td>\n",
       "      <td>0</td>\n",
       "      <td>1</td>\n",
       "      <td>0</td>\n",
       "    </tr>\n",
       "    <tr>\n",
       "      <th>4</th>\n",
       "      <td>0</td>\n",
       "      <td>0</td>\n",
       "      <td>1</td>\n",
       "      <td>0</td>\n",
       "    </tr>\n",
       "  </tbody>\n",
       "</table>\n",
       "</div>"
      ],
      "text/plain": [
       "   TXA.day1_2  dth24h  Outcome.Survive  complication.thrombosis\n",
       "0           0       0                1                        0\n",
       "1           0       0                1                        0\n",
       "2           1       0                1                        0\n",
       "3           0       0                1                        0\n",
       "4           0       0                1                        0"
      ]
     },
     "execution_count": 42,
     "metadata": {},
     "output_type": "execute_result"
    }
   ],
   "source": [
    "df_treat_outcome.head()"
   ]
  },
  {
   "cell_type": "code",
   "execution_count": 43,
   "metadata": {},
   "outputs": [],
   "source": [
    "rows = z_total.shape[0]\n",
    "treat = np.array(df_treat_outcome)[:rows,0]\n",
    "outcome = np.array(df_treat_outcome)[:rows,1:]"
   ]
  },
  {
   "cell_type": "code",
   "execution_count": 44,
   "metadata": {},
   "outputs": [
    {
     "data": {
      "text/plain": [
       "(7600,)"
      ]
     },
     "execution_count": 44,
     "metadata": {},
     "output_type": "execute_result"
    }
   ],
   "source": [
    "treat.shape"
   ]
  },
  {
   "cell_type": "code",
   "execution_count": 45,
   "metadata": {},
   "outputs": [
    {
     "data": {
      "text/plain": [
       "(7600, 3)"
      ]
     },
     "execution_count": 45,
     "metadata": {},
     "output_type": "execute_result"
    }
   ],
   "source": [
    "outcome.shape"
   ]
  },
  {
   "cell_type": "code",
   "execution_count": 46,
   "metadata": {},
   "outputs": [],
   "source": [
    "#input_dim = len(data[0])-2\n",
    "hidden_dim = 100\n",
    "#output_dim = input_dim\n",
    "cond_dim = 2\n",
    "estimate_dim =3"
   ]
  },
  {
   "cell_type": "code",
   "execution_count": 47,
   "metadata": {},
   "outputs": [],
   "source": [
    "batch_size = 100\n",
    "# train_loader = torch.utils.data.DataLoader(dataset=train, batch_size=batch_size, shuffle=False)\n",
    "# test_loader = torch.utils.data.DataLoader(dataset=test, batch_size=batch_size, shuffle=False)"
   ]
  },
  {
   "cell_type": "code",
   "execution_count": 48,
   "metadata": {},
   "outputs": [],
   "source": [
    "def input_shaper(x,input_dim):\n",
    "    return x.view(-1, input_dim).float()\n",
    "    \n",
    "def tag_shaper(tag):\n",
    "    return torch.eye(2)[tag.long()].float()"
   ]
  },
  {
   "cell_type": "code",
   "execution_count": 49,
   "metadata": {},
   "outputs": [],
   "source": [
    "class Estimator(nn.Module):\n",
    "    def __init__(self, cond_dim, hidden_dim, latent_dim, estimate_dim):\n",
    "        super(Estimator, self).__init__()\n",
    "        \n",
    "        self.fc1 = nn.Linear(latent_dim+cond_dim, hidden_dim)\n",
    "        self.fc2 = nn.Linear(hidden_dim, hidden_dim)\n",
    "        self.fc3 = nn.Linear(hidden_dim, estimate_dim)\n",
    "        \n",
    "    def forward(self,z,y):\n",
    "        h = F.relu(self.fc1(torch.cat([z,y],1)))\n",
    "        h = F.relu(self.fc2(h))\n",
    "        h = F.relu(self.fc3(h))\n",
    "        return h"
   ]
  },
  {
   "cell_type": "code",
   "execution_count": 50,
   "metadata": {},
   "outputs": [],
   "source": [
    "split_point = 7000\n",
    "treat_train = treat[:split_point]\n",
    "treat_test = treat[split_point:]\n",
    "outcome_train = outcome[:split_point]\n",
    "outcome_test = outcome[split_point:]\n",
    "z_total_train = z_total[:split_point]\n",
    "z_total_test = z_total[split_point:]\n",
    "s_total_train = s_total[:split_point]\n",
    "s_total_test = s_total[split_point:]"
   ]
  },
  {
   "cell_type": "code",
   "execution_count": 51,
   "metadata": {},
   "outputs": [
    {
     "name": "stdout",
     "output_type": "stream",
     "text": [
      "(7000, 20)\n",
      "(600, 20)\n"
     ]
    }
   ],
   "source": [
    "sz_total_train = np.concatenate([z_total_train, s_total_train], 1)\n",
    "sz_total_test = np.concatenate([z_total_test, s_total_test], 1)\n",
    "print(sz_total_train.shape)\n",
    "print(sz_total_test.shape)"
   ]
  },
  {
   "cell_type": "code",
   "execution_count": 52,
   "metadata": {},
   "outputs": [],
   "source": [
    "latent_dim = args.dim_latent_s + args.dim_latent_z\n",
    "\n",
    "# criterion = nn.MSELoss()\n",
    "model2 = Estimator(cond_dim, hidden_dim, latent_dim, estimate_dim)\n",
    "model2.to(device)\n",
    "optimizer = torch.optim.SGD(model2.parameters(),lr=1e-3)"
   ]
  },
  {
   "cell_type": "code",
   "execution_count": 53,
   "metadata": {},
   "outputs": [
    {
     "name": "stdout",
     "output_type": "stream",
     "text": [
      "Epochs:1, train_Loss:0.720357358455658, test_Loss:0.72\n",
      "Epochs:2, train_Loss:0.7106288075447083, test_Loss:0.71\n",
      "Epochs:3, train_Loss:0.7048340439796448, test_Loss:0.70\n",
      "Epochs:4, train_Loss:0.7015883326530457, test_Loss:0.70\n",
      "Epochs:5, train_Loss:0.6994929313659668, test_Loss:0.70\n",
      "Epochs:6, train_Loss:0.6980786323547363, test_Loss:0.70\n",
      "Epochs:7, train_Loss:0.6970893144607544, test_Loss:0.70\n",
      "Epochs:8, train_Loss:0.6963582038879395, test_Loss:0.70\n",
      "Epochs:9, train_Loss:0.6957705616950989, test_Loss:0.69\n",
      "Epochs:10, train_Loss:0.6952804327011108, test_Loss:0.69\n",
      "Epochs:11, train_Loss:0.6948894262313843, test_Loss:0.69\n",
      "Epochs:12, train_Loss:0.6945825815200806, test_Loss:0.69\n",
      "Epochs:13, train_Loss:0.6943258047103882, test_Loss:0.69\n",
      "Epochs:14, train_Loss:0.6940988898277283, test_Loss:0.69\n",
      "Epochs:15, train_Loss:0.6939036846160889, test_Loss:0.69\n",
      "Epochs:16, train_Loss:0.6937254071235657, test_Loss:0.69\n",
      "Epochs:17, train_Loss:0.6935482025146484, test_Loss:0.69\n",
      "Epochs:18, train_Loss:0.6933918595314026, test_Loss:0.69\n",
      "Epochs:19, train_Loss:0.693237841129303, test_Loss:0.69\n",
      "Epochs:20, train_Loss:0.6930716037750244, test_Loss:0.69\n",
      "Epochs:21, train_Loss:0.6928952932357788, test_Loss:0.69\n",
      "Epochs:22, train_Loss:0.6926845908164978, test_Loss:0.69\n",
      "Epochs:23, train_Loss:0.6924484372138977, test_Loss:0.69\n",
      "Epochs:24, train_Loss:0.6921985149383545, test_Loss:0.69\n",
      "Epochs:25, train_Loss:0.6919010281562805, test_Loss:0.69\n",
      "Epochs:26, train_Loss:0.6915715932846069, test_Loss:0.69\n",
      "Epochs:27, train_Loss:0.6912029385566711, test_Loss:0.69\n",
      "Epochs:28, train_Loss:0.6908290982246399, test_Loss:0.69\n",
      "Epochs:29, train_Loss:0.6904157996177673, test_Loss:0.69\n",
      "Epochs:30, train_Loss:0.6899768710136414, test_Loss:0.69\n",
      "Epochs:31, train_Loss:0.6895164251327515, test_Loss:0.69\n",
      "Epochs:32, train_Loss:0.6889700889587402, test_Loss:0.69\n",
      "Epochs:33, train_Loss:0.6882757544517517, test_Loss:0.69\n",
      "Epochs:34, train_Loss:0.6873721480369568, test_Loss:0.69\n",
      "Epochs:35, train_Loss:0.6862568259239197, test_Loss:0.68\n",
      "Epochs:36, train_Loss:0.684889554977417, test_Loss:0.68\n",
      "Epochs:37, train_Loss:0.6830888390541077, test_Loss:0.68\n",
      "Epochs:38, train_Loss:0.6809464693069458, test_Loss:0.68\n",
      "Epochs:39, train_Loss:0.6787256002426147, test_Loss:0.68\n",
      "Epochs:40, train_Loss:0.6765105128288269, test_Loss:0.67\n",
      "Epochs:41, train_Loss:0.674316942691803, test_Loss:0.67\n",
      "Epochs:42, train_Loss:0.6722102761268616, test_Loss:0.67\n",
      "Epochs:43, train_Loss:0.6701868772506714, test_Loss:0.67\n",
      "Epochs:44, train_Loss:0.6682535409927368, test_Loss:0.67\n",
      "Epochs:45, train_Loss:0.666404664516449, test_Loss:0.66\n",
      "Epochs:46, train_Loss:0.6646360754966736, test_Loss:0.66\n",
      "Epochs:47, train_Loss:0.6629436016082764, test_Loss:0.66\n",
      "Epochs:48, train_Loss:0.6613240838050842, test_Loss:0.66\n",
      "Epochs:49, train_Loss:0.6597747206687927, test_Loss:0.66\n",
      "Epochs:50, train_Loss:0.6582913994789124, test_Loss:0.66\n",
      "Epochs:51, train_Loss:0.65687096118927, test_Loss:0.65\n",
      "Epochs:52, train_Loss:0.6555116772651672, test_Loss:0.65\n",
      "Epochs:53, train_Loss:0.654213547706604, test_Loss:0.65\n",
      "Epochs:54, train_Loss:0.6529733538627625, test_Loss:0.65\n",
      "Epochs:55, train_Loss:0.6517878174781799, test_Loss:0.65\n",
      "Epochs:56, train_Loss:0.6506556868553162, test_Loss:0.65\n",
      "Epochs:57, train_Loss:0.6495750546455383, test_Loss:0.65\n",
      "Epochs:58, train_Loss:0.648543655872345, test_Loss:0.65\n",
      "Epochs:59, train_Loss:0.6475586295127869, test_Loss:0.64\n",
      "Epochs:60, train_Loss:0.6466188430786133, test_Loss:0.64\n",
      "Epochs:61, train_Loss:0.645722508430481, test_Loss:0.64\n",
      "Epochs:62, train_Loss:0.6448670625686646, test_Loss:0.64\n",
      "Epochs:63, train_Loss:0.6440494656562805, test_Loss:0.64\n",
      "Epochs:64, train_Loss:0.6432694792747498, test_Loss:0.64\n",
      "Epochs:65, train_Loss:0.6425250172615051, test_Loss:0.64\n",
      "Epochs:66, train_Loss:0.6418140530586243, test_Loss:0.64\n",
      "Epochs:67, train_Loss:0.6411353349685669, test_Loss:0.64\n",
      "Epochs:68, train_Loss:0.6404876112937927, test_Loss:0.64\n",
      "Epochs:69, train_Loss:0.6398690938949585, test_Loss:0.64\n",
      "Epochs:70, train_Loss:0.6392785310745239, test_Loss:0.64\n",
      "Epochs:71, train_Loss:0.6387149095535278, test_Loss:0.64\n",
      "Epochs:72, train_Loss:0.6381761431694031, test_Loss:0.63\n",
      "Epochs:73, train_Loss:0.637661337852478, test_Loss:0.63\n",
      "Epochs:74, train_Loss:0.637169361114502, test_Loss:0.63\n",
      "Epochs:75, train_Loss:0.6366982460021973, test_Loss:0.63\n",
      "Epochs:76, train_Loss:0.6362483501434326, test_Loss:0.63\n",
      "Epochs:77, train_Loss:0.6358183026313782, test_Loss:0.63\n",
      "Epochs:78, train_Loss:0.6354070901870728, test_Loss:0.63\n",
      "Epochs:79, train_Loss:0.6350134015083313, test_Loss:0.63\n",
      "Epochs:80, train_Loss:0.6346360445022583, test_Loss:0.63\n",
      "Epochs:81, train_Loss:0.6342746019363403, test_Loss:0.63\n",
      "Epochs:82, train_Loss:0.6339279413223267, test_Loss:0.63\n",
      "Epochs:83, train_Loss:0.6335960030555725, test_Loss:0.63\n",
      "Epochs:84, train_Loss:0.6332780718803406, test_Loss:0.63\n",
      "Epochs:85, train_Loss:0.6329721212387085, test_Loss:0.63\n",
      "Epochs:86, train_Loss:0.632677435874939, test_Loss:0.63\n",
      "Epochs:87, train_Loss:0.6323944330215454, test_Loss:0.63\n",
      "Epochs:88, train_Loss:0.6321225166320801, test_Loss:0.63\n",
      "Epochs:89, train_Loss:0.6318607926368713, test_Loss:0.63\n",
      "Epochs:90, train_Loss:0.6316087245941162, test_Loss:0.63\n",
      "Epochs:91, train_Loss:0.6313660144805908, test_Loss:0.63\n",
      "Epochs:92, train_Loss:0.6311320662498474, test_Loss:0.63\n",
      "Epochs:93, train_Loss:0.6309064626693726, test_Loss:0.63\n",
      "Epochs:94, train_Loss:0.6306886672973633, test_Loss:0.63\n",
      "Epochs:95, train_Loss:0.6304783821105957, test_Loss:0.63\n",
      "Epochs:96, train_Loss:0.6302757263183594, test_Loss:0.63\n",
      "Epochs:97, train_Loss:0.6300804018974304, test_Loss:0.63\n",
      "Epochs:98, train_Loss:0.6298919916152954, test_Loss:0.63\n",
      "Epochs:99, train_Loss:0.6297096610069275, test_Loss:0.63\n",
      "Epochs:100, train_Loss:0.6295332312583923, test_Loss:0.63\n",
      "Epochs:101, train_Loss:0.6293625831604004, test_Loss:0.62\n",
      "Epochs:102, train_Loss:0.6291975378990173, test_Loss:0.62\n",
      "Epochs:103, train_Loss:0.6290379166603088, test_Loss:0.62\n",
      "Epochs:104, train_Loss:0.6288833022117615, test_Loss:0.62\n",
      "Epochs:105, train_Loss:0.6287336349487305, test_Loss:0.62\n",
      "Epochs:106, train_Loss:0.6285885572433472, test_Loss:0.62\n",
      "Epochs:107, train_Loss:0.6284475326538086, test_Loss:0.62\n",
      "Epochs:108, train_Loss:0.6283109188079834, test_Loss:0.62\n",
      "Epochs:109, train_Loss:0.6281780004501343, test_Loss:0.62\n",
      "Epochs:110, train_Loss:0.6280491948127747, test_Loss:0.62\n",
      "Epochs:111, train_Loss:0.6279242634773254, test_Loss:0.62\n",
      "Epochs:112, train_Loss:0.6278026700019836, test_Loss:0.62\n",
      "Epochs:113, train_Loss:0.6276846528053284, test_Loss:0.62\n",
      "Epochs:114, train_Loss:0.6275699734687805, test_Loss:0.62\n",
      "Epochs:115, train_Loss:0.6274586915969849, test_Loss:0.62\n",
      "Epochs:116, train_Loss:0.6273505687713623, test_Loss:0.62\n",
      "Epochs:117, train_Loss:0.6272451281547546, test_Loss:0.62\n",
      "Epochs:118, train_Loss:0.627142608165741, test_Loss:0.62\n",
      "Epochs:119, train_Loss:0.6270430684089661, test_Loss:0.62\n",
      "Epochs:120, train_Loss:0.6269463896751404, test_Loss:0.62\n",
      "Epochs:121, train_Loss:0.6268524527549744, test_Loss:0.62\n",
      "Epochs:122, train_Loss:0.6267606616020203, test_Loss:0.62\n",
      "Epochs:123, train_Loss:0.6266717910766602, test_Loss:0.62\n",
      "Epochs:124, train_Loss:0.6265853643417358, test_Loss:0.62\n",
      "Epochs:125, train_Loss:0.6265009641647339, test_Loss:0.62\n",
      "Epochs:126, train_Loss:0.626418948173523, test_Loss:0.62\n",
      "Epochs:127, train_Loss:0.6263392567634583, test_Loss:0.62\n",
      "Epochs:128, train_Loss:0.6262619495391846, test_Loss:0.62\n",
      "Epochs:129, train_Loss:0.626186728477478, test_Loss:0.62\n",
      "Epochs:130, train_Loss:0.6261135935783386, test_Loss:0.62\n",
      "Epochs:131, train_Loss:0.6260423064231873, test_Loss:0.62\n",
      "Epochs:132, train_Loss:0.6259727478027344, test_Loss:0.62\n",
      "Epochs:133, train_Loss:0.6259049773216248, test_Loss:0.62\n",
      "Epochs:134, train_Loss:0.6258387565612793, test_Loss:0.62\n",
      "Epochs:135, train_Loss:0.6257743239402771, test_Loss:0.62\n",
      "Epochs:136, train_Loss:0.6257115602493286, test_Loss:0.62\n",
      "Epochs:137, train_Loss:0.6256501078605652, test_Loss:0.62\n",
      "Epochs:138, train_Loss:0.6255900859832764, test_Loss:0.62\n",
      "Epochs:139, train_Loss:0.6255318522453308, test_Loss:0.62\n",
      "Epochs:140, train_Loss:0.6254751682281494, test_Loss:0.62\n",
      "Epochs:141, train_Loss:0.625419557094574, test_Loss:0.62\n",
      "Epochs:142, train_Loss:0.625365674495697, test_Loss:0.62\n",
      "Epochs:143, train_Loss:0.6253129839897156, test_Loss:0.62\n",
      "Epochs:144, train_Loss:0.6252617835998535, test_Loss:0.62\n"
     ]
    },
    {
     "name": "stdout",
     "output_type": "stream",
     "text": [
      "Epochs:145, train_Loss:0.6252120137214661, test_Loss:0.62\n",
      "Epochs:146, train_Loss:0.625163197517395, test_Loss:0.62\n",
      "Epochs:147, train_Loss:0.6251152753829956, test_Loss:0.62\n",
      "Epochs:148, train_Loss:0.6250686049461365, test_Loss:0.62\n",
      "Epochs:149, train_Loss:0.6250228881835938, test_Loss:0.62\n",
      "Epochs:150, train_Loss:0.6249781250953674, test_Loss:0.62\n",
      "Epochs:151, train_Loss:0.6249344944953918, test_Loss:0.62\n",
      "Epochs:152, train_Loss:0.624891996383667, test_Loss:0.62\n",
      "Epochs:153, train_Loss:0.6248505115509033, test_Loss:0.62\n",
      "Epochs:154, train_Loss:0.6248101592063904, test_Loss:0.62\n",
      "Epochs:155, train_Loss:0.624770998954773, test_Loss:0.62\n",
      "Epochs:156, train_Loss:0.6247334480285645, test_Loss:0.62\n",
      "Epochs:157, train_Loss:0.6246970891952515, test_Loss:0.62\n",
      "Epochs:158, train_Loss:0.624661922454834, test_Loss:0.62\n",
      "Epochs:159, train_Loss:0.6246280670166016, test_Loss:0.62\n",
      "Epochs:160, train_Loss:0.6245954632759094, test_Loss:0.62\n",
      "Epochs:161, train_Loss:0.6245638728141785, test_Loss:0.62\n",
      "Epochs:162, train_Loss:0.6245333552360535, test_Loss:0.62\n",
      "Epochs:163, train_Loss:0.6245033740997314, test_Loss:0.62\n",
      "Epochs:164, train_Loss:0.624474048614502, test_Loss:0.62\n",
      "Epochs:165, train_Loss:0.6244454383850098, test_Loss:0.62\n",
      "Epochs:166, train_Loss:0.6244175434112549, test_Loss:0.62\n",
      "Epochs:167, train_Loss:0.6243903636932373, test_Loss:0.62\n",
      "Epochs:168, train_Loss:0.6243638396263123, test_Loss:0.62\n",
      "Epochs:169, train_Loss:0.6243379712104797, test_Loss:0.62\n",
      "Epochs:170, train_Loss:0.6243126392364502, test_Loss:0.62\n",
      "Epochs:171, train_Loss:0.6242880821228027, test_Loss:0.62\n",
      "Epochs:172, train_Loss:0.6242642402648926, test_Loss:0.62\n",
      "Epochs:173, train_Loss:0.6242411136627197, test_Loss:0.62\n",
      "Epochs:174, train_Loss:0.6242199540138245, test_Loss:0.62\n",
      "Epochs:175, train_Loss:0.6241992712020874, test_Loss:0.62\n",
      "Epochs:176, train_Loss:0.6241790056228638, test_Loss:0.62\n",
      "Epochs:177, train_Loss:0.624159574508667, test_Loss:0.62\n",
      "Epochs:178, train_Loss:0.6241407990455627, test_Loss:0.62\n",
      "Epochs:179, train_Loss:0.6241227984428406, test_Loss:0.62\n",
      "Epochs:180, train_Loss:0.6241054534912109, test_Loss:0.62\n",
      "Epochs:181, train_Loss:0.6240886449813843, test_Loss:0.62\n",
      "Epochs:182, train_Loss:0.6240724325180054, test_Loss:0.62\n",
      "Epochs:183, train_Loss:0.624056875705719, test_Loss:0.62\n",
      "Epochs:184, train_Loss:0.6240423321723938, test_Loss:0.62\n",
      "Epochs:185, train_Loss:0.6240286827087402, test_Loss:0.62\n",
      "Epochs:186, train_Loss:0.624015212059021, test_Loss:0.62\n",
      "Epochs:187, train_Loss:0.6240010857582092, test_Loss:0.62\n",
      "Epochs:188, train_Loss:0.62398761510849, test_Loss:0.62\n",
      "Epochs:189, train_Loss:0.6239745616912842, test_Loss:0.62\n",
      "Epochs:190, train_Loss:0.6239621043205261, test_Loss:0.62\n",
      "Epochs:191, train_Loss:0.6239500641822815, test_Loss:0.62\n",
      "Epochs:192, train_Loss:0.6239383220672607, test_Loss:0.62\n",
      "Epochs:193, train_Loss:0.6239273548126221, test_Loss:0.62\n",
      "Epochs:194, train_Loss:0.623916506767273, test_Loss:0.62\n",
      "Epochs:195, train_Loss:0.6239054203033447, test_Loss:0.62\n",
      "Epochs:196, train_Loss:0.6238946914672852, test_Loss:0.62\n",
      "Epochs:197, train_Loss:0.6238845586776733, test_Loss:0.62\n",
      "Epochs:198, train_Loss:0.6238747835159302, test_Loss:0.62\n",
      "Epochs:199, train_Loss:0.6238654255867004, test_Loss:0.62\n"
     ]
    }
   ],
   "source": [
    "for epoch in range(1, 200):\n",
    "    start = 0\n",
    "    for _ in range(split_point//batch_size):\n",
    "        end = start + batch_size\n",
    "        y = tag_shaper(torch.tensor(treat_train[start:end]))\n",
    "#         y = tag_shaper(_data[:,0])\n",
    "#         x = input_shaper(_data[:, 1:input_dim+1],input_dim)\n",
    "        o = input_shaper(torch.tensor(outcome_train[start:end]), estimate_dim)\n",
    "#         o = input_shaper(_data[:, input_dim+1],estimate_dim)\n",
    "#         x = x.to(device)\n",
    "        y = y.to(device)\n",
    "        o = o.to(device)\n",
    "        \n",
    "        optimizer.zero_grad()\n",
    "        \n",
    "#         z = q.sample({\"x\":x}, return_all=False)\n",
    "#         latent = z.get('z')\n",
    "        \n",
    "\n",
    "        latent = torch.tensor(sz_total_train[start:end]).to(device)\n",
    "        start = end\n",
    "        \n",
    "        output = model2(latent,y)\n",
    "        train_loss = F.binary_cross_entropy_with_logits(output, o)\n",
    "#         train_loss = criterion(output,o)        \n",
    "        train_loss.backward()\n",
    "        \n",
    "        optimizer.step()\n",
    "    \n",
    "    total = 0\n",
    "    total_loss = 0\n",
    "    start = 0\n",
    "    for _ in range((rows-split_point)//batch_size):\n",
    "        end = start + batch_size\n",
    "        y = tag_shaper(torch.tensor(treat_test[start:end]))\n",
    "#         y = tag_shaper(_data[:,0])\n",
    "#         x = input_shaper(_data[:, 1:input_dim+1],input_dim)\n",
    "        o = input_shaper(torch.tensor(outcome_test[start:end]), estimate_dim)        \n",
    "#         o = input_shaper(_data[:, input_dim+1],estimate_dim)\n",
    "#         x = x.to(device)\n",
    "        y = y.to(device)\n",
    "        o = o.to(device)\n",
    "        \n",
    "#         z = q.sample({\"x\":x}, return_all=False)\n",
    "#         latent = z.get('z')\n",
    "        \n",
    "        latent = torch.tensor(sz_total_test[start:end]).to(device)\n",
    "        start = end        \n",
    "        \n",
    "        output = model2(latent,y)\n",
    "        test_loss = F.binary_cross_entropy_with_logits(output, o)\n",
    "#         test_loss = criterion(output,o)\n",
    "        \n",
    "        total_loss += test_loss * batch_size\n",
    "        total += batch_size\n",
    "    test_loss = total_loss / total\n",
    "    \n",
    "    print('Epochs:{}, train_Loss:{}, test_Loss:{:.2f}'.format(epoch, train_loss.item(), test_loss.item()))"
   ]
  },
  {
   "cell_type": "code",
   "execution_count": 54,
   "metadata": {},
   "outputs": [],
   "source": [
    "pt_size = 20000\n",
    "z_sample = 0.3* torch.randn(pt_size, latent_dim).to(device)\n",
    "\n",
    "# 非治療群を生成\n",
    "plot_number = 0\n",
    "uy_sample = torch.eye(2)[[plot_number]*pt_size].to(device)\n",
    "untreated=model2(z_sample,uy_sample)\n",
    "\n",
    "# 治療群を生成\n",
    "plot_number = 1\n",
    "ty_sample = torch.eye(2)[[plot_number]*pt_size].to(device)\n",
    "treated=model2(z_sample,ty_sample)"
   ]
  },
  {
   "cell_type": "code",
   "execution_count": 55,
   "metadata": {},
   "outputs": [
    {
     "data": {
      "image/png": "[encoded data removed]",
      "text/plain": [
       "<Figure size 432x288 with 1 Axes>"
      ]
     },
     "metadata": {
      "needs_background": "light"
     },
     "output_type": "display_data"
    },
    {
     "data": {
      "image/png": "[encoded data removed]",
      "text/plain": [
       "<Figure size 432x288 with 1 Axes>"
      ]
     },
     "metadata": {
      "needs_background": "light"
     },
     "output_type": "display_data"
    },
    {
     "data": {
      "image/png": "[encoded data removed]",
      "text/plain": [
       "<Figure size 432x288 with 1 Axes>"
      ]
     },
     "metadata": {
      "needs_background": "light"
     },
     "output_type": "display_data"
    },
    {
     "data": {
      "text/plain": [
       "-0.008196625"
      ]
     },
     "execution_count": 55,
     "metadata": {},
     "output_type": "execute_result"
    }
   ],
   "source": [
    "# dth24h\n",
    "plt.hist(untreated[:,0].detach().cpu().numpy(),bins=100)\n",
    "plt.show()\n",
    "plt.hist(treated[:,0].detach().cpu().numpy(),bins=100)\n",
    "plt.show()\n",
    "plt.hist(treated[:,0].detach().cpu().numpy()-untreated[:,0].detach().cpu().numpy(),bins=100)\n",
    "plt.show()\n",
    "(treated[:,0].detach().cpu().numpy()-untreated[:,0].detach().cpu().numpy()).mean()"
   ]
  },
  {
   "cell_type": "code",
   "execution_count": 56,
   "metadata": {},
   "outputs": [
    {
     "data": {
      "image/png": "[encoded data removed]",
      "text/plain": [
       "<Figure size 432x288 with 1 Axes>"
      ]
     },
     "metadata": {
      "needs_background": "light"
     },
     "output_type": "display_data"
    },
    {
     "data": {
      "image/png": "[encoded data removed]",
      "text/plain": [
       "<Figure size 432x288 with 1 Axes>"
      ]
     },
     "metadata": {
      "needs_background": "light"
     },
     "output_type": "display_data"
    },
    {
     "data": {
      "image/png": "[encoded data removed]",
      "text/plain": [
       "<Figure size 432x288 with 1 Axes>"
      ]
     },
     "metadata": {
      "needs_background": "light"
     },
     "output_type": "display_data"
    },
    {
     "data": {
      "text/plain": [
       "0.041570432"
      ]
     },
     "execution_count": 56,
     "metadata": {},
     "output_type": "execute_result"
    }
   ],
   "source": [
    "# Outcome.Survive\n",
    "plt.hist(untreated[:,1].detach().cpu().numpy(),bins=100)\n",
    "plt.show()\n",
    "plt.hist(treated[:,1].detach().cpu().numpy(),bins=100)\n",
    "plt.show()\n",
    "plt.hist(treated[:,1].detach().cpu().numpy()-untreated[:,1].detach().cpu().numpy(),bins=100)\n",
    "plt.show()\n",
    "(treated[:,1].detach().cpu().numpy()-untreated[:,1].detach().cpu().numpy()).mean()"
   ]
  },
  {
   "cell_type": "code",
   "execution_count": 57,
   "metadata": {},
   "outputs": [
    {
     "data": {
      "image/png": "[encoded data removed]",
      "text/plain": [
       "<Figure size 432x288 with 1 Axes>"
      ]
     },
     "metadata": {
      "needs_background": "light"
     },
     "output_type": "display_data"
    },
    {
     "data": {
      "image/png": "[encoded data removed]",
      "text/plain": [
       "<Figure size 432x288 with 1 Axes>"
      ]
     },
     "metadata": {
      "needs_background": "light"
     },
     "output_type": "display_data"
    },
    {
     "data": {
      "image/png": "[encoded data removed]",
      "text/plain": [
       "<Figure size 432x288 with 1 Axes>"
      ]
     },
     "metadata": {
      "needs_background": "light"
     },
     "output_type": "display_data"
    },
    {
     "data": {
      "text/plain": [
       "0.0"
      ]
     },
     "execution_count": 57,
     "metadata": {},
     "output_type": "execute_result"
    }
   ],
   "source": [
    "# complication.thrombosis\n",
    "plt.hist(untreated[:,2].detach().cpu().numpy(),bins=100)\n",
    "plt.show()\n",
    "plt.hist(treated[:,2].detach().cpu().numpy(),bins=100)\n",
    "plt.show()\n",
    "plt.hist(treated[:,2].detach().cpu().numpy()-untreated[:,2].detach().cpu().numpy(),bins=100)\n",
    "plt.show()\n",
    "(treated[:,2].detach().cpu().numpy()-untreated[:,2].detach().cpu().numpy()).mean()"
   ]
  },
  {
   "cell_type": "code",
   "execution_count": 58,
   "metadata": {},
   "outputs": [
    {
     "data": {
      "image/png": "[encoded data removed]",
      "text/plain": [
       "<Figure size 432x288 with 1 Axes>"
      ]
     },
     "metadata": {
      "needs_background": "light"
     },
     "output_type": "display_data"
    },
    {
     "data": {
      "image/png": "[encoded data removed]",
      "text/plain": [
       "<Figure size 432x288 with 1 Axes>"
      ]
     },
     "metadata": {
      "needs_background": "light"
     },
     "output_type": "display_data"
    },
    {
     "data": {
      "text/plain": [
       "-0.041237731453726376"
      ]
     },
     "execution_count": 58,
     "metadata": {},
     "output_type": "execute_result"
    }
   ],
   "source": [
    "plt.hist(untreated[:,0].detach().cpu().numpy(), bins=100, alpha=0.5)\n",
    "plt.hist(treated[:,0].detach().cpu().numpy(), bins=100, alpha=0.5)\n",
    "plt.show()\n",
    "\n",
    "plt.hist(df_treat_outcome[(df_treat_outcome['TXA.day1_2']==1)]['dth24h'], bins=100, alpha=0.5)\n",
    "plt.hist(df_treat_outcome[(df_treat_outcome['TXA.day1_2']==0)]['dth24h'], bins=100, alpha=0.5)\n",
    "plt.show()\n",
    "\n",
    "df_treat_outcome[(df_treat_outcome['TXA.day1_2']==1)]['dth24h'].mean() - \\\n",
    "df_treat_outcome[(df_treat_outcome['TXA.day1_2']==0)]['dth24h'].mean()"
   ]
  },
  {
   "cell_type": "code",
   "execution_count": 59,
   "metadata": {},
   "outputs": [
    {
     "data": {
      "image/png": "[encoded data removed]",
      "text/plain": [
       "<Figure size 432x288 with 1 Axes>"
      ]
     },
     "metadata": {
      "needs_background": "light"
     },
     "output_type": "display_data"
    },
    {
     "data": {
      "image/png": "[encoded data removed]",
      "text/plain": [
       "<Figure size 432x288 with 1 Axes>"
      ]
     },
     "metadata": {
      "needs_background": "light"
     },
     "output_type": "display_data"
    },
    {
     "data": {
      "text/plain": [
       "-0.010826467515116178"
      ]
     },
     "execution_count": 59,
     "metadata": {},
     "output_type": "execute_result"
    }
   ],
   "source": [
    "plt.hist(untreated[:,1].detach().cpu().numpy(), bins=100, alpha=0.5)\n",
    "plt.hist(treated[:,1].detach().cpu().numpy(), bins=100, alpha=0.5)\n",
    "plt.show()\n",
    "\n",
    "plt.hist(df_treat_outcome[(df_treat_outcome['TXA.day1_2']==1)]['Outcome.Survive'], bins=100, alpha=0.5)\n",
    "plt.hist(df_treat_outcome[(df_treat_outcome['TXA.day1_2']==0)]['Outcome.Survive'], bins=100, alpha=0.5)\n",
    "plt.show()\n",
    "\n",
    "df_treat_outcome[(df_treat_outcome['TXA.day1_2']==1)]['Outcome.Survive'].mean() - \\\n",
    "df_treat_outcome[(df_treat_outcome['TXA.day1_2']==0)]['Outcome.Survive'].mean()"
   ]
  },
  {
   "cell_type": "code",
   "execution_count": 60,
   "metadata": {},
   "outputs": [
    {
     "data": {
      "image/png": "[encoded data removed]",
      "text/plain": [
       "<Figure size 432x288 with 1 Axes>"
      ]
     },
     "metadata": {
      "needs_background": "light"
     },
     "output_type": "display_data"
    },
    {
     "data": {
      "image/png": "[encoded data removed]",
      "text/plain": [
       "<Figure size 432x288 with 1 Axes>"
      ]
     },
     "metadata": {
      "needs_background": "light"
     },
     "output_type": "display_data"
    },
    {
     "data": {
      "text/plain": [
       "0.007063942035936351"
      ]
     },
     "execution_count": 60,
     "metadata": {},
     "output_type": "execute_result"
    }
   ],
   "source": [
    "plt.hist(untreated[:,2].detach().cpu().numpy(), bins=100, alpha=0.5)\n",
    "plt.hist(treated[:,2].detach().cpu().numpy(), bins=100, alpha=0.5)\n",
    "plt.show()\n",
    "\n",
    "plt.hist(df_treat_outcome[(df_treat_outcome['TXA.day1_2']==1)]['complication.thrombosis'], bins=100, alpha=0.5)\n",
    "plt.hist(df_treat_outcome[(df_treat_outcome['TXA.day1_2']==0)]['complication.thrombosis'], bins=100, alpha=0.5)\n",
    "plt.show()\n",
    "\n",
    "df_treat_outcome[(df_treat_outcome['TXA.day1_2']==1)]['complication.thrombosis'].mean() - \\\n",
    "df_treat_outcome[(df_treat_outcome['TXA.day1_2']==0)]['complication.thrombosis'].mean()"
   ]
  },
  {
   "cell_type": "code",
   "execution_count": 61,
   "metadata": {},
   "outputs": [],
   "source": [
    "_train_data = train_data[:7600]"
   ]
  },
  {
   "cell_type": "code",
   "execution_count": 62,
   "metadata": {},
   "outputs": [
    {
     "name": "stdout",
     "output_type": "stream",
     "text": [
      "(7600, 29)\n",
      "(7600, 10)\n",
      "(7600, 10)\n",
      "(7600, 55)\n",
      "(7600, 29)\n",
      "(7600, 11)\n",
      "(7600, 11)\n",
      "(7600,)\n",
      "(7600, 3)\n"
     ]
    }
   ],
   "source": [
    "print(_train_data.shape)\n",
    "print(s_total.shape)\n",
    "print(z_total.shape)\n",
    "print(y_total.shape)\n",
    "print(est_data.shape)\n",
    "print(train_data_transformed.shape)\n",
    "print(est_data_transformed.shape)\n",
    "print(treat.shape)\n",
    "print(outcome.shape)"
   ]
  },
  {
   "cell_type": "code",
   "execution_count": 63,
   "metadata": {},
   "outputs": [
    {
     "data": {
      "text/plain": [
       "(7645, 11)"
      ]
     },
     "execution_count": 63,
     "metadata": {},
     "output_type": "execute_result"
    }
   ],
   "source": [
    "df_train_data.shape"
   ]
  },
  {
   "cell_type": "code",
   "execution_count": 64,
   "metadata": {},
   "outputs": [],
   "source": [
    "path = '/home/ubuntu/ai-study/DeepLearning基礎講座/Spring Seminar & Project/Team15/sample_dataset/hivae_data/train_data.csv'\n",
    "np.savetxt(path, _train_data, delimiter=',')"
   ]
  },
  {
   "cell_type": "code",
   "execution_count": 65,
   "metadata": {},
   "outputs": [],
   "source": [
    "path = '/home/ubuntu/ai-study/DeepLearning基礎講座/Spring Seminar & Project/Team15/sample_dataset/hivae_data/s_total.csv'\n",
    "np.savetxt(path, s_total, delimiter=',')"
   ]
  },
  {
   "cell_type": "code",
   "execution_count": 66,
   "metadata": {},
   "outputs": [],
   "source": [
    "path = '/home/ubuntu/ai-study/DeepLearning基礎講座/Spring Seminar & Project/Team15/sample_dataset/hivae_data/z_total.csv'\n",
    "np.savetxt(path, z_total, delimiter=',')"
   ]
  },
  {
   "cell_type": "code",
   "execution_count": 67,
   "metadata": {},
   "outputs": [],
   "source": [
    "path = '/home/ubuntu/ai-study/DeepLearning基礎講座/Spring Seminar & Project/Team15/sample_dataset/hivae_data/y_total.csv'\n",
    "np.savetxt(path, y_total, delimiter=',')"
   ]
  },
  {
   "cell_type": "code",
   "execution_count": 68,
   "metadata": {},
   "outputs": [],
   "source": [
    "path = '/home/ubuntu/ai-study/DeepLearning基礎講座/Spring Seminar & Project/Team15/sample_dataset/hivae_data/est_data.csv'\n",
    "np.savetxt(path, est_data, delimiter=',')"
   ]
  },
  {
   "cell_type": "code",
   "execution_count": 69,
   "metadata": {},
   "outputs": [],
   "source": [
    "path = '/home/ubuntu/ai-study/DeepLearning基礎講座/Spring Seminar & Project/Team15/sample_dataset/hivae_data/train_data_transformed.csv'\n",
    "np.savetxt(path, train_data_transformed, delimiter=',')"
   ]
  },
  {
   "cell_type": "code",
   "execution_count": 70,
   "metadata": {},
   "outputs": [],
   "source": [
    "path = '/home/ubuntu/ai-study/DeepLearning基礎講座/Spring Seminar & Project/Team15/sample_dataset/hivae_data/est_data_transformed.csv'\n",
    "np.savetxt(path, est_data_transformed, delimiter=',')"
   ]
  },
  {
   "cell_type": "code",
   "execution_count": 71,
   "metadata": {},
   "outputs": [],
   "source": [
    "path = '/home/ubuntu/ai-study/DeepLearning基礎講座/Spring Seminar & Project/Team15/sample_dataset/hivae_data/treat.csv'\n",
    "np.savetxt(path, treat, delimiter=',')"
   ]
  },
  {
   "cell_type": "code",
   "execution_count": 72,
   "metadata": {},
   "outputs": [],
   "source": [
    "path = '/home/ubuntu/ai-study/DeepLearning基礎講座/Spring Seminar & Project/Team15/sample_dataset/hivae_data/outcome.csv'\n",
    "np.savetxt(path, outcome, delimiter=',')"
   ]
  },
  {
   "cell_type": "code",
   "execution_count": null,
   "metadata": {},
   "outputs": [],
   "source": []
  }
 ],
 "metadata": {
  "kernelspec": {
   "display_name": "Python 3",
   "language": "python",
   "name": "python3"
  },
  "language_info": {
   "codemirror_mode": {
    "name": "ipython",
    "version": 3
   },
   "file_extension": ".py",
   "mimetype": "text/x-python",
   "name": "python",
   "nbconvert_exporter": "python",
   "pygments_lexer": "ipython3",
   "version": "3.6.8"
  }
 },
 "nbformat": 4,
 "nbformat_minor": 2
}
