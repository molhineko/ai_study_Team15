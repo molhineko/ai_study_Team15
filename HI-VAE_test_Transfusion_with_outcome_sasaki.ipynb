{
 "cells": [
  {
   "cell_type": "markdown",
   "metadata": {},
   "source": [
    "## HI-VAEによる離散値および連続値を含むデータセットによるデータ生成\n",
    "##### Transfusion Data から、condition, outcome を除いたFeatureをencode, decode"
   ]
  },
  {
   "cell_type": "code",
   "execution_count": 1,
   "metadata": {},
   "outputs": [],
   "source": [
    "import tensorflow as tf\n",
    "import graph_new\n",
    "import parser_arguments\n",
    "import time\n",
    "import numpy as np\n",
    "np.seterr(divide='ignore', invalid='ignore')\n",
    "import pandas as pd\n",
    "from matplotlib import pyplot as plt\n",
    "#import plot_functions\n",
    "import read_functions\n",
    "import os\n",
    "pd.set_option(\"display.max_columns\", 500)\n",
    "pd.set_option(\"display.max_rows\", 1000)"
   ]
  },
  {
   "cell_type": "code",
   "execution_count": 2,
   "metadata": {},
   "outputs": [],
   "source": [
    "def print_loss(epoch, start_time, avg_loss, avg_test_loglik, avg_KL_s, avg_KL_z):\n",
    "    print(\"Epoch: [%2d]  time: %4.4f, train_loglik: %.8f, KL_z: %.8f, KL_s: %.8f, ELBO: %.8f, Test_loglik: %.8f\"\n",
    "          % (epoch, time.time() - start_time, avg_loss, avg_KL_z, avg_KL_s, avg_loss-avg_KL_z-avg_KL_s, avg_test_loglik))\n",
    "\n",
    "\n",
    "plt.close('all')"
   ]
  },
  {
   "cell_type": "code",
   "execution_count": 3,
   "metadata": {},
   "outputs": [],
   "source": [
    "df_trans = pd.read_csv('/home/ubuntu/ai-study/DeepLearning基礎講座/Spring Seminar & Project/Team15/sample_dataset/transfusion_data_0321.csv')"
   ]
  },
  {
   "cell_type": "code",
   "execution_count": 4,
   "metadata": {
    "scrolled": true
   },
   "outputs": [
    {
     "data": {
      "text/html": [
       "<div>\n",
       "<style scoped>\n",
       "    .dataframe tbody tr th:only-of-type {\n",
       "        vertical-align: middle;\n",
       "    }\n",
       "\n",
       "    .dataframe tbody tr th {\n",
       "        vertical-align: top;\n",
       "    }\n",
       "\n",
       "    .dataframe thead th {\n",
       "        text-align: right;\n",
       "    }\n",
       "</style>\n",
       "<table border=\"1\" class=\"dataframe\">\n",
       "  <thead>\n",
       "    <tr style=\"text-align: right;\">\n",
       "      <th></th>\n",
       "      <th>Unnamed: 0</th>\n",
       "      <th>TXA.day1_2</th>\n",
       "      <th>dth24h</th>\n",
       "      <th>Outcome.Survive</th>\n",
       "      <th>complication.thrombosis</th>\n",
       "      <th>sex</th>\n",
       "      <th>age</th>\n",
       "      <th>jcs</th>\n",
       "      <th>Year</th>\n",
       "      <th>Fibrinogen.day1_2</th>\n",
       "      <th>X7thCoag.day1_2</th>\n",
       "      <th>FFP.dose.day1_2</th>\n",
       "      <th>Plt.dose.day1_2</th>\n",
       "      <th>Trauma_Severity_Score</th>\n",
       "      <th>Head_injury</th>\n",
       "      <th>RCC.dose.day1</th>\n",
       "      <th>RCC.dose.day1_2</th>\n",
       "    </tr>\n",
       "  </thead>\n",
       "  <tbody>\n",
       "    <tr>\n",
       "      <th>0</th>\n",
       "      <td>0</td>\n",
       "      <td>False</td>\n",
       "      <td>0</td>\n",
       "      <td>True</td>\n",
       "      <td>False</td>\n",
       "      <td>1</td>\n",
       "      <td>33</td>\n",
       "      <td>100</td>\n",
       "      <td>2010</td>\n",
       "      <td>False</td>\n",
       "      <td>False</td>\n",
       "      <td>10.000</td>\n",
       "      <td>0</td>\n",
       "      <td>10.84</td>\n",
       "      <td>True</td>\n",
       "      <td>10</td>\n",
       "      <td>10</td>\n",
       "    </tr>\n",
       "    <tr>\n",
       "      <th>1</th>\n",
       "      <td>1</td>\n",
       "      <td>False</td>\n",
       "      <td>0</td>\n",
       "      <td>True</td>\n",
       "      <td>False</td>\n",
       "      <td>2</td>\n",
       "      <td>73</td>\n",
       "      <td>10</td>\n",
       "      <td>2010</td>\n",
       "      <td>False</td>\n",
       "      <td>False</td>\n",
       "      <td>3.333</td>\n",
       "      <td>0</td>\n",
       "      <td>3.26</td>\n",
       "      <td>True</td>\n",
       "      <td>10</td>\n",
       "      <td>10</td>\n",
       "    </tr>\n",
       "    <tr>\n",
       "      <th>2</th>\n",
       "      <td>2</td>\n",
       "      <td>True</td>\n",
       "      <td>0</td>\n",
       "      <td>True</td>\n",
       "      <td>False</td>\n",
       "      <td>2</td>\n",
       "      <td>55</td>\n",
       "      <td>1</td>\n",
       "      <td>2010</td>\n",
       "      <td>False</td>\n",
       "      <td>False</td>\n",
       "      <td>18.000</td>\n",
       "      <td>20</td>\n",
       "      <td>9.92</td>\n",
       "      <td>False</td>\n",
       "      <td>26</td>\n",
       "      <td>26</td>\n",
       "    </tr>\n",
       "    <tr>\n",
       "      <th>3</th>\n",
       "      <td>3</td>\n",
       "      <td>False</td>\n",
       "      <td>0</td>\n",
       "      <td>True</td>\n",
       "      <td>False</td>\n",
       "      <td>2</td>\n",
       "      <td>52</td>\n",
       "      <td>0</td>\n",
       "      <td>2010</td>\n",
       "      <td>False</td>\n",
       "      <td>False</td>\n",
       "      <td>13.332</td>\n",
       "      <td>0</td>\n",
       "      <td>3.12</td>\n",
       "      <td>False</td>\n",
       "      <td>12</td>\n",
       "      <td>12</td>\n",
       "    </tr>\n",
       "    <tr>\n",
       "      <th>4</th>\n",
       "      <td>4</td>\n",
       "      <td>False</td>\n",
       "      <td>0</td>\n",
       "      <td>True</td>\n",
       "      <td>False</td>\n",
       "      <td>1</td>\n",
       "      <td>18</td>\n",
       "      <td>0</td>\n",
       "      <td>2010</td>\n",
       "      <td>False</td>\n",
       "      <td>False</td>\n",
       "      <td>6.000</td>\n",
       "      <td>0</td>\n",
       "      <td>2.26</td>\n",
       "      <td>False</td>\n",
       "      <td>0</td>\n",
       "      <td>14</td>\n",
       "    </tr>\n",
       "  </tbody>\n",
       "</table>\n",
       "</div>"
      ],
      "text/plain": [
       "   Unnamed: 0  TXA.day1_2  dth24h  Outcome.Survive  complication.thrombosis  \\\n",
       "0           0       False       0             True                    False   \n",
       "1           1       False       0             True                    False   \n",
       "2           2        True       0             True                    False   \n",
       "3           3       False       0             True                    False   \n",
       "4           4       False       0             True                    False   \n",
       "\n",
       "   sex  age  jcs  Year  Fibrinogen.day1_2  X7thCoag.day1_2  FFP.dose.day1_2  \\\n",
       "0    1   33  100  2010              False            False           10.000   \n",
       "1    2   73   10  2010              False            False            3.333   \n",
       "2    2   55    1  2010              False            False           18.000   \n",
       "3    2   52    0  2010              False            False           13.332   \n",
       "4    1   18    0  2010              False            False            6.000   \n",
       "\n",
       "   Plt.dose.day1_2  Trauma_Severity_Score  Head_injury  RCC.dose.day1  \\\n",
       "0                0                  10.84         True             10   \n",
       "1                0                   3.26         True             10   \n",
       "2               20                   9.92        False             26   \n",
       "3                0                   3.12        False             12   \n",
       "4                0                   2.26        False              0   \n",
       "\n",
       "   RCC.dose.day1_2  \n",
       "0               10  \n",
       "1               10  \n",
       "2               26  \n",
       "3               12  \n",
       "4               14  "
      ]
     },
     "execution_count": 4,
     "metadata": {},
     "output_type": "execute_result"
    }
   ],
   "source": [
    "df_trans.head()"
   ]
  },
  {
   "cell_type": "code",
   "execution_count": 5,
   "metadata": {},
   "outputs": [
    {
     "data": {
      "text/plain": [
       "(7645, 17)"
      ]
     },
     "execution_count": 5,
     "metadata": {},
     "output_type": "execute_result"
    }
   ],
   "source": [
    "df_trans.shape"
   ]
  },
  {
   "cell_type": "code",
   "execution_count": 6,
   "metadata": {},
   "outputs": [
    {
     "data": {
      "text/plain": [
       "Index(['Unnamed: 0', 'TXA.day1_2', 'dth24h', 'Outcome.Survive',\n",
       "       'complication.thrombosis', 'sex', 'age', 'jcs', 'Year',\n",
       "       'Fibrinogen.day1_2', 'X7thCoag.day1_2', 'FFP.dose.day1_2',\n",
       "       'Plt.dose.day1_2', 'Trauma_Severity_Score', 'Head_injury',\n",
       "       'RCC.dose.day1', 'RCC.dose.day1_2'],\n",
       "      dtype='object')"
      ]
     },
     "execution_count": 6,
     "metadata": {},
     "output_type": "execute_result"
    }
   ],
   "source": [
    "df_trans.columns"
   ]
  },
  {
   "cell_type": "markdown",
   "metadata": {},
   "source": [
    "TXA.day1_2: 治療の有無（タグ）<- 入力には含めない。  \n",
    "  \n",
    "dth24h, Outcome.Survive, complication.Survive:  \n",
    "outcome(潜在空間からDNNしたoutcomeに相当）  \n",
    "\n",
    "その他は入力Xに相当。  \n",
    "sex:カテゴリ変数(binary)   \n",
    "age:連続変数（整数）   \n",
    "jcs:カテゴリ変数（値は0,1,2,3,10,20,30,100,200,300)の10種類で数が大きいほど重症   \n",
    "Year:カテゴリ変数（傾向スコアでは年度毎の偏りをなくすために使っていましたが無視しても大丈夫かもしれません。そのまま変数に入れても差し支えないかもしれません）   \n",
    "Fibrinogen.day1_2, X7thCoag.day1_2：カテゴリ変数((binary)   \n",
    "FFP.dose.day1_2,Plt.dose.day1_2:連続変数（正値のみとる）   \n",
    "Trauma_Severity_Score(連続変数）おそらく一番outcomeに作用する   \n",
    "Head_injury:カテゴリ変数((binary)   \n",
    "RCC.dose.day1：これは変数に入れないで下さい。   \n",
    "RCC.dose.day1_2:連続変数（10以上の整数)    "
   ]
  },
  {
   "cell_type": "code",
   "execution_count": 7,
   "metadata": {},
   "outputs": [],
   "source": [
    "train_columns = ['sex', 'age', 'jcs', 'Year', 'Fibrinogen.day1_2', 'X7thCoag.day1_2', 'FFP.dose.day1_2',\n",
    "                 'Plt.dose.day1_2', 'Trauma_Severity_Score', 'Head_injury', 'RCC.dose.day1_2']"
   ]
  },
  {
   "cell_type": "code",
   "execution_count": 8,
   "metadata": {},
   "outputs": [
    {
     "data": {
      "text/plain": [
       "11"
      ]
     },
     "execution_count": 8,
     "metadata": {},
     "output_type": "execute_result"
    }
   ],
   "source": [
    "len(train_columns)"
   ]
  },
  {
   "cell_type": "code",
   "execution_count": 9,
   "metadata": {},
   "outputs": [],
   "source": [
    "df_train_data = df_trans[train_columns]"
   ]
  },
  {
   "cell_type": "code",
   "execution_count": 10,
   "metadata": {},
   "outputs": [
    {
     "data": {
      "text/html": [
       "<div>\n",
       "<style scoped>\n",
       "    .dataframe tbody tr th:only-of-type {\n",
       "        vertical-align: middle;\n",
       "    }\n",
       "\n",
       "    .dataframe tbody tr th {\n",
       "        vertical-align: top;\n",
       "    }\n",
       "\n",
       "    .dataframe thead th {\n",
       "        text-align: right;\n",
       "    }\n",
       "</style>\n",
       "<table border=\"1\" class=\"dataframe\">\n",
       "  <thead>\n",
       "    <tr style=\"text-align: right;\">\n",
       "      <th></th>\n",
       "      <th>sex</th>\n",
       "      <th>age</th>\n",
       "      <th>jcs</th>\n",
       "      <th>Year</th>\n",
       "      <th>Fibrinogen.day1_2</th>\n",
       "      <th>X7thCoag.day1_2</th>\n",
       "      <th>FFP.dose.day1_2</th>\n",
       "      <th>Plt.dose.day1_2</th>\n",
       "      <th>Trauma_Severity_Score</th>\n",
       "      <th>Head_injury</th>\n",
       "      <th>RCC.dose.day1_2</th>\n",
       "    </tr>\n",
       "  </thead>\n",
       "  <tbody>\n",
       "    <tr>\n",
       "      <th>0</th>\n",
       "      <td>1</td>\n",
       "      <td>33</td>\n",
       "      <td>100</td>\n",
       "      <td>2010</td>\n",
       "      <td>False</td>\n",
       "      <td>False</td>\n",
       "      <td>10.000</td>\n",
       "      <td>0</td>\n",
       "      <td>10.84</td>\n",
       "      <td>True</td>\n",
       "      <td>10</td>\n",
       "    </tr>\n",
       "    <tr>\n",
       "      <th>1</th>\n",
       "      <td>2</td>\n",
       "      <td>73</td>\n",
       "      <td>10</td>\n",
       "      <td>2010</td>\n",
       "      <td>False</td>\n",
       "      <td>False</td>\n",
       "      <td>3.333</td>\n",
       "      <td>0</td>\n",
       "      <td>3.26</td>\n",
       "      <td>True</td>\n",
       "      <td>10</td>\n",
       "    </tr>\n",
       "    <tr>\n",
       "      <th>2</th>\n",
       "      <td>2</td>\n",
       "      <td>55</td>\n",
       "      <td>1</td>\n",
       "      <td>2010</td>\n",
       "      <td>False</td>\n",
       "      <td>False</td>\n",
       "      <td>18.000</td>\n",
       "      <td>20</td>\n",
       "      <td>9.92</td>\n",
       "      <td>False</td>\n",
       "      <td>26</td>\n",
       "    </tr>\n",
       "    <tr>\n",
       "      <th>3</th>\n",
       "      <td>2</td>\n",
       "      <td>52</td>\n",
       "      <td>0</td>\n",
       "      <td>2010</td>\n",
       "      <td>False</td>\n",
       "      <td>False</td>\n",
       "      <td>13.332</td>\n",
       "      <td>0</td>\n",
       "      <td>3.12</td>\n",
       "      <td>False</td>\n",
       "      <td>12</td>\n",
       "    </tr>\n",
       "    <tr>\n",
       "      <th>4</th>\n",
       "      <td>1</td>\n",
       "      <td>18</td>\n",
       "      <td>0</td>\n",
       "      <td>2010</td>\n",
       "      <td>False</td>\n",
       "      <td>False</td>\n",
       "      <td>6.000</td>\n",
       "      <td>0</td>\n",
       "      <td>2.26</td>\n",
       "      <td>False</td>\n",
       "      <td>14</td>\n",
       "    </tr>\n",
       "  </tbody>\n",
       "</table>\n",
       "</div>"
      ],
      "text/plain": [
       "   sex  age  jcs  Year  Fibrinogen.day1_2  X7thCoag.day1_2  FFP.dose.day1_2  \\\n",
       "0    1   33  100  2010              False            False           10.000   \n",
       "1    2   73   10  2010              False            False            3.333   \n",
       "2    2   55    1  2010              False            False           18.000   \n",
       "3    2   52    0  2010              False            False           13.332   \n",
       "4    1   18    0  2010              False            False            6.000   \n",
       "\n",
       "   Plt.dose.day1_2  Trauma_Severity_Score  Head_injury  RCC.dose.day1_2  \n",
       "0                0                  10.84         True               10  \n",
       "1                0                   3.26         True               10  \n",
       "2               20                   9.92        False               26  \n",
       "3                0                   3.12        False               12  \n",
       "4                0                   2.26        False               14  "
      ]
     },
     "execution_count": 10,
     "metadata": {},
     "output_type": "execute_result"
    }
   ],
   "source": [
    "df_train_data.head()"
   ]
  },
  {
   "cell_type": "code",
   "execution_count": 11,
   "metadata": {},
   "outputs": [],
   "source": [
    "df_train_data = df_train_data.replace({True:1, False:0})"
   ]
  },
  {
   "cell_type": "code",
   "execution_count": 12,
   "metadata": {},
   "outputs": [
    {
     "data": {
      "text/plain": [
       "-2.5"
      ]
     },
     "execution_count": 12,
     "metadata": {},
     "output_type": "execute_result"
    }
   ],
   "source": [
    "df_train_data['Trauma_Severity_Score'].min()"
   ]
  },
  {
   "cell_type": "code",
   "execution_count": 13,
   "metadata": {},
   "outputs": [
    {
     "name": "stdout",
     "output_type": "stream",
     "text": [
      "<class 'pandas.core.frame.DataFrame'>\n",
      "RangeIndex: 7645 entries, 0 to 7644\n",
      "Data columns (total 11 columns):\n",
      "sex                      7645 non-null int64\n",
      "age                      7645 non-null int64\n",
      "jcs                      7645 non-null int64\n",
      "Year                     7645 non-null int64\n",
      "Fibrinogen.day1_2        7645 non-null int64\n",
      "X7thCoag.day1_2          7645 non-null int64\n",
      "FFP.dose.day1_2          7645 non-null float64\n",
      "Plt.dose.day1_2          7645 non-null int64\n",
      "Trauma_Severity_Score    7645 non-null float64\n",
      "Head_injury              7645 non-null int64\n",
      "RCC.dose.day1_2          7645 non-null int64\n",
      "dtypes: float64(2), int64(9)\n",
      "memory usage: 657.1 KB\n"
     ]
    }
   ],
   "source": [
    "df_train_data.info()"
   ]
  },
  {
   "cell_type": "code",
   "execution_count": 14,
   "metadata": {},
   "outputs": [],
   "source": [
    "df_train_data.to_csv('transfusion/transfusion.csv', header=False, index=False)"
   ]
  },
  {
   "cell_type": "markdown",
   "metadata": {},
   "source": [
    "###  data types\n",
    "'sex', cat, 2   \n",
    "'age', pos,    \n",
    "'jcs', ordinal, 10   \n",
    "'Year', cat, 6   \n",
    "'Fibrinogen.day1_2', cat, 2   \n",
    "'X7thCoag.day1_2', cat, 2    \n",
    "'FFP.dose.day1_2', pos,    \n",
    "'Plt.dose.day1_2', pos,    \n",
    "'Trauma_Severity_Score', real   \n",
    "'Head_injury', cat, 2   \n",
    "'RCC.dose.day1_2', pos,    "
   ]
  },
  {
   "cell_type": "code",
   "execution_count": 15,
   "metadata": {},
   "outputs": [],
   "source": [
    "df_data_types = pd.DataFrame({'type':  ['cat', 'pos', 'ordinal', 'cat',  'cat', 'cat', 'pos', 'pos', 'real', 'cat', 'pos'],\n",
    "                              'dim':   [ 2,     1,     10,        6,      2,     2,     1,     1,     1,     2,     1],\n",
    "                              'nclass':[ 2,     None,  10,        6,      2,     2,     None,  None,  None, 2,     None]})\n",
    "df_data_types.to_csv('transfusion/trans_data_types.csv', index=False)"
   ]
  },
  {
   "cell_type": "code",
   "execution_count": 16,
   "metadata": {},
   "outputs": [],
   "source": [
    "# settings = '--epochs 100 --model_name model_HIVAE_inputDropout --restore 0 --train 1 \\\n",
    "#             --data_file transfusion/transfusion.csv --types_file transfusion/trans_data_types.csv --miss_file transfusion/Missing_1.csv \\\n",
    "#             --batch_size 1000 --save 1001 --save_file transfusion_model_test\\\n",
    "#             --dim_latent_s 5 --dim_latent_z 5 --dim_latent_y 3 \\\n",
    "#             --miss_percentage_train 0.0 --miss_percentage_test 0.0'"
   ]
  },
  {
   "cell_type": "code",
   "execution_count": 17,
   "metadata": {},
   "outputs": [],
   "source": [
    "settings = '--epochs 100 --model_name model_HIVAE_inputDropout --restore 0 --train 1 \\\n",
    "            --data_file transfusion/transfusion.csv --types_file transfusion/trans_data_types.csv \\\n",
    "            --batch_size 100 --save 1001 --save_file transfusion_model_test\\\n",
    "            --dim_latent_s 10 --dim_latent_z 10 --dim_latent_y 5 \\\n",
    "            --miss_percentage_train 0.0 --miss_percentage_test 0.0'"
   ]
  },
  {
   "cell_type": "code",
   "execution_count": 18,
   "metadata": {},
   "outputs": [
    {
     "data": {
      "text/plain": [
       "['--epochs',\n",
       " '100',\n",
       " '--model_name',\n",
       " 'model_HIVAE_inputDropout',\n",
       " '--restore',\n",
       " '0',\n",
       " '--train',\n",
       " '1',\n",
       " '--data_file',\n",
       " 'transfusion/transfusion.csv',\n",
       " '--types_file',\n",
       " 'transfusion/trans_data_types.csv',\n",
       " '--batch_size',\n",
       " '100',\n",
       " '--save',\n",
       " '1001',\n",
       " '--save_file',\n",
       " 'transfusion_model_test',\n",
       " '--dim_latent_s',\n",
       " '10',\n",
       " '--dim_latent_z',\n",
       " '10',\n",
       " '--dim_latent_y',\n",
       " '5',\n",
       " '--miss_percentage_train',\n",
       " '0.0',\n",
       " '--miss_percentage_test',\n",
       " '0.0']"
      ]
     },
     "execution_count": 18,
     "metadata": {},
     "output_type": "execute_result"
    }
   ],
   "source": [
    "argvals = settings.split()\n",
    "args = parser_arguments.getArgs(argvals)\n",
    "argvals"
   ]
  },
  {
   "cell_type": "code",
   "execution_count": 19,
   "metadata": {},
   "outputs": [
    {
     "name": "stdout",
     "output_type": "stream",
     "text": [
      "Namespace(batch_size=100, data_file='transfusion/transfusion.csv', dim_latent_s=10, dim_latent_y=5, dim_latent_y_partition=None, dim_latent_z=10, display=1, epochs=100, miss_file='Missing_test.csv', miss_percentage_test=0.0, miss_percentage_train=0.0, model_name='model_HIVAE_inputDropout', perp=10, plot=1, restore=0, save=1001, save_file='transfusion_model_test', train=1, true_miss_file=None, types_file='transfusion/trans_data_types.csv')\n"
     ]
    }
   ],
   "source": [
    "#Create a directoy for the save file\n",
    "if not os.path.exists('./Saved_Networks/' + args.save_file):\n",
    "    os.makedirs('./Saved_Networks/' + args.save_file)\n",
    "\n",
    "network_file_name='./Saved_Networks/' + args.save_file + '/' + args.save_file +'.ckpt'\n",
    "log_file_name='./Saved_Network/' + args.save_file + '/log_file_' + args.save_file +'.txt'\n",
    "\n",
    "print(args)"
   ]
  },
  {
   "cell_type": "code",
   "execution_count": 20,
   "metadata": {},
   "outputs": [],
   "source": [
    "#Creating graph\n",
    "sess_HVAE = tf.Graph()"
   ]
  },
  {
   "cell_type": "code",
   "execution_count": 21,
   "metadata": {},
   "outputs": [
    {
     "name": "stdout",
     "output_type": "stream",
     "text": [
      "[*] Importing model: model_HIVAE_inputDropout\n",
      "[*] Defining placeholders\n",
      "[*] Defining Encoder...\n",
      "[*] Defining Decoder...\n",
      "WARNING:tensorflow:From /home/ubuntu/ai-study/HI-VAE/HI-VAE/loglik_models_missing_normalize.py:95: softmax_cross_entropy_with_logits (from tensorflow.python.ops.nn_ops) is deprecated and will be removed in a future version.\n",
      "Instructions for updating:\n",
      "\n",
      "Future major versions of TensorFlow will allow gradients to flow\n",
      "into the labels input on backprop by default.\n",
      "\n",
      "See `tf.nn.softmax_cross_entropy_with_logits_v2`.\n",
      "\n",
      "[*] Defining Cost function...\n"
     ]
    }
   ],
   "source": [
    "with sess_HVAE.as_default():\n",
    "    \n",
    "    tf_nodes = graph_new.HVAE_graph(args.model_name, args.types_file, args.batch_size,\n",
    "                                    learning_rate=1e-3, z_dim=args.dim_latent_z, y_dim=args.dim_latent_y, \n",
    "                                    s_dim=args.dim_latent_s, y_dim_partition=args.dim_latent_y_partition)"
   ]
  },
  {
   "cell_type": "code",
   "execution_count": 22,
   "metadata": {},
   "outputs": [],
   "source": [
    "################### Running the VAE Training #################################\n",
    "\n",
    "train_data, types_dict, miss_mask, true_miss_mask, n_samples = read_functions.read_data(args.data_file, args.types_file, args.miss_file, \n",
    "                                                                                        args.true_miss_file)\n",
    "#Get an integer number of batches\n",
    "n_batches = int(np.floor(np.shape(train_data)[0]/args.batch_size))\n",
    "#Compute the real miss_mask\n",
    "miss_mask = np.multiply(miss_mask, true_miss_mask)"
   ]
  },
  {
   "cell_type": "code",
   "execution_count": 23,
   "metadata": {},
   "outputs": [
    {
     "data": {
      "text/plain": [
       "(7645, 29)"
      ]
     },
     "execution_count": 23,
     "metadata": {},
     "output_type": "execute_result"
    }
   ],
   "source": [
    "train_data.shape"
   ]
  },
  {
   "cell_type": "code",
   "execution_count": 24,
   "metadata": {
    "scrolled": true
   },
   "outputs": [
    {
     "name": "stdout",
     "output_type": "stream",
     "text": [
      "Initizalizing Variables ...\n",
      "Training the HVAE ...\n",
      "Epoch: [ 0]  time: 4.1210, train_loglik: -24.88351325, KL_z: 0.09832583, KL_s: 0.03371492, ELBO: -25.01555399, Test_loglik: nan\n",
      "\n",
      "Saving Variables ...\n",
      "Epoch: [ 1]  time: 5.3627, train_loglik: -23.89292438, KL_z: 0.13462163, KL_s: 0.27462229, ELBO: -24.30216831, Test_loglik: nan\n",
      "\n",
      "Epoch: [ 2]  time: 6.1882, train_loglik: -22.63385984, KL_z: 0.20658755, KL_s: 1.04944712, ELBO: -23.88989451, Test_loglik: nan\n",
      "\n",
      "Epoch: [ 3]  time: 6.9526, train_loglik: -22.16690367, KL_z: 0.24526130, KL_s: 1.44681648, ELBO: -23.85898145, Test_loglik: nan\n",
      "\n",
      "Epoch: [ 4]  time: 7.8455, train_loglik: -21.66080934, KL_z: 0.39060994, KL_s: 1.50921335, ELBO: -23.56063262, Test_loglik: nan\n",
      "\n",
      "Epoch: [ 5]  time: 8.7618, train_loglik: -21.38939868, KL_z: 0.42099654, KL_s: 1.69930085, ELBO: -23.50969607, Test_loglik: nan\n",
      "\n",
      "Epoch: [ 6]  time: 9.6141, train_loglik: -21.12322499, KL_z: 0.49370517, KL_s: 1.88347344, ELBO: -23.50040359, Test_loglik: nan\n",
      "\n",
      "Epoch: [ 7]  time: 10.5268, train_loglik: -20.91056711, KL_z: 0.56275145, KL_s: 1.93449085, ELBO: -23.40780941, Test_loglik: nan\n",
      "\n",
      "Epoch: [ 8]  time: 11.4097, train_loglik: -20.73653091, KL_z: 0.63976637, KL_s: 1.93470357, ELBO: -23.31100085, Test_loglik: nan\n",
      "\n",
      "Epoch: [ 9]  time: 12.2311, train_loglik: -20.59140000, KL_z: 0.66477708, KL_s: 1.90201368, ELBO: -23.15819075, Test_loglik: nan\n",
      "\n",
      "Epoch: [10]  time: 13.0897, train_loglik: -20.50878209, KL_z: 0.71825105, KL_s: 1.83226992, ELBO: -23.05930305, Test_loglik: nan\n",
      "\n",
      "Epoch: [11]  time: 13.9144, train_loglik: -20.41371684, KL_z: 0.73333042, KL_s: 1.77547446, ELBO: -22.92252172, Test_loglik: nan\n",
      "\n",
      "Epoch: [12]  time: 14.7434, train_loglik: -20.33372821, KL_z: 0.73863334, KL_s: 1.76016644, ELBO: -22.83252800, Test_loglik: nan\n",
      "\n",
      "Epoch: [13]  time: 15.5959, train_loglik: -20.22603680, KL_z: 0.74763583, KL_s: 1.78544534, ELBO: -22.75911797, Test_loglik: nan\n",
      "\n",
      "Epoch: [14]  time: 16.3861, train_loglik: -20.17234672, KL_z: 0.75330291, KL_s: 1.79303143, ELBO: -22.71868105, Test_loglik: nan\n",
      "\n",
      "Epoch: [15]  time: 17.3424, train_loglik: -20.10027406, KL_z: 0.75951830, KL_s: 1.80528404, ELBO: -22.66507640, Test_loglik: nan\n",
      "\n",
      "Epoch: [16]  time: 18.2381, train_loglik: -20.02124427, KL_z: 0.77485242, KL_s: 1.81969201, ELBO: -22.61578870, Test_loglik: nan\n",
      "\n",
      "Epoch: [17]  time: 19.0800, train_loglik: -19.95852649, KL_z: 0.79619662, KL_s: 1.82776546, ELBO: -22.58248857, Test_loglik: nan\n",
      "\n",
      "Epoch: [18]  time: 19.8832, train_loglik: -19.89880672, KL_z: 0.79832434, KL_s: 1.83084792, ELBO: -22.52797898, Test_loglik: nan\n",
      "\n",
      "Epoch: [19]  time: 20.7819, train_loglik: -19.85832671, KL_z: 0.80950139, KL_s: 1.82405450, ELBO: -22.49188260, Test_loglik: nan\n",
      "\n",
      "Epoch: [20]  time: 21.6216, train_loglik: -19.75908842, KL_z: 0.79939789, KL_s: 1.81073073, ELBO: -22.36921704, Test_loglik: nan\n",
      "\n",
      "Epoch: [21]  time: 22.4707, train_loglik: -19.72068729, KL_z: 0.82701986, KL_s: 1.79006607, ELBO: -22.33777322, Test_loglik: nan\n",
      "\n",
      "Epoch: [22]  time: 23.3259, train_loglik: -19.66794245, KL_z: 0.82934217, KL_s: 1.77717755, ELBO: -22.27446217, Test_loglik: nan\n",
      "\n",
      "Epoch: [23]  time: 24.2024, train_loglik: -19.60891345, KL_z: 0.84795940, KL_s: 1.77588196, ELBO: -22.23275481, Test_loglik: nan\n",
      "\n",
      "Epoch: [24]  time: 25.1109, train_loglik: -19.54674460, KL_z: 0.84739614, KL_s: 1.78323716, ELBO: -22.17737789, Test_loglik: nan\n",
      "\n",
      "Epoch: [25]  time: 25.9474, train_loglik: -19.53038964, KL_z: 0.85679163, KL_s: 1.78980360, ELBO: -22.17698486, Test_loglik: nan\n",
      "\n",
      "Epoch: [26]  time: 26.7779, train_loglik: -19.45404469, KL_z: 0.85548352, KL_s: 1.80090875, ELBO: -22.11043696, Test_loglik: nan\n",
      "\n",
      "Epoch: [27]  time: 27.6528, train_loglik: -19.43210569, KL_z: 0.86318400, KL_s: 1.80645841, ELBO: -22.10174810, Test_loglik: nan\n",
      "\n",
      "Epoch: [28]  time: 28.4801, train_loglik: -19.42387305, KL_z: 0.86726649, KL_s: 1.81209884, ELBO: -22.10323838, Test_loglik: nan\n",
      "\n",
      "Epoch: [29]  time: 29.4114, train_loglik: -19.38841988, KL_z: 0.86882039, KL_s: 1.81954563, ELBO: -22.07678589, Test_loglik: nan\n",
      "\n",
      "Epoch: [30]  time: 30.2922, train_loglik: -19.37323061, KL_z: 0.87848358, KL_s: 1.82566328, ELBO: -22.07737747, Test_loglik: nan\n",
      "\n",
      "Epoch: [31]  time: 31.1396, train_loglik: -19.33168487, KL_z: 0.87747386, KL_s: 1.83229934, ELBO: -22.04145807, Test_loglik: nan\n",
      "\n",
      "Epoch: [32]  time: 32.0202, train_loglik: -19.32205587, KL_z: 0.87752121, KL_s: 1.83624523, ELBO: -22.03582231, Test_loglik: nan\n",
      "\n",
      "Epoch: [33]  time: 32.8499, train_loglik: -19.30684408, KL_z: 0.88556381, KL_s: 1.84018755, ELBO: -22.03259544, Test_loglik: nan\n",
      "\n",
      "Epoch: [34]  time: 33.7060, train_loglik: -19.29093107, KL_z: 0.88870968, KL_s: 1.84039740, ELBO: -22.02003815, Test_loglik: nan\n",
      "\n",
      "Epoch: [35]  time: 34.5364, train_loglik: -19.24839888, KL_z: 0.88652883, KL_s: 1.83720865, ELBO: -21.97213636, Test_loglik: nan\n",
      "\n",
      "Epoch: [36]  time: 35.3274, train_loglik: -19.25605164, KL_z: 0.89628571, KL_s: 1.82628833, ELBO: -21.97862568, Test_loglik: nan\n",
      "\n",
      "Epoch: [37]  time: 36.1658, train_loglik: -19.25205349, KL_z: 0.89320581, KL_s: 1.80661189, ELBO: -21.95187119, Test_loglik: nan\n",
      "\n",
      "Epoch: [38]  time: 36.9630, train_loglik: -19.18537368, KL_z: 0.89691555, KL_s: 1.78911400, ELBO: -21.87140323, Test_loglik: nan\n",
      "\n",
      "Epoch: [39]  time: 37.8569, train_loglik: -19.16651871, KL_z: 0.91772418, KL_s: 1.78314736, ELBO: -21.86739025, Test_loglik: nan\n",
      "\n",
      "Epoch: [40]  time: 38.7966, train_loglik: -19.11595530, KL_z: 0.91922879, KL_s: 1.78579577, ELBO: -21.82097986, Test_loglik: nan\n",
      "\n",
      "Epoch: [41]  time: 39.6394, train_loglik: -19.08669261, KL_z: 0.92687416, KL_s: 1.79186719, ELBO: -21.80543395, Test_loglik: nan\n",
      "\n",
      "Epoch: [42]  time: 40.4836, train_loglik: -19.05399360, KL_z: 0.94475203, KL_s: 1.79704410, ELBO: -21.79578973, Test_loglik: nan\n",
      "\n",
      "Epoch: [43]  time: 41.3470, train_loglik: -19.03426399, KL_z: 0.94938907, KL_s: 1.80079896, ELBO: -21.78445202, Test_loglik: nan\n",
      "\n",
      "Epoch: [44]  time: 42.2001, train_loglik: -19.03617776, KL_z: 0.97310887, KL_s: 1.80283921, ELBO: -21.81212585, Test_loglik: nan\n",
      "\n",
      "Epoch: [45]  time: 43.1046, train_loglik: -18.99903102, KL_z: 0.96817207, KL_s: 1.80057605, ELBO: -21.76777913, Test_loglik: nan\n",
      "\n",
      "Epoch: [46]  time: 43.9309, train_loglik: -19.00553779, KL_z: 0.97109116, KL_s: 1.79560000, ELBO: -21.77222894, Test_loglik: nan\n",
      "\n",
      "Epoch: [47]  time: 44.8567, train_loglik: -18.96273026, KL_z: 0.96440642, KL_s: 1.78299204, ELBO: -21.71012871, Test_loglik: nan\n",
      "\n",
      "Epoch: [48]  time: 45.7653, train_loglik: -18.94316819, KL_z: 0.97378236, KL_s: 1.77377003, ELBO: -21.69072057, Test_loglik: nan\n",
      "\n",
      "Epoch: [49]  time: 46.5586, train_loglik: -18.90828436, KL_z: 0.97974978, KL_s: 1.76531352, ELBO: -21.65334766, Test_loglik: nan\n",
      "\n",
      "Epoch: [50]  time: 47.4358, train_loglik: -18.86936396, KL_z: 0.97925805, KL_s: 1.76935974, ELBO: -21.61798176, Test_loglik: nan\n",
      "\n",
      "Epoch: [51]  time: 48.2336, train_loglik: -18.81214604, KL_z: 0.98482367, KL_s: 1.76939122, ELBO: -21.56636093, Test_loglik: nan\n",
      "\n",
      "Epoch: [52]  time: 49.1156, train_loglik: -18.82747718, KL_z: 0.99924500, KL_s: 1.77209301, ELBO: -21.59881520, Test_loglik: nan\n",
      "\n",
      "Epoch: [53]  time: 50.0070, train_loglik: -18.80160246, KL_z: 1.00370551, KL_s: 1.77300814, ELBO: -21.57831611, Test_loglik: nan\n",
      "\n",
      "Epoch: [54]  time: 50.9027, train_loglik: -18.80374577, KL_z: 1.01040180, KL_s: 1.77671293, ELBO: -21.59086050, Test_loglik: nan\n",
      "\n",
      "Epoch: [55]  time: 51.6972, train_loglik: -18.77385669, KL_z: 1.01589567, KL_s: 1.77757601, ELBO: -21.56732837, Test_loglik: nan\n",
      "\n",
      "Epoch: [56]  time: 52.5092, train_loglik: -18.72909749, KL_z: 1.02788919, KL_s: 1.78175162, ELBO: -21.53873831, Test_loglik: nan\n",
      "\n",
      "Epoch: [57]  time: 53.3717, train_loglik: -18.72100002, KL_z: 1.03652919, KL_s: 1.78772816, ELBO: -21.54525737, Test_loglik: nan\n",
      "\n",
      "Epoch: [58]  time: 54.2605, train_loglik: -18.69980900, KL_z: 1.05052175, KL_s: 1.79021544, ELBO: -21.54054618, Test_loglik: nan\n",
      "\n",
      "Epoch: [59]  time: 55.1734, train_loglik: -18.67244660, KL_z: 1.05028573, KL_s: 1.79283860, ELBO: -21.51557093, Test_loglik: nan\n",
      "\n",
      "Epoch: [60]  time: 56.0646, train_loglik: -18.67293461, KL_z: 1.06554693, KL_s: 1.79386808, ELBO: -21.53234962, Test_loglik: nan\n",
      "\n",
      "Epoch: [61]  time: 57.0187, train_loglik: -18.64517267, KL_z: 1.05971615, KL_s: 1.79700215, ELBO: -21.50189097, Test_loglik: nan\n",
      "\n",
      "Epoch: [62]  time: 57.8750, train_loglik: -18.64759784, KL_z: 1.07722814, KL_s: 1.80132739, ELBO: -21.52615337, Test_loglik: nan\n",
      "\n"
     ]
    },
    {
     "name": "stdout",
     "output_type": "stream",
     "text": [
      "Epoch: [63]  time: 58.7873, train_loglik: -18.62854129, KL_z: 1.07850319, KL_s: 1.80087405, ELBO: -21.50791854, Test_loglik: nan\n",
      "\n",
      "Epoch: [64]  time: 59.6390, train_loglik: -18.61414199, KL_z: 1.07621222, KL_s: 1.80173235, ELBO: -21.49208655, Test_loglik: nan\n",
      "\n",
      "Epoch: [65]  time: 60.4344, train_loglik: -18.60465163, KL_z: 1.08964192, KL_s: 1.80227541, ELBO: -21.49656895, Test_loglik: nan\n",
      "\n",
      "Epoch: [66]  time: 61.2376, train_loglik: -18.60536688, KL_z: 1.09318749, KL_s: 1.80366139, ELBO: -21.50221577, Test_loglik: nan\n",
      "\n",
      "Epoch: [67]  time: 62.0554, train_loglik: -18.56352811, KL_z: 1.09779884, KL_s: 1.80531831, ELBO: -21.46664525, Test_loglik: nan\n",
      "\n",
      "Epoch: [68]  time: 62.9700, train_loglik: -18.56377127, KL_z: 1.09254061, KL_s: 1.80401271, ELBO: -21.46032460, Test_loglik: nan\n",
      "\n",
      "Epoch: [69]  time: 63.7366, train_loglik: -18.53408477, KL_z: 1.09400016, KL_s: 1.80409617, ELBO: -21.43218110, Test_loglik: nan\n",
      "\n",
      "Epoch: [70]  time: 64.5387, train_loglik: -18.54427004, KL_z: 1.09557000, KL_s: 1.80465346, ELBO: -21.44449350, Test_loglik: nan\n",
      "\n",
      "Epoch: [71]  time: 65.4521, train_loglik: -18.55241720, KL_z: 1.10119900, KL_s: 1.80686532, ELBO: -21.46048152, Test_loglik: nan\n",
      "\n",
      "Epoch: [72]  time: 66.3206, train_loglik: -18.51396169, KL_z: 1.08919844, KL_s: 1.80811327, ELBO: -21.41127341, Test_loglik: nan\n",
      "\n",
      "Epoch: [73]  time: 67.1781, train_loglik: -18.54468519, KL_z: 1.09634742, KL_s: 1.80796220, ELBO: -21.44899481, Test_loglik: nan\n",
      "\n",
      "Epoch: [74]  time: 68.0632, train_loglik: -18.51032232, KL_z: 1.08878651, KL_s: 1.80676326, ELBO: -21.40587209, Test_loglik: nan\n",
      "\n",
      "Epoch: [75]  time: 68.9769, train_loglik: -18.50208157, KL_z: 1.10032570, KL_s: 1.80822239, ELBO: -21.41062965, Test_loglik: nan\n",
      "\n",
      "Epoch: [76]  time: 69.9052, train_loglik: -18.49366959, KL_z: 1.10108109, KL_s: 1.80806695, ELBO: -21.40281762, Test_loglik: nan\n",
      "\n",
      "Epoch: [77]  time: 70.7119, train_loglik: -18.47604739, KL_z: 1.09853856, KL_s: 1.80673970, ELBO: -21.38132565, Test_loglik: nan\n",
      "\n",
      "Epoch: [78]  time: 71.4945, train_loglik: -18.51622007, KL_z: 1.10756478, KL_s: 1.80753634, ELBO: -21.43132118, Test_loglik: nan\n",
      "\n",
      "Epoch: [79]  time: 72.3281, train_loglik: -18.46005643, KL_z: 1.10378217, KL_s: 1.80964251, ELBO: -21.37348111, Test_loglik: nan\n",
      "\n",
      "Epoch: [80]  time: 73.1600, train_loglik: -18.42033750, KL_z: 1.09983299, KL_s: 1.80525554, ELBO: -21.32542603, Test_loglik: nan\n",
      "\n",
      "Epoch: [81]  time: 74.0085, train_loglik: -18.45191240, KL_z: 1.11101021, KL_s: 1.80424282, ELBO: -21.36716544, Test_loglik: nan\n",
      "\n",
      "Epoch: [82]  time: 74.8700, train_loglik: -18.45863523, KL_z: 1.10301159, KL_s: 1.80252053, ELBO: -21.36416736, Test_loglik: nan\n",
      "\n",
      "Epoch: [83]  time: 75.6506, train_loglik: -18.44597023, KL_z: 1.10871916, KL_s: 1.79713530, ELBO: -21.35182469, Test_loglik: nan\n",
      "\n",
      "Epoch: [84]  time: 76.5354, train_loglik: -18.45112060, KL_z: 1.10747167, KL_s: 1.79641129, ELBO: -21.35500357, Test_loglik: nan\n",
      "\n",
      "Epoch: [85]  time: 77.3778, train_loglik: -18.45709063, KL_z: 1.10722346, KL_s: 1.79727386, ELBO: -21.36158795, Test_loglik: nan\n",
      "\n",
      "Epoch: [86]  time: 78.2569, train_loglik: -18.43888852, KL_z: 1.10475518, KL_s: 1.79653447, ELBO: -21.34017818, Test_loglik: nan\n",
      "\n",
      "Epoch: [87]  time: 79.2361, train_loglik: -18.39784386, KL_z: 1.09653234, KL_s: 1.79910418, ELBO: -21.29348038, Test_loglik: nan\n",
      "\n",
      "Epoch: [88]  time: 80.0965, train_loglik: -18.38357316, KL_z: 1.10361453, KL_s: 1.79878132, ELBO: -21.28596901, Test_loglik: nan\n",
      "\n",
      "Epoch: [89]  time: 80.9912, train_loglik: -18.43828984, KL_z: 1.12039507, KL_s: 1.79868942, ELBO: -21.35737433, Test_loglik: nan\n",
      "\n",
      "Epoch: [90]  time: 81.8986, train_loglik: -18.38830943, KL_z: 1.11359603, KL_s: 1.79662137, ELBO: -21.29852683, Test_loglik: nan\n",
      "\n",
      "Epoch: [91]  time: 82.7531, train_loglik: -18.40732037, KL_z: 1.11994854, KL_s: 1.79234656, ELBO: -21.31961547, Test_loglik: nan\n",
      "\n",
      "Epoch: [92]  time: 83.5905, train_loglik: -18.37961114, KL_z: 1.12333681, KL_s: 1.79269725, ELBO: -21.29564520, Test_loglik: nan\n",
      "\n",
      "Epoch: [93]  time: 84.4202, train_loglik: -18.36783043, KL_z: 1.12399247, KL_s: 1.79072161, ELBO: -21.28254450, Test_loglik: nan\n",
      "\n",
      "Epoch: [94]  time: 85.2618, train_loglik: -18.35640328, KL_z: 1.12788507, KL_s: 1.79272468, ELBO: -21.27701302, Test_loglik: nan\n",
      "\n",
      "Epoch: [95]  time: 86.1513, train_loglik: -18.37866628, KL_z: 1.12676311, KL_s: 1.79458404, ELBO: -21.30001342, Test_loglik: nan\n",
      "\n",
      "Epoch: [96]  time: 87.1076, train_loglik: -18.37441487, KL_z: 1.12793879, KL_s: 1.79476583, ELBO: -21.29711949, Test_loglik: nan\n",
      "\n",
      "Epoch: [97]  time: 88.0525, train_loglik: -18.33442199, KL_z: 1.12605290, KL_s: 1.79427087, ELBO: -21.25474575, Test_loglik: nan\n",
      "\n",
      "Epoch: [98]  time: 88.9177, train_loglik: -18.34684023, KL_z: 1.12799719, KL_s: 1.79468964, ELBO: -21.26952706, Test_loglik: nan\n",
      "\n",
      "Epoch: [99]  time: 89.8589, train_loglik: -18.32058156, KL_z: 1.12995192, KL_s: 1.79444459, ELBO: -21.24497807, Test_loglik: nan\n",
      "\n",
      "Training Finished ...\n"
     ]
    }
   ],
   "source": [
    "with tf.Session(graph=sess_HVAE) as session:\n",
    "        \n",
    "    # Add ops to save and restore all the variables.\n",
    "    saver = tf.train.Saver()\n",
    "        \n",
    "    if(args.restore == 1):\n",
    "        saver.restore(session, network_file_name)\n",
    "        print(\"Model restored.\")\n",
    "    else:\n",
    "#        saver = tf.train.Saver()\n",
    "        print('Initizalizing Variables ...')\n",
    "        tf.global_variables_initializer().run()\n",
    "    \n",
    "    print('Training the HVAE ...')\n",
    "    if(args.train == 1):\n",
    "        \n",
    "        start_time = time.time()\n",
    "        # Training cycle\n",
    "        \n",
    "        loglik_epoch = []\n",
    "        testloglik_epoch = []\n",
    "        KL_s_epoch = []\n",
    "        KL_z_epoch = []\n",
    "        for epoch in range(args.epochs):\n",
    "            avg_loss = 0.\n",
    "            avg_KL_s = 0.\n",
    "            avg_KL_z = 0.\n",
    "            samples_list = []\n",
    "            p_params_list = []\n",
    "            q_params_list = []\n",
    "            log_p_x_total = []\n",
    "            log_p_x_missing_total = []\n",
    "            \n",
    "            # Annealing of Gumbel-Softmax parameter\n",
    "            tau = np.max([1.0 - 0.001*epoch,1e-3])\n",
    "            \n",
    "#             #Randomize the data in the mini-batches\n",
    "#             random_perm = np.random.permutation(range(np.shape(train_data)[0]))\n",
    "#             train_data_aux = train_data[random_perm,:]\n",
    "#             miss_mask_aux = miss_mask[random_perm,:]\n",
    "#             true_miss_mask_aux = true_miss_mask[random_perm,:]\n",
    "\n",
    "            train_data_aux = train_data[:]\n",
    "            miss_mask_aux = miss_mask[:]\n",
    "            true_miss_mask_aux = true_miss_mask[:]\n",
    "\n",
    "            for i in range(n_batches):      \n",
    "                \n",
    "                #Create inputs for the feed_dict\n",
    "                data_list, miss_list = read_functions.next_batch(train_data_aux, types_dict, miss_mask_aux, args.batch_size, index_batch=i)\n",
    "\n",
    "                #Delete not known data (input zeros)\n",
    "                data_list_observed = [data_list[i]*np.reshape(miss_list[:,i],[args.batch_size,1]) for i in range(len(data_list))]\n",
    "                \n",
    "                #Create feed dictionary\n",
    "                feedDict = {i: d for i, d in zip(tf_nodes['ground_batch'], data_list)}\n",
    "                feedDict.update({i: d for i, d in zip(tf_nodes['ground_batch_observed'], data_list_observed)})\n",
    "                feedDict[tf_nodes['miss_list']] = miss_list\n",
    "                feedDict[tf_nodes['tau_GS']] = tau\n",
    "                \n",
    "                #Running VAE\n",
    "                _,loss,KL_z,KL_s,samples,log_p_x,log_p_x_missing,p_params,q_params  = session.run([tf_nodes['optim'], \n",
    "                                                                                                   tf_nodes['loss_re'], \n",
    "                                                                                                   tf_nodes['KL_z'], \n",
    "                                                                                                   tf_nodes['KL_s'], \n",
    "                                                                                                   tf_nodes['samples'],\n",
    "                                                                                                   tf_nodes['log_p_x'], \n",
    "                                                                                                   tf_nodes['log_p_x_missing'],\n",
    "                                                                                                   tf_nodes['p_params'],\n",
    "                                                                                                   tf_nodes['q_params']],\n",
    "                                                                                                  feed_dict=feedDict)\n",
    "                \n",
    "                #Collect all samples, distirbution parameters and logliks in lists\n",
    "                samples_list.append(samples)\n",
    "                p_params_list.append(p_params)\n",
    "                q_params_list.append(q_params)\n",
    "                log_p_x_total.append(log_p_x)\n",
    "                log_p_x_missing_total.append(log_p_x_missing)\n",
    "                \n",
    "                # Compute average loss\n",
    "                avg_loss += np.mean(loss)\n",
    "                avg_KL_s += np.mean(KL_s)\n",
    "                avg_KL_z += np.mean(KL_z)\n",
    "                \n",
    "            #Concatenate samples in arrays\n",
    "            s_total, z_total, y_total, est_data = read_functions.samples_concatenation(samples_list)\n",
    "            \n",
    "            #Transform discrete variables back to the original values\n",
    "            train_data_transformed = read_functions.discrete_variables_transformation(train_data_aux[:n_batches*args.batch_size,:], \n",
    "                                                                                      types_dict)\n",
    "            est_data_transformed = read_functions.discrete_variables_transformation(est_data, types_dict)\n",
    "            est_data_imputed = read_functions.mean_imputation(train_data_transformed, miss_mask_aux[:n_batches*args.batch_size,:], \n",
    "                                                              types_dict)\n",
    "            \n",
    "            #Create global dictionary of the distribution parameters\n",
    "            p_params_complete = read_functions.p_distribution_params_concatenation(p_params_list, types_dict, args.dim_latent_z, \n",
    "                                                                                   args.dim_latent_s)\n",
    "            q_params_complete = read_functions.q_distribution_params_concatenation(q_params_list,  args.dim_latent_z, args.dim_latent_s)\n",
    "            \n",
    "            #Compute mean and mode of our loglik models\n",
    "            loglik_mean, loglik_mode = read_functions.statistics(p_params_complete['x'],types_dict)\n",
    "                \n",
    "            #Try this for the errors\n",
    "            error_train_mean, error_test_mean = read_functions.error_computation(train_data_transformed, loglik_mean, \n",
    "                                                                                 types_dict, miss_mask_aux[:n_batches*args.batch_size,:])\n",
    "            error_train_mode, error_test_mode = read_functions.error_computation(train_data_transformed, loglik_mode, \n",
    "                                                                                 types_dict, miss_mask_aux[:n_batches*args.batch_size,:])\n",
    "            error_train_samples, error_test_samples = read_functions.error_computation(train_data_transformed, est_data_transformed, \n",
    "                                                                                       types_dict, \n",
    "                                                                                       miss_mask_aux[:n_batches*args.batch_size,:])\n",
    "            error_train_imputed, error_test_imputed = read_functions.error_computation(train_data_transformed, est_data_imputed, \n",
    "                                                                                       types_dict, \n",
    "                                                                                       miss_mask_aux[:n_batches*args.batch_size,:])\n",
    "                \n",
    "            #Compute test-loglik from log_p_x_missing\n",
    "            log_p_x_total = np.transpose(np.concatenate(log_p_x_total,1))\n",
    "            log_p_x_missing_total = np.transpose(np.concatenate(log_p_x_missing_total,1))\n",
    "            if args.true_miss_file:\n",
    "                log_p_x_missing_total = np.multiply(log_p_x_missing_total,true_miss_mask_aux[:n_batches*args.batch_size,:])\n",
    "            avg_test_loglik = np.sum(log_p_x_missing_total)/np.sum(1.0-miss_mask_aux)\n",
    "\n",
    "            # Display logs per epoch step\n",
    "            if epoch % args.display == 0:\n",
    "                print_loss(epoch, start_time, avg_loss/n_batches, avg_test_loglik, avg_KL_s/n_batches, avg_KL_z/n_batches)\n",
    "                print(\"\")\n",
    "                \n",
    "            #Compute train and test loglik per variables\n",
    "            loglik_per_variable = np.sum(log_p_x_total,0)/np.sum(miss_mask_aux,0)\n",
    "            loglik_per_variable_missing = np.sum(log_p_x_missing_total,0)/np.sum(1.0-miss_mask_aux,0)\n",
    "            \n",
    "            #Store evolution of all the terms in the ELBO\n",
    "            loglik_epoch.append(loglik_per_variable)\n",
    "            testloglik_epoch.append(loglik_per_variable_missing)\n",
    "            KL_s_epoch.append(avg_KL_s/n_batches)\n",
    "            KL_z_epoch.append(avg_KL_z/n_batches)\n",
    "            \n",
    "            \n",
    "            if epoch % args.save == 0:\n",
    "                print('Saving Variables ...')  \n",
    "                save_path = saver.save(session, network_file_name)    \n",
    "            \n",
    "        print('Training Finished ...')\n",
    "        \n",
    "        \n",
    "    #Test phase\n",
    "    else:\n",
    "        \n",
    "        start_time = time.time()\n",
    "        # Testing cycle\n",
    "        \n",
    "        f_toy2, ax_toy2 = plt.subplots(4,4,figsize=(8, 8))\n",
    "        loglik_epoch = []\n",
    "        testloglik_epoch = []\n",
    "        for epoch in range(args.epochs):\n",
    "            avg_loss = 0.\n",
    "            avg_KL_s = 0.\n",
    "            avg_KL_y = 0.\n",
    "            avg_KL_z = 0.\n",
    "            samples_list = []\n",
    "            p_params_list = []\n",
    "            q_params_list = []\n",
    "            log_p_x_total = []\n",
    "            log_p_x_missing_total = []\n",
    "            \n",
    "            # Constant Gumbel-Softmax parameter (where we have finished the annealing)\n",
    "            tau = 1e-3\n",
    "            \n",
    "            for i in range(n_batches):      \n",
    "                \n",
    "                #Create train minibatch\n",
    "                data_list, miss_list = read_functions.next_batch(train_data, types_dict, miss_mask, args.batch_size, \n",
    "                                                                 index_batch=i) # miss_percentage=args.miss_percentage_train)\n",
    "\n",
    "                #Delete not known data\n",
    "                data_list_observed = [data_list[i]*np.reshape(miss_list[:,i],[args.batch_size,1]) for i in range(len(data_list))]\n",
    "                \n",
    "                #Create feed dictionary\n",
    "                feedDict = {i: d for i, d in zip(tf_nodes['ground_batch'], data_list)}\n",
    "                feedDict.update({i: d for i, d in zip(tf_nodes['ground_batch_observed'], data_list_observed)})\n",
    "                feedDict[tf_nodes['miss_list']] = miss_list\n",
    "                feedDict[tf_nodes['tau_GS']] = tau\n",
    "                \n",
    "                #Get samples from the model\n",
    "#                 KL_s,loss,samples,dec_data,log_p_x,log_p_x_missing,loss_total,KL_z,p_params,q_params = session.run([tf_nodes['KL_s'], \n",
    "                KL_s,loss,samples,log_p_x,log_p_x_missing,loss_total,KL_z,p_params,q_params = session.run([tf_nodes['KL_s'], \n",
    "                                                                                                           tf_nodes['loss_re'],\n",
    "                                                                                                           tf_nodes['samples'],\n",
    "#                                                                                                          tf_nodes['dec_data'],\n",
    "                                                                                                           tf_nodes['log_p_x'],\n",
    "                                                                                                           tf_nodes['log_p_x_missing'],\n",
    "                                                                                                           tf_nodes['loss'],\n",
    "                                                                                                           tf_nodes['KL_z'],\n",
    "                                                                                                           tf_nodes['p_params'],\n",
    "                                                                                                           tf_nodes['q_params']],\n",
    "                                                                                                          feed_dict=feedDict)\n",
    "                \n",
    "                #Get samples from the generator function (computing the mode of all distributions)\n",
    "                samples_test,log_p_x_test,log_p_x_missing_test,test_params  = session.run([tf_nodes['samples_test'],\n",
    "                                                                                           tf_nodes['log_p_x_test'],\n",
    "                                                                                           tf_nodes['log_p_x_missing_test'],\n",
    "                                                                                           tf_nodes['test_params']],\n",
    "                                                                                          feed_dict=feedDict)\n",
    "                \n",
    "                \n",
    "                samples_list.append(samples)\n",
    "                p_params_list.append(test_params)\n",
    "                q_params_list.append(q_params)\n",
    "                log_p_x_total.append(log_p_x)\n",
    "                log_p_x_missing_total.append(log_p_x_missing)\n",
    "                \n",
    "                # Compute average loss\n",
    "                avg_loss += np.mean(loss)\n",
    "                avg_KL_s += np.mean(KL_s)\n",
    "                avg_KL_z += np.mean(KL_z)\n",
    "                \n",
    "            #Separate the samples from the batch list\n",
    "#             s_aux, z_aux, y_total, est_data = read_functions.samples_concatenation(samples_list, args.dim_latent_z, args.dim_latent_s)\n",
    "            s_aux, z_aux, y_total, est_data = read_functions.samples_concatenation(samples_list)\n",
    "\n",
    "            \n",
    "            #Transform discrete variables to original values\n",
    "            train_data_transformed = read_functions.discrete_variables_transformation(train_data, types_dict)\n",
    "            est_data_transformed = read_functions.discrete_variables_transformation(est_data, types_dict)\n",
    "            est_data_imputed = read_functions.mean_imputation(train_data_transformed, miss_mask, types_dict)\n",
    "            \n",
    "            #Create global dictionary of the distribution parameters\n",
    "            p_params_complete = read_functions.p_distribution_params_concatenation(p_params_list, types_dict, args.dim_latent_z, \n",
    "                                                                                   args.dim_latent_s)\n",
    "            q_params_complete = read_functions.q_distribution_params_concatenation(q_params_list, args.dim_latent_z, args.dim_latent_s)\n",
    "            \n",
    "            #Compute mean and mode of our loglik models\n",
    "            loglik_mean, loglik_mode = read_functions.statistics(p_params_complete['x'],types_dict)\n",
    "                \n",
    "            #Try this for the errors\n",
    "            error_train_mean, error_test_mean = read_functions.error_computation(train_data_transformed, loglik_mean, types_dict, miss_mask)\n",
    "            error_train_mode, error_test_mode = read_functions.error_computation(train_data_transformed, loglik_mode, types_dict, miss_mask)\n",
    "            error_train_samples, error_test_samples = read_functions.error_computation(train_data_transformed, est_data_transformed, \n",
    "                                                                                       types_dict, miss_mask)\n",
    "            error_train_imputed, error_test_imputed = read_functions.error_computation(train_data_transformed, est_data_imputed,\n",
    "                                                                                       types_dict, miss_mask)\n",
    "#            error_train_mean, error_test_mean_den = read_functions.error_computation_mean_den(train_data_transformed, loglik_mean, types_dict, miss_mask)\n",
    "                \n",
    "#            Compute test-loglik from log_p_x_missing\n",
    "            log_p_x_missing_total = np.transpose(np.concatenate(log_p_x_missing_total,1))\n",
    "            if args.true_miss_file:\n",
    "                log_p_x_missing_total = np.multiply(log_p_x_missing_total,true_miss_mask)\n",
    "            avg_test_loglik = np.sum(log_p_x_missing_total)/np.sum(1.0-miss_mask)\n",
    "\n",
    "            # Display logs per epoch step\n",
    "            if epoch % args.display == 0:\n",
    "                print_loss(epoch, start_time, avg_loss/n_batches, avg_test_loglik, avg_KL_s/n_batches, avg_KL_z/n_batches)\n",
    "                print(\"\")\n",
    "                \n",
    "            #Plot evolution of test loglik\n",
    "            loglik_per_variable = np.sum(np.concatenate(log_p_x_total,1),1)/np.sum(miss_mask,0)\n",
    "            loglik_per_variable_missing = np.sum(log_p_x_missing_total,0)/np.sum(1.0-miss_mask,0)\n",
    "            loglik_epoch.append(loglik_per_variable)\n",
    "            testloglik_epoch.append(loglik_per_variable_missing)\n",
    " \n"
   ]
  },
  {
   "cell_type": "code",
   "execution_count": 25,
   "metadata": {},
   "outputs": [
    {
     "data": {
      "text/plain": [
       "(7645, 11)"
      ]
     },
     "execution_count": 25,
     "metadata": {},
     "output_type": "execute_result"
    }
   ],
   "source": [
    "train_arr = np.array(df_train_data)\n",
    "train_arr.shape"
   ]
  },
  {
   "cell_type": "code",
   "execution_count": 26,
   "metadata": {},
   "outputs": [
    {
     "data": {
      "text/plain": [
       "(7600, 11)"
      ]
     },
     "execution_count": 26,
     "metadata": {},
     "output_type": "execute_result"
    }
   ],
   "source": [
    "est_data_transformed.shape"
   ]
  },
  {
   "cell_type": "code",
   "execution_count": 27,
   "metadata": {},
   "outputs": [
    {
     "data": {
      "image/png": "[encoded data removed]",
      "text/plain": [
       "<Figure size 432x288 with 1 Axes>"
      ]
     },
     "metadata": {
      "needs_background": "light"
     },
     "output_type": "display_data"
    },
    {
     "data": {
      "image/png": "[encoded data removed]",
      "text/plain": [
       "<Figure size 432x288 with 1 Axes>"
      ]
     },
     "metadata": {
      "needs_background": "light"
     },
     "output_type": "display_data"
    }
   ],
   "source": [
    "# 'sex', cat, 2\n",
    "plt.hist(train_arr[:,0], bins=10)\n",
    "plt.show()\n",
    "plt.hist(est_data_transformed[:,0], bins=10)\n",
    "plt.show()"
   ]
  },
  {
   "cell_type": "code",
   "execution_count": 28,
   "metadata": {},
   "outputs": [
    {
     "data": {
      "image/png": "[encoded data removed]",
      "text/plain": [
       "<Figure size 432x288 with 1 Axes>"
      ]
     },
     "metadata": {
      "needs_background": "light"
     },
     "output_type": "display_data"
    },
    {
     "data": {
      "image/png": "[encoded data removed]",
      "text/plain": [
       "<Figure size 432x288 with 1 Axes>"
      ]
     },
     "metadata": {
      "needs_background": "light"
     },
     "output_type": "display_data"
    }
   ],
   "source": [
    "# 'age', pos,\n",
    "plt.hist(train_arr[:,1], bins=10)\n",
    "plt.show()\n",
    "plt.hist(est_data_transformed[:,1], bins=10)\n",
    "plt.show()"
   ]
  },
  {
   "cell_type": "code",
   "execution_count": 29,
   "metadata": {},
   "outputs": [
    {
     "data": {
      "image/png": "[encoded data removed]",
      "text/plain": [
       "<Figure size 432x288 with 1 Axes>"
      ]
     },
     "metadata": {
      "needs_background": "light"
     },
     "output_type": "display_data"
    },
    {
     "data": {
      "image/png": "[encoded data removed]",
      "text/plain": [
       "<Figure size 432x288 with 1 Axes>"
      ]
     },
     "metadata": {
      "needs_background": "light"
     },
     "output_type": "display_data"
    }
   ],
   "source": [
    "#''jcs', ordinal, 10\n",
    "plt.hist(train_arr[:,2], bins=10)\n",
    "plt.show()\n",
    "plt.hist(est_data_transformed[:,2], bins=10)\n",
    "plt.show()"
   ]
  },
  {
   "cell_type": "code",
   "execution_count": 30,
   "metadata": {},
   "outputs": [
    {
     "data": {
      "image/png": "[encoded data removed]",
      "text/plain": [
       "<Figure size 432x288 with 1 Axes>"
      ]
     },
     "metadata": {
      "needs_background": "light"
     },
     "output_type": "display_data"
    },
    {
     "data": {
      "image/png": "[encoded data removed]",
      "text/plain": [
       "<Figure size 432x288 with 1 Axes>"
      ]
     },
     "metadata": {
      "needs_background": "light"
     },
     "output_type": "display_data"
    }
   ],
   "source": [
    "# 'Year', cat, 6\n",
    "plt.hist(train_arr[:,3], bins=10)\n",
    "plt.show()\n",
    "plt.hist(est_data_transformed[:,3], bins=10)\n",
    "plt.show()"
   ]
  },
  {
   "cell_type": "code",
   "execution_count": 31,
   "metadata": {},
   "outputs": [
    {
     "data": {
      "image/png": "[encoded data removed]",
      "text/plain": [
       "<Figure size 432x288 with 1 Axes>"
      ]
     },
     "metadata": {
      "needs_background": "light"
     },
     "output_type": "display_data"
    },
    {
     "data": {
      "image/png": "[encoded data removed]",
      "text/plain": [
       "<Figure size 432x288 with 1 Axes>"
      ]
     },
     "metadata": {
      "needs_background": "light"
     },
     "output_type": "display_data"
    }
   ],
   "source": [
    "# 'Fibrinogen.day1_2', cat, 2\n",
    "plt.hist(train_arr[:,4], bins=10)\n",
    "plt.show()\n",
    "plt.hist(est_data_transformed[:,4], bins=10)\n",
    "plt.show()"
   ]
  },
  {
   "cell_type": "code",
   "execution_count": 32,
   "metadata": {},
   "outputs": [
    {
     "data": {
      "image/png": "[encoded data removed]",
      "text/plain": [
       "<Figure size 432x288 with 1 Axes>"
      ]
     },
     "metadata": {
      "needs_background": "light"
     },
     "output_type": "display_data"
    },
    {
     "data": {
      "image/png": "[encoded data removed]",
      "text/plain": [
       "<Figure size 432x288 with 1 Axes>"
      ]
     },
     "metadata": {
      "needs_background": "light"
     },
     "output_type": "display_data"
    }
   ],
   "source": [
    "# 'X7thCoag.day1_2', cat, 2\n",
    "plt.hist(train_arr[:,5], bins=10)\n",
    "plt.show()\n",
    "plt.hist(est_data_transformed[:,5], bins=10)\n",
    "plt.show()"
   ]
  },
  {
   "cell_type": "code",
   "execution_count": 33,
   "metadata": {},
   "outputs": [
    {
     "data": {
      "image/png": "[encoded data removed]",
      "text/plain": [
       "<Figure size 432x288 with 1 Axes>"
      ]
     },
     "metadata": {
      "needs_background": "light"
     },
     "output_type": "display_data"
    },
    {
     "data": {
      "image/png": "[encoded data removed]",
      "text/plain": [
       "<Figure size 432x288 with 1 Axes>"
      ]
     },
     "metadata": {
      "needs_background": "light"
     },
     "output_type": "display_data"
    }
   ],
   "source": [
    "# 'FFP.dose.day1_2', pos,\n",
    "plt.hist(train_arr[:,6], bins=10)\n",
    "plt.show()\n",
    "plt.hist(est_data_transformed[:,6], bins=10)\n",
    "plt.show()"
   ]
  },
  {
   "cell_type": "code",
   "execution_count": 34,
   "metadata": {},
   "outputs": [
    {
     "data": {
      "image/png": "[encoded data removed]",
      "text/plain": [
       "<Figure size 432x288 with 1 Axes>"
      ]
     },
     "metadata": {
      "needs_background": "light"
     },
     "output_type": "display_data"
    },
    {
     "data": {
      "image/png": "[encoded data removed]",
      "text/plain": [
       "<Figure size 432x288 with 1 Axes>"
      ]
     },
     "metadata": {
      "needs_background": "light"
     },
     "output_type": "display_data"
    }
   ],
   "source": [
    "# 'Plt.dose.day1_2', pos,\n",
    "plt.hist(train_arr[:,7], bins=10)\n",
    "plt.show()\n",
    "plt.hist(est_data_transformed[:,7], bins=10)\n",
    "plt.show()"
   ]
  },
  {
   "cell_type": "code",
   "execution_count": 35,
   "metadata": {},
   "outputs": [
    {
     "data": {
      "image/png": "[encoded data removed]",
      "text/plain": [
       "<Figure size 432x288 with 1 Axes>"
      ]
     },
     "metadata": {
      "needs_background": "light"
     },
     "output_type": "display_data"
    },
    {
     "data": {
      "image/png": "[encoded data removed]",
      "text/plain": [
       "<Figure size 432x288 with 1 Axes>"
      ]
     },
     "metadata": {
      "needs_background": "light"
     },
     "output_type": "display_data"
    }
   ],
   "source": [
    "# 'Trauma_Severity_Score', pos\n",
    "plt.hist(train_arr[:,8], bins=10)\n",
    "plt.show()\n",
    "plt.hist(est_data_transformed[:,8], bins=10)\n",
    "plt.show()"
   ]
  },
  {
   "cell_type": "code",
   "execution_count": 36,
   "metadata": {},
   "outputs": [
    {
     "data": {
      "image/png": "[encoded data removed]",
      "text/plain": [
       "<Figure size 432x288 with 1 Axes>"
      ]
     },
     "metadata": {
      "needs_background": "light"
     },
     "output_type": "display_data"
    },
    {
     "data": {
      "image/png": "[encoded data removed]",
      "text/plain": [
       "<Figure size 432x288 with 1 Axes>"
      ]
     },
     "metadata": {
      "needs_background": "light"
     },
     "output_type": "display_data"
    }
   ],
   "source": [
    "# 'Head_injury', cat, 2\n",
    "plt.hist(train_arr[:,9], bins=10)\n",
    "plt.show()\n",
    "plt.hist(est_data_transformed[:,9], bins=10)\n",
    "plt.show()"
   ]
  },
  {
   "cell_type": "code",
   "execution_count": 37,
   "metadata": {},
   "outputs": [
    {
     "data": {
      "image/png": "[encoded data removed]",
      "text/plain": [
       "<Figure size 432x288 with 1 Axes>"
      ]
     },
     "metadata": {
      "needs_background": "light"
     },
     "output_type": "display_data"
    },
    {
     "data": {
      "image/png": "[encoded data removed]",
      "text/plain": [
       "<Figure size 432x288 with 1 Axes>"
      ]
     },
     "metadata": {
      "needs_background": "light"
     },
     "output_type": "display_data"
    }
   ],
   "source": [
    "# 'RCC.dose.day1_2', pos,\n",
    "plt.hist(train_arr[:,10], bins=10)\n",
    "plt.show()\n",
    "plt.hist(est_data_transformed[:,10], bins=10)\n",
    "plt.show()"
   ]
  },
  {
   "cell_type": "code",
   "execution_count": 38,
   "metadata": {},
   "outputs": [],
   "source": [
    "import torch\n",
    "import torch.nn as nn\n",
    "import torch.nn.functional as F\n",
    "import torchvision.transforms as transforms\n",
    "from torch.autograd import Variable\n",
    "from torch import optim\n",
    "import pyro\n",
    "import pyro.distributions as dist\n",
    "\n",
    "from tensorboardX import SummaryWriter\n",
    "\n",
    "from tqdm import tqdm\n",
    "import time\n",
    "\n",
    "import random\n",
    "from numpy.random import *\n",
    "import matplotlib.pyplot as plt \n",
    "#np.random.seed(100)\n",
    "from mpl_toolkits.mplot3d import Axes3D\n",
    "%matplotlib inline\n",
    "\n",
    "import csv\n",
    "\n",
    "from sklearn.utils import shuffle\n",
    "from sklearn.model_selection import train_test_split\n",
    "\n",
    "seed = 1234\n",
    "rng = np.random.RandomState(seed)\n",
    "torch.manual_seed(seed)\n",
    "\n",
    "if torch.cuda.is_available():\n",
    "    device='cuda'\n",
    "else:\n",
    "    device='cpu'"
   ]
  },
  {
   "cell_type": "code",
   "execution_count": 39,
   "metadata": {},
   "outputs": [],
   "source": [
    "df_treat_outcome = pd.read_csv('/home/ubuntu/ai-study/DeepLearning基礎講座/Spring Seminar & Project/Team15/sample_dataset/transfusion_data_0321.csv', \n",
    "                               usecols=['TXA.day1_2', 'dth24h', 'Outcome.Survive', 'complication.thrombosis'])"
   ]
  },
  {
   "cell_type": "code",
   "execution_count": 40,
   "metadata": {},
   "outputs": [
    {
     "data": {
      "text/html": [
       "<div>\n",
       "<style scoped>\n",
       "    .dataframe tbody tr th:only-of-type {\n",
       "        vertical-align: middle;\n",
       "    }\n",
       "\n",
       "    .dataframe tbody tr th {\n",
       "        vertical-align: top;\n",
       "    }\n",
       "\n",
       "    .dataframe thead th {\n",
       "        text-align: right;\n",
       "    }\n",
       "</style>\n",
       "<table border=\"1\" class=\"dataframe\">\n",
       "  <thead>\n",
       "    <tr style=\"text-align: right;\">\n",
       "      <th></th>\n",
       "      <th>TXA.day1_2</th>\n",
       "      <th>dth24h</th>\n",
       "      <th>Outcome.Survive</th>\n",
       "      <th>complication.thrombosis</th>\n",
       "    </tr>\n",
       "  </thead>\n",
       "  <tbody>\n",
       "    <tr>\n",
       "      <th>0</th>\n",
       "      <td>False</td>\n",
       "      <td>0</td>\n",
       "      <td>True</td>\n",
       "      <td>False</td>\n",
       "    </tr>\n",
       "    <tr>\n",
       "      <th>1</th>\n",
       "      <td>False</td>\n",
       "      <td>0</td>\n",
       "      <td>True</td>\n",
       "      <td>False</td>\n",
       "    </tr>\n",
       "    <tr>\n",
       "      <th>2</th>\n",
       "      <td>True</td>\n",
       "      <td>0</td>\n",
       "      <td>True</td>\n",
       "      <td>False</td>\n",
       "    </tr>\n",
       "    <tr>\n",
       "      <th>3</th>\n",
       "      <td>False</td>\n",
       "      <td>0</td>\n",
       "      <td>True</td>\n",
       "      <td>False</td>\n",
       "    </tr>\n",
       "    <tr>\n",
       "      <th>4</th>\n",
       "      <td>False</td>\n",
       "      <td>0</td>\n",
       "      <td>True</td>\n",
       "      <td>False</td>\n",
       "    </tr>\n",
       "  </tbody>\n",
       "</table>\n",
       "</div>"
      ],
      "text/plain": [
       "   TXA.day1_2  dth24h  Outcome.Survive  complication.thrombosis\n",
       "0       False       0             True                    False\n",
       "1       False       0             True                    False\n",
       "2        True       0             True                    False\n",
       "3       False       0             True                    False\n",
       "4       False       0             True                    False"
      ]
     },
     "execution_count": 40,
     "metadata": {},
     "output_type": "execute_result"
    }
   ],
   "source": [
    "df_treat_outcome.head()"
   ]
  },
  {
   "cell_type": "code",
   "execution_count": 41,
   "metadata": {},
   "outputs": [
    {
     "data": {
      "text/plain": [
       "array([False,  True])"
      ]
     },
     "execution_count": 41,
     "metadata": {},
     "output_type": "execute_result"
    }
   ],
   "source": [
    "df_treat_outcome['TXA.day1_2'].unique()"
   ]
  },
  {
   "cell_type": "code",
   "execution_count": 42,
   "metadata": {},
   "outputs": [],
   "source": [
    "df_treat_outcome = df_treat_outcome.replace({True:1, False:0})"
   ]
  },
  {
   "cell_type": "code",
   "execution_count": 43,
   "metadata": {},
   "outputs": [
    {
     "data": {
      "text/html": [
       "<div>\n",
       "<style scoped>\n",
       "    .dataframe tbody tr th:only-of-type {\n",
       "        vertical-align: middle;\n",
       "    }\n",
       "\n",
       "    .dataframe tbody tr th {\n",
       "        vertical-align: top;\n",
       "    }\n",
       "\n",
       "    .dataframe thead th {\n",
       "        text-align: right;\n",
       "    }\n",
       "</style>\n",
       "<table border=\"1\" class=\"dataframe\">\n",
       "  <thead>\n",
       "    <tr style=\"text-align: right;\">\n",
       "      <th></th>\n",
       "      <th>TXA.day1_2</th>\n",
       "      <th>dth24h</th>\n",
       "      <th>Outcome.Survive</th>\n",
       "      <th>complication.thrombosis</th>\n",
       "    </tr>\n",
       "  </thead>\n",
       "  <tbody>\n",
       "    <tr>\n",
       "      <th>0</th>\n",
       "      <td>0</td>\n",
       "      <td>0</td>\n",
       "      <td>1</td>\n",
       "      <td>0</td>\n",
       "    </tr>\n",
       "    <tr>\n",
       "      <th>1</th>\n",
       "      <td>0</td>\n",
       "      <td>0</td>\n",
       "      <td>1</td>\n",
       "      <td>0</td>\n",
       "    </tr>\n",
       "    <tr>\n",
       "      <th>2</th>\n",
       "      <td>1</td>\n",
       "      <td>0</td>\n",
       "      <td>1</td>\n",
       "      <td>0</td>\n",
       "    </tr>\n",
       "    <tr>\n",
       "      <th>3</th>\n",
       "      <td>0</td>\n",
       "      <td>0</td>\n",
       "      <td>1</td>\n",
       "      <td>0</td>\n",
       "    </tr>\n",
       "    <tr>\n",
       "      <th>4</th>\n",
       "      <td>0</td>\n",
       "      <td>0</td>\n",
       "      <td>1</td>\n",
       "      <td>0</td>\n",
       "    </tr>\n",
       "  </tbody>\n",
       "</table>\n",
       "</div>"
      ],
      "text/plain": [
       "   TXA.day1_2  dth24h  Outcome.Survive  complication.thrombosis\n",
       "0           0       0                1                        0\n",
       "1           0       0                1                        0\n",
       "2           1       0                1                        0\n",
       "3           0       0                1                        0\n",
       "4           0       0                1                        0"
      ]
     },
     "execution_count": 43,
     "metadata": {},
     "output_type": "execute_result"
    }
   ],
   "source": [
    "df_treat_outcome.head()"
   ]
  },
  {
   "cell_type": "code",
   "execution_count": 44,
   "metadata": {},
   "outputs": [],
   "source": [
    "rows = z_total.shape[0]\n",
    "treat = np.array(df_treat_outcome)[:rows,0]\n",
    "outcome = np.array(df_treat_outcome)[:rows,1:]"
   ]
  },
  {
   "cell_type": "code",
   "execution_count": 45,
   "metadata": {},
   "outputs": [
    {
     "data": {
      "text/plain": [
       "(7600,)"
      ]
     },
     "execution_count": 45,
     "metadata": {},
     "output_type": "execute_result"
    }
   ],
   "source": [
    "treat.shape"
   ]
  },
  {
   "cell_type": "code",
   "execution_count": 46,
   "metadata": {},
   "outputs": [
    {
     "data": {
      "text/plain": [
       "(7600, 3)"
      ]
     },
     "execution_count": 46,
     "metadata": {},
     "output_type": "execute_result"
    }
   ],
   "source": [
    "outcome.shape"
   ]
  },
  {
   "cell_type": "code",
   "execution_count": 47,
   "metadata": {},
   "outputs": [],
   "source": [
    "#input_dim = len(data[0])-2\n",
    "hidden_dim = 100\n",
    "#output_dim = input_dim\n",
    "cond_dim = 2\n",
    "estimate_dim =3"
   ]
  },
  {
   "cell_type": "code",
   "execution_count": 48,
   "metadata": {},
   "outputs": [],
   "source": [
    "batch_size = 100\n",
    "# train_loader = torch.utils.data.DataLoader(dataset=train, batch_size=batch_size, shuffle=False)\n",
    "# test_loader = torch.utils.data.DataLoader(dataset=test, batch_size=batch_size, shuffle=False)"
   ]
  },
  {
   "cell_type": "code",
   "execution_count": 49,
   "metadata": {},
   "outputs": [],
   "source": [
    "def input_shaper(x,input_dim):\n",
    "    return x.view(-1, input_dim).float()\n",
    "    \n",
    "def tag_shaper(tag):\n",
    "    return torch.eye(2)[tag.long()].float()"
   ]
  },
  {
   "cell_type": "code",
   "execution_count": 50,
   "metadata": {},
   "outputs": [],
   "source": [
    "class Estimator(nn.Module):\n",
    "    def __init__(self, cond_dim, hidden_dim, latent_dim, estimate_dim):\n",
    "        super(Estimator, self).__init__()\n",
    "        \n",
    "        self.fc1 = nn.Linear(latent_dim+cond_dim, hidden_dim)\n",
    "        self.fc2 = nn.Linear(hidden_dim, hidden_dim)\n",
    "        self.fc3 = nn.Linear(hidden_dim, estimate_dim)\n",
    "        \n",
    "    def forward(self,z,y):\n",
    "        h = F.relu(self.fc1(torch.cat([z,y],1)))\n",
    "        h = F.relu(self.fc2(h))\n",
    "        h = F.relu(self.fc3(h))\n",
    "        return h"
   ]
  },
  {
   "cell_type": "code",
   "execution_count": 51,
   "metadata": {},
   "outputs": [],
   "source": [
    "split_point = 7000\n",
    "treat_train = treat[:split_point]\n",
    "treat_test = treat[split_point:]\n",
    "outcome_train = outcome[:split_point]\n",
    "outcome_test = outcome[split_point:]\n",
    "z_total_train = z_total[:split_point]\n",
    "z_total_test = z_total[split_point:]\n",
    "s_total_train = s_total[:split_point]\n",
    "s_total_test = s_total[split_point:]"
   ]
  },
  {
   "cell_type": "code",
   "execution_count": 52,
   "metadata": {},
   "outputs": [
    {
     "name": "stdout",
     "output_type": "stream",
     "text": [
      "(7000, 20)\n",
      "(600, 20)\n"
     ]
    }
   ],
   "source": [
    "sz_total_train = np.concatenate([z_total_train, s_total_train], 1)\n",
    "sz_total_test = np.concatenate([z_total_test, s_total_test], 1)\n",
    "print(sz_total_train.shape)\n",
    "print(sz_total_test.shape)"
   ]
  },
  {
   "cell_type": "code",
   "execution_count": 53,
   "metadata": {},
   "outputs": [],
   "source": [
    "latent_dim = args.dim_latent_s + args.dim_latent_z\n",
    "\n",
    "criterion = nn.MSELoss()\n",
    "model2 = Estimator(cond_dim, hidden_dim, latent_dim, estimate_dim)\n",
    "model2.to(device)\n",
    "optimizer = torch.optim.SGD(model2.parameters(),lr=1e-3)"
   ]
  },
  {
   "cell_type": "code",
   "execution_count": 54,
   "metadata": {},
   "outputs": [
    {
     "name": "stdout",
     "output_type": "stream",
     "text": [
      "Epochs:1, train_Loss:0.30750977993011475, test_Loss:0.30\n",
      "Epochs:2, train_Loss:0.3024912476539612, test_Loss:0.29\n",
      "Epochs:3, train_Loss:0.2926894724369049, test_Loss:0.28\n",
      "Epochs:4, train_Loss:0.26643839478492737, test_Loss:0.26\n",
      "Epochs:5, train_Loss:0.21023918688297272, test_Loss:0.20\n",
      "Epochs:6, train_Loss:0.16597189009189606, test_Loss:0.16\n",
      "Epochs:7, train_Loss:0.13935191929340363, test_Loss:0.13\n",
      "Epochs:8, train_Loss:0.12402529269456863, test_Loss:0.11\n",
      "Epochs:9, train_Loss:0.11544954776763916, test_Loss:0.10\n",
      "Epochs:10, train_Loss:0.11067379266023636, test_Loss:0.10\n",
      "Epochs:11, train_Loss:0.10793916881084442, test_Loss:0.10\n",
      "Epochs:12, train_Loss:0.10626637935638428, test_Loss:0.09\n",
      "Epochs:13, train_Loss:0.10511939972639084, test_Loss:0.09\n",
      "Epochs:14, train_Loss:0.10425184667110443, test_Loss:0.09\n",
      "Epochs:15, train_Loss:0.10354115813970566, test_Loss:0.09\n",
      "Epochs:16, train_Loss:0.10292506217956543, test_Loss:0.09\n",
      "Epochs:17, train_Loss:0.10237976163625717, test_Loss:0.09\n",
      "Epochs:18, train_Loss:0.10188958793878555, test_Loss:0.09\n",
      "Epochs:19, train_Loss:0.1014414057135582, test_Loss:0.09\n",
      "Epochs:20, train_Loss:0.10102478414773941, test_Loss:0.09\n",
      "Epochs:21, train_Loss:0.10063565522432327, test_Loss:0.09\n",
      "Epochs:22, train_Loss:0.10026588290929794, test_Loss:0.09\n",
      "Epochs:23, train_Loss:0.09991457313299179, test_Loss:0.09\n",
      "Epochs:24, train_Loss:0.0995774120092392, test_Loss:0.09\n",
      "Epochs:25, train_Loss:0.09925602376461029, test_Loss:0.09\n",
      "Epochs:26, train_Loss:0.09895151108503342, test_Loss:0.09\n",
      "Epochs:27, train_Loss:0.09866111725568771, test_Loss:0.09\n",
      "Epochs:28, train_Loss:0.09838428348302841, test_Loss:0.09\n",
      "Epochs:29, train_Loss:0.09811975806951523, test_Loss:0.09\n",
      "Epochs:30, train_Loss:0.09786652028560638, test_Loss:0.09\n",
      "Epochs:31, train_Loss:0.09762323647737503, test_Loss:0.09\n",
      "Epochs:32, train_Loss:0.09738998115062714, test_Loss:0.09\n",
      "Epochs:33, train_Loss:0.09716629981994629, test_Loss:0.09\n",
      "Epochs:34, train_Loss:0.09695176780223846, test_Loss:0.09\n",
      "Epochs:35, train_Loss:0.09674542397260666, test_Loss:0.09\n",
      "Epochs:36, train_Loss:0.09654773026704788, test_Loss:0.08\n",
      "Epochs:37, train_Loss:0.09635593742132187, test_Loss:0.08\n",
      "Epochs:38, train_Loss:0.09617137163877487, test_Loss:0.08\n",
      "Epochs:39, train_Loss:0.09599477797746658, test_Loss:0.08\n",
      "Epochs:40, train_Loss:0.09582560509443283, test_Loss:0.08\n",
      "Epochs:41, train_Loss:0.09566203504800797, test_Loss:0.08\n",
      "Epochs:42, train_Loss:0.0955049991607666, test_Loss:0.08\n",
      "Epochs:43, train_Loss:0.09535320848226547, test_Loss:0.08\n",
      "Epochs:44, train_Loss:0.09520766139030457, test_Loss:0.08\n",
      "Epochs:45, train_Loss:0.09506630897521973, test_Loss:0.08\n",
      "Epochs:46, train_Loss:0.09492847323417664, test_Loss:0.08\n",
      "Epochs:47, train_Loss:0.09479404240846634, test_Loss:0.08\n",
      "Epochs:48, train_Loss:0.09466399252414703, test_Loss:0.08\n",
      "Epochs:49, train_Loss:0.09453894942998886, test_Loss:0.08\n",
      "Epochs:50, train_Loss:0.09441915899515152, test_Loss:0.08\n",
      "Epochs:51, train_Loss:0.09430287033319473, test_Loss:0.08\n",
      "Epochs:52, train_Loss:0.0941891223192215, test_Loss:0.08\n",
      "Epochs:53, train_Loss:0.09408016502857208, test_Loss:0.08\n",
      "Epochs:54, train_Loss:0.09397479891777039, test_Loss:0.08\n",
      "Epochs:55, train_Loss:0.09387221187353134, test_Loss:0.08\n",
      "Epochs:56, train_Loss:0.09377188980579376, test_Loss:0.08\n",
      "Epochs:57, train_Loss:0.09367404133081436, test_Loss:0.08\n",
      "Epochs:58, train_Loss:0.09357879310846329, test_Loss:0.08\n",
      "Epochs:59, train_Loss:0.09348586946725845, test_Loss:0.08\n",
      "Epochs:60, train_Loss:0.09339552372694016, test_Loss:0.08\n",
      "Epochs:61, train_Loss:0.09330736845731735, test_Loss:0.08\n",
      "Epochs:62, train_Loss:0.0932200700044632, test_Loss:0.08\n",
      "Epochs:63, train_Loss:0.093134306371212, test_Loss:0.08\n",
      "Epochs:64, train_Loss:0.09305044263601303, test_Loss:0.08\n",
      "Epochs:65, train_Loss:0.09296903014183044, test_Loss:0.08\n",
      "Epochs:66, train_Loss:0.09288954734802246, test_Loss:0.08\n",
      "Epochs:67, train_Loss:0.09281173348426819, test_Loss:0.08\n",
      "Epochs:68, train_Loss:0.09273476898670197, test_Loss:0.08\n",
      "Epochs:69, train_Loss:0.09266010671854019, test_Loss:0.08\n",
      "Epochs:70, train_Loss:0.0925871953368187, test_Loss:0.08\n",
      "Epochs:71, train_Loss:0.09251494705677032, test_Loss:0.08\n",
      "Epochs:72, train_Loss:0.09244406223297119, test_Loss:0.08\n",
      "Epochs:73, train_Loss:0.09237485378980637, test_Loss:0.08\n",
      "Epochs:74, train_Loss:0.09230628609657288, test_Loss:0.08\n",
      "Epochs:75, train_Loss:0.09223976731300354, test_Loss:0.08\n",
      "Epochs:76, train_Loss:0.09217482805252075, test_Loss:0.08\n",
      "Epochs:77, train_Loss:0.09211172163486481, test_Loss:0.08\n",
      "Epochs:78, train_Loss:0.09205002337694168, test_Loss:0.08\n",
      "Epochs:79, train_Loss:0.09198965132236481, test_Loss:0.08\n",
      "Epochs:80, train_Loss:0.0919288918375969, test_Loss:0.08\n",
      "Epochs:81, train_Loss:0.09186959266662598, test_Loss:0.08\n",
      "Epochs:82, train_Loss:0.09181153029203415, test_Loss:0.08\n",
      "Epochs:83, train_Loss:0.09175453335046768, test_Loss:0.08\n",
      "Epochs:84, train_Loss:0.0916987955570221, test_Loss:0.08\n",
      "Epochs:85, train_Loss:0.09164421260356903, test_Loss:0.08\n",
      "Epochs:86, train_Loss:0.09159048646688461, test_Loss:0.08\n",
      "Epochs:87, train_Loss:0.09153763204813004, test_Loss:0.08\n",
      "Epochs:88, train_Loss:0.09148597717285156, test_Loss:0.08\n",
      "Epochs:89, train_Loss:0.09143542498350143, test_Loss:0.08\n",
      "Epochs:90, train_Loss:0.09138637781143188, test_Loss:0.08\n",
      "Epochs:91, train_Loss:0.09133795648813248, test_Loss:0.08\n",
      "Epochs:92, train_Loss:0.09129014611244202, test_Loss:0.08\n",
      "Epochs:93, train_Loss:0.09124288707971573, test_Loss:0.08\n",
      "Epochs:94, train_Loss:0.09119600057601929, test_Loss:0.08\n",
      "Epochs:95, train_Loss:0.09115047007799149, test_Loss:0.08\n",
      "Epochs:96, train_Loss:0.09110594540834427, test_Loss:0.08\n",
      "Epochs:97, train_Loss:0.0910620465874672, test_Loss:0.08\n",
      "Epochs:98, train_Loss:0.09101910144090652, test_Loss:0.08\n",
      "Epochs:99, train_Loss:0.09097621589899063, test_Loss:0.08\n",
      "Epochs:100, train_Loss:0.09093359857797623, test_Loss:0.08\n",
      "Epochs:101, train_Loss:0.09089174121618271, test_Loss:0.08\n",
      "Epochs:102, train_Loss:0.09085036814212799, test_Loss:0.08\n",
      "Epochs:103, train_Loss:0.09080991894006729, test_Loss:0.08\n",
      "Epochs:104, train_Loss:0.09077012538909912, test_Loss:0.08\n",
      "Epochs:105, train_Loss:0.0907311663031578, test_Loss:0.08\n",
      "Epochs:106, train_Loss:0.09069272130727768, test_Loss:0.08\n",
      "Epochs:107, train_Loss:0.09065485745668411, test_Loss:0.08\n",
      "Epochs:108, train_Loss:0.0906175971031189, test_Loss:0.08\n",
      "Epochs:109, train_Loss:0.09058099240064621, test_Loss:0.08\n",
      "Epochs:110, train_Loss:0.09054475277662277, test_Loss:0.08\n",
      "Epochs:111, train_Loss:0.09050948172807693, test_Loss:0.08\n",
      "Epochs:112, train_Loss:0.09047494828701019, test_Loss:0.08\n",
      "Epochs:113, train_Loss:0.0904412567615509, test_Loss:0.08\n",
      "Epochs:114, train_Loss:0.09040787816047668, test_Loss:0.08\n",
      "Epochs:115, train_Loss:0.09037482738494873, test_Loss:0.08\n",
      "Epochs:116, train_Loss:0.09034203737974167, test_Loss:0.08\n",
      "Epochs:117, train_Loss:0.09030935913324356, test_Loss:0.08\n",
      "Epochs:118, train_Loss:0.09027720242738724, test_Loss:0.08\n",
      "Epochs:119, train_Loss:0.09024578332901001, test_Loss:0.08\n",
      "Epochs:120, train_Loss:0.09021522104740143, test_Loss:0.08\n",
      "Epochs:121, train_Loss:0.09018506854772568, test_Loss:0.08\n",
      "Epochs:122, train_Loss:0.09015489369630814, test_Loss:0.08\n",
      "Epochs:123, train_Loss:0.09012477844953537, test_Loss:0.08\n",
      "Epochs:124, train_Loss:0.09009519964456558, test_Loss:0.08\n",
      "Epochs:125, train_Loss:0.0900660827755928, test_Loss:0.08\n",
      "Epochs:126, train_Loss:0.09003739804029465, test_Loss:0.08\n",
      "Epochs:127, train_Loss:0.09000877290964127, test_Loss:0.08\n",
      "Epochs:128, train_Loss:0.08998072147369385, test_Loss:0.08\n",
      "Epochs:129, train_Loss:0.0899529755115509, test_Loss:0.08\n",
      "Epochs:130, train_Loss:0.08992583304643631, test_Loss:0.08\n",
      "Epochs:131, train_Loss:0.08989869803190231, test_Loss:0.08\n",
      "Epochs:132, train_Loss:0.08987174183130264, test_Loss:0.08\n",
      "Epochs:133, train_Loss:0.0898449495434761, test_Loss:0.08\n",
      "Epochs:134, train_Loss:0.08981868624687195, test_Loss:0.08\n",
      "Epochs:135, train_Loss:0.08979251980781555, test_Loss:0.08\n",
      "Epochs:136, train_Loss:0.08976641297340393, test_Loss:0.08\n",
      "Epochs:137, train_Loss:0.089741051197052, test_Loss:0.08\n",
      "Epochs:138, train_Loss:0.0897163450717926, test_Loss:0.08\n",
      "Epochs:139, train_Loss:0.08969194442033768, test_Loss:0.08\n",
      "Epochs:140, train_Loss:0.08966770023107529, test_Loss:0.08\n",
      "Epochs:141, train_Loss:0.08964376151561737, test_Loss:0.08\n",
      "Epochs:142, train_Loss:0.08962005376815796, test_Loss:0.08\n",
      "Epochs:143, train_Loss:0.0895967110991478, test_Loss:0.08\n"
     ]
    },
    {
     "name": "stdout",
     "output_type": "stream",
     "text": [
      "Epochs:144, train_Loss:0.08957355469465256, test_Loss:0.08\n",
      "Epochs:145, train_Loss:0.08955033123493195, test_Loss:0.08\n",
      "Epochs:146, train_Loss:0.089527428150177, test_Loss:0.08\n",
      "Epochs:147, train_Loss:0.08950476348400116, test_Loss:0.08\n",
      "Epochs:148, train_Loss:0.08948233723640442, test_Loss:0.08\n",
      "Epochs:149, train_Loss:0.0894598662853241, test_Loss:0.08\n",
      "Epochs:150, train_Loss:0.0894375815987587, test_Loss:0.08\n",
      "Epochs:151, train_Loss:0.08941522985696793, test_Loss:0.08\n",
      "Epochs:152, train_Loss:0.0893932580947876, test_Loss:0.08\n",
      "Epochs:153, train_Loss:0.08937150985002518, test_Loss:0.08\n",
      "Epochs:154, train_Loss:0.08935071527957916, test_Loss:0.08\n",
      "Epochs:155, train_Loss:0.08933020383119583, test_Loss:0.08\n",
      "Epochs:156, train_Loss:0.08930988609790802, test_Loss:0.08\n",
      "Epochs:157, train_Loss:0.08929009735584259, test_Loss:0.08\n",
      "Epochs:158, train_Loss:0.08927054703235626, test_Loss:0.08\n",
      "Epochs:159, train_Loss:0.08925110101699829, test_Loss:0.08\n",
      "Epochs:160, train_Loss:0.08923187851905823, test_Loss:0.08\n",
      "Epochs:161, train_Loss:0.08921291679143906, test_Loss:0.08\n",
      "Epochs:162, train_Loss:0.08919433504343033, test_Loss:0.08\n",
      "Epochs:163, train_Loss:0.08917606621980667, test_Loss:0.08\n",
      "Epochs:164, train_Loss:0.0891580805182457, test_Loss:0.08\n",
      "Epochs:165, train_Loss:0.08914017677307129, test_Loss:0.08\n",
      "Epochs:166, train_Loss:0.0891227126121521, test_Loss:0.08\n",
      "Epochs:167, train_Loss:0.08910574018955231, test_Loss:0.08\n",
      "Epochs:168, train_Loss:0.08908914774656296, test_Loss:0.08\n",
      "Epochs:169, train_Loss:0.08907297998666763, test_Loss:0.08\n",
      "Epochs:170, train_Loss:0.08905713260173798, test_Loss:0.08\n",
      "Epochs:171, train_Loss:0.08904207497835159, test_Loss:0.08\n",
      "Epochs:172, train_Loss:0.08902749419212341, test_Loss:0.08\n",
      "Epochs:173, train_Loss:0.08901311457157135, test_Loss:0.08\n",
      "Epochs:174, train_Loss:0.08899925649166107, test_Loss:0.08\n",
      "Epochs:175, train_Loss:0.08898533135652542, test_Loss:0.08\n",
      "Epochs:176, train_Loss:0.08897144347429276, test_Loss:0.08\n",
      "Epochs:177, train_Loss:0.08895747363567352, test_Loss:0.08\n",
      "Epochs:178, train_Loss:0.08894336968660355, test_Loss:0.08\n",
      "Epochs:179, train_Loss:0.0889294221997261, test_Loss:0.08\n",
      "Epochs:180, train_Loss:0.08891578763723373, test_Loss:0.08\n",
      "Epochs:181, train_Loss:0.08890234678983688, test_Loss:0.08\n",
      "Epochs:182, train_Loss:0.08888916671276093, test_Loss:0.08\n",
      "Epochs:183, train_Loss:0.08887605369091034, test_Loss:0.08\n",
      "Epochs:184, train_Loss:0.08886314183473587, test_Loss:0.08\n",
      "Epochs:185, train_Loss:0.08885040879249573, test_Loss:0.08\n",
      "Epochs:186, train_Loss:0.08883792161941528, test_Loss:0.08\n",
      "Epochs:187, train_Loss:0.08882541954517365, test_Loss:0.08\n",
      "Epochs:188, train_Loss:0.0888134315609932, test_Loss:0.08\n",
      "Epochs:189, train_Loss:0.08880141377449036, test_Loss:0.08\n",
      "Epochs:190, train_Loss:0.08878928422927856, test_Loss:0.08\n",
      "Epochs:191, train_Loss:0.08877719193696976, test_Loss:0.08\n",
      "Epochs:192, train_Loss:0.08876532316207886, test_Loss:0.08\n",
      "Epochs:193, train_Loss:0.08875411003828049, test_Loss:0.08\n",
      "Epochs:194, train_Loss:0.08874250203371048, test_Loss:0.08\n",
      "Epochs:195, train_Loss:0.08873079717159271, test_Loss:0.08\n",
      "Epochs:196, train_Loss:0.0887191891670227, test_Loss:0.08\n",
      "Epochs:197, train_Loss:0.08870767802000046, test_Loss:0.08\n",
      "Epochs:198, train_Loss:0.08869598060846329, test_Loss:0.08\n",
      "Epochs:199, train_Loss:0.0886848121881485, test_Loss:0.08\n"
     ]
    }
   ],
   "source": [
    "for epoch in range(1, 200):\n",
    "    start = 0\n",
    "    for _ in range(split_point//batch_size):\n",
    "        end = start + batch_size\n",
    "        y = tag_shaper(torch.tensor(treat_train[start:end]))\n",
    "#         y = tag_shaper(_data[:,0])\n",
    "#         x = input_shaper(_data[:, 1:input_dim+1],input_dim)\n",
    "        o = input_shaper(torch.tensor(outcome_train[start:end]), estimate_dim)\n",
    "#         o = input_shaper(_data[:, input_dim+1],estimate_dim)\n",
    "#         x = x.to(device)\n",
    "        y = y.to(device)\n",
    "        o = o.to(device)\n",
    "        \n",
    "        optimizer.zero_grad()\n",
    "        \n",
    "#         z = q.sample({\"x\":x}, return_all=False)\n",
    "#         latent = z.get('z')\n",
    "        \n",
    "\n",
    "        latent = torch.tensor(sz_total_train[start:end]).to(device)\n",
    "        start = end\n",
    "        \n",
    "        output = model2(latent,y)\n",
    "        train_loss = criterion(output,o)        \n",
    "        train_loss.backward()\n",
    "        \n",
    "        optimizer.step()\n",
    "    \n",
    "    total = 0\n",
    "    total_loss = 0\n",
    "    start = 0\n",
    "    for _ in range((rows-split_point)//batch_size):\n",
    "        end = start + batch_size\n",
    "        y = tag_shaper(torch.tensor(treat_test[start:end]))\n",
    "#         y = tag_shaper(_data[:,0])\n",
    "#         x = input_shaper(_data[:, 1:input_dim+1],input_dim)\n",
    "        o = input_shaper(torch.tensor(outcome_test[start:end]), estimate_dim)        \n",
    "#         o = input_shaper(_data[:, input_dim+1],estimate_dim)\n",
    "#         x = x.to(device)\n",
    "        y = y.to(device)\n",
    "        o = o.to(device)\n",
    "        \n",
    "#         z = q.sample({\"x\":x}, return_all=False)\n",
    "#         latent = z.get('z')\n",
    "        \n",
    "        latent = torch.tensor(sz_total_test[start:end]).to(device)\n",
    "        start = end        \n",
    "        \n",
    "        output = model2(latent,y)\n",
    "        test_loss = criterion(output,o)\n",
    "        \n",
    "        total_loss += test_loss * batch_size\n",
    "        total += batch_size\n",
    "    test_loss = total_loss / total\n",
    "    \n",
    "    print('Epochs:{}, train_Loss:{}, test_Loss:{:.2f}'.format(epoch, train_loss.item(), test_loss.item()))"
   ]
  },
  {
   "cell_type": "code",
   "execution_count": 55,
   "metadata": {},
   "outputs": [],
   "source": [
    "pt_size = 20000\n",
    "z_sample = 0.3* torch.randn(pt_size, latent_dim).to(device)\n",
    "\n",
    "# 非治療群を生成\n",
    "plot_number = 0\n",
    "uy_sample = torch.eye(2)[[plot_number]*pt_size].to(device)\n",
    "untreated=model2(z_sample,uy_sample)\n",
    "\n",
    "# 治療群を生成\n",
    "plot_number = 1\n",
    "ty_sample = torch.eye(2)[[plot_number]*pt_size].to(device)\n",
    "treated=model2(z_sample,ty_sample)"
   ]
  },
  {
   "cell_type": "code",
   "execution_count": 56,
   "metadata": {},
   "outputs": [
    {
     "data": {
      "image/png": "[encoded data removed]",
      "text/plain": [
       "<Figure size 432x288 with 1 Axes>"
      ]
     },
     "metadata": {
      "needs_background": "light"
     },
     "output_type": "display_data"
    },
    {
     "data": {
      "text/plain": [
       "-0.0065930476"
      ]
     },
     "execution_count": 56,
     "metadata": {},
     "output_type": "execute_result"
    }
   ],
   "source": [
    "# dth24h\n",
    "plt.hist(untreated[:,0].detach().cpu().numpy(),bins=100)\n",
    "plt.hist(treated[:,0].detach().cpu().numpy(),bins=100)\n",
    "plt.hist(treated[:,0].detach().cpu().numpy()-untreated[:,0].detach().cpu().numpy(),bins=100)\n",
    "plt.show()\n",
    "(treated.detach().cpu().numpy()-untreated.detach().cpu().numpy()).mean()"
   ]
  },
  {
   "cell_type": "code",
   "execution_count": 57,
   "metadata": {},
   "outputs": [
    {
     "data": {
      "image/png": "[encoded data removed]",
      "text/plain": [
       "<Figure size 432x288 with 1 Axes>"
      ]
     },
     "metadata": {
      "needs_background": "light"
     },
     "output_type": "display_data"
    },
    {
     "data": {
      "text/plain": [
       "-0.0065930476"
      ]
     },
     "execution_count": 57,
     "metadata": {},
     "output_type": "execute_result"
    }
   ],
   "source": [
    "# Outcome.Survive\n",
    "plt.hist(untreated[:,1].detach().cpu().numpy(),bins=100)\n",
    "plt.hist(treated[:,1].detach().cpu().numpy(),bins=100)\n",
    "plt.hist(treated[:,1].detach().cpu().numpy()-untreated[:,1].detach().cpu().numpy(),bins=100)\n",
    "plt.show()\n",
    "(treated.detach().cpu().numpy()-untreated.detach().cpu().numpy()).mean()"
   ]
  },
  {
   "cell_type": "code",
   "execution_count": 58,
   "metadata": {},
   "outputs": [
    {
     "data": {
      "image/png": "[encoded data removed]",
      "text/plain": [
       "<Figure size 432x288 with 1 Axes>"
      ]
     },
     "metadata": {
      "needs_background": "light"
     },
     "output_type": "display_data"
    },
    {
     "data": {
      "text/plain": [
       "-0.0065930476"
      ]
     },
     "execution_count": 58,
     "metadata": {},
     "output_type": "execute_result"
    }
   ],
   "source": [
    "# complication.thrombosis\n",
    "plt.hist(untreated[:,2].detach().cpu().numpy(),bins=100)\n",
    "plt.hist(treated[:,2].detach().cpu().numpy(),bins=100)\n",
    "plt.hist(treated[:,2].detach().cpu().numpy()-untreated[:,2].detach().cpu().numpy(),bins=100)\n",
    "plt.show()\n",
    "(treated.detach().cpu().numpy()-untreated.detach().cpu().numpy()).mean()"
   ]
  },
  {
   "cell_type": "code",
   "execution_count": 59,
   "metadata": {},
   "outputs": [
    {
     "data": {
      "image/png": "[encoded data removed]",
      "text/plain": [
       "<Figure size 432x288 with 1 Axes>"
      ]
     },
     "metadata": {
      "needs_background": "light"
     },
     "output_type": "display_data"
    }
   ],
   "source": [
    "plt.hist(untreated[:,0].detach().cpu().numpy(), bins=100, alpha=0.5)\n",
    "plt.hist(treated[:,0].detach().cpu().numpy(), bins=100, alpha=0.5)\n",
    "\n",
    "plt.hist(df_treat_outcome[(df_treat_outcome['TXA.day1_2']==1)]['dth24h'], bins=100, alpha=0.5)\n",
    "plt.hist(df_treat_outcome[(df_treat_outcome['TXA.day1_2']==0)]['dth24h'], bins=100, alpha=0.5)\n",
    "plt.show()"
   ]
  },
  {
   "cell_type": "code",
   "execution_count": 60,
   "metadata": {},
   "outputs": [
    {
     "data": {
      "image/png": "[encoded data removed]",
      "text/plain": [
       "<Figure size 432x288 with 1 Axes>"
      ]
     },
     "metadata": {
      "needs_background": "light"
     },
     "output_type": "display_data"
    }
   ],
   "source": [
    "plt.hist(untreated[:,1].detach().cpu().numpy(), bins=100, alpha=0.5)\n",
    "plt.hist(treated[:,1].detach().cpu().numpy(), bins=100, alpha=0.5)\n",
    "\n",
    "plt.hist(df_treat_outcome[(df_treat_outcome['TXA.day1_2']==1)]['Outcome.Survive'], bins=100, alpha=0.5)\n",
    "plt.hist(df_treat_outcome[(df_treat_outcome['TXA.day1_2']==0)]['Outcome.Survive'], bins=100, alpha=0.5)\n",
    "plt.show()"
   ]
  },
  {
   "cell_type": "code",
   "execution_count": 69,
   "metadata": {},
   "outputs": [
    {
     "data": {
      "image/png": "[encoded data removed]",
      "text/plain": [
       "<Figure size 432x288 with 1 Axes>"
      ]
     },
     "metadata": {
      "needs_background": "light"
     },
     "output_type": "display_data"
    }
   ],
   "source": [
    "plt.hist(untreated[:,2].detach().cpu().numpy(), bins=100, alpha=0.5)\n",
    "plt.hist(treated[:,2].detach().cpu().numpy(), bins=100, alpha=0.5)\n",
    "\n",
    "plt.hist(df_treat_outcome[(df_treat_outcome['TXA.day1_2']==1)]['complication.thrombosis'], bins=100, alpha=0.5)\n",
    "plt.hist(df_treat_outcome[(df_treat_outcome['TXA.day1_2']==0)]['complication.thrombosis'], bins=100, alpha=0.5)\n",
    "plt.show()"
   ]
  },
  {
   "cell_type": "code",
   "execution_count": null,
   "metadata": {},
   "outputs": [],
   "source": []
  }
 ],
 "metadata": {
  "kernelspec": {
   "display_name": "Python 3",
   "language": "python",
   "name": "python3"
  },
  "language_info": {
   "codemirror_mode": {
    "name": "ipython",
    "version": 3
   },
   "file_extension": ".py",
   "mimetype": "text/x-python",
   "name": "python",
   "nbconvert_exporter": "python",
   "pygments_lexer": "ipython3",
   "version": "3.6.8"
  }
 },
 "nbformat": 4,
 "nbformat_minor": 2
}
