{
 "cells": [
  {
   "cell_type": "markdown",
   "metadata": {},
   "source": [
    "## HI-VAEによる因果推論実験\n",
    "#### 10変数\n",
    "##### 2019年3月24日  Team15 Hiroshi Sasaki @molhineko"
   ]
  },
  {
   "cell_type": "code",
   "execution_count": 1,
   "metadata": {},
   "outputs": [],
   "source": [
    "import tensorflow as tf\n",
    "import graph_new\n",
    "import parser_arguments\n",
    "import time\n",
    "import numpy as np\n",
    "np.seterr(divide='ignore', invalid='ignore')\n",
    "import pandas as pd\n",
    "from matplotlib import pyplot as plt\n",
    "#import plot_functions\n",
    "import read_functions\n",
    "import os\n",
    "pd.set_option(\"display.max_columns\", 500)\n",
    "pd.set_option(\"display.max_rows\", 1000)"
   ]
  },
  {
   "cell_type": "code",
   "execution_count": 2,
   "metadata": {},
   "outputs": [],
   "source": [
    "def print_loss(epoch, start_time, avg_loss, avg_test_loglik, avg_KL_s, avg_KL_z):\n",
    "    print(\"Epoch: [%2d]  time: %4.4f, train_loglik: %.8f, KL_z: %.8f, KL_s: %.8f, ELBO: %.8f, Test_loglik: %.8f\"\n",
    "          % (epoch, time.time() - start_time, avg_loss, avg_KL_z, avg_KL_s, avg_loss-avg_KL_z-avg_KL_s, avg_test_loglik))\n",
    "\n",
    "\n",
    "plt.close('all')"
   ]
  },
  {
   "cell_type": "code",
   "execution_count": 3,
   "metadata": {},
   "outputs": [],
   "source": [
    "size = 70000\n",
    "treat = np.random.binomial(1,0.5,size=size)\n",
    "effect = 1.5\n",
    "beta2 = 0.8\n",
    "beta3 = 0.3\n",
    "beta4 = 0.5\n",
    "\n",
    "beta5 = 0.4\n",
    "beta6 = 0.3\n",
    "beta7 = 0.5\n",
    "beta8 = 0.3\n",
    "beta9 = 0.2\n",
    "beta10 = 0.2\n",
    "\n",
    "eps = 1e-10\n",
    "#b = np.random.normal(3,0.2)\n",
    "b = 0\n",
    "def mkdata(x1=treat,effect=effect,beta2=beta2,beta3=beta3, beta4=beta4,beta5=beta5,beta6=beta6,beta7=beta7,beta8=beta8,\\\n",
    "          beta9=beta9,beta10=beta10, b=b,size=size):\n",
    "    #x1 = np.random.binomial(1,0.5,size=size)\n",
    "    x2 = np.random.normal(1.4*x1+0.4,2.0,size=size)\n",
    "    x3 = np.random.normal(-0.8*x1+1.3*x2,0.5,size=size)\n",
    "    x4 = np.random.normal(0.2*x1+-0.9*x2+2.3*x3,0.4,size=size)\n",
    "    \n",
    "    x5 = np.random.normal(0.4*x1+0.4,2.0,size=size)\n",
    "    x6 = np.random.normal(-0.3*x1+1.5*x5+0.2,2.5,size=size)\n",
    "    x7 = np.random.normal(0.2*x1+1.5*x5-1.4*x6,1.4,size=size)\n",
    "    x8 = np.random.normal(1.0*x1+2.3*x7+1.2*x5,2.0,size=size)\n",
    "    x9 = np.random.normal(-0.8*x1+0.4*x6+0.6*x2,1.5,size=size)\n",
    "    x10 = np.random.normal(0.2*x1+0.5,1.4,size=size)\n",
    "    \n",
    "    yogo= effect*x1+beta2*x2+beta3*x3+beta4*x4+beta5*x5+beta6*x6+beta7*x7+beta8*x8+beta9*x9+beta10*x10+b\n",
    "    return(np.array((x1,x2,x3,x4,x5,x6,x7,x8,x9,x10,yogo)).T)\n",
    "\n",
    "split_point = 60000\n",
    "\n",
    "data = mkdata(x1=treat,size=size)\n",
    "train = np.array(data[:split_point])#train[:,0]:conditional, train[:,1:10]:feature, train[:,10]:outcome\n",
    "test = np.array(data[split_point:])"
   ]
  },
  {
   "cell_type": "code",
   "execution_count": 4,
   "metadata": {},
   "outputs": [],
   "source": [
    "df_train = pd.DataFrame(train)"
   ]
  },
  {
   "cell_type": "code",
   "execution_count": 5,
   "metadata": {},
   "outputs": [],
   "source": [
    "train_data_hivae = np.array(data[:,1:10])\n",
    "df_train_data_hivae = pd.DataFrame(train_data_hivae)\n",
    "df_train_data_hivae.to_csv('transfusion/10_dim.csv', header=False, index=False)"
   ]
  },
  {
   "cell_type": "code",
   "execution_count": 6,
   "metadata": {},
   "outputs": [],
   "source": [
    "df_data_types = pd.DataFrame({'type':['real', 'real', 'real', 'real', 'real', 'real', 'real', 'real', 'real'],\n",
    "                              'dim':[1, 1, 1, 1, 1, 1, 1, 1, 1],\n",
    "                              'nclass':[None, None, None, None, None, None, None, None, None]})\n",
    "df_data_types.to_csv('transfusion/data_types.csv', index=False)"
   ]
  },
  {
   "cell_type": "code",
   "execution_count": 7,
   "metadata": {},
   "outputs": [],
   "source": [
    "settings = '--epochs 200 --model_name model_HIVAE_inputDropout --restore 0 --train 1 \\\n",
    "            --data_file transfusion/10_dim.csv --types_file transfusion/data_types.csv --miss_file transfusion/Missing_0.csv \\\n",
    "            --batch_size 100 --save 1001 --save_file transfusion_model_test\\\n",
    "            --dim_latent_s 7 --dim_latent_z 7 --dim_latent_y 5 \\\n",
    "            --miss_percentage_train 0.0 --miss_percentage_test 0.0'"
   ]
  },
  {
   "cell_type": "code",
   "execution_count": 8,
   "metadata": {},
   "outputs": [
    {
     "data": {
      "text/plain": [
       "['--epochs',\n",
       " '200',\n",
       " '--model_name',\n",
       " 'model_HIVAE_inputDropout',\n",
       " '--restore',\n",
       " '0',\n",
       " '--train',\n",
       " '1',\n",
       " '--data_file',\n",
       " 'transfusion/10_dim.csv',\n",
       " '--types_file',\n",
       " 'transfusion/data_types.csv',\n",
       " '--miss_file',\n",
       " 'transfusion/Missing_0.csv',\n",
       " '--batch_size',\n",
       " '100',\n",
       " '--save',\n",
       " '1001',\n",
       " '--save_file',\n",
       " 'transfusion_model_test',\n",
       " '--dim_latent_s',\n",
       " '7',\n",
       " '--dim_latent_z',\n",
       " '7',\n",
       " '--dim_latent_y',\n",
       " '5',\n",
       " '--miss_percentage_train',\n",
       " '0.0',\n",
       " '--miss_percentage_test',\n",
       " '0.0']"
      ]
     },
     "execution_count": 8,
     "metadata": {},
     "output_type": "execute_result"
    }
   ],
   "source": [
    "argvals = settings.split()\n",
    "args = parser_arguments.getArgs(argvals)\n",
    "argvals"
   ]
  },
  {
   "cell_type": "code",
   "execution_count": 9,
   "metadata": {},
   "outputs": [
    {
     "name": "stdout",
     "output_type": "stream",
     "text": [
      "Namespace(batch_size=100, data_file='transfusion/10_dim.csv', dim_latent_s=7, dim_latent_y=5, dim_latent_y_partition=None, dim_latent_z=7, display=1, epochs=200, miss_file='transfusion/Missing_0.csv', miss_percentage_test=0.0, miss_percentage_train=0.0, model_name='model_HIVAE_inputDropout', perp=10, plot=1, restore=0, save=1001, save_file='transfusion_model_test', train=1, true_miss_file=None, types_file='transfusion/data_types.csv')\n"
     ]
    }
   ],
   "source": [
    "#Create a directoy for the save file\n",
    "if not os.path.exists('./Saved_Networks/' + args.save_file):\n",
    "    os.makedirs('./Saved_Networks/' + args.save_file)\n",
    "\n",
    "network_file_name='./Saved_Networks/' + args.save_file + '/' + args.save_file +'.ckpt'\n",
    "log_file_name='./Saved_Network/' + args.save_file + '/log_file_' + args.save_file +'.txt'\n",
    "\n",
    "print(args)"
   ]
  },
  {
   "cell_type": "code",
   "execution_count": 10,
   "metadata": {},
   "outputs": [],
   "source": [
    "#Creating graph\n",
    "sess_HVAE = tf.Graph()"
   ]
  },
  {
   "cell_type": "code",
   "execution_count": 11,
   "metadata": {},
   "outputs": [
    {
     "name": "stdout",
     "output_type": "stream",
     "text": [
      "[*] Importing model: model_HIVAE_inputDropout\n",
      "[*] Defining placeholders\n",
      "[*] Defining Encoder...\n",
      "[*] Defining Decoder...\n",
      "[*] Defining Cost function...\n",
      "WARNING:tensorflow:From /home/ubuntu/ai-study/HI-VAE/HI-VAE/model_HIVAE_inputDropout.py:58: softmax_cross_entropy_with_logits (from tensorflow.python.ops.nn_ops) is deprecated and will be removed in a future version.\n",
      "Instructions for updating:\n",
      "\n",
      "Future major versions of TensorFlow will allow gradients to flow\n",
      "into the labels input on backprop by default.\n",
      "\n",
      "See `tf.nn.softmax_cross_entropy_with_logits_v2`.\n",
      "\n"
     ]
    }
   ],
   "source": [
    "with sess_HVAE.as_default():\n",
    "    \n",
    "    tf_nodes = graph_new.HVAE_graph(args.model_name, args.types_file, args.batch_size,\n",
    "                                    learning_rate=1e-3, z_dim=args.dim_latent_z, y_dim=args.dim_latent_y, \n",
    "                                    s_dim=args.dim_latent_s, y_dim_partition=args.dim_latent_y_partition)"
   ]
  },
  {
   "cell_type": "code",
   "execution_count": 12,
   "metadata": {},
   "outputs": [],
   "source": [
    "################### Running the VAE Training #################################\n",
    "\n",
    "train_data, types_dict, miss_mask, true_miss_mask, n_samples = read_functions.read_data(args.data_file, args.types_file, args.miss_file, \n",
    "                                                                                        args.true_miss_file)\n",
    "#Get an integer number of batches\n",
    "n_batches = int(np.floor(np.shape(train_data)[0]/args.batch_size))\n",
    "#Compute the real miss_mask\n",
    "miss_mask = np.multiply(miss_mask, true_miss_mask)"
   ]
  },
  {
   "cell_type": "code",
   "execution_count": 13,
   "metadata": {},
   "outputs": [
    {
     "name": "stdout",
     "output_type": "stream",
     "text": [
      "Initizalizing Variables ...\n",
      "Training the HVAE ...\n",
      "Epoch: [ 0]  time: 12.4619, train_loglik: -20.15581189, KL_z: 0.76712382, KL_s: 0.68970217, ELBO: -21.61263788, Test_loglik: -2.58018515\n",
      "\n",
      "Saving Variables ...\n",
      "Epoch: [ 1]  time: 21.5538, train_loglik: -13.70735629, KL_z: 3.13111703, KL_s: 1.29394122, ELBO: -18.13241454, Test_loglik: -2.57185660\n",
      "\n",
      "Epoch: [ 2]  time: 30.3330, train_loglik: -10.86060050, KL_z: 4.40341942, KL_s: 1.34730359, ELBO: -16.61132352, Test_loglik: -3.76796892\n",
      "\n",
      "Epoch: [ 3]  time: 38.9604, train_loglik: -9.61980805, KL_z: 4.87526733, KL_s: 1.33470611, ELBO: -15.82978149, Test_loglik: -3.52153248\n",
      "\n",
      "Epoch: [ 4]  time: 47.4845, train_loglik: -9.16521449, KL_z: 5.09381097, KL_s: 1.35085887, ELBO: -15.60988433, Test_loglik: -3.74754461\n",
      "\n",
      "Epoch: [ 5]  time: 55.9745, train_loglik: -8.85751211, KL_z: 5.29946725, KL_s: 1.36650678, ELBO: -15.52348614, Test_loglik: -5.02472305\n",
      "\n",
      "Epoch: [ 6]  time: 64.3030, train_loglik: -8.40825747, KL_z: 5.64084569, KL_s: 1.37549982, ELBO: -15.42460299, Test_loglik: -7.07656606\n",
      "\n",
      "Epoch: [ 7]  time: 72.5038, train_loglik: -7.94654961, KL_z: 6.01911156, KL_s: 1.38161116, ELBO: -15.34727232, Test_loglik: -9.23130290\n",
      "\n",
      "Epoch: [ 8]  time: 80.4387, train_loglik: -7.60593427, KL_z: 6.29998285, KL_s: 1.38716991, ELBO: -15.29308703, Test_loglik: -14.79847209\n",
      "\n",
      "Epoch: [ 9]  time: 88.5929, train_loglik: -7.32314245, KL_z: 6.52559708, KL_s: 1.38988339, ELBO: -15.23862292, Test_loglik: -15.39316474\n",
      "\n",
      "Epoch: [10]  time: 97.6851, train_loglik: -7.09526430, KL_z: 6.70314738, KL_s: 1.39196694, ELBO: -15.19037862, Test_loglik: -18.12982517\n",
      "\n",
      "Epoch: [11]  time: 105.9961, train_loglik: -6.90321424, KL_z: 6.87649755, KL_s: 1.39356907, ELBO: -15.17328086, Test_loglik: -22.42221239\n",
      "\n",
      "Epoch: [12]  time: 114.2600, train_loglik: -6.74234559, KL_z: 7.02680958, KL_s: 1.39821538, ELBO: -15.16737055, Test_loglik: -20.27324422\n",
      "\n",
      "Epoch: [13]  time: 122.6842, train_loglik: -6.60600541, KL_z: 7.15265428, KL_s: 1.40246427, ELBO: -15.16112396, Test_loglik: -26.70362684\n",
      "\n",
      "Epoch: [14]  time: 131.2221, train_loglik: -6.48826590, KL_z: 7.24003259, KL_s: 1.40747992, ELBO: -15.13577841, Test_loglik: -27.75958591\n",
      "\n",
      "Epoch: [15]  time: 139.8648, train_loglik: -6.40933839, KL_z: 7.31477522, KL_s: 1.41087076, ELBO: -15.13498438, Test_loglik: -32.69032118\n",
      "\n",
      "Epoch: [16]  time: 148.2665, train_loglik: -6.34038679, KL_z: 7.36130292, KL_s: 1.41334121, ELBO: -15.11503093, Test_loglik: -31.73290677\n",
      "\n",
      "Epoch: [17]  time: 156.6820, train_loglik: -6.29161382, KL_z: 7.41731933, KL_s: 1.41672251, ELBO: -15.12565567, Test_loglik: -34.86073134\n",
      "\n",
      "Epoch: [18]  time: 165.0324, train_loglik: -6.24994054, KL_z: 7.44367916, KL_s: 1.41882744, ELBO: -15.11244713, Test_loglik: -36.38454183\n",
      "\n",
      "Epoch: [19]  time: 173.2043, train_loglik: -6.21434523, KL_z: 7.48185165, KL_s: 1.42067021, ELBO: -15.11686709, Test_loglik: -32.53996446\n",
      "\n",
      "Epoch: [20]  time: 181.6652, train_loglik: -6.19517225, KL_z: 7.50130380, KL_s: 1.42211787, ELBO: -15.11859392, Test_loglik: -33.86021932\n",
      "\n",
      "Epoch: [21]  time: 189.9972, train_loglik: -6.17659051, KL_z: 7.51208451, KL_s: 1.42390903, ELBO: -15.11258405, Test_loglik: -36.74137370\n",
      "\n",
      "Epoch: [22]  time: 198.1036, train_loglik: -6.13534493, KL_z: 7.54096094, KL_s: 1.42544477, ELBO: -15.10175065, Test_loglik: -39.08786350\n",
      "\n",
      "Epoch: [23]  time: 206.5156, train_loglik: -6.11713427, KL_z: 7.55936617, KL_s: 1.42710163, ELBO: -15.10360207, Test_loglik: -32.88322618\n",
      "\n",
      "Epoch: [24]  time: 214.9465, train_loglik: -6.10499819, KL_z: 7.57877171, KL_s: 1.42867845, ELBO: -15.11244835, Test_loglik: -38.37222968\n",
      "\n",
      "Epoch: [25]  time: 223.2635, train_loglik: -6.08462630, KL_z: 7.58705213, KL_s: 1.43040086, ELBO: -15.10207929, Test_loglik: -37.51518758\n",
      "\n",
      "Epoch: [26]  time: 231.4497, train_loglik: -6.08915464, KL_z: 7.58938997, KL_s: 1.43235710, ELBO: -15.11090172, Test_loglik: -35.22017754\n",
      "\n",
      "Epoch: [27]  time: 239.5756, train_loglik: -6.07686245, KL_z: 7.60828307, KL_s: 1.43295462, ELBO: -15.11810014, Test_loglik: -40.61848280\n",
      "\n",
      "Epoch: [28]  time: 247.4914, train_loglik: -6.06925152, KL_z: 7.60587274, KL_s: 1.43474305, ELBO: -15.10986730, Test_loglik: -37.49349976\n",
      "\n",
      "Epoch: [29]  time: 255.4371, train_loglik: -6.06536540, KL_z: 7.61708370, KL_s: 1.43430478, ELBO: -15.11675387, Test_loglik: -39.72015042\n",
      "\n",
      "Epoch: [30]  time: 264.0901, train_loglik: -6.04954788, KL_z: 7.61734473, KL_s: 1.43517998, ELBO: -15.10207259, Test_loglik: -38.95864190\n",
      "\n",
      "Epoch: [31]  time: 272.4010, train_loglik: -6.05425694, KL_z: 7.61661313, KL_s: 1.43466903, ELBO: -15.10553909, Test_loglik: -38.43677775\n",
      "\n",
      "Epoch: [32]  time: 280.7992, train_loglik: -6.05282326, KL_z: 7.62045269, KL_s: 1.43628218, ELBO: -15.10955812, Test_loglik: -36.61625841\n",
      "\n",
      "Epoch: [33]  time: 289.0077, train_loglik: -6.05483536, KL_z: 7.61957557, KL_s: 1.43743641, ELBO: -15.11184734, Test_loglik: -43.80901421\n",
      "\n",
      "Epoch: [34]  time: 297.5430, train_loglik: -6.03434300, KL_z: 7.63751289, KL_s: 1.43813256, ELBO: -15.10998844, Test_loglik: -44.09845649\n",
      "\n",
      "Epoch: [35]  time: 305.7089, train_loglik: -6.03505779, KL_z: 7.63962835, KL_s: 1.43883586, ELBO: -15.11352200, Test_loglik: -38.53365750\n",
      "\n",
      "Epoch: [36]  time: 314.0987, train_loglik: -6.04288984, KL_z: 7.63387685, KL_s: 1.43971476, ELBO: -15.11648145, Test_loglik: -42.87270101\n",
      "\n",
      "Epoch: [37]  time: 322.3433, train_loglik: -6.04367962, KL_z: 7.63571923, KL_s: 1.44106081, ELBO: -15.12045966, Test_loglik: -35.33608331\n",
      "\n",
      "Epoch: [38]  time: 330.5832, train_loglik: -6.04138117, KL_z: 7.62696598, KL_s: 1.44090196, ELBO: -15.10924911, Test_loglik: -34.32315063\n",
      "\n",
      "Epoch: [39]  time: 338.9396, train_loglik: -6.03694735, KL_z: 7.64369833, KL_s: 1.44084828, ELBO: -15.12149396, Test_loglik: -38.38738336\n",
      "\n",
      "Epoch: [40]  time: 347.3222, train_loglik: -6.03661781, KL_z: 7.64058779, KL_s: 1.44108767, ELBO: -15.11829328, Test_loglik: -40.99101766\n",
      "\n",
      "Epoch: [41]  time: 355.8393, train_loglik: -6.04196610, KL_z: 7.63483250, KL_s: 1.44069416, ELBO: -15.11749276, Test_loglik: -43.16286553\n",
      "\n",
      "Epoch: [42]  time: 364.2336, train_loglik: -6.04534277, KL_z: 7.62444554, KL_s: 1.44136391, ELBO: -15.11115222, Test_loglik: -38.89533488\n",
      "\n",
      "Epoch: [43]  time: 372.6894, train_loglik: -6.04625304, KL_z: 7.62838365, KL_s: 1.44083646, ELBO: -15.11547314, Test_loglik: -38.09060330\n",
      "\n",
      "Epoch: [44]  time: 381.0144, train_loglik: -6.06423374, KL_z: 7.62266082, KL_s: 1.44050415, ELBO: -15.12739870, Test_loglik: -42.68580797\n",
      "\n",
      "Epoch: [45]  time: 389.0271, train_loglik: -6.05196154, KL_z: 7.61340665, KL_s: 1.44057530, ELBO: -15.10594350, Test_loglik: -39.28981866\n",
      "\n",
      "Epoch: [46]  time: 398.0201, train_loglik: -6.06864940, KL_z: 7.61600892, KL_s: 1.43967887, ELBO: -15.12433719, Test_loglik: -42.36311510\n",
      "\n",
      "Epoch: [47]  time: 406.2736, train_loglik: -6.06168096, KL_z: 7.61657077, KL_s: 1.44038086, ELBO: -15.11863258, Test_loglik: -39.44374593\n",
      "\n",
      "Epoch: [48]  time: 414.5532, train_loglik: -6.05831536, KL_z: 7.62117885, KL_s: 1.44059406, ELBO: -15.12008827, Test_loglik: -39.33511013\n",
      "\n",
      "Epoch: [49]  time: 422.8951, train_loglik: -6.05670363, KL_z: 7.60584882, KL_s: 1.44102683, ELBO: -15.10357928, Test_loglik: -42.46395196\n",
      "\n",
      "Epoch: [50]  time: 431.2574, train_loglik: -6.07398564, KL_z: 7.60450276, KL_s: 1.44133537, ELBO: -15.11982377, Test_loglik: -47.43551297\n",
      "\n",
      "Epoch: [51]  time: 439.7010, train_loglik: -6.07199916, KL_z: 7.60101245, KL_s: 1.44091298, ELBO: -15.11392459, Test_loglik: -39.37553914\n",
      "\n",
      "Epoch: [52]  time: 448.0201, train_loglik: -6.08959522, KL_z: 7.59808939, KL_s: 1.44025750, ELBO: -15.12794211, Test_loglik: -38.88967217\n",
      "\n",
      "Epoch: [53]  time: 456.7481, train_loglik: -6.08580194, KL_z: 7.58501445, KL_s: 1.44036749, ELBO: -15.11118388, Test_loglik: -40.15997993\n",
      "\n",
      "Epoch: [54]  time: 465.5818, train_loglik: -6.10077133, KL_z: 7.57385465, KL_s: 1.44063893, ELBO: -15.11526491, Test_loglik: -38.10529921\n",
      "\n",
      "Epoch: [55]  time: 474.1435, train_loglik: -6.10645088, KL_z: 7.57093650, KL_s: 1.44124597, ELBO: -15.11863335, Test_loglik: -38.41248915\n",
      "\n",
      "Epoch: [56]  time: 482.6967, train_loglik: -6.10862941, KL_z: 7.57632781, KL_s: 1.44066401, ELBO: -15.12562123, Test_loglik: -29.67508952\n",
      "\n",
      "Epoch: [57]  time: 491.1307, train_loglik: -6.10962943, KL_z: 7.57250297, KL_s: 1.44028277, ELBO: -15.12241517, Test_loglik: -40.03076172\n",
      "\n",
      "Epoch: [58]  time: 499.8674, train_loglik: -6.11128239, KL_z: 7.56879305, KL_s: 1.44022470, ELBO: -15.12030014, Test_loglik: -34.12254164\n",
      "\n"
     ]
    },
    {
     "name": "stdout",
     "output_type": "stream",
     "text": [
      "Epoch: [59]  time: 508.4078, train_loglik: -6.12888127, KL_z: 7.55290281, KL_s: 1.44039715, ELBO: -15.12218123, Test_loglik: -37.72978041\n",
      "\n",
      "Epoch: [60]  time: 516.7775, train_loglik: -6.13764474, KL_z: 7.55375732, KL_s: 1.44180350, ELBO: -15.13320556, Test_loglik: -37.51534017\n",
      "\n",
      "Epoch: [61]  time: 525.0711, train_loglik: -6.13073192, KL_z: 7.55384830, KL_s: 1.44147345, ELBO: -15.12605367, Test_loglik: -38.98735216\n",
      "\n",
      "Epoch: [62]  time: 533.0725, train_loglik: -6.13216507, KL_z: 7.55403022, KL_s: 1.44230079, ELBO: -15.12849608, Test_loglik: -42.97266642\n",
      "\n",
      "Epoch: [63]  time: 541.2128, train_loglik: -6.13400645, KL_z: 7.55308915, KL_s: 1.44262545, ELBO: -15.12972105, Test_loglik: -38.96708171\n",
      "\n",
      "Epoch: [64]  time: 549.1636, train_loglik: -6.14685845, KL_z: 7.54040502, KL_s: 1.44308892, ELBO: -15.13035238, Test_loglik: -42.20914374\n",
      "\n",
      "Epoch: [65]  time: 557.3889, train_loglik: -6.14830772, KL_z: 7.54880411, KL_s: 1.44379453, ELBO: -15.14090636, Test_loglik: -37.21702406\n",
      "\n",
      "Epoch: [66]  time: 565.0416, train_loglik: -6.14395535, KL_z: 7.53488050, KL_s: 1.44379604, ELBO: -15.12263189, Test_loglik: -40.93822903\n",
      "\n",
      "Epoch: [67]  time: 573.4317, train_loglik: -6.15699783, KL_z: 7.53701206, KL_s: 1.44375849, ELBO: -15.13776837, Test_loglik: -35.35792711\n",
      "\n",
      "Epoch: [68]  time: 581.6877, train_loglik: -6.16112029, KL_z: 7.52926026, KL_s: 1.44429884, ELBO: -15.13467939, Test_loglik: -38.19957140\n",
      "\n",
      "Epoch: [69]  time: 589.9968, train_loglik: -6.16097601, KL_z: 7.52463943, KL_s: 1.44424131, ELBO: -15.12985676, Test_loglik: -32.30297852\n",
      "\n",
      "Epoch: [70]  time: 598.2941, train_loglik: -6.16060169, KL_z: 7.52731051, KL_s: 1.44385172, ELBO: -15.13176391, Test_loglik: -37.31336466\n",
      "\n",
      "Epoch: [71]  time: 606.5832, train_loglik: -6.16263084, KL_z: 7.51928274, KL_s: 1.44308322, ELBO: -15.12499680, Test_loglik: -35.46063232\n",
      "\n",
      "Epoch: [72]  time: 614.9115, train_loglik: -6.17834499, KL_z: 7.51001682, KL_s: 1.44311666, ELBO: -15.13147847, Test_loglik: -39.11611260\n",
      "\n",
      "Epoch: [73]  time: 623.0717, train_loglik: -6.17590927, KL_z: 7.51040989, KL_s: 1.44428827, ELBO: -15.13060744, Test_loglik: -46.34824287\n",
      "\n",
      "Epoch: [74]  time: 631.4826, train_loglik: -6.17860245, KL_z: 7.51146318, KL_s: 1.44465062, ELBO: -15.13471624, Test_loglik: -39.36980523\n",
      "\n",
      "Epoch: [75]  time: 639.8666, train_loglik: -6.18586031, KL_z: 7.50026846, KL_s: 1.44453310, ELBO: -15.13066187, Test_loglik: -35.82702298\n",
      "\n",
      "Epoch: [76]  time: 648.1405, train_loglik: -6.18904721, KL_z: 7.49567943, KL_s: 1.44432093, ELBO: -15.12904757, Test_loglik: -36.78312853\n",
      "\n",
      "Epoch: [77]  time: 656.3982, train_loglik: -6.19691936, KL_z: 7.50256146, KL_s: 1.44430246, ELBO: -15.14378328, Test_loglik: -31.45521037\n",
      "\n",
      "Epoch: [78]  time: 664.6634, train_loglik: -6.19580277, KL_z: 7.49305634, KL_s: 1.44448803, ELBO: -15.13334715, Test_loglik: -38.85566881\n",
      "\n",
      "Epoch: [79]  time: 673.1511, train_loglik: -6.20590575, KL_z: 7.49315014, KL_s: 1.44421479, ELBO: -15.14327068, Test_loglik: -39.74255032\n",
      "\n",
      "Epoch: [80]  time: 681.7824, train_loglik: -6.20553334, KL_z: 7.49357966, KL_s: 1.44370698, ELBO: -15.14281998, Test_loglik: -37.56696574\n",
      "\n",
      "Epoch: [81]  time: 690.3283, train_loglik: -6.21355193, KL_z: 7.47912926, KL_s: 1.44520758, ELBO: -15.13788877, Test_loglik: -40.23502943\n",
      "\n",
      "Epoch: [82]  time: 699.8334, train_loglik: -6.21652924, KL_z: 7.48835550, KL_s: 1.44555275, ELBO: -15.15043749, Test_loglik: -33.22390069\n",
      "\n",
      "Epoch: [83]  time: 707.9355, train_loglik: -6.22875185, KL_z: 7.48076350, KL_s: 1.44602337, ELBO: -15.15553872, Test_loglik: -38.69587199\n",
      "\n",
      "Epoch: [84]  time: 715.9167, train_loglik: -6.21978346, KL_z: 7.48049230, KL_s: 1.44642589, ELBO: -15.14670165, Test_loglik: -34.08062405\n",
      "\n",
      "Epoch: [85]  time: 723.8068, train_loglik: -6.22067148, KL_z: 7.47402314, KL_s: 1.44731265, ELBO: -15.14200727, Test_loglik: -34.49577162\n",
      "\n",
      "Epoch: [86]  time: 731.7052, train_loglik: -6.23285255, KL_z: 7.46382175, KL_s: 1.44671555, ELBO: -15.14338985, Test_loglik: -39.48042128\n",
      "\n",
      "Epoch: [87]  time: 739.7644, train_loglik: -6.24503368, KL_z: 7.45837257, KL_s: 1.44588658, ELBO: -15.14929284, Test_loglik: -37.59903293\n",
      "\n",
      "Epoch: [88]  time: 747.6914, train_loglik: -6.25071784, KL_z: 7.44389307, KL_s: 1.44623114, ELBO: -15.14084205, Test_loglik: -36.53709920\n",
      "\n",
      "Epoch: [89]  time: 755.7882, train_loglik: -6.25841699, KL_z: 7.44804269, KL_s: 1.44718556, ELBO: -15.15364525, Test_loglik: -36.62197537\n",
      "\n",
      "Epoch: [90]  time: 763.6709, train_loglik: -6.26549134, KL_z: 7.44609962, KL_s: 1.44867487, ELBO: -15.16026583, Test_loglik: -36.98155043\n",
      "\n",
      "Epoch: [91]  time: 771.9509, train_loglik: -6.26539360, KL_z: 7.43505613, KL_s: 1.44934458, ELBO: -15.14979431, Test_loglik: -31.62166680\n",
      "\n",
      "Epoch: [92]  time: 780.1150, train_loglik: -6.26374356, KL_z: 7.43220952, KL_s: 1.44963195, ELBO: -15.14558503, Test_loglik: -34.31571452\n",
      "\n",
      "Epoch: [93]  time: 788.4839, train_loglik: -6.26996955, KL_z: 7.43477436, KL_s: 1.44942773, ELBO: -15.15417164, Test_loglik: -31.85907322\n",
      "\n",
      "Epoch: [94]  time: 796.8924, train_loglik: -6.26384307, KL_z: 7.44320127, KL_s: 1.44927338, ELBO: -15.15631772, Test_loglik: -34.73163859\n",
      "\n",
      "Epoch: [95]  time: 805.0209, train_loglik: -6.26581254, KL_z: 7.44546576, KL_s: 1.45047481, ELBO: -15.16175312, Test_loglik: -38.28227743\n",
      "\n",
      "Epoch: [96]  time: 812.1970, train_loglik: -6.26933406, KL_z: 7.42764787, KL_s: 1.45017584, ELBO: -15.14715778, Test_loglik: -36.10390218\n",
      "\n",
      "Epoch: [97]  time: 819.4733, train_loglik: -6.27098061, KL_z: 7.42957125, KL_s: 1.45004276, ELBO: -15.15059462, Test_loglik: -36.27188449\n",
      "\n",
      "Epoch: [98]  time: 826.7177, train_loglik: -6.29415307, KL_z: 7.41198405, KL_s: 1.44978090, ELBO: -15.15591802, Test_loglik: -35.77298652\n",
      "\n",
      "Epoch: [99]  time: 835.3021, train_loglik: -6.27726160, KL_z: 7.42513237, KL_s: 1.44908649, ELBO: -15.15148045, Test_loglik: -35.70605469\n",
      "\n",
      "Epoch: [100]  time: 844.4690, train_loglik: -6.28976434, KL_z: 7.41924327, KL_s: 1.44964113, ELBO: -15.15864874, Test_loglik: -32.24883694\n",
      "\n",
      "Epoch: [101]  time: 853.4649, train_loglik: -6.27712694, KL_z: 7.42949499, KL_s: 1.44910309, ELBO: -15.15572501, Test_loglik: -37.35266113\n",
      "\n",
      "Epoch: [102]  time: 861.9617, train_loglik: -6.29317212, KL_z: 7.42336181, KL_s: 1.44973387, ELBO: -15.16626780, Test_loglik: -32.43305122\n",
      "\n",
      "Epoch: [103]  time: 870.9067, train_loglik: -6.29521536, KL_z: 7.41792924, KL_s: 1.44982573, ELBO: -15.16297033, Test_loglik: -35.16551717\n",
      "\n",
      "Epoch: [104]  time: 879.8382, train_loglik: -6.29647557, KL_z: 7.42518861, KL_s: 1.45018594, ELBO: -15.17185012, Test_loglik: -32.52648248\n",
      "\n",
      "Epoch: [105]  time: 888.2544, train_loglik: -6.28054274, KL_z: 7.42955551, KL_s: 1.45113786, ELBO: -15.16123612, Test_loglik: -35.53537326\n",
      "\n",
      "Epoch: [106]  time: 896.2273, train_loglik: -6.29241203, KL_z: 7.42033754, KL_s: 1.45102126, ELBO: -15.16377083, Test_loglik: -37.24473063\n",
      "\n",
      "Epoch: [107]  time: 904.6509, train_loglik: -6.30163749, KL_z: 7.41224951, KL_s: 1.45084790, ELBO: -15.16473489, Test_loglik: -36.02362061\n",
      "\n",
      "Epoch: [108]  time: 913.0116, train_loglik: -6.29101614, KL_z: 7.41385177, KL_s: 1.44938115, ELBO: -15.15424905, Test_loglik: -35.72796631\n",
      "\n",
      "Epoch: [109]  time: 921.0465, train_loglik: -6.29786067, KL_z: 7.40983887, KL_s: 1.45021112, ELBO: -15.15791066, Test_loglik: -30.88200548\n",
      "\n",
      "Epoch: [110]  time: 929.7477, train_loglik: -6.30995361, KL_z: 7.41476056, KL_s: 1.45046595, ELBO: -15.17518012, Test_loglik: -34.58888753\n",
      "\n",
      "Epoch: [111]  time: 937.9036, train_loglik: -6.31201442, KL_z: 7.40933129, KL_s: 1.45172623, ELBO: -15.17307194, Test_loglik: -30.20650567\n",
      "\n",
      "Epoch: [112]  time: 946.1418, train_loglik: -6.32260045, KL_z: 7.39146702, KL_s: 1.45232934, ELBO: -15.16639680, Test_loglik: -37.82706706\n",
      "\n",
      "Epoch: [113]  time: 954.4399, train_loglik: -6.31094195, KL_z: 7.39864453, KL_s: 1.45219208, ELBO: -15.16177856, Test_loglik: -37.95342678\n",
      "\n",
      "Epoch: [114]  time: 962.3967, train_loglik: -6.30760929, KL_z: 7.40899267, KL_s: 1.45233820, ELBO: -15.16894017, Test_loglik: -34.48038398\n",
      "\n",
      "Epoch: [115]  time: 970.6452, train_loglik: -6.30904708, KL_z: 7.40486084, KL_s: 1.45341545, ELBO: -15.16732337, Test_loglik: -33.38130697\n",
      "\n",
      "Epoch: [116]  time: 978.8757, train_loglik: -6.32506510, KL_z: 7.39736371, KL_s: 1.45429337, ELBO: -15.17672218, Test_loglik: -33.43954129\n",
      "\n",
      "Epoch: [117]  time: 987.0388, train_loglik: -6.32006201, KL_z: 7.39740783, KL_s: 1.45478267, ELBO: -15.17225251, Test_loglik: -38.39764404\n",
      "\n"
     ]
    },
    {
     "name": "stdout",
     "output_type": "stream",
     "text": [
      "Epoch: [118]  time: 995.7199, train_loglik: -6.34037625, KL_z: 7.37887544, KL_s: 1.45380774, ELBO: -15.17305943, Test_loglik: -36.96438938\n",
      "\n",
      "Epoch: [119]  time: 1005.1566, train_loglik: -6.33913827, KL_z: 7.38956672, KL_s: 1.45363041, ELBO: -15.18233539, Test_loglik: -29.54034424\n",
      "\n",
      "Epoch: [120]  time: 1013.5076, train_loglik: -6.33482452, KL_z: 7.38580973, KL_s: 1.45393410, ELBO: -15.17456835, Test_loglik: -36.93086751\n",
      "\n",
      "Epoch: [121]  time: 1021.8681, train_loglik: -6.33728308, KL_z: 7.37833482, KL_s: 1.45417723, ELBO: -15.16979514, Test_loglik: -35.02234565\n",
      "\n",
      "Epoch: [122]  time: 1030.0396, train_loglik: -6.34754069, KL_z: 7.37213921, KL_s: 1.45495178, ELBO: -15.17463168, Test_loglik: -36.26321411\n",
      "\n",
      "Epoch: [123]  time: 1038.6580, train_loglik: -6.33780374, KL_z: 7.38146366, KL_s: 1.45487538, ELBO: -15.17414278, Test_loglik: -31.82275391\n",
      "\n",
      "Epoch: [124]  time: 1046.7241, train_loglik: -6.34779693, KL_z: 7.36538735, KL_s: 1.45534077, ELBO: -15.16852505, Test_loglik: -34.60738118\n",
      "\n",
      "Epoch: [125]  time: 1054.8329, train_loglik: -6.35992846, KL_z: 7.37688969, KL_s: 1.45482520, ELBO: -15.19164334, Test_loglik: -29.07248603\n",
      "\n",
      "Epoch: [126]  time: 1062.5295, train_loglik: -6.35079440, KL_z: 7.36361434, KL_s: 1.45430857, ELBO: -15.16871730, Test_loglik: -34.81966146\n",
      "\n",
      "Epoch: [127]  time: 1070.5612, train_loglik: -6.37178527, KL_z: 7.35632027, KL_s: 1.45503960, ELBO: -15.18314514, Test_loglik: -33.88315158\n",
      "\n",
      "Epoch: [128]  time: 1078.1651, train_loglik: -6.37292552, KL_z: 7.35222133, KL_s: 1.45595312, ELBO: -15.18109996, Test_loglik: -33.27262370\n",
      "\n",
      "Epoch: [129]  time: 1086.3422, train_loglik: -6.36315514, KL_z: 7.35574001, KL_s: 1.45634007, ELBO: -15.17523522, Test_loglik: -32.70852322\n",
      "\n",
      "Epoch: [130]  time: 1094.8794, train_loglik: -6.37264040, KL_z: 7.35390469, KL_s: 1.45586720, ELBO: -15.18241229, Test_loglik: -30.42427572\n",
      "\n",
      "Epoch: [131]  time: 1103.1366, train_loglik: -6.37017799, KL_z: 7.35813038, KL_s: 1.45533316, ELBO: -15.18364154, Test_loglik: -37.24384901\n",
      "\n",
      "Epoch: [132]  time: 1111.8350, train_loglik: -6.36485069, KL_z: 7.36518336, KL_s: 1.45423810, ELBO: -15.18427214, Test_loglik: -36.62824164\n",
      "\n",
      "Epoch: [133]  time: 1120.3200, train_loglik: -6.35898129, KL_z: 7.36346405, KL_s: 1.45504217, ELBO: -15.17748752, Test_loglik: -34.79979112\n",
      "\n",
      "Epoch: [134]  time: 1128.7460, train_loglik: -6.37385637, KL_z: 7.34764931, KL_s: 1.45610900, ELBO: -15.17761468, Test_loglik: -41.32487657\n",
      "\n",
      "Epoch: [135]  time: 1137.0530, train_loglik: -6.38356461, KL_z: 7.34491821, KL_s: 1.45450062, ELBO: -15.18298344, Test_loglik: -34.11661106\n",
      "\n",
      "Epoch: [136]  time: 1145.4235, train_loglik: -6.38399560, KL_z: 7.34669668, KL_s: 1.45502825, ELBO: -15.18572053, Test_loglik: -33.43767632\n",
      "\n",
      "Epoch: [137]  time: 1153.7048, train_loglik: -6.38184986, KL_z: 7.35511699, KL_s: 1.45569395, ELBO: -15.19266080, Test_loglik: -39.85101657\n",
      "\n",
      "Epoch: [138]  time: 1162.0788, train_loglik: -6.38201519, KL_z: 7.35271791, KL_s: 1.45660326, ELBO: -15.19133636, Test_loglik: -35.98887126\n",
      "\n",
      "Epoch: [139]  time: 1170.7217, train_loglik: -6.37831057, KL_z: 7.35477623, KL_s: 1.45809944, ELBO: -15.19118624, Test_loglik: -33.49892171\n",
      "\n",
      "Epoch: [140]  time: 1179.2077, train_loglik: -6.36987499, KL_z: 7.36079032, KL_s: 1.45729312, ELBO: -15.18795843, Test_loglik: -36.25644599\n",
      "\n",
      "Epoch: [141]  time: 1187.8252, train_loglik: -6.37255172, KL_z: 7.36792759, KL_s: 1.45739914, ELBO: -15.19787845, Test_loglik: -35.95040215\n",
      "\n",
      "Epoch: [142]  time: 1196.5179, train_loglik: -6.37028956, KL_z: 7.36416723, KL_s: 1.45767454, ELBO: -15.19213134, Test_loglik: -35.06751506\n",
      "\n",
      "Epoch: [143]  time: 1204.5678, train_loglik: -6.36452511, KL_z: 7.35936332, KL_s: 1.45824749, ELBO: -15.18213592, Test_loglik: -32.41216024\n",
      "\n",
      "Epoch: [144]  time: 1213.0687, train_loglik: -6.38102050, KL_z: 7.35295953, KL_s: 1.45811109, ELBO: -15.19209111, Test_loglik: -33.56336466\n",
      "\n",
      "Epoch: [145]  time: 1221.5307, train_loglik: -6.36488640, KL_z: 7.36900879, KL_s: 1.45840249, ELBO: -15.19229768, Test_loglik: -36.19332886\n",
      "\n",
      "Epoch: [146]  time: 1229.8306, train_loglik: -6.38062170, KL_z: 7.35715316, KL_s: 1.45871075, ELBO: -15.19648561, Test_loglik: -33.16698880\n",
      "\n",
      "Epoch: [147]  time: 1238.5131, train_loglik: -6.39781462, KL_z: 7.33930700, KL_s: 1.45858781, ELBO: -15.19570943, Test_loglik: -33.34525214\n",
      "\n",
      "Epoch: [148]  time: 1246.3286, train_loglik: -6.41114654, KL_z: 7.33930857, KL_s: 1.45833575, ELBO: -15.20879087, Test_loglik: -33.41666328\n",
      "\n",
      "Epoch: [149]  time: 1254.6145, train_loglik: -6.39822853, KL_z: 7.33182939, KL_s: 1.45985007, ELBO: -15.18990799, Test_loglik: -26.76808167\n",
      "\n",
      "Epoch: [150]  time: 1262.4659, train_loglik: -6.41977853, KL_z: 7.32018558, KL_s: 1.45910738, ELBO: -15.19907149, Test_loglik: -32.53576660\n",
      "\n",
      "Epoch: [151]  time: 1270.6545, train_loglik: -6.41421899, KL_z: 7.32187419, KL_s: 1.45961776, ELBO: -15.19571094, Test_loglik: -31.93003676\n",
      "\n",
      "Epoch: [152]  time: 1279.1443, train_loglik: -6.40979308, KL_z: 7.32225315, KL_s: 1.45985905, ELBO: -15.19190528, Test_loglik: -39.40852525\n",
      "\n",
      "Epoch: [153]  time: 1287.3552, train_loglik: -6.41262144, KL_z: 7.31969216, KL_s: 1.46007681, ELBO: -15.19239041, Test_loglik: -29.32770793\n",
      "\n",
      "Epoch: [154]  time: 1295.6318, train_loglik: -6.42073296, KL_z: 7.32651420, KL_s: 1.46031305, ELBO: -15.20756020, Test_loglik: -36.31541612\n",
      "\n",
      "Epoch: [155]  time: 1305.1619, train_loglik: -6.41545691, KL_z: 7.31444599, KL_s: 1.45987112, ELBO: -15.18977403, Test_loglik: -29.04424371\n",
      "\n",
      "Epoch: [156]  time: 1313.6354, train_loglik: -6.42691631, KL_z: 7.31893206, KL_s: 1.45983867, ELBO: -15.20568705, Test_loglik: -35.14571804\n",
      "\n",
      "Epoch: [157]  time: 1322.2013, train_loglik: -6.43210199, KL_z: 7.30954346, KL_s: 1.46037903, ELBO: -15.20202448, Test_loglik: -33.24628025\n",
      "\n",
      "Epoch: [158]  time: 1330.5174, train_loglik: -6.42120080, KL_z: 7.31212057, KL_s: 1.46095756, ELBO: -15.19427894, Test_loglik: -32.37211439\n",
      "\n",
      "Epoch: [159]  time: 1339.1400, train_loglik: -6.44074827, KL_z: 7.30286157, KL_s: 1.46219445, ELBO: -15.20580429, Test_loglik: -30.62894016\n",
      "\n",
      "Epoch: [160]  time: 1347.8859, train_loglik: -6.43551531, KL_z: 7.31086280, KL_s: 1.46305143, ELBO: -15.20942954, Test_loglik: -31.64852227\n",
      "\n",
      "Epoch: [161]  time: 1356.6869, train_loglik: -6.42657542, KL_z: 7.30870962, KL_s: 1.46245318, ELBO: -15.19773822, Test_loglik: -32.98946804\n",
      "\n",
      "Epoch: [162]  time: 1365.1826, train_loglik: -6.43182166, KL_z: 7.30464258, KL_s: 1.46318387, ELBO: -15.19964811, Test_loglik: -34.58343506\n",
      "\n",
      "Epoch: [163]  time: 1373.4018, train_loglik: -6.44538949, KL_z: 7.29431347, KL_s: 1.46271733, ELBO: -15.20242029, Test_loglik: -32.96568129\n",
      "\n",
      "Epoch: [164]  time: 1381.7839, train_loglik: -6.44276512, KL_z: 7.30593138, KL_s: 1.46279752, ELBO: -15.21149402, Test_loglik: -36.56280518\n",
      "\n",
      "Epoch: [165]  time: 1390.2620, train_loglik: -6.43259297, KL_z: 7.31194515, KL_s: 1.46366474, ELBO: -15.20820286, Test_loglik: -34.98285251\n",
      "\n",
      "Epoch: [166]  time: 1398.3048, train_loglik: -6.42578029, KL_z: 7.31340723, KL_s: 1.46381326, ELBO: -15.20300079, Test_loglik: -30.27324422\n",
      "\n",
      "Epoch: [167]  time: 1405.5154, train_loglik: -6.43386519, KL_z: 7.32027579, KL_s: 1.46406130, ELBO: -15.21820228, Test_loglik: -33.16648356\n",
      "\n",
      "Epoch: [168]  time: 1412.9107, train_loglik: -6.42509864, KL_z: 7.32510135, KL_s: 1.46394216, ELBO: -15.21414215, Test_loglik: -36.46672228\n",
      "\n",
      "Epoch: [169]  time: 1420.9085, train_loglik: -6.44206203, KL_z: 7.31064200, KL_s: 1.46467573, ELBO: -15.21737976, Test_loglik: -30.08689711\n",
      "\n",
      "Epoch: [170]  time: 1429.5673, train_loglik: -6.44540572, KL_z: 7.29356224, KL_s: 1.46600443, ELBO: -15.20497238, Test_loglik: -28.18233236\n",
      "\n",
      "Epoch: [171]  time: 1438.5870, train_loglik: -6.44986668, KL_z: 7.29732091, KL_s: 1.46615880, ELBO: -15.21334638, Test_loglik: -26.15646193\n",
      "\n",
      "Epoch: [172]  time: 1447.2902, train_loglik: -6.44192713, KL_z: 7.31700320, KL_s: 1.46698792, ELBO: -15.22591825, Test_loglik: -32.89186266\n",
      "\n",
      "Epoch: [173]  time: 1455.9997, train_loglik: -6.44458878, KL_z: 7.30966594, KL_s: 1.46806110, ELBO: -15.22231582, Test_loglik: -32.71982151\n",
      "\n",
      "Epoch: [174]  time: 1464.8174, train_loglik: -6.44606813, KL_z: 7.31475580, KL_s: 1.46840117, ELBO: -15.22922510, Test_loglik: -33.02484131\n",
      "\n",
      "Epoch: [175]  time: 1473.4758, train_loglik: -6.45590637, KL_z: 7.30327928, KL_s: 1.46791154, ELBO: -15.22709720, Test_loglik: -31.81200833\n",
      "\n",
      "Epoch: [176]  time: 1481.7606, train_loglik: -6.45323054, KL_z: 7.30169995, KL_s: 1.46776617, ELBO: -15.22269666, Test_loglik: -37.91271294\n",
      "\n"
     ]
    },
    {
     "name": "stdout",
     "output_type": "stream",
     "text": [
      "Epoch: [177]  time: 1490.0325, train_loglik: -6.46050719, KL_z: 7.29612845, KL_s: 1.46737599, ELBO: -15.22401164, Test_loglik: -32.68724908\n",
      "\n",
      "Epoch: [178]  time: 1498.5294, train_loglik: -6.44595617, KL_z: 7.31093725, KL_s: 1.46720658, ELBO: -15.22409999, Test_loglik: -32.34819878\n",
      "\n",
      "Epoch: [179]  time: 1506.7554, train_loglik: -6.44304600, KL_z: 7.30733847, KL_s: 1.46752322, ELBO: -15.21790769, Test_loglik: -32.51146444\n",
      "\n",
      "Epoch: [180]  time: 1515.0316, train_loglik: -6.44314305, KL_z: 7.30637804, KL_s: 1.46758085, ELBO: -15.21710194, Test_loglik: -32.13947550\n",
      "\n",
      "Epoch: [181]  time: 1523.4945, train_loglik: -6.45987703, KL_z: 7.29763805, KL_s: 1.46674407, ELBO: -15.22425915, Test_loglik: -34.53765191\n",
      "\n",
      "Epoch: [182]  time: 1531.8858, train_loglik: -6.46893450, KL_z: 7.29111625, KL_s: 1.46661383, ELBO: -15.22666458, Test_loglik: -31.33312649\n",
      "\n",
      "Epoch: [183]  time: 1540.1698, train_loglik: -6.46272875, KL_z: 7.28791089, KL_s: 1.46607249, ELBO: -15.21671212, Test_loglik: -38.49989488\n",
      "\n",
      "Epoch: [184]  time: 1548.5641, train_loglik: -6.46837237, KL_z: 7.29268089, KL_s: 1.46794430, ELBO: -15.22899756, Test_loglik: -30.39169312\n",
      "\n",
      "Epoch: [185]  time: 1557.0344, train_loglik: -6.48015937, KL_z: 7.28874202, KL_s: 1.46922689, ELBO: -15.23812829, Test_loglik: -32.66523573\n",
      "\n",
      "Epoch: [186]  time: 1565.6274, train_loglik: -6.47825122, KL_z: 7.29010149, KL_s: 1.46913746, ELBO: -15.23749018, Test_loglik: -31.83931139\n",
      "\n",
      "Epoch: [187]  time: 1573.7503, train_loglik: -6.48290130, KL_z: 7.27884976, KL_s: 1.46911136, ELBO: -15.23086241, Test_loglik: -29.12818400\n",
      "\n",
      "Epoch: [188]  time: 1581.9400, train_loglik: -6.48733436, KL_z: 7.27690233, KL_s: 1.46912821, ELBO: -15.23336490, Test_loglik: -32.37679036\n",
      "\n",
      "Epoch: [189]  time: 1590.3468, train_loglik: -6.48609857, KL_z: 7.26338741, KL_s: 1.46886570, ELBO: -15.21835169, Test_loglik: -29.53762478\n",
      "\n",
      "Epoch: [190]  time: 1598.7519, train_loglik: -6.49680195, KL_z: 7.26474506, KL_s: 1.46912080, ELBO: -15.23066781, Test_loglik: -31.25138346\n",
      "\n",
      "Epoch: [191]  time: 1608.7306, train_loglik: -6.49244340, KL_z: 7.27376200, KL_s: 1.46827016, ELBO: -15.23447556, Test_loglik: -28.79869927\n",
      "\n",
      "Epoch: [192]  time: 1617.2290, train_loglik: -6.49417934, KL_z: 7.27440866, KL_s: 1.46907067, ELBO: -15.23765867, Test_loglik: -34.47195435\n",
      "\n",
      "Epoch: [193]  time: 1625.8673, train_loglik: -6.50037647, KL_z: 7.27060513, KL_s: 1.47134783, ELBO: -15.24232942, Test_loglik: -31.80958049\n",
      "\n",
      "Epoch: [194]  time: 1634.0981, train_loglik: -6.48918505, KL_z: 7.27932497, KL_s: 1.47199169, ELBO: -15.24050171, Test_loglik: -34.85410902\n",
      "\n",
      "Epoch: [195]  time: 1642.4350, train_loglik: -6.48270359, KL_z: 7.28226271, KL_s: 1.47261474, ELBO: -15.23758103, Test_loglik: -31.22468736\n",
      "\n",
      "Epoch: [196]  time: 1650.5588, train_loglik: -6.49547289, KL_z: 7.27678877, KL_s: 1.47271560, ELBO: -15.24497726, Test_loglik: -36.22961426\n",
      "\n",
      "Epoch: [197]  time: 1658.7168, train_loglik: -6.49124083, KL_z: 7.27192492, KL_s: 1.47274720, ELBO: -15.23591295, Test_loglik: -28.92891100\n",
      "\n",
      "Epoch: [198]  time: 1666.9044, train_loglik: -6.50147877, KL_z: 7.27054267, KL_s: 1.47316609, ELBO: -15.24518753, Test_loglik: -34.77143690\n",
      "\n",
      "Epoch: [199]  time: 1674.7082, train_loglik: -6.49777738, KL_z: 7.26514783, KL_s: 1.47284253, ELBO: -15.23576773, Test_loglik: -30.28242323\n",
      "\n",
      "Training Finished ...\n"
     ]
    }
   ],
   "source": [
    "with tf.Session(graph=sess_HVAE) as session:\n",
    "        \n",
    "    # Add ops to save and restore all the variables.\n",
    "    saver = tf.train.Saver()\n",
    "        \n",
    "    if(args.restore == 1):\n",
    "        saver.restore(session, network_file_name)\n",
    "        print(\"Model restored.\")\n",
    "    else:\n",
    "#        saver = tf.train.Saver()\n",
    "        print('Initizalizing Variables ...')\n",
    "        tf.global_variables_initializer().run()\n",
    "    \n",
    "    print('Training the HVAE ...')\n",
    "    if(args.train == 1):\n",
    "        \n",
    "        start_time = time.time()\n",
    "        # Training cycle\n",
    "        \n",
    "        loglik_epoch = []\n",
    "        testloglik_epoch = []\n",
    "        KL_s_epoch = []\n",
    "        KL_z_epoch = []\n",
    "        for epoch in range(args.epochs):\n",
    "            avg_loss = 0.\n",
    "            avg_KL_s = 0.\n",
    "            avg_KL_z = 0.\n",
    "            samples_list = []\n",
    "            p_params_list = []\n",
    "            q_params_list = []\n",
    "            log_p_x_total = []\n",
    "            log_p_x_missing_total = []\n",
    "            \n",
    "            # Annealing of Gumbel-Softmax parameter\n",
    "            tau = np.max([1.0 - 0.001*epoch,1e-3])\n",
    "            \n",
    "            #Randomize the data in the mini-batches\n",
    "#             random_perm = np.random.permutation(range(np.shape(train_data)[0]))\n",
    "#             train_data_aux = train_data[random_perm,:]\n",
    "#             miss_mask_aux = miss_mask[random_perm,:]\n",
    "#             true_miss_mask_aux = true_miss_mask[random_perm,:]\n",
    "\n",
    "            train_data_aux = train_data[:]\n",
    "            miss_mask_aux = miss_mask[:]\n",
    "            true_miss_mask_aux = true_miss_mask[:]\n",
    "            \n",
    "            for i in range(n_batches):      \n",
    "                \n",
    "                #Create inputs for the feed_dict\n",
    "                data_list, miss_list = read_functions.next_batch(train_data_aux, types_dict, miss_mask_aux, args.batch_size, index_batch=i)\n",
    "\n",
    "                #Delete not known data (input zeros)\n",
    "                data_list_observed = [data_list[i]*np.reshape(miss_list[:,i],[args.batch_size,1]) for i in range(len(data_list))]\n",
    "                \n",
    "                #Create feed dictionary\n",
    "                feedDict = {i: d for i, d in zip(tf_nodes['ground_batch'], data_list)}\n",
    "                feedDict.update({i: d for i, d in zip(tf_nodes['ground_batch_observed'], data_list_observed)})\n",
    "                feedDict[tf_nodes['miss_list']] = miss_list\n",
    "                feedDict[tf_nodes['tau_GS']] = tau\n",
    "                \n",
    "                #Running VAE\n",
    "                _,loss,KL_z,KL_s,samples,log_p_x,log_p_x_missing,p_params,q_params  = session.run([tf_nodes['optim'], \n",
    "                                                                                                   tf_nodes['loss_re'], \n",
    "                                                                                                   tf_nodes['KL_z'], \n",
    "                                                                                                   tf_nodes['KL_s'], \n",
    "                                                                                                   tf_nodes['samples'],\n",
    "                                                                                                   tf_nodes['log_p_x'], \n",
    "                                                                                                   tf_nodes['log_p_x_missing'],\n",
    "                                                                                                   tf_nodes['p_params'],\n",
    "                                                                                                   tf_nodes['q_params']],\n",
    "                                                                                                  feed_dict=feedDict)\n",
    "                \n",
    "                #Collect all samples, distirbution parameters and logliks in lists\n",
    "                samples_list.append(samples)\n",
    "                p_params_list.append(p_params)\n",
    "                q_params_list.append(q_params)\n",
    "                log_p_x_total.append(log_p_x)\n",
    "                log_p_x_missing_total.append(log_p_x_missing)\n",
    "                \n",
    "                # Compute average loss\n",
    "                avg_loss += np.mean(loss)\n",
    "                avg_KL_s += np.mean(KL_s)\n",
    "                avg_KL_z += np.mean(KL_z)\n",
    "                \n",
    "            #Concatenate samples in arrays\n",
    "            s_total, z_total, y_total, est_data = read_functions.samples_concatenation(samples_list)\n",
    "            \n",
    "            #Transform discrete variables back to the original values\n",
    "            train_data_transformed = read_functions.discrete_variables_transformation(train_data_aux[:n_batches*args.batch_size,:], \n",
    "                                                                                      types_dict)\n",
    "            est_data_transformed = read_functions.discrete_variables_transformation(est_data, types_dict)\n",
    "            est_data_imputed = read_functions.mean_imputation(train_data_transformed, miss_mask_aux[:n_batches*args.batch_size,:], \n",
    "                                                              types_dict)\n",
    "            \n",
    "            #Create global dictionary of the distribution parameters\n",
    "            p_params_complete = read_functions.p_distribution_params_concatenation(p_params_list, types_dict, args.dim_latent_z, \n",
    "                                                                                   args.dim_latent_s)\n",
    "            q_params_complete = read_functions.q_distribution_params_concatenation(q_params_list,  args.dim_latent_z, args.dim_latent_s)\n",
    "            \n",
    "            #Compute mean and mode of our loglik models\n",
    "            loglik_mean, loglik_mode = read_functions.statistics(p_params_complete['x'],types_dict)\n",
    "                \n",
    "            #Try this for the errors\n",
    "            error_train_mean, error_test_mean = read_functions.error_computation(train_data_transformed, loglik_mean, \n",
    "                                                                                 types_dict, miss_mask_aux[:n_batches*args.batch_size,:])\n",
    "            error_train_mode, error_test_mode = read_functions.error_computation(train_data_transformed, loglik_mode, \n",
    "                                                                                 types_dict, miss_mask_aux[:n_batches*args.batch_size,:])\n",
    "            error_train_samples, error_test_samples = read_functions.error_computation(train_data_transformed, est_data_transformed, \n",
    "                                                                                       types_dict, \n",
    "                                                                                       miss_mask_aux[:n_batches*args.batch_size,:])\n",
    "            error_train_imputed, error_test_imputed = read_functions.error_computation(train_data_transformed, est_data_imputed, \n",
    "                                                                                       types_dict, \n",
    "                                                                                       miss_mask_aux[:n_batches*args.batch_size,:])\n",
    "                \n",
    "            #Compute test-loglik from log_p_x_missing\n",
    "            log_p_x_total = np.transpose(np.concatenate(log_p_x_total,1))\n",
    "            log_p_x_missing_total = np.transpose(np.concatenate(log_p_x_missing_total,1))\n",
    "            if args.true_miss_file:\n",
    "                log_p_x_missing_total = np.multiply(log_p_x_missing_total,true_miss_mask_aux[:n_batches*args.batch_size,:])\n",
    "            avg_test_loglik = np.sum(log_p_x_missing_total)/np.sum(1.0-miss_mask_aux)\n",
    "\n",
    "            # Display logs per epoch step\n",
    "            if epoch % args.display == 0:\n",
    "                print_loss(epoch, start_time, avg_loss/n_batches, avg_test_loglik, avg_KL_s/n_batches, avg_KL_z/n_batches)\n",
    "                print(\"\")\n",
    "                \n",
    "            #Compute train and test loglik per variables\n",
    "            loglik_per_variable = np.sum(log_p_x_total,0)/np.sum(miss_mask_aux,0)\n",
    "            loglik_per_variable_missing = np.sum(log_p_x_missing_total,0)/np.sum(1.0-miss_mask_aux,0)\n",
    "            \n",
    "            #Store evolution of all the terms in the ELBO\n",
    "            loglik_epoch.append(loglik_per_variable)\n",
    "            testloglik_epoch.append(loglik_per_variable_missing)\n",
    "            KL_s_epoch.append(avg_KL_s/n_batches)\n",
    "            KL_z_epoch.append(avg_KL_z/n_batches)\n",
    "            \n",
    "            \n",
    "            if epoch % args.save == 0:\n",
    "                print('Saving Variables ...')  \n",
    "                save_path = saver.save(session, network_file_name)    \n",
    "            \n",
    "        print('Training Finished ...')\n",
    "        \n",
    "        \n",
    "    #Test phase\n",
    "    else:\n",
    "        \n",
    "        start_time = time.time()\n",
    "        # Testing cycle\n",
    "        \n",
    "        f_toy2, ax_toy2 = plt.subplots(4,4,figsize=(8, 8))\n",
    "        loglik_epoch = []\n",
    "        testloglik_epoch = []\n",
    "        for epoch in range(args.epochs):\n",
    "            avg_loss = 0.\n",
    "            avg_KL_s = 0.\n",
    "            avg_KL_y = 0.\n",
    "            avg_KL_z = 0.\n",
    "            samples_list = []\n",
    "            p_params_list = []\n",
    "            q_params_list = []\n",
    "            log_p_x_total = []\n",
    "            log_p_x_missing_total = []\n",
    "            \n",
    "            # Constant Gumbel-Softmax parameter (where we have finished the annealing)\n",
    "            tau = 1e-3\n",
    "            \n",
    "            for i in range(n_batches):      \n",
    "                \n",
    "                #Create train minibatch\n",
    "                data_list, miss_list = read_functions.next_batch(train_data, types_dict, miss_mask, args.batch_size, \n",
    "                                                                 index_batch=i) # miss_percentage=args.miss_percentage_train)\n",
    "\n",
    "                #Delete not known data\n",
    "                data_list_observed = [data_list[i]*np.reshape(miss_list[:,i],[args.batch_size,1]) for i in range(len(data_list))]\n",
    "                \n",
    "                #Create feed dictionary\n",
    "                feedDict = {i: d for i, d in zip(tf_nodes['ground_batch'], data_list)}\n",
    "                feedDict.update({i: d for i, d in zip(tf_nodes['ground_batch_observed'], data_list_observed)})\n",
    "                feedDict[tf_nodes['miss_list']] = miss_list\n",
    "                feedDict[tf_nodes['tau_GS']] = tau\n",
    "                \n",
    "                #Get samples from the model\n",
    "#                 KL_s,loss,samples,dec_data,log_p_x,log_p_x_missing,loss_total,KL_z,p_params,q_params = session.run([tf_nodes['KL_s'], \n",
    "                KL_s,loss,samples,log_p_x,log_p_x_missing,loss_total,KL_z,p_params,q_params = session.run([tf_nodes['KL_s'], \n",
    "                                                                                                           tf_nodes['loss_re'],\n",
    "                                                                                                           tf_nodes['samples'],\n",
    "#                                                                                                          tf_nodes['dec_data'],\n",
    "                                                                                                           tf_nodes['log_p_x'],\n",
    "                                                                                                           tf_nodes['log_p_x_missing'],\n",
    "                                                                                                           tf_nodes['loss'],\n",
    "                                                                                                           tf_nodes['KL_z'],\n",
    "                                                                                                           tf_nodes['p_params'],\n",
    "                                                                                                           tf_nodes['q_params']],\n",
    "                                                                                                          feed_dict=feedDict)\n",
    "                \n",
    "                #Get samples from the generator function (computing the mode of all distributions)\n",
    "                samples_test,log_p_x_test,log_p_x_missing_test,test_params  = session.run([tf_nodes['samples_test'],\n",
    "                                                                                           tf_nodes['log_p_x_test'],\n",
    "                                                                                           tf_nodes['log_p_x_missing_test'],\n",
    "                                                                                           tf_nodes['test_params']],\n",
    "                                                                                          feed_dict=feedDict)\n",
    "                \n",
    "                \n",
    "                samples_list.append(samples)\n",
    "                p_params_list.append(test_params)\n",
    "                q_params_list.append(q_params)\n",
    "                log_p_x_total.append(log_p_x)\n",
    "                log_p_x_missing_total.append(log_p_x_missing)\n",
    "                \n",
    "                # Compute average loss\n",
    "                avg_loss += np.mean(loss)\n",
    "                avg_KL_s += np.mean(KL_s)\n",
    "                avg_KL_z += np.mean(KL_z)\n",
    "                \n",
    "            #Separate the samples from the batch list\n",
    "#             s_aux, z_aux, y_total, est_data = read_functions.samples_concatenation(samples_list, args.dim_latent_z, args.dim_latent_s)\n",
    "            s_aux, z_aux, y_total, est_data = read_functions.samples_concatenation(samples_list)\n",
    "\n",
    "            \n",
    "            #Transform discrete variables to original values\n",
    "            train_data_transformed = read_functions.discrete_variables_transformation(train_data, types_dict)\n",
    "            est_data_transformed = read_functions.discrete_variables_transformation(est_data, types_dict)\n",
    "            est_data_imputed = read_functions.mean_imputation(train_data_transformed, miss_mask, types_dict)\n",
    "            \n",
    "            #Create global dictionary of the distribution parameters\n",
    "            p_params_complete = read_functions.p_distribution_params_concatenation(p_params_list, types_dict, args.dim_latent_z, \n",
    "                                                                                   args.dim_latent_s)\n",
    "            q_params_complete = read_functions.q_distribution_params_concatenation(q_params_list, args.dim_latent_z, args.dim_latent_s)\n",
    "            \n",
    "            #Compute mean and mode of our loglik models\n",
    "            loglik_mean, loglik_mode = read_functions.statistics(p_params_complete['x'],types_dict)\n",
    "                \n",
    "            #Try this for the errors\n",
    "            error_train_mean, error_test_mean = read_functions.error_computation(train_data_transformed, loglik_mean, types_dict, miss_mask)\n",
    "            error_train_mode, error_test_mode = read_functions.error_computation(train_data_transformed, loglik_mode, types_dict, miss_mask)\n",
    "            error_train_samples, error_test_samples = read_functions.error_computation(train_data_transformed, est_data_transformed, \n",
    "                                                                                       types_dict, miss_mask)\n",
    "            error_train_imputed, error_test_imputed = read_functions.error_computation(train_data_transformed, est_data_imputed,\n",
    "                                                                                       types_dict, miss_mask)\n",
    "#            error_train_mean, error_test_mean_den = read_functions.error_computation_mean_den(train_data_transformed, loglik_mean, types_dict, miss_mask)\n",
    "                \n",
    "#            Compute test-loglik from log_p_x_missing\n",
    "            log_p_x_missing_total = np.transpose(np.concatenate(log_p_x_missing_total,1))\n",
    "            if args.true_miss_file:\n",
    "                log_p_x_missing_total = np.multiply(log_p_x_missing_total,true_miss_mask)\n",
    "            avg_test_loglik = np.sum(log_p_x_missing_total)/np.sum(1.0-miss_mask)\n",
    "\n",
    "            # Display logs per epoch step\n",
    "            if epoch % args.display == 0:\n",
    "                print_loss(epoch, start_time, avg_loss/n_batches, avg_test_loglik, avg_KL_s/n_batches, avg_KL_z/n_batches)\n",
    "                print(\"\")\n",
    "                \n",
    "            #Plot evolution of test loglik\n",
    "            loglik_per_variable = np.sum(np.concatenate(log_p_x_total,1),1)/np.sum(miss_mask,0)\n",
    "            loglik_per_variable_missing = np.sum(log_p_x_missing_total,0)/np.sum(1.0-miss_mask,0)\n",
    "            b\n",
    "            loglik_epoch.append(loglik_per_variable)\n",
    "            testloglik_epoch.append(loglik_per_variable_missing)\n",
    " \n"
   ]
  },
  {
   "cell_type": "code",
   "execution_count": 14,
   "metadata": {},
   "outputs": [
    {
     "data": {
      "image/png": "[encoded data removed]",
      "text/plain": [
       "<Figure size 432x288 with 1 Axes>"
      ]
     },
     "metadata": {
      "needs_background": "light"
     },
     "output_type": "display_data"
    }
   ],
   "source": [
    "plt.hist(train_data[:,0], bins=10)\n",
    "plt.hist(est_data_transformed[:,0], bins=10)\n",
    "plt.show()"
   ]
  },
  {
   "cell_type": "code",
   "execution_count": 15,
   "metadata": {},
   "outputs": [
    {
     "data": {
      "image/png": "[encoded data removed]",
      "text/plain": [
       "<Figure size 432x288 with 1 Axes>"
      ]
     },
     "metadata": {
      "needs_background": "light"
     },
     "output_type": "display_data"
    }
   ],
   "source": [
    "plt.hist(train_data[:,1], bins=10)\n",
    "plt.hist(est_data_transformed[:,1], bins=10)\n",
    "plt.show()"
   ]
  },
  {
   "cell_type": "code",
   "execution_count": 16,
   "metadata": {},
   "outputs": [
    {
     "data": {
      "image/png": "[encoded data removed]",
      "text/plain": [
       "<Figure size 432x288 with 1 Axes>"
      ]
     },
     "metadata": {
      "needs_background": "light"
     },
     "output_type": "display_data"
    }
   ],
   "source": [
    "plt.hist(train_data[:,2], bins=10)\n",
    "plt.hist(est_data_transformed[:,2], bins=10)\n",
    "plt.show()"
   ]
  },
  {
   "cell_type": "code",
   "execution_count": 17,
   "metadata": {},
   "outputs": [
    {
     "data": {
      "image/png": "[encoded data removed]",
      "text/plain": [
       "<Figure size 432x288 with 1 Axes>"
      ]
     },
     "metadata": {
      "needs_background": "light"
     },
     "output_type": "display_data"
    }
   ],
   "source": [
    "plt.hist(train_data[:,3], bins=10)\n",
    "plt.hist(est_data_transformed[:,3], bins=10)\n",
    "plt.show()"
   ]
  },
  {
   "cell_type": "code",
   "execution_count": 18,
   "metadata": {},
   "outputs": [
    {
     "data": {
      "image/png": "[encoded data removed]",
      "text/plain": [
       "<Figure size 432x288 with 1 Axes>"
      ]
     },
     "metadata": {
      "needs_background": "light"
     },
     "output_type": "display_data"
    }
   ],
   "source": [
    "plt.hist(train_data[:,4], bins=10)\n",
    "plt.hist(est_data_transformed[:,4], bins=10)\n",
    "plt.show()"
   ]
  },
  {
   "cell_type": "code",
   "execution_count": 19,
   "metadata": {},
   "outputs": [
    {
     "data": {
      "image/png": "[encoded data removed]",
      "text/plain": [
       "<Figure size 432x288 with 1 Axes>"
      ]
     },
     "metadata": {
      "needs_background": "light"
     },
     "output_type": "display_data"
    }
   ],
   "source": [
    "plt.hist(train_data[:,5], bins=10)\n",
    "plt.hist(est_data_transformed[:,5], bins=10)\n",
    "plt.show()"
   ]
  },
  {
   "cell_type": "code",
   "execution_count": 20,
   "metadata": {},
   "outputs": [
    {
     "data": {
      "image/png": "[encoded data removed]",
      "text/plain": [
       "<Figure size 432x288 with 1 Axes>"
      ]
     },
     "metadata": {
      "needs_background": "light"
     },
     "output_type": "display_data"
    }
   ],
   "source": [
    "plt.hist(train_data[:,6], bins=10)\n",
    "plt.hist(est_data_transformed[:,6], bins=10)\n",
    "plt.show()"
   ]
  },
  {
   "cell_type": "code",
   "execution_count": 21,
   "metadata": {},
   "outputs": [
    {
     "data": {
      "image/png": "[encoded data removed]",
      "text/plain": [
       "<Figure size 432x288 with 1 Axes>"
      ]
     },
     "metadata": {
      "needs_background": "light"
     },
     "output_type": "display_data"
    }
   ],
   "source": [
    "plt.hist(train_data[:,7], bins=10)\n",
    "plt.hist(est_data_transformed[:,7], bins=10)\n",
    "plt.show()"
   ]
  },
  {
   "cell_type": "code",
   "execution_count": 22,
   "metadata": {},
   "outputs": [
    {
     "data": {
      "image/png": "[encoded data removed]",
      "text/plain": [
       "<Figure size 432x288 with 1 Axes>"
      ]
     },
     "metadata": {
      "needs_background": "light"
     },
     "output_type": "display_data"
    }
   ],
   "source": [
    "plt.hist(train_data[:,8], bins=10)\n",
    "plt.hist(est_data_transformed[:,8], bins=10)\n",
    "plt.show()"
   ]
  },
  {
   "cell_type": "code",
   "execution_count": 23,
   "metadata": {},
   "outputs": [
    {
     "data": {
      "text/plain": [
       "(70000, 9)"
      ]
     },
     "execution_count": 23,
     "metadata": {},
     "output_type": "execute_result"
    }
   ],
   "source": [
    "est_data_transformed.shape"
   ]
  },
  {
   "cell_type": "code",
   "execution_count": 24,
   "metadata": {},
   "outputs": [
    {
     "data": {
      "text/plain": [
       "(70000, 7)"
      ]
     },
     "execution_count": 24,
     "metadata": {},
     "output_type": "execute_result"
    }
   ],
   "source": [
    "z_total.shape"
   ]
  },
  {
   "cell_type": "code",
   "execution_count": 25,
   "metadata": {},
   "outputs": [
    {
     "data": {
      "text/plain": [
       "(70000, 7)"
      ]
     },
     "execution_count": 25,
     "metadata": {},
     "output_type": "execute_result"
    }
   ],
   "source": [
    "s_total.shape"
   ]
  },
  {
   "cell_type": "code",
   "execution_count": 26,
   "metadata": {},
   "outputs": [
    {
     "data": {
      "text/plain": [
       "array([2.2888298e-06, 1.9745274e-02, 8.1390049e-04, 5.8901972e-13,\n",
       "       4.0383762e-05, 9.7939819e-01, 2.8611188e-10], dtype=float32)"
      ]
     },
     "execution_count": 26,
     "metadata": {},
     "output_type": "execute_result"
    }
   ],
   "source": [
    "s_total[0]"
   ]
  },
  {
   "cell_type": "code",
   "execution_count": 27,
   "metadata": {},
   "outputs": [],
   "source": [
    "import torch\n",
    "import torch.nn as nn\n",
    "import torch.nn.functional as F\n",
    "import torchvision.transforms as transforms\n",
    "from torch.autograd import Variable\n",
    "from torch import optim\n",
    "import pyro\n",
    "import pyro.distributions as dist\n",
    "\n",
    "from tensorboardX import SummaryWriter\n",
    "\n",
    "from tqdm import tqdm\n",
    "import time\n",
    "\n",
    "import random\n",
    "from numpy.random import *\n",
    "import matplotlib.pyplot as plt \n",
    "#np.random.seed(100)\n",
    "from mpl_toolkits.mplot3d import Axes3D\n",
    "%matplotlib inline\n",
    "\n",
    "import csv\n",
    "\n",
    "from sklearn.utils import shuffle\n",
    "from sklearn.model_selection import train_test_split\n",
    "\n",
    "seed = 1234\n",
    "rng = np.random.RandomState(seed)\n",
    "torch.manual_seed(seed)\n",
    "\n",
    "if torch.cuda.is_available():\n",
    "    device='cuda'\n",
    "else:\n",
    "    device='cpu'"
   ]
  },
  {
   "cell_type": "code",
   "execution_count": 28,
   "metadata": {},
   "outputs": [],
   "source": [
    "input_dim = len(data[0])-2\n",
    "hidden_dim = 100\n",
    "#output_dim = input_dim\n",
    "cond_dim = 2\n",
    "estimate_dim =1"
   ]
  },
  {
   "cell_type": "code",
   "execution_count": 29,
   "metadata": {},
   "outputs": [],
   "source": [
    "batch_size = 100\n",
    "train_loader = torch.utils.data.DataLoader(dataset=train, batch_size=batch_size, shuffle=False)\n",
    "test_loader = torch.utils.data.DataLoader(dataset=test, batch_size=batch_size, shuffle=False)"
   ]
  },
  {
   "cell_type": "code",
   "execution_count": 30,
   "metadata": {},
   "outputs": [],
   "source": [
    "def input_shaper(x,input_dim):\n",
    "    return x.view(-1, input_dim).float()\n",
    "    \n",
    "def tag_shaper(tag):\n",
    "    return torch.eye(2)[tag.long()].float()"
   ]
  },
  {
   "cell_type": "code",
   "execution_count": 31,
   "metadata": {},
   "outputs": [],
   "source": [
    "class Estimator(nn.Module):\n",
    "    def __init__(self, cond_dim, hidden_dim, latent_dim, estimate_dim):\n",
    "        super(Estimator, self).__init__()\n",
    "        \n",
    "        self.fc1 = nn.Linear(latent_dim+cond_dim, hidden_dim)\n",
    "        self.fc2 = nn.Linear(hidden_dim, hidden_dim)\n",
    "        self.fc3 = nn.Linear(hidden_dim, estimate_dim)\n",
    "        \n",
    "    def forward(self,z,y):\n",
    "        h = F.relu(self.fc1(torch.cat([z,y],1)))\n",
    "        h = F.relu(self.fc2(h))\n",
    "        return self.fc3(h)"
   ]
  },
  {
   "cell_type": "code",
   "execution_count": 32,
   "metadata": {},
   "outputs": [
    {
     "name": "stdout",
     "output_type": "stream",
     "text": [
      "60000\n"
     ]
    }
   ],
   "source": [
    "print(split_point)\n",
    "z_total_train = z_total[:split_point]\n",
    "z_total_test = z_total[split_point:]\n",
    "s_total_train = s_total[:split_point]\n",
    "s_total_test = s_total[split_point:]"
   ]
  },
  {
   "cell_type": "code",
   "execution_count": 33,
   "metadata": {},
   "outputs": [
    {
     "name": "stdout",
     "output_type": "stream",
     "text": [
      "(60000, 14)\n",
      "(10000, 14)\n"
     ]
    }
   ],
   "source": [
    "sz_total_train = np.concatenate([z_total_train, s_total_train], 1)\n",
    "sz_total_test = np.concatenate([z_total_test, s_total_test], 1)\n",
    "print(sz_total_train.shape)\n",
    "print(sz_total_test.shape)"
   ]
  },
  {
   "cell_type": "markdown",
   "metadata": {},
   "source": [
    "## latent = s and z"
   ]
  },
  {
   "cell_type": "code",
   "execution_count": 34,
   "metadata": {},
   "outputs": [],
   "source": [
    "latent_dim = args.dim_latent_s + args.dim_latent_z\n",
    "\n",
    "criterion = nn.MSELoss()\n",
    "model2 = Estimator(cond_dim, hidden_dim, latent_dim, estimate_dim)\n",
    "model2.to(device)\n",
    "optimizer = torch.optim.SGD(model2.parameters(),lr=1e-3)"
   ]
  },
  {
   "cell_type": "code",
   "execution_count": 35,
   "metadata": {},
   "outputs": [
    {
     "name": "stderr",
     "output_type": "stream",
     "text": [
      "100%|██████████| 600/600 [00:00<00:00, 638.35it/s]\n",
      " 11%|█▏        | 68/600 [00:00<00:00, 675.26it/s]"
     ]
    },
    {
     "name": "stdout",
     "output_type": "stream",
     "text": [
      "Epochs:1, train_Loss:2.275063991546631, test_Loss:1.47\n"
     ]
    },
    {
     "name": "stderr",
     "output_type": "stream",
     "text": [
      "100%|██████████| 600/600 [00:00<00:00, 670.49it/s]\n",
      " 11%|█▏        | 68/600 [00:00<00:00, 675.71it/s]"
     ]
    },
    {
     "name": "stdout",
     "output_type": "stream",
     "text": [
      "Epochs:2, train_Loss:1.9857100248336792, test_Loss:1.29\n"
     ]
    },
    {
     "name": "stderr",
     "output_type": "stream",
     "text": [
      "100%|██████████| 600/600 [00:00<00:00, 670.87it/s]\n",
      " 12%|█▏        | 70/600 [00:00<00:00, 691.02it/s]"
     ]
    },
    {
     "name": "stdout",
     "output_type": "stream",
     "text": [
      "Epochs:3, train_Loss:1.9124665260314941, test_Loss:1.25\n"
     ]
    },
    {
     "name": "stderr",
     "output_type": "stream",
     "text": [
      "100%|██████████| 600/600 [00:00<00:00, 683.49it/s]\n",
      " 11%|█▏        | 68/600 [00:00<00:00, 674.35it/s]"
     ]
    },
    {
     "name": "stdout",
     "output_type": "stream",
     "text": [
      "Epochs:4, train_Loss:1.885416865348816, test_Loss:1.22\n"
     ]
    },
    {
     "name": "stderr",
     "output_type": "stream",
     "text": [
      "100%|██████████| 600/600 [00:00<00:00, 674.89it/s]\n",
      " 11%|█         | 67/600 [00:00<00:00, 669.12it/s]"
     ]
    },
    {
     "name": "stdout",
     "output_type": "stream",
     "text": [
      "Epochs:5, train_Loss:1.8770751953125, test_Loss:1.21\n"
     ]
    },
    {
     "name": "stderr",
     "output_type": "stream",
     "text": [
      "100%|██████████| 600/600 [00:00<00:00, 675.98it/s]\n",
      " 12%|█▏        | 69/600 [00:00<00:00, 681.19it/s]"
     ]
    },
    {
     "name": "stdout",
     "output_type": "stream",
     "text": [
      "Epochs:6, train_Loss:1.8734123706817627, test_Loss:1.19\n"
     ]
    },
    {
     "name": "stderr",
     "output_type": "stream",
     "text": [
      "100%|██████████| 600/600 [00:00<00:00, 673.81it/s]\n",
      " 11%|█         | 67/600 [00:00<00:00, 669.21it/s]"
     ]
    },
    {
     "name": "stdout",
     "output_type": "stream",
     "text": [
      "Epochs:7, train_Loss:1.8733900785446167, test_Loss:1.18\n"
     ]
    },
    {
     "name": "stderr",
     "output_type": "stream",
     "text": [
      "100%|██████████| 600/600 [00:00<00:00, 667.40it/s]\n",
      " 11%|█▏        | 68/600 [00:00<00:00, 671.92it/s]"
     ]
    },
    {
     "name": "stdout",
     "output_type": "stream",
     "text": [
      "Epochs:8, train_Loss:1.876213550567627, test_Loss:1.18\n"
     ]
    },
    {
     "name": "stderr",
     "output_type": "stream",
     "text": [
      "100%|██████████| 600/600 [00:00<00:00, 675.29it/s]\n",
      " 11%|█▏        | 68/600 [00:00<00:00, 671.53it/s]"
     ]
    },
    {
     "name": "stdout",
     "output_type": "stream",
     "text": [
      "Epochs:9, train_Loss:1.8790454864501953, test_Loss:1.17\n"
     ]
    },
    {
     "name": "stderr",
     "output_type": "stream",
     "text": [
      "100%|██████████| 600/600 [00:00<00:00, 672.86it/s]\n",
      " 11%|█▏        | 68/600 [00:00<00:00, 677.98it/s]"
     ]
    },
    {
     "name": "stdout",
     "output_type": "stream",
     "text": [
      "Epochs:10, train_Loss:1.8835315704345703, test_Loss:1.16\n"
     ]
    },
    {
     "name": "stderr",
     "output_type": "stream",
     "text": [
      "100%|██████████| 600/600 [00:00<00:00, 678.05it/s]\n",
      " 12%|█▏        | 69/600 [00:00<00:00, 682.34it/s]"
     ]
    },
    {
     "name": "stdout",
     "output_type": "stream",
     "text": [
      "Epochs:11, train_Loss:1.8887983560562134, test_Loss:1.16\n"
     ]
    },
    {
     "name": "stderr",
     "output_type": "stream",
     "text": [
      "100%|██████████| 600/600 [00:00<00:00, 680.02it/s]\n",
      " 12%|█▏        | 69/600 [00:00<00:00, 683.41it/s]"
     ]
    },
    {
     "name": "stdout",
     "output_type": "stream",
     "text": [
      "Epochs:12, train_Loss:1.8932629823684692, test_Loss:1.16\n"
     ]
    },
    {
     "name": "stderr",
     "output_type": "stream",
     "text": [
      "100%|██████████| 600/600 [00:00<00:00, 677.62it/s]\n",
      " 11%|█▏        | 68/600 [00:00<00:00, 670.55it/s]"
     ]
    },
    {
     "name": "stdout",
     "output_type": "stream",
     "text": [
      "Epochs:13, train_Loss:1.8971202373504639, test_Loss:1.15\n"
     ]
    },
    {
     "name": "stderr",
     "output_type": "stream",
     "text": [
      "100%|██████████| 600/600 [00:00<00:00, 671.45it/s]\n",
      " 12%|█▏        | 69/600 [00:00<00:00, 680.77it/s]"
     ]
    },
    {
     "name": "stdout",
     "output_type": "stream",
     "text": [
      "Epochs:14, train_Loss:1.9003182649612427, test_Loss:1.15\n"
     ]
    },
    {
     "name": "stderr",
     "output_type": "stream",
     "text": [
      "100%|██████████| 600/600 [00:00<00:00, 679.54it/s]\n",
      " 12%|█▏        | 69/600 [00:00<00:00, 687.93it/s]"
     ]
    },
    {
     "name": "stdout",
     "output_type": "stream",
     "text": [
      "Epochs:15, train_Loss:1.9037885665893555, test_Loss:1.15\n"
     ]
    },
    {
     "name": "stderr",
     "output_type": "stream",
     "text": [
      "100%|██████████| 600/600 [00:00<00:00, 679.34it/s]\n",
      " 12%|█▏        | 69/600 [00:00<00:00, 681.04it/s]"
     ]
    },
    {
     "name": "stdout",
     "output_type": "stream",
     "text": [
      "Epochs:16, train_Loss:1.9073724746704102, test_Loss:1.15\n"
     ]
    },
    {
     "name": "stderr",
     "output_type": "stream",
     "text": [
      "100%|██████████| 600/600 [00:00<00:00, 670.42it/s]\n",
      " 11%|█▏        | 68/600 [00:00<00:00, 675.90it/s]"
     ]
    },
    {
     "name": "stdout",
     "output_type": "stream",
     "text": [
      "Epochs:17, train_Loss:1.9099879264831543, test_Loss:1.14\n"
     ]
    },
    {
     "name": "stderr",
     "output_type": "stream",
     "text": [
      "100%|██████████| 600/600 [00:00<00:00, 676.54it/s]\n",
      " 12%|█▏        | 69/600 [00:00<00:00, 680.69it/s]"
     ]
    },
    {
     "name": "stdout",
     "output_type": "stream",
     "text": [
      "Epochs:18, train_Loss:1.910972237586975, test_Loss:1.14\n"
     ]
    },
    {
     "name": "stderr",
     "output_type": "stream",
     "text": [
      "100%|██████████| 600/600 [00:00<00:00, 675.27it/s]\n",
      " 11%|█▏        | 68/600 [00:00<00:00, 679.65it/s]"
     ]
    },
    {
     "name": "stdout",
     "output_type": "stream",
     "text": [
      "Epochs:19, train_Loss:1.9123798608779907, test_Loss:1.14\n"
     ]
    },
    {
     "name": "stderr",
     "output_type": "stream",
     "text": [
      "100%|██████████| 600/600 [00:00<00:00, 676.33it/s]\n",
      " 11%|█▏        | 68/600 [00:00<00:00, 677.56it/s]"
     ]
    },
    {
     "name": "stdout",
     "output_type": "stream",
     "text": [
      "Epochs:20, train_Loss:1.9136191606521606, test_Loss:1.14\n"
     ]
    },
    {
     "name": "stderr",
     "output_type": "stream",
     "text": [
      "100%|██████████| 600/600 [00:00<00:00, 676.10it/s]\n",
      " 12%|█▏        | 69/600 [00:00<00:00, 689.47it/s]"
     ]
    },
    {
     "name": "stdout",
     "output_type": "stream",
     "text": [
      "Epochs:21, train_Loss:1.915049433708191, test_Loss:1.14\n"
     ]
    },
    {
     "name": "stderr",
     "output_type": "stream",
     "text": [
      "100%|██████████| 600/600 [00:00<00:00, 683.23it/s]\n",
      " 12%|█▏        | 69/600 [00:00<00:00, 680.07it/s]"
     ]
    },
    {
     "name": "stdout",
     "output_type": "stream",
     "text": [
      "Epochs:22, train_Loss:1.9163200855255127, test_Loss:1.14\n"
     ]
    },
    {
     "name": "stderr",
     "output_type": "stream",
     "text": [
      "100%|██████████| 600/600 [00:00<00:00, 673.76it/s]\n",
      " 11%|█▏        | 68/600 [00:00<00:00, 674.80it/s]"
     ]
    },
    {
     "name": "stdout",
     "output_type": "stream",
     "text": [
      "Epochs:23, train_Loss:1.9185824394226074, test_Loss:1.14\n"
     ]
    },
    {
     "name": "stderr",
     "output_type": "stream",
     "text": [
      "100%|██████████| 600/600 [00:00<00:00, 678.02it/s]\n",
      " 12%|█▏        | 69/600 [00:00<00:00, 680.86it/s]"
     ]
    },
    {
     "name": "stdout",
     "output_type": "stream",
     "text": [
      "Epochs:24, train_Loss:1.920006275177002, test_Loss:1.14\n"
     ]
    },
    {
     "name": "stderr",
     "output_type": "stream",
     "text": [
      "100%|██████████| 600/600 [00:00<00:00, 670.17it/s]\n",
      " 11%|█         | 67/600 [00:00<00:00, 667.84it/s]"
     ]
    },
    {
     "name": "stdout",
     "output_type": "stream",
     "text": [
      "Epochs:25, train_Loss:1.9214309453964233, test_Loss:1.13\n"
     ]
    },
    {
     "name": "stderr",
     "output_type": "stream",
     "text": [
      "100%|██████████| 600/600 [00:00<00:00, 675.41it/s]\n",
      " 11%|█▏        | 68/600 [00:00<00:00, 673.34it/s]"
     ]
    },
    {
     "name": "stdout",
     "output_type": "stream",
     "text": [
      "Epochs:26, train_Loss:1.9234577417373657, test_Loss:1.13\n"
     ]
    },
    {
     "name": "stderr",
     "output_type": "stream",
     "text": [
      "100%|██████████| 600/600 [00:00<00:00, 684.43it/s]\n",
      " 12%|█▏        | 70/600 [00:00<00:00, 692.46it/s]"
     ]
    },
    {
     "name": "stdout",
     "output_type": "stream",
     "text": [
      "Epochs:27, train_Loss:1.925251841545105, test_Loss:1.13\n"
     ]
    },
    {
     "name": "stderr",
     "output_type": "stream",
     "text": [
      "100%|██████████| 600/600 [00:00<00:00, 691.09it/s]\n",
      " 12%|█▏        | 70/600 [00:00<00:00, 693.05it/s]"
     ]
    },
    {
     "name": "stdout",
     "output_type": "stream",
     "text": [
      "Epochs:28, train_Loss:1.9257915019989014, test_Loss:1.13\n"
     ]
    },
    {
     "name": "stderr",
     "output_type": "stream",
     "text": [
      "100%|██████████| 600/600 [00:00<00:00, 688.40it/s]\n",
      " 12%|█▏        | 69/600 [00:00<00:00, 684.94it/s]"
     ]
    },
    {
     "name": "stdout",
     "output_type": "stream",
     "text": [
      "Epochs:29, train_Loss:1.9270989894866943, test_Loss:1.13\n"
     ]
    },
    {
     "name": "stderr",
     "output_type": "stream",
     "text": [
      "100%|██████████| 600/600 [00:00<00:00, 675.57it/s]\n",
      " 11%|█▏        | 68/600 [00:00<00:00, 673.44it/s]"
     ]
    },
    {
     "name": "stdout",
     "output_type": "stream",
     "text": [
      "Epochs:30, train_Loss:1.9278857707977295, test_Loss:1.13\n"
     ]
    },
    {
     "name": "stderr",
     "output_type": "stream",
     "text": [
      "100%|██████████| 600/600 [00:00<00:00, 674.01it/s]\n",
      " 11%|█▏        | 68/600 [00:00<00:00, 678.57it/s]"
     ]
    },
    {
     "name": "stdout",
     "output_type": "stream",
     "text": [
      "Epochs:31, train_Loss:1.9283846616744995, test_Loss:1.13\n"
     ]
    },
    {
     "name": "stderr",
     "output_type": "stream",
     "text": [
      "100%|██████████| 600/600 [00:00<00:00, 667.21it/s]\n",
      " 11%|█▏        | 68/600 [00:00<00:00, 674.93it/s]"
     ]
    },
    {
     "name": "stdout",
     "output_type": "stream",
     "text": [
      "Epochs:32, train_Loss:1.927821397781372, test_Loss:1.13\n"
     ]
    },
    {
     "name": "stderr",
     "output_type": "stream",
     "text": [
      "100%|██████████| 600/600 [00:00<00:00, 673.02it/s]\n",
      " 11%|█▏        | 68/600 [00:00<00:00, 677.46it/s]"
     ]
    },
    {
     "name": "stdout",
     "output_type": "stream",
     "text": [
      "Epochs:33, train_Loss:1.928135871887207, test_Loss:1.13\n"
     ]
    },
    {
     "name": "stderr",
     "output_type": "stream",
     "text": [
      "100%|██████████| 600/600 [00:00<00:00, 671.56it/s]\n",
      " 11%|█         | 67/600 [00:00<00:00, 666.69it/s]"
     ]
    },
    {
     "name": "stdout",
     "output_type": "stream",
     "text": [
      "Epochs:34, train_Loss:1.9290903806686401, test_Loss:1.13\n"
     ]
    },
    {
     "name": "stderr",
     "output_type": "stream",
     "text": [
      "100%|██████████| 600/600 [00:00<00:00, 670.71it/s]\n",
      " 11%|█▏        | 68/600 [00:00<00:00, 679.39it/s]"
     ]
    },
    {
     "name": "stdout",
     "output_type": "stream",
     "text": [
      "Epochs:35, train_Loss:1.9306361675262451, test_Loss:1.13\n"
     ]
    },
    {
     "name": "stderr",
     "output_type": "stream",
     "text": [
      "100%|██████████| 600/600 [00:00<00:00, 668.49it/s]\n",
      " 11%|█         | 66/600 [00:00<00:00, 656.74it/s]"
     ]
    },
    {
     "name": "stdout",
     "output_type": "stream",
     "text": [
      "Epochs:36, train_Loss:1.9313608407974243, test_Loss:1.13\n"
     ]
    },
    {
     "name": "stderr",
     "output_type": "stream",
     "text": [
      "100%|██████████| 600/600 [00:00<00:00, 663.42it/s]\n",
      " 11%|█▏        | 68/600 [00:00<00:00, 670.82it/s]"
     ]
    },
    {
     "name": "stdout",
     "output_type": "stream",
     "text": [
      "Epochs:37, train_Loss:1.9321544170379639, test_Loss:1.13\n"
     ]
    },
    {
     "name": "stderr",
     "output_type": "stream",
     "text": [
      "100%|██████████| 600/600 [00:00<00:00, 670.93it/s]\n",
      " 22%|██▎       | 135/600 [00:00<00:00, 676.46it/s]"
     ]
    },
    {
     "name": "stdout",
     "output_type": "stream",
     "text": [
      "Epochs:38, train_Loss:1.9325315952301025, test_Loss:1.13\n"
     ]
    },
    {
     "name": "stderr",
     "output_type": "stream",
     "text": [
      "100%|██████████| 600/600 [00:00<00:00, 673.21it/s]\n",
      " 11%|█▏        | 68/600 [00:00<00:00, 673.87it/s]"
     ]
    },
    {
     "name": "stdout",
     "output_type": "stream",
     "text": [
      "Epochs:39, train_Loss:1.9334614276885986, test_Loss:1.12\n"
     ]
    },
    {
     "name": "stderr",
     "output_type": "stream",
     "text": [
      "100%|██████████| 600/600 [00:00<00:00, 677.93it/s]\n",
      " 12%|█▏        | 69/600 [00:00<00:00, 683.03it/s]"
     ]
    },
    {
     "name": "stdout",
     "output_type": "stream",
     "text": [
      "Epochs:40, train_Loss:1.933964729309082, test_Loss:1.12\n"
     ]
    },
    {
     "name": "stderr",
     "output_type": "stream",
     "text": [
      "100%|██████████| 600/600 [00:00<00:00, 676.41it/s]\n",
      " 11%|█▏        | 68/600 [00:00<00:00, 672.28it/s]"
     ]
    },
    {
     "name": "stdout",
     "output_type": "stream",
     "text": [
      "Epochs:41, train_Loss:1.933605670928955, test_Loss:1.12\n"
     ]
    },
    {
     "name": "stderr",
     "output_type": "stream",
     "text": [
      "100%|██████████| 600/600 [00:00<00:00, 671.32it/s]\n",
      " 12%|█▏        | 69/600 [00:00<00:00, 681.06it/s]"
     ]
    },
    {
     "name": "stdout",
     "output_type": "stream",
     "text": [
      "Epochs:42, train_Loss:1.9327647686004639, test_Loss:1.12\n"
     ]
    },
    {
     "name": "stderr",
     "output_type": "stream",
     "text": [
      "100%|██████████| 600/600 [00:00<00:00, 682.24it/s]\n",
      " 12%|█▏        | 69/600 [00:00<00:00, 686.82it/s]"
     ]
    },
    {
     "name": "stdout",
     "output_type": "stream",
     "text": [
      "Epochs:43, train_Loss:1.9325308799743652, test_Loss:1.12\n"
     ]
    },
    {
     "name": "stderr",
     "output_type": "stream",
     "text": [
      "100%|██████████| 600/600 [00:00<00:00, 676.95it/s]\n",
      " 11%|█▏        | 68/600 [00:00<00:00, 677.23it/s]"
     ]
    },
    {
     "name": "stdout",
     "output_type": "stream",
     "text": [
      "Epochs:44, train_Loss:1.932131052017212, test_Loss:1.12\n"
     ]
    },
    {
     "name": "stderr",
     "output_type": "stream",
     "text": [
      "100%|██████████| 600/600 [00:00<00:00, 672.03it/s]\n",
      " 11%|█         | 67/600 [00:00<00:00, 667.62it/s]"
     ]
    },
    {
     "name": "stdout",
     "output_type": "stream",
     "text": [
      "Epochs:45, train_Loss:1.9321022033691406, test_Loss:1.12\n"
     ]
    },
    {
     "name": "stderr",
     "output_type": "stream",
     "text": [
      "100%|██████████| 600/600 [00:00<00:00, 668.14it/s]\n",
      " 11%|█▏        | 68/600 [00:00<00:00, 670.87it/s]"
     ]
    },
    {
     "name": "stdout",
     "output_type": "stream",
     "text": [
      "Epochs:46, train_Loss:1.9316388368606567, test_Loss:1.12\n"
     ]
    },
    {
     "name": "stderr",
     "output_type": "stream",
     "text": [
      "100%|██████████| 600/600 [00:00<00:00, 668.40it/s]\n",
      " 11%|█         | 67/600 [00:00<00:00, 667.86it/s]"
     ]
    },
    {
     "name": "stdout",
     "output_type": "stream",
     "text": [
      "Epochs:47, train_Loss:1.9315698146820068, test_Loss:1.12\n"
     ]
    },
    {
     "name": "stderr",
     "output_type": "stream",
     "text": [
      "100%|██████████| 600/600 [00:00<00:00, 663.56it/s]\n",
      " 12%|█▏        | 69/600 [00:00<00:00, 681.25it/s]"
     ]
    },
    {
     "name": "stdout",
     "output_type": "stream",
     "text": [
      "Epochs:48, train_Loss:1.9319740533828735, test_Loss:1.12\n"
     ]
    },
    {
     "name": "stderr",
     "output_type": "stream",
     "text": [
      "100%|██████████| 600/600 [00:00<00:00, 672.75it/s]\n",
      " 11%|█▏        | 68/600 [00:00<00:00, 675.66it/s]"
     ]
    },
    {
     "name": "stdout",
     "output_type": "stream",
     "text": [
      "Epochs:49, train_Loss:1.931848168373108, test_Loss:1.12\n"
     ]
    },
    {
     "name": "stderr",
     "output_type": "stream",
     "text": [
      "100%|██████████| 600/600 [00:00<00:00, 674.32it/s]\n",
      " 11%|█▏        | 68/600 [00:00<00:00, 670.59it/s]"
     ]
    },
    {
     "name": "stdout",
     "output_type": "stream",
     "text": [
      "Epochs:50, train_Loss:1.9315757751464844, test_Loss:1.12\n"
     ]
    },
    {
     "name": "stderr",
     "output_type": "stream",
     "text": [
      "100%|██████████| 600/600 [00:00<00:00, 673.45it/s]\n",
      " 12%|█▏        | 69/600 [00:00<00:00, 689.71it/s]"
     ]
    },
    {
     "name": "stdout",
     "output_type": "stream",
     "text": [
      "Epochs:51, train_Loss:1.931592345237732, test_Loss:1.12\n"
     ]
    },
    {
     "name": "stderr",
     "output_type": "stream",
     "text": [
      "100%|██████████| 600/600 [00:00<00:00, 686.87it/s]\n",
      " 12%|█▏        | 69/600 [00:00<00:00, 685.38it/s]"
     ]
    },
    {
     "name": "stdout",
     "output_type": "stream",
     "text": [
      "Epochs:52, train_Loss:1.932059645652771, test_Loss:1.12\n"
     ]
    },
    {
     "name": "stderr",
     "output_type": "stream",
     "text": [
      "100%|██████████| 600/600 [00:00<00:00, 680.20it/s]\n",
      " 12%|█▏        | 69/600 [00:00<00:00, 688.53it/s]"
     ]
    },
    {
     "name": "stdout",
     "output_type": "stream",
     "text": [
      "Epochs:53, train_Loss:1.9318623542785645, test_Loss:1.12\n"
     ]
    },
    {
     "name": "stderr",
     "output_type": "stream",
     "text": [
      "100%|██████████| 600/600 [00:00<00:00, 679.60it/s]\n",
      " 11%|█▏        | 68/600 [00:00<00:00, 679.91it/s]"
     ]
    },
    {
     "name": "stdout",
     "output_type": "stream",
     "text": [
      "Epochs:54, train_Loss:1.9319348335266113, test_Loss:1.12\n"
     ]
    },
    {
     "name": "stderr",
     "output_type": "stream",
     "text": [
      "100%|██████████| 600/600 [00:00<00:00, 678.87it/s]\n",
      " 12%|█▏        | 69/600 [00:00<00:00, 680.23it/s]"
     ]
    },
    {
     "name": "stdout",
     "output_type": "stream",
     "text": [
      "Epochs:55, train_Loss:1.9318556785583496, test_Loss:1.12\n"
     ]
    },
    {
     "name": "stderr",
     "output_type": "stream",
     "text": [
      "100%|██████████| 600/600 [00:00<00:00, 670.27it/s]\n",
      " 12%|█▏        | 69/600 [00:00<00:00, 680.87it/s]"
     ]
    },
    {
     "name": "stdout",
     "output_type": "stream",
     "text": [
      "Epochs:56, train_Loss:1.9320741891860962, test_Loss:1.12\n"
     ]
    },
    {
     "name": "stderr",
     "output_type": "stream",
     "text": [
      "100%|██████████| 600/600 [00:00<00:00, 677.11it/s]\n",
      " 11%|█▏        | 68/600 [00:00<00:00, 670.69it/s]"
     ]
    },
    {
     "name": "stdout",
     "output_type": "stream",
     "text": [
      "Epochs:57, train_Loss:1.932181715965271, test_Loss:1.12\n"
     ]
    },
    {
     "name": "stderr",
     "output_type": "stream",
     "text": [
      "100%|██████████| 600/600 [00:00<00:00, 668.35it/s]\n",
      " 12%|█▏        | 69/600 [00:00<00:00, 683.80it/s]"
     ]
    },
    {
     "name": "stdout",
     "output_type": "stream",
     "text": [
      "Epochs:58, train_Loss:1.931980848312378, test_Loss:1.12\n"
     ]
    },
    {
     "name": "stderr",
     "output_type": "stream",
     "text": [
      "100%|██████████| 600/600 [00:00<00:00, 669.51it/s]\n",
      " 11%|█▏        | 68/600 [00:00<00:00, 676.40it/s]"
     ]
    },
    {
     "name": "stdout",
     "output_type": "stream",
     "text": [
      "Epochs:59, train_Loss:1.9329087734222412, test_Loss:1.12\n"
     ]
    },
    {
     "name": "stderr",
     "output_type": "stream",
     "text": [
      "100%|██████████| 600/600 [00:00<00:00, 677.44it/s]\n",
      " 12%|█▏        | 69/600 [00:00<00:00, 682.15it/s]"
     ]
    },
    {
     "name": "stdout",
     "output_type": "stream",
     "text": [
      "Epochs:60, train_Loss:1.9334454536437988, test_Loss:1.12\n"
     ]
    },
    {
     "name": "stderr",
     "output_type": "stream",
     "text": [
      "100%|██████████| 600/600 [00:00<00:00, 677.95it/s]\n",
      " 11%|█         | 67/600 [00:00<00:00, 666.30it/s]"
     ]
    },
    {
     "name": "stdout",
     "output_type": "stream",
     "text": [
      "Epochs:61, train_Loss:1.933862328529358, test_Loss:1.12\n"
     ]
    },
    {
     "name": "stderr",
     "output_type": "stream",
     "text": [
      "100%|██████████| 600/600 [00:00<00:00, 667.83it/s]\n",
      " 11%|█▏        | 68/600 [00:00<00:00, 678.35it/s]"
     ]
    },
    {
     "name": "stdout",
     "output_type": "stream",
     "text": [
      "Epochs:62, train_Loss:1.9333925247192383, test_Loss:1.12\n"
     ]
    },
    {
     "name": "stderr",
     "output_type": "stream",
     "text": [
      "100%|██████████| 600/600 [00:00<00:00, 681.26it/s]\n",
      " 11%|█▏        | 68/600 [00:00<00:00, 678.26it/s]"
     ]
    },
    {
     "name": "stdout",
     "output_type": "stream",
     "text": [
      "Epochs:63, train_Loss:1.934767246246338, test_Loss:1.12\n"
     ]
    },
    {
     "name": "stderr",
     "output_type": "stream",
     "text": [
      "100%|██████████| 600/600 [00:00<00:00, 670.08it/s]\n",
      " 11%|█▏        | 68/600 [00:00<00:00, 674.77it/s]"
     ]
    },
    {
     "name": "stdout",
     "output_type": "stream",
     "text": [
      "Epochs:64, train_Loss:1.9350696802139282, test_Loss:1.12\n"
     ]
    },
    {
     "name": "stderr",
     "output_type": "stream",
     "text": [
      "100%|██████████| 600/600 [00:00<00:00, 669.66it/s]\n",
      " 12%|█▏        | 69/600 [00:00<00:00, 681.85it/s]"
     ]
    },
    {
     "name": "stdout",
     "output_type": "stream",
     "text": [
      "Epochs:65, train_Loss:1.9353575706481934, test_Loss:1.12\n"
     ]
    },
    {
     "name": "stderr",
     "output_type": "stream",
     "text": [
      "100%|██████████| 600/600 [00:00<00:00, 670.31it/s]\n",
      " 11%|█▏        | 68/600 [00:00<00:00, 676.25it/s]"
     ]
    },
    {
     "name": "stdout",
     "output_type": "stream",
     "text": [
      "Epochs:66, train_Loss:1.9365724325180054, test_Loss:1.12\n"
     ]
    },
    {
     "name": "stderr",
     "output_type": "stream",
     "text": [
      "100%|██████████| 600/600 [00:00<00:00, 672.73it/s]\n",
      " 11%|█▏        | 68/600 [00:00<00:00, 673.43it/s]"
     ]
    },
    {
     "name": "stdout",
     "output_type": "stream",
     "text": [
      "Epochs:67, train_Loss:1.9367594718933105, test_Loss:1.12\n"
     ]
    },
    {
     "name": "stderr",
     "output_type": "stream",
     "text": [
      "100%|██████████| 600/600 [00:00<00:00, 668.89it/s]\n",
      " 11%|█         | 67/600 [00:00<00:00, 667.40it/s]"
     ]
    },
    {
     "name": "stdout",
     "output_type": "stream",
     "text": [
      "Epochs:68, train_Loss:1.9370208978652954, test_Loss:1.12\n"
     ]
    },
    {
     "name": "stderr",
     "output_type": "stream",
     "text": [
      "100%|██████████| 600/600 [00:00<00:00, 668.88it/s]\n",
      " 11%|█▏        | 68/600 [00:00<00:00, 676.88it/s]"
     ]
    },
    {
     "name": "stdout",
     "output_type": "stream",
     "text": [
      "Epochs:69, train_Loss:1.9379030466079712, test_Loss:1.12\n"
     ]
    },
    {
     "name": "stderr",
     "output_type": "stream",
     "text": [
      "100%|██████████| 600/600 [00:00<00:00, 673.39it/s]\n",
      " 11%|█▏        | 68/600 [00:00<00:00, 672.16it/s]"
     ]
    },
    {
     "name": "stdout",
     "output_type": "stream",
     "text": [
      "Epochs:70, train_Loss:1.93834388256073, test_Loss:1.12\n"
     ]
    },
    {
     "name": "stderr",
     "output_type": "stream",
     "text": [
      "100%|██████████| 600/600 [00:00<00:00, 670.76it/s]\n",
      " 11%|█▏        | 68/600 [00:00<00:00, 672.05it/s]"
     ]
    },
    {
     "name": "stdout",
     "output_type": "stream",
     "text": [
      "Epochs:71, train_Loss:1.9395095109939575, test_Loss:1.12\n"
     ]
    },
    {
     "name": "stderr",
     "output_type": "stream",
     "text": [
      "100%|██████████| 600/600 [00:00<00:00, 674.31it/s]\n",
      " 11%|█         | 67/600 [00:00<00:00, 667.93it/s]"
     ]
    },
    {
     "name": "stdout",
     "output_type": "stream",
     "text": [
      "Epochs:72, train_Loss:1.9399794340133667, test_Loss:1.12\n"
     ]
    },
    {
     "name": "stderr",
     "output_type": "stream",
     "text": [
      "100%|██████████| 600/600 [00:00<00:00, 664.32it/s]\n",
      " 12%|█▏        | 69/600 [00:00<00:00, 686.34it/s]"
     ]
    },
    {
     "name": "stdout",
     "output_type": "stream",
     "text": [
      "Epochs:73, train_Loss:1.9402800798416138, test_Loss:1.12\n"
     ]
    },
    {
     "name": "stderr",
     "output_type": "stream",
     "text": [
      "100%|██████████| 600/600 [00:00<00:00, 676.70it/s]\n",
      " 11%|█▏        | 68/600 [00:00<00:00, 675.74it/s]"
     ]
    },
    {
     "name": "stdout",
     "output_type": "stream",
     "text": [
      "Epochs:74, train_Loss:1.9402430057525635, test_Loss:1.12\n"
     ]
    },
    {
     "name": "stderr",
     "output_type": "stream",
     "text": [
      "100%|██████████| 600/600 [00:00<00:00, 675.61it/s]\n",
      " 11%|█▏        | 68/600 [00:00<00:00, 677.54it/s]"
     ]
    },
    {
     "name": "stdout",
     "output_type": "stream",
     "text": [
      "Epochs:75, train_Loss:1.9405255317687988, test_Loss:1.12\n"
     ]
    },
    {
     "name": "stderr",
     "output_type": "stream",
     "text": [
      "100%|██████████| 600/600 [00:00<00:00, 670.16it/s]\n",
      " 11%|█         | 67/600 [00:00<00:00, 667.69it/s]"
     ]
    },
    {
     "name": "stdout",
     "output_type": "stream",
     "text": [
      "Epochs:76, train_Loss:1.9406558275222778, test_Loss:1.12\n"
     ]
    },
    {
     "name": "stderr",
     "output_type": "stream",
     "text": [
      "100%|██████████| 600/600 [00:00<00:00, 669.72it/s]\n",
      " 11%|█▏        | 68/600 [00:00<00:00, 678.92it/s]"
     ]
    },
    {
     "name": "stdout",
     "output_type": "stream",
     "text": [
      "Epochs:77, train_Loss:1.9407447576522827, test_Loss:1.12\n"
     ]
    },
    {
     "name": "stderr",
     "output_type": "stream",
     "text": [
      "100%|██████████| 600/600 [00:00<00:00, 676.78it/s]\n",
      " 11%|█▏        | 68/600 [00:00<00:00, 678.94it/s]"
     ]
    },
    {
     "name": "stdout",
     "output_type": "stream",
     "text": [
      "Epochs:78, train_Loss:1.9408931732177734, test_Loss:1.12\n"
     ]
    },
    {
     "name": "stderr",
     "output_type": "stream",
     "text": [
      "100%|██████████| 600/600 [00:00<00:00, 670.18it/s]\n",
      " 11%|█▏        | 68/600 [00:00<00:00, 676.19it/s]"
     ]
    },
    {
     "name": "stdout",
     "output_type": "stream",
     "text": [
      "Epochs:79, train_Loss:1.9413295984268188, test_Loss:1.11\n"
     ]
    },
    {
     "name": "stderr",
     "output_type": "stream",
     "text": [
      "100%|██████████| 600/600 [00:00<00:00, 674.13it/s]\n",
      " 12%|█▏        | 69/600 [00:00<00:00, 685.43it/s]"
     ]
    },
    {
     "name": "stdout",
     "output_type": "stream",
     "text": [
      "Epochs:80, train_Loss:1.9410492181777954, test_Loss:1.11\n"
     ]
    },
    {
     "name": "stderr",
     "output_type": "stream",
     "text": [
      "100%|██████████| 600/600 [00:00<00:00, 677.10it/s]\n",
      " 12%|█▏        | 69/600 [00:00<00:00, 680.28it/s]"
     ]
    },
    {
     "name": "stdout",
     "output_type": "stream",
     "text": [
      "Epochs:81, train_Loss:1.941170334815979, test_Loss:1.11\n"
     ]
    },
    {
     "name": "stderr",
     "output_type": "stream",
     "text": [
      "100%|██████████| 600/600 [00:00<00:00, 669.91it/s]\n",
      " 11%|█         | 67/600 [00:00<00:00, 668.96it/s]"
     ]
    },
    {
     "name": "stdout",
     "output_type": "stream",
     "text": [
      "Epochs:82, train_Loss:1.9413598775863647, test_Loss:1.11\n"
     ]
    },
    {
     "name": "stderr",
     "output_type": "stream",
     "text": [
      "100%|██████████| 600/600 [00:00<00:00, 669.46it/s]\n",
      " 11%|█         | 67/600 [00:00<00:00, 665.86it/s]"
     ]
    },
    {
     "name": "stdout",
     "output_type": "stream",
     "text": [
      "Epochs:83, train_Loss:1.941762089729309, test_Loss:1.11\n"
     ]
    },
    {
     "name": "stderr",
     "output_type": "stream",
     "text": [
      "100%|██████████| 600/600 [00:00<00:00, 675.99it/s]\n",
      " 11%|█▏        | 68/600 [00:00<00:00, 669.89it/s]"
     ]
    },
    {
     "name": "stdout",
     "output_type": "stream",
     "text": [
      "Epochs:84, train_Loss:1.9425227642059326, test_Loss:1.11\n"
     ]
    },
    {
     "name": "stderr",
     "output_type": "stream",
     "text": [
      "100%|██████████| 600/600 [00:00<00:00, 672.19it/s]\n",
      " 11%|█         | 66/600 [00:00<00:00, 659.98it/s]"
     ]
    },
    {
     "name": "stdout",
     "output_type": "stream",
     "text": [
      "Epochs:85, train_Loss:1.9425482749938965, test_Loss:1.11\n"
     ]
    },
    {
     "name": "stderr",
     "output_type": "stream",
     "text": [
      "100%|██████████| 600/600 [00:00<00:00, 672.69it/s]\n",
      " 12%|█▏        | 69/600 [00:00<00:00, 685.69it/s]"
     ]
    },
    {
     "name": "stdout",
     "output_type": "stream",
     "text": [
      "Epochs:86, train_Loss:1.9427447319030762, test_Loss:1.11\n"
     ]
    },
    {
     "name": "stderr",
     "output_type": "stream",
     "text": [
      "100%|██████████| 600/600 [00:00<00:00, 670.94it/s]\n",
      " 11%|█▏        | 68/600 [00:00<00:00, 673.35it/s]"
     ]
    },
    {
     "name": "stdout",
     "output_type": "stream",
     "text": [
      "Epochs:87, train_Loss:1.9429017305374146, test_Loss:1.11\n"
     ]
    },
    {
     "name": "stderr",
     "output_type": "stream",
     "text": [
      "100%|██████████| 600/600 [00:00<00:00, 669.75it/s]\n",
      " 12%|█▏        | 69/600 [00:00<00:00, 681.75it/s]"
     ]
    },
    {
     "name": "stdout",
     "output_type": "stream",
     "text": [
      "Epochs:88, train_Loss:1.9426262378692627, test_Loss:1.11\n"
     ]
    },
    {
     "name": "stderr",
     "output_type": "stream",
     "text": [
      "100%|██████████| 600/600 [00:00<00:00, 675.38it/s]\n",
      " 12%|█▏        | 69/600 [00:00<00:00, 684.94it/s]"
     ]
    },
    {
     "name": "stdout",
     "output_type": "stream",
     "text": [
      "Epochs:89, train_Loss:1.9429699182510376, test_Loss:1.11\n"
     ]
    },
    {
     "name": "stderr",
     "output_type": "stream",
     "text": [
      "100%|██████████| 600/600 [00:00<00:00, 676.14it/s]\n",
      " 11%|█▏        | 68/600 [00:00<00:00, 673.72it/s]"
     ]
    },
    {
     "name": "stdout",
     "output_type": "stream",
     "text": [
      "Epochs:90, train_Loss:1.9432621002197266, test_Loss:1.11\n"
     ]
    },
    {
     "name": "stderr",
     "output_type": "stream",
     "text": [
      "100%|██████████| 600/600 [00:00<00:00, 664.55it/s]\n",
      " 11%|█▏        | 68/600 [00:00<00:00, 677.05it/s]"
     ]
    },
    {
     "name": "stdout",
     "output_type": "stream",
     "text": [
      "Epochs:91, train_Loss:1.9432947635650635, test_Loss:1.11\n"
     ]
    },
    {
     "name": "stderr",
     "output_type": "stream",
     "text": [
      "100%|██████████| 600/600 [00:00<00:00, 668.71it/s]\n",
      " 12%|█▏        | 69/600 [00:00<00:00, 686.58it/s]"
     ]
    },
    {
     "name": "stdout",
     "output_type": "stream",
     "text": [
      "Epochs:92, train_Loss:1.943613052368164, test_Loss:1.11\n"
     ]
    },
    {
     "name": "stderr",
     "output_type": "stream",
     "text": [
      "100%|██████████| 600/600 [00:00<00:00, 673.85it/s]\n",
      " 12%|█▏        | 69/600 [00:00<00:00, 683.35it/s]"
     ]
    },
    {
     "name": "stdout",
     "output_type": "stream",
     "text": [
      "Epochs:93, train_Loss:1.9437217712402344, test_Loss:1.11\n"
     ]
    },
    {
     "name": "stderr",
     "output_type": "stream",
     "text": [
      "100%|██████████| 600/600 [00:00<00:00, 667.51it/s]\n",
      " 11%|█         | 67/600 [00:00<00:00, 668.11it/s]"
     ]
    },
    {
     "name": "stdout",
     "output_type": "stream",
     "text": [
      "Epochs:94, train_Loss:1.943739652633667, test_Loss:1.11\n"
     ]
    },
    {
     "name": "stderr",
     "output_type": "stream",
     "text": [
      "100%|██████████| 600/600 [00:00<00:00, 668.96it/s]\n",
      " 11%|█▏        | 68/600 [00:00<00:00, 677.55it/s]"
     ]
    },
    {
     "name": "stdout",
     "output_type": "stream",
     "text": [
      "Epochs:95, train_Loss:1.9438655376434326, test_Loss:1.11\n"
     ]
    },
    {
     "name": "stderr",
     "output_type": "stream",
     "text": [
      "100%|██████████| 600/600 [00:00<00:00, 667.72it/s]\n",
      " 11%|█         | 67/600 [00:00<00:00, 667.36it/s]"
     ]
    },
    {
     "name": "stdout",
     "output_type": "stream",
     "text": [
      "Epochs:96, train_Loss:1.9442815780639648, test_Loss:1.11\n"
     ]
    },
    {
     "name": "stderr",
     "output_type": "stream",
     "text": [
      "100%|██████████| 600/600 [00:00<00:00, 659.74it/s]\n",
      " 11%|█         | 67/600 [00:00<00:00, 661.54it/s]"
     ]
    },
    {
     "name": "stdout",
     "output_type": "stream",
     "text": [
      "Epochs:97, train_Loss:1.944425344467163, test_Loss:1.11\n"
     ]
    },
    {
     "name": "stderr",
     "output_type": "stream",
     "text": [
      "100%|██████████| 600/600 [00:00<00:00, 667.04it/s]\n",
      " 11%|█         | 66/600 [00:00<00:00, 656.88it/s]"
     ]
    },
    {
     "name": "stdout",
     "output_type": "stream",
     "text": [
      "Epochs:98, train_Loss:1.9443851709365845, test_Loss:1.11\n"
     ]
    },
    {
     "name": "stderr",
     "output_type": "stream",
     "text": [
      "100%|██████████| 600/600 [00:00<00:00, 658.58it/s]\n",
      " 11%|█▏        | 68/600 [00:00<00:00, 671.45it/s]"
     ]
    },
    {
     "name": "stdout",
     "output_type": "stream",
     "text": [
      "Epochs:99, train_Loss:1.9448670148849487, test_Loss:1.11\n"
     ]
    },
    {
     "name": "stderr",
     "output_type": "stream",
     "text": [
      "100%|██████████| 600/600 [00:00<00:00, 667.49it/s]\n",
      " 11%|█▏        | 68/600 [00:00<00:00, 670.77it/s]"
     ]
    },
    {
     "name": "stdout",
     "output_type": "stream",
     "text": [
      "Epochs:100, train_Loss:1.9455041885375977, test_Loss:1.11\n"
     ]
    },
    {
     "name": "stderr",
     "output_type": "stream",
     "text": [
      "100%|██████████| 600/600 [00:00<00:00, 669.03it/s]\n",
      " 11%|█▏        | 68/600 [00:00<00:00, 675.82it/s]"
     ]
    },
    {
     "name": "stdout",
     "output_type": "stream",
     "text": [
      "Epochs:101, train_Loss:1.94534432888031, test_Loss:1.11\n"
     ]
    },
    {
     "name": "stderr",
     "output_type": "stream",
     "text": [
      "100%|██████████| 600/600 [00:00<00:00, 668.05it/s]\n",
      " 12%|█▏        | 69/600 [00:00<00:00, 680.43it/s]"
     ]
    },
    {
     "name": "stdout",
     "output_type": "stream",
     "text": [
      "Epochs:102, train_Loss:1.945397138595581, test_Loss:1.11\n"
     ]
    },
    {
     "name": "stderr",
     "output_type": "stream",
     "text": [
      "100%|██████████| 600/600 [00:00<00:00, 672.56it/s]\n",
      " 11%|█         | 67/600 [00:00<00:00, 666.42it/s]"
     ]
    },
    {
     "name": "stdout",
     "output_type": "stream",
     "text": [
      "Epochs:103, train_Loss:1.945322871208191, test_Loss:1.11\n"
     ]
    },
    {
     "name": "stderr",
     "output_type": "stream",
     "text": [
      "100%|██████████| 600/600 [00:00<00:00, 638.31it/s]\n",
      " 11%|█         | 67/600 [00:00<00:00, 662.85it/s]"
     ]
    },
    {
     "name": "stdout",
     "output_type": "stream",
     "text": [
      "Epochs:104, train_Loss:1.9456537961959839, test_Loss:1.11\n"
     ]
    },
    {
     "name": "stderr",
     "output_type": "stream",
     "text": [
      "100%|██████████| 600/600 [00:00<00:00, 658.67it/s]\n",
      " 11%|█         | 67/600 [00:00<00:00, 664.15it/s]"
     ]
    },
    {
     "name": "stdout",
     "output_type": "stream",
     "text": [
      "Epochs:105, train_Loss:1.9457136392593384, test_Loss:1.11\n"
     ]
    },
    {
     "name": "stderr",
     "output_type": "stream",
     "text": [
      "100%|██████████| 600/600 [00:00<00:00, 672.46it/s]\n",
      " 11%|█▏        | 68/600 [00:00<00:00, 674.97it/s]"
     ]
    },
    {
     "name": "stdout",
     "output_type": "stream",
     "text": [
      "Epochs:106, train_Loss:1.9458097219467163, test_Loss:1.11\n"
     ]
    },
    {
     "name": "stderr",
     "output_type": "stream",
     "text": [
      "100%|██████████| 600/600 [00:00<00:00, 666.69it/s]\n",
      " 12%|█▏        | 69/600 [00:00<00:00, 687.40it/s]"
     ]
    },
    {
     "name": "stdout",
     "output_type": "stream",
     "text": [
      "Epochs:107, train_Loss:1.9459469318389893, test_Loss:1.11\n"
     ]
    },
    {
     "name": "stderr",
     "output_type": "stream",
     "text": [
      "100%|██████████| 600/600 [00:00<00:00, 677.69it/s]\n",
      " 11%|█▏        | 68/600 [00:00<00:00, 674.38it/s]"
     ]
    },
    {
     "name": "stdout",
     "output_type": "stream",
     "text": [
      "Epochs:108, train_Loss:1.9460145235061646, test_Loss:1.11\n"
     ]
    },
    {
     "name": "stderr",
     "output_type": "stream",
     "text": [
      "100%|██████████| 600/600 [00:00<00:00, 670.89it/s]\n",
      " 12%|█▏        | 69/600 [00:00<00:00, 680.11it/s]"
     ]
    },
    {
     "name": "stdout",
     "output_type": "stream",
     "text": [
      "Epochs:109, train_Loss:1.94599187374115, test_Loss:1.11\n"
     ]
    },
    {
     "name": "stderr",
     "output_type": "stream",
     "text": [
      "100%|██████████| 600/600 [00:00<00:00, 664.81it/s]\n",
      " 11%|█         | 66/600 [00:00<00:00, 659.94it/s]"
     ]
    },
    {
     "name": "stdout",
     "output_type": "stream",
     "text": [
      "Epochs:110, train_Loss:1.9460978507995605, test_Loss:1.11\n"
     ]
    },
    {
     "name": "stderr",
     "output_type": "stream",
     "text": [
      "100%|██████████| 600/600 [00:00<00:00, 663.26it/s]\n",
      " 11%|█▏        | 68/600 [00:00<00:00, 677.80it/s]"
     ]
    },
    {
     "name": "stdout",
     "output_type": "stream",
     "text": [
      "Epochs:111, train_Loss:1.945934534072876, test_Loss:1.11\n"
     ]
    },
    {
     "name": "stderr",
     "output_type": "stream",
     "text": [
      "100%|██████████| 600/600 [00:00<00:00, 669.07it/s]\n",
      " 11%|█         | 66/600 [00:00<00:00, 657.93it/s]"
     ]
    },
    {
     "name": "stdout",
     "output_type": "stream",
     "text": [
      "Epochs:112, train_Loss:1.945867896080017, test_Loss:1.11\n"
     ]
    },
    {
     "name": "stderr",
     "output_type": "stream",
     "text": [
      "100%|██████████| 600/600 [00:00<00:00, 662.25it/s]\n",
      " 12%|█▏        | 69/600 [00:00<00:00, 687.21it/s]"
     ]
    },
    {
     "name": "stdout",
     "output_type": "stream",
     "text": [
      "Epochs:113, train_Loss:1.9456121921539307, test_Loss:1.11\n"
     ]
    },
    {
     "name": "stderr",
     "output_type": "stream",
     "text": [
      "100%|██████████| 600/600 [00:00<00:00, 669.91it/s]\n",
      " 11%|█         | 67/600 [00:00<00:00, 667.55it/s]"
     ]
    },
    {
     "name": "stdout",
     "output_type": "stream",
     "text": [
      "Epochs:114, train_Loss:1.945461630821228, test_Loss:1.11\n"
     ]
    },
    {
     "name": "stderr",
     "output_type": "stream",
     "text": [
      "100%|██████████| 600/600 [00:00<00:00, 670.08it/s]\n",
      " 12%|█▏        | 69/600 [00:00<00:00, 680.65it/s]"
     ]
    },
    {
     "name": "stdout",
     "output_type": "stream",
     "text": [
      "Epochs:115, train_Loss:1.945470929145813, test_Loss:1.11\n"
     ]
    },
    {
     "name": "stderr",
     "output_type": "stream",
     "text": [
      "100%|██████████| 600/600 [00:00<00:00, 678.34it/s]\n",
      " 11%|█▏        | 68/600 [00:00<00:00, 670.69it/s]"
     ]
    },
    {
     "name": "stdout",
     "output_type": "stream",
     "text": [
      "Epochs:116, train_Loss:1.9455941915512085, test_Loss:1.11\n"
     ]
    },
    {
     "name": "stderr",
     "output_type": "stream",
     "text": [
      "100%|██████████| 600/600 [00:00<00:00, 669.13it/s]\n",
      " 11%|█▏        | 68/600 [00:00<00:00, 674.90it/s]"
     ]
    },
    {
     "name": "stdout",
     "output_type": "stream",
     "text": [
      "Epochs:117, train_Loss:1.945569396018982, test_Loss:1.11\n"
     ]
    },
    {
     "name": "stderr",
     "output_type": "stream",
     "text": [
      "100%|██████████| 600/600 [00:00<00:00, 670.58it/s]\n",
      " 11%|█▏        | 68/600 [00:00<00:00, 672.44it/s]"
     ]
    },
    {
     "name": "stdout",
     "output_type": "stream",
     "text": [
      "Epochs:118, train_Loss:1.945469856262207, test_Loss:1.11\n"
     ]
    },
    {
     "name": "stderr",
     "output_type": "stream",
     "text": [
      "100%|██████████| 600/600 [00:00<00:00, 667.35it/s]\n",
      " 11%|█         | 67/600 [00:00<00:00, 660.32it/s]"
     ]
    },
    {
     "name": "stdout",
     "output_type": "stream",
     "text": [
      "Epochs:119, train_Loss:1.9453097581863403, test_Loss:1.11\n"
     ]
    },
    {
     "name": "stderr",
     "output_type": "stream",
     "text": [
      "100%|██████████| 600/600 [00:00<00:00, 662.02it/s]\n",
      " 11%|█         | 67/600 [00:00<00:00, 660.32it/s]"
     ]
    },
    {
     "name": "stdout",
     "output_type": "stream",
     "text": [
      "Epochs:120, train_Loss:1.9454381465911865, test_Loss:1.11\n"
     ]
    },
    {
     "name": "stderr",
     "output_type": "stream",
     "text": [
      "100%|██████████| 600/600 [00:00<00:00, 659.99it/s]\n",
      " 11%|█         | 66/600 [00:00<00:00, 656.38it/s]"
     ]
    },
    {
     "name": "stdout",
     "output_type": "stream",
     "text": [
      "Epochs:121, train_Loss:1.9452890157699585, test_Loss:1.11\n"
     ]
    },
    {
     "name": "stderr",
     "output_type": "stream",
     "text": [
      "100%|██████████| 600/600 [00:00<00:00, 662.73it/s]\n",
      " 11%|█         | 65/600 [00:00<00:00, 648.73it/s]"
     ]
    },
    {
     "name": "stdout",
     "output_type": "stream",
     "text": [
      "Epochs:122, train_Loss:1.9454152584075928, test_Loss:1.11\n"
     ]
    },
    {
     "name": "stderr",
     "output_type": "stream",
     "text": [
      "100%|██████████| 600/600 [00:00<00:00, 670.41it/s]\n",
      " 11%|█▏        | 68/600 [00:00<00:00, 670.36it/s]"
     ]
    },
    {
     "name": "stdout",
     "output_type": "stream",
     "text": [
      "Epochs:123, train_Loss:1.9453493356704712, test_Loss:1.11\n"
     ]
    },
    {
     "name": "stderr",
     "output_type": "stream",
     "text": [
      "100%|██████████| 600/600 [00:00<00:00, 669.08it/s]\n",
      " 11%|█         | 67/600 [00:00<00:00, 669.16it/s]"
     ]
    },
    {
     "name": "stdout",
     "output_type": "stream",
     "text": [
      "Epochs:124, train_Loss:1.9455609321594238, test_Loss:1.11\n"
     ]
    },
    {
     "name": "stderr",
     "output_type": "stream",
     "text": [
      "100%|██████████| 600/600 [00:00<00:00, 659.96it/s]\n",
      " 11%|█         | 67/600 [00:00<00:00, 669.89it/s]"
     ]
    },
    {
     "name": "stdout",
     "output_type": "stream",
     "text": [
      "Epochs:125, train_Loss:1.945644497871399, test_Loss:1.11\n"
     ]
    },
    {
     "name": "stderr",
     "output_type": "stream",
     "text": [
      "100%|██████████| 600/600 [00:00<00:00, 656.28it/s]\n",
      " 11%|█▏        | 68/600 [00:00<00:00, 673.61it/s]"
     ]
    },
    {
     "name": "stdout",
     "output_type": "stream",
     "text": [
      "Epochs:126, train_Loss:1.9455018043518066, test_Loss:1.11\n"
     ]
    },
    {
     "name": "stderr",
     "output_type": "stream",
     "text": [
      "100%|██████████| 600/600 [00:00<00:00, 669.66it/s]\n",
      " 11%|█         | 67/600 [00:00<00:00, 665.81it/s]"
     ]
    },
    {
     "name": "stdout",
     "output_type": "stream",
     "text": [
      "Epochs:127, train_Loss:1.9455121755599976, test_Loss:1.11\n"
     ]
    },
    {
     "name": "stderr",
     "output_type": "stream",
     "text": [
      "100%|██████████| 600/600 [00:00<00:00, 659.85it/s]\n",
      " 11%|█▏        | 68/600 [00:00<00:00, 678.28it/s]"
     ]
    },
    {
     "name": "stdout",
     "output_type": "stream",
     "text": [
      "Epochs:128, train_Loss:1.9455281496047974, test_Loss:1.11\n"
     ]
    },
    {
     "name": "stderr",
     "output_type": "stream",
     "text": [
      "100%|██████████| 600/600 [00:00<00:00, 674.46it/s]\n",
      " 11%|█         | 66/600 [00:00<00:00, 659.10it/s]"
     ]
    },
    {
     "name": "stdout",
     "output_type": "stream",
     "text": [
      "Epochs:129, train_Loss:1.9453433752059937, test_Loss:1.11\n"
     ]
    },
    {
     "name": "stderr",
     "output_type": "stream",
     "text": [
      "100%|██████████| 600/600 [00:00<00:00, 659.97it/s]\n",
      " 11%|█▏        | 68/600 [00:00<00:00, 676.18it/s]"
     ]
    },
    {
     "name": "stdout",
     "output_type": "stream",
     "text": [
      "Epochs:130, train_Loss:1.9452811479568481, test_Loss:1.11\n"
     ]
    },
    {
     "name": "stderr",
     "output_type": "stream",
     "text": [
      "100%|██████████| 600/600 [00:00<00:00, 673.85it/s]\n",
      " 11%|█▏        | 68/600 [00:00<00:00, 674.23it/s]"
     ]
    },
    {
     "name": "stdout",
     "output_type": "stream",
     "text": [
      "Epochs:131, train_Loss:1.9455138444900513, test_Loss:1.11\n"
     ]
    },
    {
     "name": "stderr",
     "output_type": "stream",
     "text": [
      "100%|██████████| 600/600 [00:00<00:00, 669.15it/s]\n",
      " 11%|█▏        | 68/600 [00:00<00:00, 675.72it/s]"
     ]
    },
    {
     "name": "stdout",
     "output_type": "stream",
     "text": [
      "Epochs:132, train_Loss:1.9457640647888184, test_Loss:1.11\n"
     ]
    },
    {
     "name": "stderr",
     "output_type": "stream",
     "text": [
      "100%|██████████| 600/600 [00:00<00:00, 668.73it/s]\n",
      " 11%|█         | 67/600 [00:00<00:00, 665.91it/s]"
     ]
    },
    {
     "name": "stdout",
     "output_type": "stream",
     "text": [
      "Epochs:133, train_Loss:1.945741891860962, test_Loss:1.11\n"
     ]
    },
    {
     "name": "stderr",
     "output_type": "stream",
     "text": [
      "100%|██████████| 600/600 [00:00<00:00, 661.59it/s]\n",
      " 11%|█▏        | 68/600 [00:00<00:00, 674.17it/s]"
     ]
    },
    {
     "name": "stdout",
     "output_type": "stream",
     "text": [
      "Epochs:134, train_Loss:1.9453749656677246, test_Loss:1.11\n"
     ]
    },
    {
     "name": "stderr",
     "output_type": "stream",
     "text": [
      "100%|██████████| 600/600 [00:00<00:00, 671.69it/s]\n",
      " 11%|█         | 67/600 [00:00<00:00, 669.12it/s]"
     ]
    },
    {
     "name": "stdout",
     "output_type": "stream",
     "text": [
      "Epochs:135, train_Loss:1.945532202720642, test_Loss:1.11\n"
     ]
    },
    {
     "name": "stderr",
     "output_type": "stream",
     "text": [
      "100%|██████████| 600/600 [00:00<00:00, 672.47it/s]\n",
      " 11%|█▏        | 68/600 [00:00<00:00, 676.80it/s]"
     ]
    },
    {
     "name": "stdout",
     "output_type": "stream",
     "text": [
      "Epochs:136, train_Loss:1.9453332424163818, test_Loss:1.11\n"
     ]
    },
    {
     "name": "stderr",
     "output_type": "stream",
     "text": [
      "100%|██████████| 600/600 [00:00<00:00, 667.54it/s]\n",
      " 11%|█         | 67/600 [00:00<00:00, 660.65it/s]"
     ]
    },
    {
     "name": "stdout",
     "output_type": "stream",
     "text": [
      "Epochs:137, train_Loss:1.9452418088912964, test_Loss:1.11\n"
     ]
    },
    {
     "name": "stderr",
     "output_type": "stream",
     "text": [
      "100%|██████████| 600/600 [00:00<00:00, 657.48it/s]\n",
      " 11%|█         | 66/600 [00:00<00:00, 658.73it/s]"
     ]
    },
    {
     "name": "stdout",
     "output_type": "stream",
     "text": [
      "Epochs:138, train_Loss:1.945212960243225, test_Loss:1.11\n"
     ]
    },
    {
     "name": "stderr",
     "output_type": "stream",
     "text": [
      "100%|██████████| 600/600 [00:00<00:00, 664.73it/s]\n",
      " 11%|█▏        | 68/600 [00:00<00:00, 673.57it/s]"
     ]
    },
    {
     "name": "stdout",
     "output_type": "stream",
     "text": [
      "Epochs:139, train_Loss:1.9450750350952148, test_Loss:1.11\n"
     ]
    },
    {
     "name": "stderr",
     "output_type": "stream",
     "text": [
      "100%|██████████| 600/600 [00:00<00:00, 665.29it/s]\n",
      " 11%|█         | 67/600 [00:00<00:00, 663.59it/s]"
     ]
    },
    {
     "name": "stdout",
     "output_type": "stream",
     "text": [
      "Epochs:140, train_Loss:1.9449315071105957, test_Loss:1.11\n"
     ]
    },
    {
     "name": "stderr",
     "output_type": "stream",
     "text": [
      "100%|██████████| 600/600 [00:00<00:00, 668.53it/s]\n",
      " 11%|█         | 67/600 [00:00<00:00, 667.57it/s]"
     ]
    },
    {
     "name": "stdout",
     "output_type": "stream",
     "text": [
      "Epochs:141, train_Loss:1.9445364475250244, test_Loss:1.11\n"
     ]
    },
    {
     "name": "stderr",
     "output_type": "stream",
     "text": [
      "100%|██████████| 600/600 [00:00<00:00, 666.63it/s]\n",
      " 11%|█         | 67/600 [00:00<00:00, 668.12it/s]"
     ]
    },
    {
     "name": "stdout",
     "output_type": "stream",
     "text": [
      "Epochs:142, train_Loss:1.944573163986206, test_Loss:1.11\n"
     ]
    },
    {
     "name": "stderr",
     "output_type": "stream",
     "text": [
      "100%|██████████| 600/600 [00:00<00:00, 658.61it/s]\n",
      " 11%|█         | 67/600 [00:00<00:00, 660.22it/s]"
     ]
    },
    {
     "name": "stdout",
     "output_type": "stream",
     "text": [
      "Epochs:143, train_Loss:1.9445351362228394, test_Loss:1.11\n"
     ]
    },
    {
     "name": "stderr",
     "output_type": "stream",
     "text": [
      "100%|██████████| 600/600 [00:00<00:00, 611.99it/s]\n",
      " 11%|█▏        | 68/600 [00:00<00:00, 671.16it/s]"
     ]
    },
    {
     "name": "stdout",
     "output_type": "stream",
     "text": [
      "Epochs:144, train_Loss:1.9443888664245605, test_Loss:1.11\n"
     ]
    },
    {
     "name": "stderr",
     "output_type": "stream",
     "text": [
      "100%|██████████| 600/600 [00:00<00:00, 672.19it/s]\n",
      " 11%|█▏        | 68/600 [00:00<00:00, 676.27it/s]"
     ]
    },
    {
     "name": "stdout",
     "output_type": "stream",
     "text": [
      "Epochs:145, train_Loss:1.9440405368804932, test_Loss:1.11\n"
     ]
    },
    {
     "name": "stderr",
     "output_type": "stream",
     "text": [
      "100%|██████████| 600/600 [00:00<00:00, 668.61it/s]\n",
      " 11%|█▏        | 68/600 [00:00<00:00, 673.20it/s]"
     ]
    },
    {
     "name": "stdout",
     "output_type": "stream",
     "text": [
      "Epochs:146, train_Loss:1.9440195560455322, test_Loss:1.11\n"
     ]
    },
    {
     "name": "stderr",
     "output_type": "stream",
     "text": [
      "100%|██████████| 600/600 [00:00<00:00, 671.58it/s]\n",
      " 11%|█▏        | 68/600 [00:00<00:00, 671.99it/s]"
     ]
    },
    {
     "name": "stdout",
     "output_type": "stream",
     "text": [
      "Epochs:147, train_Loss:1.9440535306930542, test_Loss:1.11\n"
     ]
    },
    {
     "name": "stderr",
     "output_type": "stream",
     "text": [
      "100%|██████████| 600/600 [00:00<00:00, 668.29it/s]\n",
      " 11%|█         | 67/600 [00:00<00:00, 667.86it/s]"
     ]
    },
    {
     "name": "stdout",
     "output_type": "stream",
     "text": [
      "Epochs:148, train_Loss:1.9439586400985718, test_Loss:1.11\n"
     ]
    },
    {
     "name": "stderr",
     "output_type": "stream",
     "text": [
      "100%|██████████| 600/600 [00:00<00:00, 657.07it/s]\n",
      " 11%|█         | 66/600 [00:00<00:00, 652.91it/s]"
     ]
    },
    {
     "name": "stdout",
     "output_type": "stream",
     "text": [
      "Epochs:149, train_Loss:1.944020390510559, test_Loss:1.11\n"
     ]
    },
    {
     "name": "stderr",
     "output_type": "stream",
     "text": [
      "100%|██████████| 600/600 [00:00<00:00, 658.12it/s]\n",
      " 11%|█         | 66/600 [00:00<00:00, 656.41it/s]"
     ]
    },
    {
     "name": "stdout",
     "output_type": "stream",
     "text": [
      "Epochs:150, train_Loss:1.9440221786499023, test_Loss:1.11\n"
     ]
    },
    {
     "name": "stderr",
     "output_type": "stream",
     "text": [
      "100%|██████████| 600/600 [00:00<00:00, 660.88it/s]\n",
      " 11%|█         | 66/600 [00:00<00:00, 657.07it/s]"
     ]
    },
    {
     "name": "stdout",
     "output_type": "stream",
     "text": [
      "Epochs:151, train_Loss:1.9441066980361938, test_Loss:1.11\n"
     ]
    },
    {
     "name": "stderr",
     "output_type": "stream",
     "text": [
      "100%|██████████| 600/600 [00:00<00:00, 663.57it/s]\n",
      " 11%|█         | 67/600 [00:00<00:00, 668.98it/s]"
     ]
    },
    {
     "name": "stdout",
     "output_type": "stream",
     "text": [
      "Epochs:152, train_Loss:1.9441624879837036, test_Loss:1.11\n"
     ]
    },
    {
     "name": "stderr",
     "output_type": "stream",
     "text": [
      "100%|██████████| 600/600 [00:00<00:00, 664.54it/s]\n",
      " 11%|█         | 67/600 [00:00<00:00, 663.84it/s]"
     ]
    },
    {
     "name": "stdout",
     "output_type": "stream",
     "text": [
      "Epochs:153, train_Loss:1.9442774057388306, test_Loss:1.11\n"
     ]
    },
    {
     "name": "stderr",
     "output_type": "stream",
     "text": [
      "100%|██████████| 600/600 [00:00<00:00, 663.02it/s]\n",
      " 11%|█▏        | 68/600 [00:00<00:00, 672.48it/s]"
     ]
    },
    {
     "name": "stdout",
     "output_type": "stream",
     "text": [
      "Epochs:154, train_Loss:1.9445512294769287, test_Loss:1.11\n"
     ]
    },
    {
     "name": "stderr",
     "output_type": "stream",
     "text": [
      "100%|██████████| 600/600 [00:00<00:00, 666.62it/s]\n",
      " 11%|█         | 67/600 [00:00<00:00, 664.24it/s]"
     ]
    },
    {
     "name": "stdout",
     "output_type": "stream",
     "text": [
      "Epochs:155, train_Loss:1.944556713104248, test_Loss:1.11\n"
     ]
    },
    {
     "name": "stderr",
     "output_type": "stream",
     "text": [
      "100%|██████████| 600/600 [00:00<00:00, 654.05it/s]\n",
      " 11%|█         | 67/600 [00:00<00:00, 660.83it/s]"
     ]
    },
    {
     "name": "stdout",
     "output_type": "stream",
     "text": [
      "Epochs:156, train_Loss:1.9446369409561157, test_Loss:1.11\n"
     ]
    },
    {
     "name": "stderr",
     "output_type": "stream",
     "text": [
      "100%|██████████| 600/600 [00:00<00:00, 663.26it/s]\n",
      " 11%|█         | 67/600 [00:00<00:00, 669.46it/s]"
     ]
    },
    {
     "name": "stdout",
     "output_type": "stream",
     "text": [
      "Epochs:157, train_Loss:1.9446746110916138, test_Loss:1.11\n"
     ]
    },
    {
     "name": "stderr",
     "output_type": "stream",
     "text": [
      "100%|██████████| 600/600 [00:00<00:00, 667.00it/s]\n",
      " 11%|█▏        | 68/600 [00:00<00:00, 676.29it/s]"
     ]
    },
    {
     "name": "stdout",
     "output_type": "stream",
     "text": [
      "Epochs:158, train_Loss:1.94497811794281, test_Loss:1.11\n"
     ]
    },
    {
     "name": "stderr",
     "output_type": "stream",
     "text": [
      "100%|██████████| 600/600 [00:00<00:00, 657.32it/s]\n",
      " 11%|█         | 67/600 [00:00<00:00, 661.72it/s]"
     ]
    },
    {
     "name": "stdout",
     "output_type": "stream",
     "text": [
      "Epochs:159, train_Loss:1.944868564605713, test_Loss:1.11\n"
     ]
    },
    {
     "name": "stderr",
     "output_type": "stream",
     "text": [
      "100%|██████████| 600/600 [00:00<00:00, 668.77it/s]\n",
      " 11%|█▏        | 68/600 [00:00<00:00, 676.05it/s]"
     ]
    },
    {
     "name": "stdout",
     "output_type": "stream",
     "text": [
      "Epochs:160, train_Loss:1.9451005458831787, test_Loss:1.11\n"
     ]
    },
    {
     "name": "stderr",
     "output_type": "stream",
     "text": [
      "100%|██████████| 600/600 [00:00<00:00, 671.28it/s]\n",
      " 11%|█         | 67/600 [00:00<00:00, 665.40it/s]"
     ]
    },
    {
     "name": "stdout",
     "output_type": "stream",
     "text": [
      "Epochs:161, train_Loss:1.9451518058776855, test_Loss:1.11\n"
     ]
    },
    {
     "name": "stderr",
     "output_type": "stream",
     "text": [
      "100%|██████████| 600/600 [00:00<00:00, 659.91it/s]\n",
      " 11%|█         | 67/600 [00:00<00:00, 660.11it/s]"
     ]
    },
    {
     "name": "stdout",
     "output_type": "stream",
     "text": [
      "Epochs:162, train_Loss:1.9451884031295776, test_Loss:1.11\n"
     ]
    },
    {
     "name": "stderr",
     "output_type": "stream",
     "text": [
      "100%|██████████| 600/600 [00:00<00:00, 659.42it/s]\n",
      " 12%|█▏        | 69/600 [00:00<00:00, 685.03it/s]"
     ]
    },
    {
     "name": "stdout",
     "output_type": "stream",
     "text": [
      "Epochs:163, train_Loss:1.945555329322815, test_Loss:1.11\n"
     ]
    },
    {
     "name": "stderr",
     "output_type": "stream",
     "text": [
      "100%|██████████| 600/600 [00:00<00:00, 674.41it/s]\n",
      " 11%|█         | 67/600 [00:00<00:00, 662.19it/s]"
     ]
    },
    {
     "name": "stdout",
     "output_type": "stream",
     "text": [
      "Epochs:164, train_Loss:1.945896029472351, test_Loss:1.11\n"
     ]
    },
    {
     "name": "stderr",
     "output_type": "stream",
     "text": [
      "100%|██████████| 600/600 [00:00<00:00, 669.29it/s]\n",
      " 11%|█         | 64/600 [00:00<00:00, 638.26it/s]"
     ]
    },
    {
     "name": "stdout",
     "output_type": "stream",
     "text": [
      "Epochs:165, train_Loss:1.9463233947753906, test_Loss:1.11\n"
     ]
    },
    {
     "name": "stderr",
     "output_type": "stream",
     "text": [
      "100%|██████████| 600/600 [00:00<00:00, 665.45it/s]\n",
      " 11%|█         | 67/600 [00:00<00:00, 666.62it/s]"
     ]
    },
    {
     "name": "stdout",
     "output_type": "stream",
     "text": [
      "Epochs:166, train_Loss:1.9464868307113647, test_Loss:1.11\n"
     ]
    },
    {
     "name": "stderr",
     "output_type": "stream",
     "text": [
      "100%|██████████| 600/600 [00:00<00:00, 669.69it/s]\n",
      " 11%|█         | 67/600 [00:00<00:00, 664.07it/s]"
     ]
    },
    {
     "name": "stdout",
     "output_type": "stream",
     "text": [
      "Epochs:167, train_Loss:1.9469387531280518, test_Loss:1.11\n"
     ]
    },
    {
     "name": "stderr",
     "output_type": "stream",
     "text": [
      "100%|██████████| 600/600 [00:00<00:00, 667.95it/s]\n",
      " 11%|█▏        | 68/600 [00:00<00:00, 675.03it/s]"
     ]
    },
    {
     "name": "stdout",
     "output_type": "stream",
     "text": [
      "Epochs:168, train_Loss:1.9473410844802856, test_Loss:1.11\n"
     ]
    },
    {
     "name": "stderr",
     "output_type": "stream",
     "text": [
      "100%|██████████| 600/600 [00:00<00:00, 675.35it/s]\n",
      " 11%|█▏        | 68/600 [00:00<00:00, 675.62it/s]"
     ]
    },
    {
     "name": "stdout",
     "output_type": "stream",
     "text": [
      "Epochs:169, train_Loss:1.9475359916687012, test_Loss:1.11\n"
     ]
    },
    {
     "name": "stderr",
     "output_type": "stream",
     "text": [
      "100%|██████████| 600/600 [00:00<00:00, 676.28it/s]\n",
      " 11%|█▏        | 68/600 [00:00<00:00, 677.89it/s]"
     ]
    },
    {
     "name": "stdout",
     "output_type": "stream",
     "text": [
      "Epochs:170, train_Loss:1.9477742910385132, test_Loss:1.11\n"
     ]
    },
    {
     "name": "stderr",
     "output_type": "stream",
     "text": [
      "100%|██████████| 600/600 [00:00<00:00, 672.00it/s]\n",
      " 11%|█▏        | 68/600 [00:00<00:00, 673.50it/s]"
     ]
    },
    {
     "name": "stdout",
     "output_type": "stream",
     "text": [
      "Epochs:171, train_Loss:1.9480335712432861, test_Loss:1.11\n"
     ]
    },
    {
     "name": "stderr",
     "output_type": "stream",
     "text": [
      "100%|██████████| 600/600 [00:00<00:00, 665.02it/s]\n",
      " 11%|█▏        | 68/600 [00:00<00:00, 676.78it/s]"
     ]
    },
    {
     "name": "stdout",
     "output_type": "stream",
     "text": [
      "Epochs:172, train_Loss:1.9482474327087402, test_Loss:1.11\n"
     ]
    },
    {
     "name": "stderr",
     "output_type": "stream",
     "text": [
      "100%|██████████| 600/600 [00:00<00:00, 670.35it/s]\n",
      " 11%|█▏        | 68/600 [00:00<00:00, 676.52it/s]"
     ]
    },
    {
     "name": "stdout",
     "output_type": "stream",
     "text": [
      "Epochs:173, train_Loss:1.9486169815063477, test_Loss:1.11\n"
     ]
    },
    {
     "name": "stderr",
     "output_type": "stream",
     "text": [
      "100%|██████████| 600/600 [00:00<00:00, 669.18it/s]\n",
      " 11%|█         | 67/600 [00:00<00:00, 666.78it/s]"
     ]
    },
    {
     "name": "stdout",
     "output_type": "stream",
     "text": [
      "Epochs:174, train_Loss:1.9489096403121948, test_Loss:1.11\n"
     ]
    },
    {
     "name": "stderr",
     "output_type": "stream",
     "text": [
      "100%|██████████| 600/600 [00:00<00:00, 651.43it/s]\n",
      " 11%|█▏        | 68/600 [00:00<00:00, 670.77it/s]"
     ]
    },
    {
     "name": "stdout",
     "output_type": "stream",
     "text": [
      "Epochs:175, train_Loss:1.9491244554519653, test_Loss:1.11\n"
     ]
    },
    {
     "name": "stderr",
     "output_type": "stream",
     "text": [
      "100%|██████████| 600/600 [00:00<00:00, 668.72it/s]\n",
      " 11%|█         | 67/600 [00:00<00:00, 663.83it/s]"
     ]
    },
    {
     "name": "stdout",
     "output_type": "stream",
     "text": [
      "Epochs:176, train_Loss:1.9491857290267944, test_Loss:1.11\n"
     ]
    },
    {
     "name": "stderr",
     "output_type": "stream",
     "text": [
      "100%|██████████| 600/600 [00:00<00:00, 664.34it/s]\n",
      " 12%|█▏        | 69/600 [00:00<00:00, 679.94it/s]"
     ]
    },
    {
     "name": "stdout",
     "output_type": "stream",
     "text": [
      "Epochs:177, train_Loss:1.9495552778244019, test_Loss:1.11\n"
     ]
    },
    {
     "name": "stderr",
     "output_type": "stream",
     "text": [
      "100%|██████████| 600/600 [00:00<00:00, 670.30it/s]\n",
      " 11%|█▏        | 68/600 [00:00<00:00, 670.58it/s]"
     ]
    },
    {
     "name": "stdout",
     "output_type": "stream",
     "text": [
      "Epochs:178, train_Loss:1.9499409198760986, test_Loss:1.11\n"
     ]
    },
    {
     "name": "stderr",
     "output_type": "stream",
     "text": [
      "100%|██████████| 600/600 [00:00<00:00, 673.21it/s]\n",
      " 11%|█▏        | 68/600 [00:00<00:00, 675.31it/s]"
     ]
    },
    {
     "name": "stdout",
     "output_type": "stream",
     "text": [
      "Epochs:179, train_Loss:1.9501136541366577, test_Loss:1.11\n"
     ]
    },
    {
     "name": "stderr",
     "output_type": "stream",
     "text": [
      "100%|██████████| 600/600 [00:00<00:00, 677.85it/s]\n",
      " 11%|█▏        | 68/600 [00:00<00:00, 674.72it/s]"
     ]
    },
    {
     "name": "stdout",
     "output_type": "stream",
     "text": [
      "Epochs:180, train_Loss:1.9504166841506958, test_Loss:1.11\n"
     ]
    },
    {
     "name": "stderr",
     "output_type": "stream",
     "text": [
      "100%|██████████| 600/600 [00:00<00:00, 673.11it/s]\n",
      " 11%|█▏        | 68/600 [00:00<00:00, 676.57it/s]"
     ]
    },
    {
     "name": "stdout",
     "output_type": "stream",
     "text": [
      "Epochs:181, train_Loss:1.950576663017273, test_Loss:1.11\n"
     ]
    },
    {
     "name": "stderr",
     "output_type": "stream",
     "text": [
      "100%|██████████| 600/600 [00:00<00:00, 665.30it/s]\n",
      " 11%|█         | 67/600 [00:00<00:00, 669.96it/s]"
     ]
    },
    {
     "name": "stdout",
     "output_type": "stream",
     "text": [
      "Epochs:182, train_Loss:1.9509541988372803, test_Loss:1.11\n"
     ]
    },
    {
     "name": "stderr",
     "output_type": "stream",
     "text": [
      "100%|██████████| 600/600 [00:00<00:00, 659.76it/s]\n",
      " 11%|█▏        | 68/600 [00:00<00:00, 675.81it/s]"
     ]
    },
    {
     "name": "stdout",
     "output_type": "stream",
     "text": [
      "Epochs:183, train_Loss:1.951177716255188, test_Loss:1.11\n"
     ]
    },
    {
     "name": "stderr",
     "output_type": "stream",
     "text": [
      "100%|██████████| 600/600 [00:00<00:00, 674.53it/s]\n",
      " 11%|█▏        | 68/600 [00:00<00:00, 672.35it/s]"
     ]
    },
    {
     "name": "stdout",
     "output_type": "stream",
     "text": [
      "Epochs:184, train_Loss:1.951439380645752, test_Loss:1.11\n"
     ]
    },
    {
     "name": "stderr",
     "output_type": "stream",
     "text": [
      "100%|██████████| 600/600 [00:00<00:00, 667.08it/s]\n",
      " 11%|█▏        | 68/600 [00:00<00:00, 678.04it/s]"
     ]
    },
    {
     "name": "stdout",
     "output_type": "stream",
     "text": [
      "Epochs:185, train_Loss:1.9516962766647339, test_Loss:1.11\n"
     ]
    },
    {
     "name": "stderr",
     "output_type": "stream",
     "text": [
      "100%|██████████| 600/600 [00:00<00:00, 679.31it/s]\n",
      " 11%|█▏        | 68/600 [00:00<00:00, 674.84it/s]"
     ]
    },
    {
     "name": "stdout",
     "output_type": "stream",
     "text": [
      "Epochs:186, train_Loss:1.9518747329711914, test_Loss:1.11\n"
     ]
    },
    {
     "name": "stderr",
     "output_type": "stream",
     "text": [
      "100%|██████████| 600/600 [00:00<00:00, 669.84it/s]\n",
      " 11%|█         | 67/600 [00:00<00:00, 666.50it/s]"
     ]
    },
    {
     "name": "stdout",
     "output_type": "stream",
     "text": [
      "Epochs:187, train_Loss:1.9518580436706543, test_Loss:1.11\n"
     ]
    },
    {
     "name": "stderr",
     "output_type": "stream",
     "text": [
      "100%|██████████| 600/600 [00:00<00:00, 668.52it/s]\n",
      " 11%|█▏        | 68/600 [00:00<00:00, 673.04it/s]"
     ]
    },
    {
     "name": "stdout",
     "output_type": "stream",
     "text": [
      "Epochs:188, train_Loss:1.9519988298416138, test_Loss:1.11\n"
     ]
    },
    {
     "name": "stderr",
     "output_type": "stream",
     "text": [
      "100%|██████████| 600/600 [00:00<00:00, 674.74it/s]\n",
      " 12%|█▏        | 69/600 [00:00<00:00, 683.40it/s]"
     ]
    },
    {
     "name": "stdout",
     "output_type": "stream",
     "text": [
      "Epochs:189, train_Loss:1.9518073797225952, test_Loss:1.11\n"
     ]
    },
    {
     "name": "stderr",
     "output_type": "stream",
     "text": [
      "100%|██████████| 600/600 [00:00<00:00, 675.73it/s]\n",
      " 11%|█▏        | 68/600 [00:00<00:00, 675.40it/s]"
     ]
    },
    {
     "name": "stdout",
     "output_type": "stream",
     "text": [
      "Epochs:190, train_Loss:1.9520293474197388, test_Loss:1.11\n"
     ]
    },
    {
     "name": "stderr",
     "output_type": "stream",
     "text": [
      "100%|██████████| 600/600 [00:00<00:00, 678.64it/s]\n",
      " 12%|█▏        | 69/600 [00:00<00:00, 685.02it/s]"
     ]
    },
    {
     "name": "stdout",
     "output_type": "stream",
     "text": [
      "Epochs:191, train_Loss:1.9521209001541138, test_Loss:1.11\n"
     ]
    },
    {
     "name": "stderr",
     "output_type": "stream",
     "text": [
      "100%|██████████| 600/600 [00:00<00:00, 672.18it/s]\n",
      " 12%|█▏        | 69/600 [00:00<00:00, 681.77it/s]"
     ]
    },
    {
     "name": "stdout",
     "output_type": "stream",
     "text": [
      "Epochs:192, train_Loss:1.9522689580917358, test_Loss:1.11\n"
     ]
    },
    {
     "name": "stderr",
     "output_type": "stream",
     "text": [
      "100%|██████████| 600/600 [00:00<00:00, 677.01it/s]\n",
      " 12%|█▏        | 69/600 [00:00<00:00, 689.12it/s]"
     ]
    },
    {
     "name": "stdout",
     "output_type": "stream",
     "text": [
      "Epochs:193, train_Loss:1.9523624181747437, test_Loss:1.11\n"
     ]
    },
    {
     "name": "stderr",
     "output_type": "stream",
     "text": [
      "100%|██████████| 600/600 [00:00<00:00, 684.80it/s]\n",
      " 12%|█▏        | 69/600 [00:00<00:00, 683.01it/s]"
     ]
    },
    {
     "name": "stdout",
     "output_type": "stream",
     "text": [
      "Epochs:194, train_Loss:1.9523000717163086, test_Loss:1.11\n"
     ]
    },
    {
     "name": "stderr",
     "output_type": "stream",
     "text": [
      "100%|██████████| 600/600 [00:00<00:00, 671.33it/s]\n",
      " 12%|█▏        | 69/600 [00:00<00:00, 680.78it/s]"
     ]
    },
    {
     "name": "stdout",
     "output_type": "stream",
     "text": [
      "Epochs:195, train_Loss:1.9528998136520386, test_Loss:1.11\n"
     ]
    },
    {
     "name": "stderr",
     "output_type": "stream",
     "text": [
      "100%|██████████| 600/600 [00:00<00:00, 675.40it/s]\n",
      " 11%|█         | 65/600 [00:00<00:00, 648.59it/s]"
     ]
    },
    {
     "name": "stdout",
     "output_type": "stream",
     "text": [
      "Epochs:196, train_Loss:1.9529880285263062, test_Loss:1.11\n"
     ]
    },
    {
     "name": "stderr",
     "output_type": "stream",
     "text": [
      "100%|██████████| 600/600 [00:00<00:00, 677.05it/s]\n",
      " 12%|█▏        | 69/600 [00:00<00:00, 680.47it/s]"
     ]
    },
    {
     "name": "stdout",
     "output_type": "stream",
     "text": [
      "Epochs:197, train_Loss:1.9529372453689575, test_Loss:1.11\n"
     ]
    },
    {
     "name": "stderr",
     "output_type": "stream",
     "text": [
      "100%|██████████| 600/600 [00:00<00:00, 677.93it/s]\n",
      " 12%|█▏        | 69/600 [00:00<00:00, 682.94it/s]"
     ]
    },
    {
     "name": "stdout",
     "output_type": "stream",
     "text": [
      "Epochs:198, train_Loss:1.9532569646835327, test_Loss:1.11\n"
     ]
    },
    {
     "name": "stderr",
     "output_type": "stream",
     "text": [
      "100%|██████████| 600/600 [00:00<00:00, 677.27it/s]\n"
     ]
    },
    {
     "name": "stdout",
     "output_type": "stream",
     "text": [
      "Epochs:199, train_Loss:1.953334927558899, test_Loss:1.11\n"
     ]
    }
   ],
   "source": [
    "for epoch in range(1, 200):\n",
    "    start = 0\n",
    "    for _data in tqdm(train_loader):\n",
    "        y = tag_shaper(_data[:,0])\n",
    "#         x = input_shaper(_data[:, 1:input_dim+1],input_dim)\n",
    "        o = input_shaper(_data[:, input_dim+1],estimate_dim)\n",
    "#         x = x.to(device)\n",
    "        y = y.to(device)\n",
    "        o = o.to(device)\n",
    "        \n",
    "        optimizer.zero_grad()\n",
    "        \n",
    "#         z = q.sample({\"x\":x}, return_all=False)\n",
    "#         latent = z.get('z')\n",
    "        \n",
    "        end = start + batch_size\n",
    "        latent = torch.tensor(sz_total_train[start:end]).to(device)\n",
    "        start = end\n",
    "        \n",
    "        output = model2(latent,y)\n",
    "        loss = criterion(output,o)        \n",
    "        loss.backward()\n",
    "        \n",
    "        optimizer.step()\n",
    "    \n",
    "    total = 0\n",
    "    total_loss = 0\n",
    "    start = 0\n",
    "    for _data in test_loader:\n",
    "        y = tag_shaper(_data[:,0])\n",
    "#         x = input_shaper(_data[:, 1:input_dim+1],input_dim)\n",
    "        o = input_shaper(_data[:, input_dim+1],estimate_dim)\n",
    "#         x = x.to(device)\n",
    "        y = y.to(device)\n",
    "        o = o.to(device)\n",
    "        \n",
    "#         z = q.sample({\"x\":x}, return_all=False)\n",
    "#         latent = z.get('z')\n",
    "        \n",
    "        end = start + batch_size\n",
    "        latent = torch.tensor(sz_total_test[start:end]).to(device)\n",
    "        start = end        \n",
    "        \n",
    "        output = model2(latent,y)\n",
    "        loss = criterion(output,o)\n",
    "        \n",
    "        total_loss += loss *len(_data)\n",
    "        total += len(_data)\n",
    "    test_loss = total_loss/total\n",
    "    \n",
    "    print('Epochs:{}, train_Loss:{}, test_Loss:{:.2f}'.format(epoch,loss.item(), test_loss.item()))"
   ]
  },
  {
   "cell_type": "code",
   "execution_count": 36,
   "metadata": {},
   "outputs": [],
   "source": [
    "pt_size = 20000\n",
    "z_sample = 0.3* torch.randn(pt_size, latent_dim).to(device)\n",
    "\n",
    "# 非治療群を生成\n",
    "plot_number = 0\n",
    "uy_sample = torch.eye(2)[[plot_number]*pt_size].to(device)\n",
    "untreated=model2(z_sample,uy_sample)\n",
    "\n",
    "# 治療群を生成\n",
    "plot_number = 1\n",
    "ty_sample = torch.eye(2)[[plot_number]*pt_size].to(device)\n",
    "treated=model2(z_sample,ty_sample)"
   ]
  },
  {
   "cell_type": "code",
   "execution_count": 37,
   "metadata": {},
   "outputs": [
    {
     "data": {
      "image/png": "[encoded data removed]",
      "text/plain": [
       "<Figure size 432x288 with 1 Axes>"
      ]
     },
     "metadata": {
      "needs_background": "light"
     },
     "output_type": "display_data"
    }
   ],
   "source": [
    "plt.hist(untreated.detach().cpu().numpy(),bins=100)\n",
    "plt.show()"
   ]
  },
  {
   "cell_type": "code",
   "execution_count": 38,
   "metadata": {},
   "outputs": [
    {
     "data": {
      "image/png": "[encoded data removed]",
      "text/plain": [
       "<Figure size 432x288 with 1 Axes>"
      ]
     },
     "metadata": {
      "needs_background": "light"
     },
     "output_type": "display_data"
    }
   ],
   "source": [
    "plt.hist(treated.detach().cpu().numpy(),bins=100)\n",
    "plt.show()"
   ]
  },
  {
   "cell_type": "code",
   "execution_count": 39,
   "metadata": {},
   "outputs": [
    {
     "data": {
      "text/plain": [
       "1.5265381"
      ]
     },
     "execution_count": 39,
     "metadata": {},
     "output_type": "execute_result"
    },
    {
     "data": {
      "image/png": "[encoded data removed]",
      "text/plain": [
       "<Figure size 432x288 with 1 Axes>"
      ]
     },
     "metadata": {
      "needs_background": "light"
     },
     "output_type": "display_data"
    }
   ],
   "source": [
    "plt.hist(treated.detach().cpu().numpy()-untreated.detach().cpu().numpy(),bins=100)\n",
    "(treated.detach().cpu().numpy()-untreated.detach().cpu().numpy()).mean()"
   ]
  },
  {
   "cell_type": "code",
   "execution_count": 40,
   "metadata": {
    "scrolled": true
   },
   "outputs": [
    {
     "data": {
      "image/png": "[encoded data removed]",
      "text/plain": [
       "<Figure size 432x288 with 1 Axes>"
      ]
     },
     "metadata": {
      "needs_background": "light"
     },
     "output_type": "display_data"
    }
   ],
   "source": [
    "plt.hist(untreated.detach().cpu().numpy(), bins=100, alpha=0.5)\n",
    "plt.hist(treated.detach().cpu().numpy(), bins=100, alpha=0.5)\n",
    "\n",
    "plt.hist(df_train[(df_train[0]==1)][10], bins=100, alpha=0.5)\n",
    "plt.hist(df_train[(df_train[0]==0)][10], bins=100, alpha=0.5)\n",
    "plt.show()"
   ]
  },
  {
   "cell_type": "markdown",
   "metadata": {},
   "source": [
    "## latent = z only"
   ]
  },
  {
   "cell_type": "code",
   "execution_count": 41,
   "metadata": {},
   "outputs": [],
   "source": [
    "latent_dim = args.dim_latent_z\n",
    "\n",
    "criterion = nn.MSELoss()\n",
    "model2 = Estimator(cond_dim, hidden_dim, latent_dim, estimate_dim)\n",
    "model2.to(device)\n",
    "optimizer = torch.optim.SGD(model2.parameters(),lr=1e-3)"
   ]
  },
  {
   "cell_type": "code",
   "execution_count": 42,
   "metadata": {},
   "outputs": [
    {
     "name": "stderr",
     "output_type": "stream",
     "text": [
      "100%|██████████| 600/600 [00:00<00:00, 675.13it/s]\n",
      " 12%|█▏        | 69/600 [00:00<00:00, 684.24it/s]"
     ]
    },
    {
     "name": "stdout",
     "output_type": "stream",
     "text": [
      "Epochs:1, train_Loss:2.2163479328155518, test_Loss:1.42\n"
     ]
    },
    {
     "name": "stderr",
     "output_type": "stream",
     "text": [
      "100%|██████████| 600/600 [00:00<00:00, 679.11it/s]\n",
      " 11%|█▏        | 68/600 [00:00<00:00, 677.96it/s]"
     ]
    },
    {
     "name": "stdout",
     "output_type": "stream",
     "text": [
      "Epochs:2, train_Loss:1.9788169860839844, test_Loss:1.25\n"
     ]
    },
    {
     "name": "stderr",
     "output_type": "stream",
     "text": [
      "100%|██████████| 600/600 [00:00<00:00, 673.74it/s]\n",
      " 12%|█▏        | 69/600 [00:00<00:00, 683.98it/s]"
     ]
    },
    {
     "name": "stdout",
     "output_type": "stream",
     "text": [
      "Epochs:3, train_Loss:1.9241180419921875, test_Loss:1.21\n"
     ]
    },
    {
     "name": "stderr",
     "output_type": "stream",
     "text": [
      "100%|██████████| 600/600 [00:00<00:00, 669.71it/s]\n",
      " 11%|█         | 67/600 [00:00<00:00, 663.88it/s]"
     ]
    },
    {
     "name": "stdout",
     "output_type": "stream",
     "text": [
      "Epochs:4, train_Loss:1.895931601524353, test_Loss:1.19\n"
     ]
    },
    {
     "name": "stderr",
     "output_type": "stream",
     "text": [
      "100%|██████████| 600/600 [00:00<00:00, 654.78it/s]\n",
      " 11%|█         | 67/600 [00:00<00:00, 668.94it/s]"
     ]
    },
    {
     "name": "stdout",
     "output_type": "stream",
     "text": [
      "Epochs:5, train_Loss:1.879949927330017, test_Loss:1.18\n"
     ]
    },
    {
     "name": "stderr",
     "output_type": "stream",
     "text": [
      "100%|██████████| 600/600 [00:00<00:00, 676.22it/s]\n",
      " 12%|█▏        | 69/600 [00:00<00:00, 683.95it/s]"
     ]
    },
    {
     "name": "stdout",
     "output_type": "stream",
     "text": [
      "Epochs:6, train_Loss:1.8744183778762817, test_Loss:1.17\n"
     ]
    },
    {
     "name": "stderr",
     "output_type": "stream",
     "text": [
      "100%|██████████| 600/600 [00:00<00:00, 675.67it/s]\n",
      " 11%|█▏        | 68/600 [00:00<00:00, 670.61it/s]"
     ]
    },
    {
     "name": "stdout",
     "output_type": "stream",
     "text": [
      "Epochs:7, train_Loss:1.8739757537841797, test_Loss:1.17\n"
     ]
    },
    {
     "name": "stderr",
     "output_type": "stream",
     "text": [
      "100%|██████████| 600/600 [00:00<00:00, 670.14it/s]\n",
      " 12%|█▏        | 69/600 [00:00<00:00, 683.04it/s]"
     ]
    },
    {
     "name": "stdout",
     "output_type": "stream",
     "text": [
      "Epochs:8, train_Loss:1.8752107620239258, test_Loss:1.16\n"
     ]
    },
    {
     "name": "stderr",
     "output_type": "stream",
     "text": [
      "100%|██████████| 600/600 [00:00<00:00, 682.08it/s]\n",
      " 12%|█▏        | 70/600 [00:00<00:00, 693.06it/s]"
     ]
    },
    {
     "name": "stdout",
     "output_type": "stream",
     "text": [
      "Epochs:9, train_Loss:1.8780311346054077, test_Loss:1.16\n"
     ]
    },
    {
     "name": "stderr",
     "output_type": "stream",
     "text": [
      "100%|██████████| 600/600 [00:00<00:00, 686.67it/s]\n",
      " 12%|█▏        | 69/600 [00:00<00:00, 686.92it/s]"
     ]
    },
    {
     "name": "stdout",
     "output_type": "stream",
     "text": [
      "Epochs:10, train_Loss:1.8808164596557617, test_Loss:1.16\n"
     ]
    },
    {
     "name": "stderr",
     "output_type": "stream",
     "text": [
      "100%|██████████| 600/600 [00:00<00:00, 678.93it/s]\n",
      " 11%|█         | 67/600 [00:00<00:00, 669.14it/s]"
     ]
    },
    {
     "name": "stdout",
     "output_type": "stream",
     "text": [
      "Epochs:11, train_Loss:1.8849279880523682, test_Loss:1.15\n"
     ]
    },
    {
     "name": "stderr",
     "output_type": "stream",
     "text": [
      "100%|██████████| 600/600 [00:00<00:00, 674.89it/s]\n",
      " 11%|█         | 67/600 [00:00<00:00, 667.35it/s]"
     ]
    },
    {
     "name": "stdout",
     "output_type": "stream",
     "text": [
      "Epochs:12, train_Loss:1.8890604972839355, test_Loss:1.15\n"
     ]
    },
    {
     "name": "stderr",
     "output_type": "stream",
     "text": [
      "100%|██████████| 600/600 [00:00<00:00, 660.07it/s]\n",
      " 11%|█▏        | 68/600 [00:00<00:00, 677.07it/s]"
     ]
    },
    {
     "name": "stdout",
     "output_type": "stream",
     "text": [
      "Epochs:13, train_Loss:1.8929418325424194, test_Loss:1.15\n"
     ]
    },
    {
     "name": "stderr",
     "output_type": "stream",
     "text": [
      "100%|██████████| 600/600 [00:00<00:00, 671.24it/s]\n",
      " 11%|█         | 67/600 [00:00<00:00, 664.36it/s]"
     ]
    },
    {
     "name": "stdout",
     "output_type": "stream",
     "text": [
      "Epochs:14, train_Loss:1.8977084159851074, test_Loss:1.15\n"
     ]
    },
    {
     "name": "stderr",
     "output_type": "stream",
     "text": [
      "100%|██████████| 600/600 [00:00<00:00, 667.45it/s]\n",
      " 12%|█▏        | 69/600 [00:00<00:00, 682.45it/s]"
     ]
    },
    {
     "name": "stdout",
     "output_type": "stream",
     "text": [
      "Epochs:15, train_Loss:1.9021834135055542, test_Loss:1.15\n"
     ]
    },
    {
     "name": "stderr",
     "output_type": "stream",
     "text": [
      "100%|██████████| 600/600 [00:00<00:00, 676.11it/s]\n",
      " 12%|█▏        | 69/600 [00:00<00:00, 680.97it/s]"
     ]
    },
    {
     "name": "stdout",
     "output_type": "stream",
     "text": [
      "Epochs:16, train_Loss:1.9046350717544556, test_Loss:1.15\n"
     ]
    },
    {
     "name": "stderr",
     "output_type": "stream",
     "text": [
      "100%|██████████| 600/600 [00:00<00:00, 667.92it/s]\n",
      " 11%|█▏        | 68/600 [00:00<00:00, 677.93it/s]"
     ]
    },
    {
     "name": "stdout",
     "output_type": "stream",
     "text": [
      "Epochs:17, train_Loss:1.9064764976501465, test_Loss:1.15\n"
     ]
    },
    {
     "name": "stderr",
     "output_type": "stream",
     "text": [
      "100%|██████████| 600/600 [00:00<00:00, 667.54it/s]\n",
      " 11%|█         | 66/600 [00:00<00:00, 652.25it/s]"
     ]
    },
    {
     "name": "stdout",
     "output_type": "stream",
     "text": [
      "Epochs:18, train_Loss:1.9075291156768799, test_Loss:1.14\n"
     ]
    },
    {
     "name": "stderr",
     "output_type": "stream",
     "text": [
      "100%|██████████| 600/600 [00:00<00:00, 654.51it/s]\n",
      " 11%|█         | 67/600 [00:00<00:00, 662.01it/s]"
     ]
    },
    {
     "name": "stdout",
     "output_type": "stream",
     "text": [
      "Epochs:19, train_Loss:1.909105896949768, test_Loss:1.14\n"
     ]
    },
    {
     "name": "stderr",
     "output_type": "stream",
     "text": [
      "100%|██████████| 600/600 [00:00<00:00, 654.39it/s]\n",
      " 11%|█         | 65/600 [00:00<00:00, 640.90it/s]"
     ]
    },
    {
     "name": "stdout",
     "output_type": "stream",
     "text": [
      "Epochs:20, train_Loss:1.9097654819488525, test_Loss:1.14\n"
     ]
    },
    {
     "name": "stderr",
     "output_type": "stream",
     "text": [
      "100%|██████████| 600/600 [00:00<00:00, 643.84it/s]\n",
      " 11%|█         | 66/600 [00:00<00:00, 655.77it/s]"
     ]
    },
    {
     "name": "stdout",
     "output_type": "stream",
     "text": [
      "Epochs:21, train_Loss:1.909361720085144, test_Loss:1.14\n"
     ]
    },
    {
     "name": "stderr",
     "output_type": "stream",
     "text": [
      "100%|██████████| 600/600 [00:00<00:00, 649.34it/s]\n",
      " 11%|█         | 64/600 [00:00<00:00, 638.30it/s]"
     ]
    },
    {
     "name": "stdout",
     "output_type": "stream",
     "text": [
      "Epochs:22, train_Loss:1.9092357158660889, test_Loss:1.14\n"
     ]
    },
    {
     "name": "stderr",
     "output_type": "stream",
     "text": [
      "100%|██████████| 600/600 [00:00<00:00, 638.49it/s]\n",
      " 11%|█         | 65/600 [00:00<00:00, 645.22it/s]"
     ]
    },
    {
     "name": "stdout",
     "output_type": "stream",
     "text": [
      "Epochs:23, train_Loss:1.9094173908233643, test_Loss:1.14\n"
     ]
    },
    {
     "name": "stderr",
     "output_type": "stream",
     "text": [
      "100%|██████████| 600/600 [00:00<00:00, 647.93it/s]\n",
      " 11%|█         | 65/600 [00:00<00:00, 644.04it/s]"
     ]
    },
    {
     "name": "stdout",
     "output_type": "stream",
     "text": [
      "Epochs:24, train_Loss:1.90949547290802, test_Loss:1.14\n"
     ]
    },
    {
     "name": "stderr",
     "output_type": "stream",
     "text": [
      "100%|██████████| 600/600 [00:00<00:00, 640.76it/s]\n",
      " 11%|█         | 66/600 [00:00<00:00, 651.88it/s]"
     ]
    },
    {
     "name": "stdout",
     "output_type": "stream",
     "text": [
      "Epochs:25, train_Loss:1.9095330238342285, test_Loss:1.14\n"
     ]
    },
    {
     "name": "stderr",
     "output_type": "stream",
     "text": [
      "100%|██████████| 600/600 [00:00<00:00, 645.14it/s]\n",
      " 10%|█         | 62/600 [00:00<00:00, 618.85it/s]"
     ]
    },
    {
     "name": "stdout",
     "output_type": "stream",
     "text": [
      "Epochs:26, train_Loss:1.9094784259796143, test_Loss:1.14\n"
     ]
    },
    {
     "name": "stderr",
     "output_type": "stream",
     "text": [
      "100%|██████████| 600/600 [00:00<00:00, 636.97it/s]\n",
      " 11%|█         | 65/600 [00:00<00:00, 646.71it/s]"
     ]
    },
    {
     "name": "stdout",
     "output_type": "stream",
     "text": [
      "Epochs:27, train_Loss:1.9098345041275024, test_Loss:1.14\n"
     ]
    },
    {
     "name": "stderr",
     "output_type": "stream",
     "text": [
      "100%|██████████| 600/600 [00:00<00:00, 658.98it/s]\n",
      " 11%|█         | 66/600 [00:00<00:00, 654.94it/s]"
     ]
    },
    {
     "name": "stdout",
     "output_type": "stream",
     "text": [
      "Epochs:28, train_Loss:1.909571886062622, test_Loss:1.14\n"
     ]
    },
    {
     "name": "stderr",
     "output_type": "stream",
     "text": [
      "100%|██████████| 600/600 [00:00<00:00, 641.90it/s]\n",
      " 11%|█         | 67/600 [00:00<00:00, 660.68it/s]"
     ]
    },
    {
     "name": "stdout",
     "output_type": "stream",
     "text": [
      "Epochs:29, train_Loss:1.9093937873840332, test_Loss:1.14\n"
     ]
    },
    {
     "name": "stderr",
     "output_type": "stream",
     "text": [
      "100%|██████████| 600/600 [00:00<00:00, 657.77it/s]\n",
      " 11%|█         | 65/600 [00:00<00:00, 648.20it/s]"
     ]
    },
    {
     "name": "stdout",
     "output_type": "stream",
     "text": [
      "Epochs:30, train_Loss:1.9085767269134521, test_Loss:1.13\n"
     ]
    },
    {
     "name": "stderr",
     "output_type": "stream",
     "text": [
      "100%|██████████| 600/600 [00:00<00:00, 654.12it/s]\n",
      " 11%|█         | 67/600 [00:00<00:00, 665.33it/s]"
     ]
    },
    {
     "name": "stdout",
     "output_type": "stream",
     "text": [
      "Epochs:31, train_Loss:1.908712387084961, test_Loss:1.13\n"
     ]
    },
    {
     "name": "stderr",
     "output_type": "stream",
     "text": [
      "100%|██████████| 600/600 [00:00<00:00, 655.95it/s]\n",
      " 11%|█         | 67/600 [00:00<00:00, 661.20it/s]"
     ]
    },
    {
     "name": "stdout",
     "output_type": "stream",
     "text": [
      "Epochs:32, train_Loss:1.9081612825393677, test_Loss:1.13\n"
     ]
    },
    {
     "name": "stderr",
     "output_type": "stream",
     "text": [
      "100%|██████████| 600/600 [00:00<00:00, 657.40it/s]\n",
      " 11%|█         | 67/600 [00:00<00:00, 660.64it/s]"
     ]
    },
    {
     "name": "stdout",
     "output_type": "stream",
     "text": [
      "Epochs:33, train_Loss:1.9081854820251465, test_Loss:1.13\n"
     ]
    },
    {
     "name": "stderr",
     "output_type": "stream",
     "text": [
      "100%|██████████| 600/600 [00:00<00:00, 656.11it/s]\n",
      " 11%|█         | 66/600 [00:00<00:00, 657.91it/s]"
     ]
    },
    {
     "name": "stdout",
     "output_type": "stream",
     "text": [
      "Epochs:34, train_Loss:1.9076752662658691, test_Loss:1.13\n"
     ]
    },
    {
     "name": "stderr",
     "output_type": "stream",
     "text": [
      "100%|██████████| 600/600 [00:01<00:00, 340.29it/s]\n",
      " 11%|█         | 67/600 [00:00<00:00, 669.67it/s]"
     ]
    },
    {
     "name": "stdout",
     "output_type": "stream",
     "text": [
      "Epochs:35, train_Loss:1.908074140548706, test_Loss:1.13\n"
     ]
    },
    {
     "name": "stderr",
     "output_type": "stream",
     "text": [
      "100%|██████████| 600/600 [00:00<00:00, 671.32it/s]\n",
      " 11%|█         | 66/600 [00:00<00:00, 651.99it/s]"
     ]
    },
    {
     "name": "stdout",
     "output_type": "stream",
     "text": [
      "Epochs:36, train_Loss:1.9078716039657593, test_Loss:1.13\n"
     ]
    },
    {
     "name": "stderr",
     "output_type": "stream",
     "text": [
      "100%|██████████| 600/600 [00:00<00:00, 654.33it/s]\n",
      " 11%|█         | 66/600 [00:00<00:00, 657.59it/s]"
     ]
    },
    {
     "name": "stdout",
     "output_type": "stream",
     "text": [
      "Epochs:37, train_Loss:1.9080781936645508, test_Loss:1.13\n"
     ]
    },
    {
     "name": "stderr",
     "output_type": "stream",
     "text": [
      "100%|██████████| 600/600 [00:00<00:00, 662.87it/s]\n",
      " 11%|█▏        | 68/600 [00:00<00:00, 672.11it/s]"
     ]
    },
    {
     "name": "stdout",
     "output_type": "stream",
     "text": [
      "Epochs:38, train_Loss:1.9081951379776, test_Loss:1.13\n"
     ]
    },
    {
     "name": "stderr",
     "output_type": "stream",
     "text": [
      "100%|██████████| 600/600 [00:00<00:00, 669.32it/s]\n",
      " 11%|█▏        | 68/600 [00:00<00:00, 674.64it/s]"
     ]
    },
    {
     "name": "stdout",
     "output_type": "stream",
     "text": [
      "Epochs:39, train_Loss:1.909194827079773, test_Loss:1.13\n"
     ]
    },
    {
     "name": "stderr",
     "output_type": "stream",
     "text": [
      "100%|██████████| 600/600 [00:00<00:00, 664.29it/s]\n",
      " 11%|█         | 67/600 [00:00<00:00, 662.63it/s]"
     ]
    },
    {
     "name": "stdout",
     "output_type": "stream",
     "text": [
      "Epochs:40, train_Loss:1.9097554683685303, test_Loss:1.13\n"
     ]
    },
    {
     "name": "stderr",
     "output_type": "stream",
     "text": [
      "100%|██████████| 600/600 [00:00<00:00, 659.97it/s]\n",
      " 11%|█▏        | 68/600 [00:00<00:00, 673.26it/s]"
     ]
    },
    {
     "name": "stdout",
     "output_type": "stream",
     "text": [
      "Epochs:41, train_Loss:1.9102970361709595, test_Loss:1.13\n"
     ]
    },
    {
     "name": "stderr",
     "output_type": "stream",
     "text": [
      "100%|██████████| 600/600 [00:00<00:00, 675.41it/s]\n",
      " 12%|█▏        | 69/600 [00:00<00:00, 683.97it/s]"
     ]
    },
    {
     "name": "stdout",
     "output_type": "stream",
     "text": [
      "Epochs:42, train_Loss:1.9103314876556396, test_Loss:1.13\n"
     ]
    },
    {
     "name": "stderr",
     "output_type": "stream",
     "text": [
      "100%|██████████| 600/600 [00:00<00:00, 661.73it/s]\n",
      " 11%|█▏        | 68/600 [00:00<00:00, 674.62it/s]"
     ]
    },
    {
     "name": "stdout",
     "output_type": "stream",
     "text": [
      "Epochs:43, train_Loss:1.9113186597824097, test_Loss:1.13\n"
     ]
    },
    {
     "name": "stderr",
     "output_type": "stream",
     "text": [
      "100%|██████████| 600/600 [00:00<00:00, 669.17it/s]\n",
      " 11%|█         | 67/600 [00:00<00:00, 665.94it/s]"
     ]
    },
    {
     "name": "stdout",
     "output_type": "stream",
     "text": [
      "Epochs:44, train_Loss:1.911862850189209, test_Loss:1.13\n"
     ]
    },
    {
     "name": "stderr",
     "output_type": "stream",
     "text": [
      "100%|██████████| 600/600 [00:00<00:00, 661.05it/s]\n",
      " 11%|█         | 67/600 [00:00<00:00, 668.12it/s]"
     ]
    },
    {
     "name": "stdout",
     "output_type": "stream",
     "text": [
      "Epochs:45, train_Loss:1.9128005504608154, test_Loss:1.13\n"
     ]
    },
    {
     "name": "stderr",
     "output_type": "stream",
     "text": [
      "100%|██████████| 600/600 [00:00<00:00, 666.39it/s]\n",
      " 11%|█         | 67/600 [00:00<00:00, 665.42it/s]"
     ]
    },
    {
     "name": "stdout",
     "output_type": "stream",
     "text": [
      "Epochs:46, train_Loss:1.9137848615646362, test_Loss:1.13\n"
     ]
    },
    {
     "name": "stderr",
     "output_type": "stream",
     "text": [
      "100%|██████████| 600/600 [00:00<00:00, 655.73it/s]\n",
      " 11%|█         | 65/600 [00:00<00:00, 645.12it/s]"
     ]
    },
    {
     "name": "stdout",
     "output_type": "stream",
     "text": [
      "Epochs:47, train_Loss:1.9146713018417358, test_Loss:1.13\n"
     ]
    },
    {
     "name": "stderr",
     "output_type": "stream",
     "text": [
      "100%|██████████| 600/600 [00:00<00:00, 648.28it/s]\n",
      " 11%|█         | 66/600 [00:00<00:00, 657.70it/s]"
     ]
    },
    {
     "name": "stdout",
     "output_type": "stream",
     "text": [
      "Epochs:48, train_Loss:1.9151523113250732, test_Loss:1.13\n"
     ]
    },
    {
     "name": "stderr",
     "output_type": "stream",
     "text": [
      "100%|██████████| 600/600 [00:00<00:00, 668.90it/s]\n",
      " 11%|█▏        | 68/600 [00:00<00:00, 672.11it/s]"
     ]
    },
    {
     "name": "stdout",
     "output_type": "stream",
     "text": [
      "Epochs:49, train_Loss:1.9157871007919312, test_Loss:1.13\n"
     ]
    },
    {
     "name": "stderr",
     "output_type": "stream",
     "text": [
      "100%|██████████| 600/600 [00:00<00:00, 665.57it/s]\n",
      " 11%|█         | 67/600 [00:00<00:00, 663.21it/s]"
     ]
    },
    {
     "name": "stdout",
     "output_type": "stream",
     "text": [
      "Epochs:50, train_Loss:1.9164743423461914, test_Loss:1.13\n"
     ]
    },
    {
     "name": "stderr",
     "output_type": "stream",
     "text": [
      "100%|██████████| 600/600 [00:00<00:00, 669.35it/s]\n",
      " 11%|█▏        | 68/600 [00:00<00:00, 670.24it/s]"
     ]
    },
    {
     "name": "stdout",
     "output_type": "stream",
     "text": [
      "Epochs:51, train_Loss:1.9166566133499146, test_Loss:1.13\n"
     ]
    },
    {
     "name": "stderr",
     "output_type": "stream",
     "text": [
      "100%|██████████| 600/600 [00:00<00:00, 656.07it/s]\n",
      " 11%|█         | 67/600 [00:00<00:00, 669.15it/s]"
     ]
    },
    {
     "name": "stdout",
     "output_type": "stream",
     "text": [
      "Epochs:52, train_Loss:1.9169201850891113, test_Loss:1.13\n"
     ]
    },
    {
     "name": "stderr",
     "output_type": "stream",
     "text": [
      "100%|██████████| 600/600 [00:00<00:00, 665.02it/s]\n",
      " 11%|█         | 67/600 [00:00<00:00, 669.64it/s]"
     ]
    },
    {
     "name": "stdout",
     "output_type": "stream",
     "text": [
      "Epochs:53, train_Loss:1.9168025255203247, test_Loss:1.12\n"
     ]
    },
    {
     "name": "stderr",
     "output_type": "stream",
     "text": [
      "100%|██████████| 600/600 [00:00<00:00, 669.75it/s]\n",
      " 11%|█         | 66/600 [00:00<00:00, 655.74it/s]"
     ]
    },
    {
     "name": "stdout",
     "output_type": "stream",
     "text": [
      "Epochs:54, train_Loss:1.9170277118682861, test_Loss:1.12\n"
     ]
    },
    {
     "name": "stderr",
     "output_type": "stream",
     "text": [
      "100%|██████████| 600/600 [00:00<00:00, 650.95it/s]\n",
      " 11%|█         | 67/600 [00:00<00:00, 668.58it/s]"
     ]
    },
    {
     "name": "stdout",
     "output_type": "stream",
     "text": [
      "Epochs:55, train_Loss:1.916914463043213, test_Loss:1.12\n"
     ]
    },
    {
     "name": "stderr",
     "output_type": "stream",
     "text": [
      "100%|██████████| 600/600 [00:00<00:00, 664.49it/s]\n",
      " 11%|█         | 67/600 [00:00<00:00, 661.91it/s]"
     ]
    },
    {
     "name": "stdout",
     "output_type": "stream",
     "text": [
      "Epochs:56, train_Loss:1.9173462390899658, test_Loss:1.12\n"
     ]
    },
    {
     "name": "stderr",
     "output_type": "stream",
     "text": [
      "100%|██████████| 600/600 [00:00<00:00, 663.72it/s]\n",
      " 11%|█         | 67/600 [00:00<00:00, 669.28it/s]"
     ]
    },
    {
     "name": "stdout",
     "output_type": "stream",
     "text": [
      "Epochs:57, train_Loss:1.9172943830490112, test_Loss:1.12\n"
     ]
    },
    {
     "name": "stderr",
     "output_type": "stream",
     "text": [
      "100%|██████████| 600/600 [00:00<00:00, 661.59it/s]\n",
      " 11%|█         | 67/600 [00:00<00:00, 663.49it/s]"
     ]
    },
    {
     "name": "stdout",
     "output_type": "stream",
     "text": [
      "Epochs:58, train_Loss:1.917292594909668, test_Loss:1.12\n"
     ]
    },
    {
     "name": "stderr",
     "output_type": "stream",
     "text": [
      "100%|██████████| 600/600 [00:00<00:00, 661.87it/s]\n",
      " 11%|█▏        | 68/600 [00:00<00:00, 676.83it/s]"
     ]
    },
    {
     "name": "stdout",
     "output_type": "stream",
     "text": [
      "Epochs:59, train_Loss:1.9173551797866821, test_Loss:1.12\n"
     ]
    },
    {
     "name": "stderr",
     "output_type": "stream",
     "text": [
      "100%|██████████| 600/600 [00:00<00:00, 673.85it/s]\n",
      " 11%|█         | 67/600 [00:00<00:00, 662.65it/s]"
     ]
    },
    {
     "name": "stdout",
     "output_type": "stream",
     "text": [
      "Epochs:60, train_Loss:1.9176831245422363, test_Loss:1.12\n"
     ]
    },
    {
     "name": "stderr",
     "output_type": "stream",
     "text": [
      "100%|██████████| 600/600 [00:00<00:00, 665.38it/s]\n",
      " 11%|█         | 67/600 [00:00<00:00, 660.83it/s]"
     ]
    },
    {
     "name": "stdout",
     "output_type": "stream",
     "text": [
      "Epochs:61, train_Loss:1.918139934539795, test_Loss:1.12\n"
     ]
    },
    {
     "name": "stderr",
     "output_type": "stream",
     "text": [
      "100%|██████████| 600/600 [00:00<00:00, 659.93it/s]\n",
      " 11%|█         | 67/600 [00:00<00:00, 660.01it/s]"
     ]
    },
    {
     "name": "stdout",
     "output_type": "stream",
     "text": [
      "Epochs:62, train_Loss:1.9183070659637451, test_Loss:1.12\n"
     ]
    },
    {
     "name": "stderr",
     "output_type": "stream",
     "text": [
      "100%|██████████| 600/600 [00:00<00:00, 664.01it/s]\n",
      " 11%|█▏        | 68/600 [00:00<00:00, 675.67it/s]"
     ]
    },
    {
     "name": "stdout",
     "output_type": "stream",
     "text": [
      "Epochs:63, train_Loss:1.9182950258255005, test_Loss:1.12\n"
     ]
    },
    {
     "name": "stderr",
     "output_type": "stream",
     "text": [
      "100%|██████████| 600/600 [00:00<00:00, 666.93it/s]\n",
      " 11%|█         | 66/600 [00:00<00:00, 657.41it/s]"
     ]
    },
    {
     "name": "stdout",
     "output_type": "stream",
     "text": [
      "Epochs:64, train_Loss:1.9181618690490723, test_Loss:1.12\n"
     ]
    },
    {
     "name": "stderr",
     "output_type": "stream",
     "text": [
      "100%|██████████| 600/600 [00:00<00:00, 663.56it/s]\n",
      " 11%|█         | 67/600 [00:00<00:00, 668.52it/s]"
     ]
    },
    {
     "name": "stdout",
     "output_type": "stream",
     "text": [
      "Epochs:65, train_Loss:1.9181606769561768, test_Loss:1.12\n"
     ]
    },
    {
     "name": "stderr",
     "output_type": "stream",
     "text": [
      "100%|██████████| 600/600 [00:00<00:00, 651.11it/s]\n",
      " 11%|█         | 65/600 [00:00<00:00, 639.87it/s]"
     ]
    },
    {
     "name": "stdout",
     "output_type": "stream",
     "text": [
      "Epochs:66, train_Loss:1.9182626008987427, test_Loss:1.12\n"
     ]
    },
    {
     "name": "stderr",
     "output_type": "stream",
     "text": [
      "100%|██████████| 600/600 [00:00<00:00, 650.52it/s]\n",
      " 11%|█         | 67/600 [00:00<00:00, 669.22it/s]"
     ]
    },
    {
     "name": "stdout",
     "output_type": "stream",
     "text": [
      "Epochs:67, train_Loss:1.9183837175369263, test_Loss:1.12\n"
     ]
    },
    {
     "name": "stderr",
     "output_type": "stream",
     "text": [
      "100%|██████████| 600/600 [00:00<00:00, 659.18it/s]\n",
      " 11%|█         | 67/600 [00:00<00:00, 664.24it/s]"
     ]
    },
    {
     "name": "stdout",
     "output_type": "stream",
     "text": [
      "Epochs:68, train_Loss:1.9184755086898804, test_Loss:1.12\n"
     ]
    },
    {
     "name": "stderr",
     "output_type": "stream",
     "text": [
      "100%|██████████| 600/600 [00:00<00:00, 660.44it/s]\n",
      " 11%|█         | 67/600 [00:00<00:00, 666.14it/s]"
     ]
    },
    {
     "name": "stdout",
     "output_type": "stream",
     "text": [
      "Epochs:69, train_Loss:1.9187325239181519, test_Loss:1.12\n"
     ]
    },
    {
     "name": "stderr",
     "output_type": "stream",
     "text": [
      "100%|██████████| 600/600 [00:00<00:00, 672.48it/s]\n",
      " 11%|█▏        | 68/600 [00:00<00:00, 670.38it/s]"
     ]
    },
    {
     "name": "stdout",
     "output_type": "stream",
     "text": [
      "Epochs:70, train_Loss:1.918992519378662, test_Loss:1.12\n"
     ]
    },
    {
     "name": "stderr",
     "output_type": "stream",
     "text": [
      "100%|██████████| 600/600 [00:00<00:00, 657.35it/s]\n",
      " 11%|█         | 67/600 [00:00<00:00, 664.59it/s]"
     ]
    },
    {
     "name": "stdout",
     "output_type": "stream",
     "text": [
      "Epochs:71, train_Loss:1.9191936254501343, test_Loss:1.12\n"
     ]
    },
    {
     "name": "stderr",
     "output_type": "stream",
     "text": [
      "100%|██████████| 600/600 [00:00<00:00, 664.30it/s]\n",
      " 11%|█▏        | 68/600 [00:00<00:00, 678.47it/s]"
     ]
    },
    {
     "name": "stdout",
     "output_type": "stream",
     "text": [
      "Epochs:72, train_Loss:1.919067621231079, test_Loss:1.12\n"
     ]
    },
    {
     "name": "stderr",
     "output_type": "stream",
     "text": [
      "100%|██████████| 600/600 [00:00<00:00, 677.82it/s]\n",
      " 11%|█▏        | 68/600 [00:00<00:00, 671.22it/s]"
     ]
    },
    {
     "name": "stdout",
     "output_type": "stream",
     "text": [
      "Epochs:73, train_Loss:1.9189409017562866, test_Loss:1.12\n"
     ]
    },
    {
     "name": "stderr",
     "output_type": "stream",
     "text": [
      "100%|██████████| 600/600 [00:00<00:00, 669.26it/s]\n",
      " 11%|█         | 65/600 [00:00<00:00, 640.94it/s]"
     ]
    },
    {
     "name": "stdout",
     "output_type": "stream",
     "text": [
      "Epochs:74, train_Loss:1.919339656829834, test_Loss:1.12\n"
     ]
    },
    {
     "name": "stderr",
     "output_type": "stream",
     "text": [
      "100%|██████████| 600/600 [00:00<00:00, 654.07it/s]\n",
      " 11%|█         | 67/600 [00:00<00:00, 661.62it/s]"
     ]
    },
    {
     "name": "stdout",
     "output_type": "stream",
     "text": [
      "Epochs:75, train_Loss:1.9199085235595703, test_Loss:1.12\n"
     ]
    },
    {
     "name": "stderr",
     "output_type": "stream",
     "text": [
      "100%|██████████| 600/600 [00:00<00:00, 660.19it/s]\n",
      " 11%|█         | 66/600 [00:00<00:00, 657.91it/s]"
     ]
    },
    {
     "name": "stdout",
     "output_type": "stream",
     "text": [
      "Epochs:76, train_Loss:1.9198554754257202, test_Loss:1.12\n"
     ]
    },
    {
     "name": "stderr",
     "output_type": "stream",
     "text": [
      "100%|██████████| 600/600 [00:00<00:00, 653.35it/s]\n",
      " 11%|█         | 65/600 [00:00<00:00, 646.55it/s]"
     ]
    },
    {
     "name": "stdout",
     "output_type": "stream",
     "text": [
      "Epochs:77, train_Loss:1.9199955463409424, test_Loss:1.12\n"
     ]
    },
    {
     "name": "stderr",
     "output_type": "stream",
     "text": [
      "100%|██████████| 600/600 [00:00<00:00, 657.66it/s]\n",
      " 11%|█▏        | 68/600 [00:00<00:00, 673.46it/s]"
     ]
    },
    {
     "name": "stdout",
     "output_type": "stream",
     "text": [
      "Epochs:78, train_Loss:1.9200472831726074, test_Loss:1.12\n"
     ]
    },
    {
     "name": "stderr",
     "output_type": "stream",
     "text": [
      "100%|██████████| 600/600 [00:00<00:00, 657.24it/s]\n",
      " 11%|█         | 67/600 [00:00<00:00, 664.75it/s]"
     ]
    },
    {
     "name": "stdout",
     "output_type": "stream",
     "text": [
      "Epochs:79, train_Loss:1.920230507850647, test_Loss:1.12\n"
     ]
    },
    {
     "name": "stderr",
     "output_type": "stream",
     "text": [
      "100%|██████████| 600/600 [00:00<00:00, 658.24it/s]\n",
      " 11%|█         | 66/600 [00:00<00:00, 654.19it/s]"
     ]
    },
    {
     "name": "stdout",
     "output_type": "stream",
     "text": [
      "Epochs:80, train_Loss:1.920340895652771, test_Loss:1.12\n"
     ]
    },
    {
     "name": "stderr",
     "output_type": "stream",
     "text": [
      "100%|██████████| 600/600 [00:00<00:00, 663.33it/s]\n",
      " 11%|█         | 67/600 [00:00<00:00, 669.30it/s]"
     ]
    },
    {
     "name": "stdout",
     "output_type": "stream",
     "text": [
      "Epochs:81, train_Loss:1.920314073562622, test_Loss:1.12\n"
     ]
    },
    {
     "name": "stderr",
     "output_type": "stream",
     "text": [
      "100%|██████████| 600/600 [00:00<00:00, 659.83it/s]\n",
      " 11%|█         | 66/600 [00:00<00:00, 655.66it/s]"
     ]
    },
    {
     "name": "stdout",
     "output_type": "stream",
     "text": [
      "Epochs:82, train_Loss:1.9203590154647827, test_Loss:1.12\n"
     ]
    },
    {
     "name": "stderr",
     "output_type": "stream",
     "text": [
      "100%|██████████| 600/600 [00:00<00:00, 665.97it/s]\n",
      " 11%|█         | 67/600 [00:00<00:00, 662.08it/s]"
     ]
    },
    {
     "name": "stdout",
     "output_type": "stream",
     "text": [
      "Epochs:83, train_Loss:1.9203073978424072, test_Loss:1.12\n"
     ]
    },
    {
     "name": "stderr",
     "output_type": "stream",
     "text": [
      "100%|██████████| 600/600 [00:00<00:00, 655.91it/s]\n",
      " 11%|█         | 67/600 [00:00<00:00, 664.45it/s]"
     ]
    },
    {
     "name": "stdout",
     "output_type": "stream",
     "text": [
      "Epochs:84, train_Loss:1.9201717376708984, test_Loss:1.12\n"
     ]
    },
    {
     "name": "stderr",
     "output_type": "stream",
     "text": [
      "100%|██████████| 600/600 [00:00<00:00, 663.79it/s]\n",
      " 11%|█         | 67/600 [00:00<00:00, 660.13it/s]"
     ]
    },
    {
     "name": "stdout",
     "output_type": "stream",
     "text": [
      "Epochs:85, train_Loss:1.9201911687850952, test_Loss:1.12\n"
     ]
    },
    {
     "name": "stderr",
     "output_type": "stream",
     "text": [
      "100%|██████████| 600/600 [00:00<00:00, 653.80it/s]\n",
      " 10%|█         | 63/600 [00:00<00:00, 623.68it/s]"
     ]
    },
    {
     "name": "stdout",
     "output_type": "stream",
     "text": [
      "Epochs:86, train_Loss:1.9201231002807617, test_Loss:1.12\n"
     ]
    },
    {
     "name": "stderr",
     "output_type": "stream",
     "text": [
      "100%|██████████| 600/600 [00:00<00:00, 649.90it/s]\n",
      " 11%|█▏        | 68/600 [00:00<00:00, 675.83it/s]"
     ]
    },
    {
     "name": "stdout",
     "output_type": "stream",
     "text": [
      "Epochs:87, train_Loss:1.919978380203247, test_Loss:1.12\n"
     ]
    },
    {
     "name": "stderr",
     "output_type": "stream",
     "text": [
      "100%|██████████| 600/600 [00:00<00:00, 668.34it/s]\n",
      " 11%|█▏        | 68/600 [00:00<00:00, 678.24it/s]"
     ]
    },
    {
     "name": "stdout",
     "output_type": "stream",
     "text": [
      "Epochs:88, train_Loss:1.9198271036148071, test_Loss:1.12\n"
     ]
    },
    {
     "name": "stderr",
     "output_type": "stream",
     "text": [
      "100%|██████████| 600/600 [00:00<00:00, 673.34it/s]\n",
      " 11%|█▏        | 68/600 [00:00<00:00, 677.08it/s]"
     ]
    },
    {
     "name": "stdout",
     "output_type": "stream",
     "text": [
      "Epochs:89, train_Loss:1.9197709560394287, test_Loss:1.12\n"
     ]
    },
    {
     "name": "stderr",
     "output_type": "stream",
     "text": [
      "100%|██████████| 600/600 [00:00<00:00, 665.29it/s]\n",
      " 11%|█         | 65/600 [00:00<00:00, 642.02it/s]"
     ]
    },
    {
     "name": "stdout",
     "output_type": "stream",
     "text": [
      "Epochs:90, train_Loss:1.9195858240127563, test_Loss:1.12\n"
     ]
    },
    {
     "name": "stderr",
     "output_type": "stream",
     "text": [
      "100%|██████████| 600/600 [00:00<00:00, 654.10it/s]\n",
      " 11%|█         | 67/600 [00:00<00:00, 664.84it/s]"
     ]
    },
    {
     "name": "stdout",
     "output_type": "stream",
     "text": [
      "Epochs:91, train_Loss:1.9193965196609497, test_Loss:1.12\n"
     ]
    },
    {
     "name": "stderr",
     "output_type": "stream",
     "text": [
      "100%|██████████| 600/600 [00:00<00:00, 654.49it/s]\n",
      " 11%|█▏        | 68/600 [00:00<00:00, 670.57it/s]"
     ]
    },
    {
     "name": "stdout",
     "output_type": "stream",
     "text": [
      "Epochs:92, train_Loss:1.9191365242004395, test_Loss:1.12\n"
     ]
    },
    {
     "name": "stderr",
     "output_type": "stream",
     "text": [
      "100%|██████████| 600/600 [00:00<00:00, 655.93it/s]\n",
      " 11%|█         | 66/600 [00:00<00:00, 656.65it/s]"
     ]
    },
    {
     "name": "stdout",
     "output_type": "stream",
     "text": [
      "Epochs:93, train_Loss:1.91911780834198, test_Loss:1.12\n"
     ]
    },
    {
     "name": "stderr",
     "output_type": "stream",
     "text": [
      "100%|██████████| 600/600 [00:00<00:00, 666.31it/s]\n",
      " 11%|█▏        | 68/600 [00:00<00:00, 672.55it/s]"
     ]
    },
    {
     "name": "stdout",
     "output_type": "stream",
     "text": [
      "Epochs:94, train_Loss:1.919062852859497, test_Loss:1.12\n"
     ]
    },
    {
     "name": "stderr",
     "output_type": "stream",
     "text": [
      "100%|██████████| 600/600 [00:00<00:00, 656.01it/s]\n",
      " 11%|█         | 67/600 [00:00<00:00, 663.50it/s]"
     ]
    },
    {
     "name": "stdout",
     "output_type": "stream",
     "text": [
      "Epochs:95, train_Loss:1.919146180152893, test_Loss:1.12\n"
     ]
    },
    {
     "name": "stderr",
     "output_type": "stream",
     "text": [
      "100%|██████████| 600/600 [00:00<00:00, 662.92it/s]\n",
      " 11%|█▏        | 68/600 [00:00<00:00, 671.16it/s]"
     ]
    },
    {
     "name": "stdout",
     "output_type": "stream",
     "text": [
      "Epochs:96, train_Loss:1.9191089868545532, test_Loss:1.12\n"
     ]
    },
    {
     "name": "stderr",
     "output_type": "stream",
     "text": [
      "100%|██████████| 600/600 [00:00<00:00, 672.72it/s]\n",
      " 11%|█         | 67/600 [00:00<00:00, 667.99it/s]"
     ]
    },
    {
     "name": "stdout",
     "output_type": "stream",
     "text": [
      "Epochs:97, train_Loss:1.9189093112945557, test_Loss:1.12\n"
     ]
    },
    {
     "name": "stderr",
     "output_type": "stream",
     "text": [
      "100%|██████████| 600/600 [00:00<00:00, 667.10it/s]\n",
      " 11%|█▏        | 68/600 [00:00<00:00, 673.71it/s]"
     ]
    },
    {
     "name": "stdout",
     "output_type": "stream",
     "text": [
      "Epochs:98, train_Loss:1.9187105894088745, test_Loss:1.12\n"
     ]
    },
    {
     "name": "stderr",
     "output_type": "stream",
     "text": [
      "100%|██████████| 600/600 [00:00<00:00, 664.90it/s]\n",
      " 11%|█         | 67/600 [00:00<00:00, 660.21it/s]"
     ]
    },
    {
     "name": "stdout",
     "output_type": "stream",
     "text": [
      "Epochs:99, train_Loss:1.9185909032821655, test_Loss:1.12\n"
     ]
    },
    {
     "name": "stderr",
     "output_type": "stream",
     "text": [
      "100%|██████████| 600/600 [00:00<00:00, 655.40it/s]\n",
      " 11%|█▏        | 68/600 [00:00<00:00, 675.47it/s]"
     ]
    },
    {
     "name": "stdout",
     "output_type": "stream",
     "text": [
      "Epochs:100, train_Loss:1.9187949895858765, test_Loss:1.12\n"
     ]
    },
    {
     "name": "stderr",
     "output_type": "stream",
     "text": [
      "100%|██████████| 600/600 [00:00<00:00, 665.41it/s]\n",
      " 11%|█         | 67/600 [00:00<00:00, 666.61it/s]"
     ]
    },
    {
     "name": "stdout",
     "output_type": "stream",
     "text": [
      "Epochs:101, train_Loss:1.9186466932296753, test_Loss:1.12\n"
     ]
    },
    {
     "name": "stderr",
     "output_type": "stream",
     "text": [
      "100%|██████████| 600/600 [00:00<00:00, 674.03it/s]\n",
      " 11%|█▏        | 68/600 [00:00<00:00, 672.52it/s]"
     ]
    },
    {
     "name": "stdout",
     "output_type": "stream",
     "text": [
      "Epochs:102, train_Loss:1.9187355041503906, test_Loss:1.12\n"
     ]
    },
    {
     "name": "stderr",
     "output_type": "stream",
     "text": [
      "100%|██████████| 600/600 [00:00<00:00, 671.73it/s]\n",
      " 11%|█▏        | 68/600 [00:00<00:00, 676.98it/s]"
     ]
    },
    {
     "name": "stdout",
     "output_type": "stream",
     "text": [
      "Epochs:103, train_Loss:1.9188587665557861, test_Loss:1.12\n"
     ]
    },
    {
     "name": "stderr",
     "output_type": "stream",
     "text": [
      "100%|██████████| 600/600 [00:00<00:00, 653.11it/s]\n",
      " 11%|█         | 65/600 [00:00<00:00, 647.80it/s]"
     ]
    },
    {
     "name": "stdout",
     "output_type": "stream",
     "text": [
      "Epochs:104, train_Loss:1.9191235303878784, test_Loss:1.11\n"
     ]
    },
    {
     "name": "stderr",
     "output_type": "stream",
     "text": [
      "100%|██████████| 600/600 [00:00<00:00, 654.25it/s]\n",
      " 11%|█         | 66/600 [00:00<00:00, 657.23it/s]"
     ]
    },
    {
     "name": "stdout",
     "output_type": "stream",
     "text": [
      "Epochs:105, train_Loss:1.9191110134124756, test_Loss:1.11\n"
     ]
    },
    {
     "name": "stderr",
     "output_type": "stream",
     "text": [
      "100%|██████████| 600/600 [00:00<00:00, 657.49it/s]\n",
      " 11%|█         | 67/600 [00:00<00:00, 665.59it/s]"
     ]
    },
    {
     "name": "stdout",
     "output_type": "stream",
     "text": [
      "Epochs:106, train_Loss:1.9190477132797241, test_Loss:1.11\n"
     ]
    },
    {
     "name": "stderr",
     "output_type": "stream",
     "text": [
      "100%|██████████| 600/600 [00:00<00:00, 662.08it/s]\n",
      " 11%|█▏        | 68/600 [00:00<00:00, 675.78it/s]"
     ]
    },
    {
     "name": "stdout",
     "output_type": "stream",
     "text": [
      "Epochs:107, train_Loss:1.9192218780517578, test_Loss:1.11\n"
     ]
    },
    {
     "name": "stderr",
     "output_type": "stream",
     "text": [
      "100%|██████████| 600/600 [00:00<00:00, 664.56it/s]\n",
      " 11%|█         | 66/600 [00:00<00:00, 658.48it/s]"
     ]
    },
    {
     "name": "stdout",
     "output_type": "stream",
     "text": [
      "Epochs:108, train_Loss:1.9193696975708008, test_Loss:1.11\n"
     ]
    },
    {
     "name": "stderr",
     "output_type": "stream",
     "text": [
      "100%|██████████| 600/600 [00:00<00:00, 663.73it/s]\n",
      " 11%|█         | 67/600 [00:00<00:00, 667.65it/s]"
     ]
    },
    {
     "name": "stdout",
     "output_type": "stream",
     "text": [
      "Epochs:109, train_Loss:1.9195678234100342, test_Loss:1.11\n"
     ]
    },
    {
     "name": "stderr",
     "output_type": "stream",
     "text": [
      "100%|██████████| 600/600 [00:00<00:00, 667.83it/s]\n",
      " 11%|█         | 66/600 [00:00<00:00, 658.27it/s]"
     ]
    },
    {
     "name": "stdout",
     "output_type": "stream",
     "text": [
      "Epochs:110, train_Loss:1.9198055267333984, test_Loss:1.11\n"
     ]
    },
    {
     "name": "stderr",
     "output_type": "stream",
     "text": [
      "100%|██████████| 600/600 [00:00<00:00, 655.02it/s]\n",
      " 11%|█         | 67/600 [00:00<00:00, 663.00it/s]"
     ]
    },
    {
     "name": "stdout",
     "output_type": "stream",
     "text": [
      "Epochs:111, train_Loss:1.9201503992080688, test_Loss:1.11\n"
     ]
    },
    {
     "name": "stderr",
     "output_type": "stream",
     "text": [
      "100%|██████████| 600/600 [00:00<00:00, 650.60it/s]\n",
      " 11%|█         | 65/600 [00:00<00:00, 646.44it/s]"
     ]
    },
    {
     "name": "stdout",
     "output_type": "stream",
     "text": [
      "Epochs:112, train_Loss:1.9202985763549805, test_Loss:1.11\n"
     ]
    },
    {
     "name": "stderr",
     "output_type": "stream",
     "text": [
      "100%|██████████| 600/600 [00:00<00:00, 649.91it/s]\n",
      " 11%|█         | 65/600 [00:00<00:00, 649.36it/s]"
     ]
    },
    {
     "name": "stdout",
     "output_type": "stream",
     "text": [
      "Epochs:113, train_Loss:1.9203100204467773, test_Loss:1.11\n"
     ]
    },
    {
     "name": "stderr",
     "output_type": "stream",
     "text": [
      "100%|██████████| 600/600 [00:00<00:00, 648.25it/s]\n",
      " 11%|█         | 65/600 [00:00<00:00, 641.27it/s]"
     ]
    },
    {
     "name": "stdout",
     "output_type": "stream",
     "text": [
      "Epochs:114, train_Loss:1.9206942319869995, test_Loss:1.11\n"
     ]
    },
    {
     "name": "stderr",
     "output_type": "stream",
     "text": [
      "100%|██████████| 600/600 [00:00<00:00, 657.79it/s]\n",
      " 11%|█▏        | 68/600 [00:00<00:00, 671.99it/s]"
     ]
    },
    {
     "name": "stdout",
     "output_type": "stream",
     "text": [
      "Epochs:115, train_Loss:1.9212265014648438, test_Loss:1.11\n"
     ]
    },
    {
     "name": "stderr",
     "output_type": "stream",
     "text": [
      "100%|██████████| 600/600 [00:00<00:00, 657.55it/s]\n",
      " 11%|█         | 67/600 [00:00<00:00, 669.24it/s]"
     ]
    },
    {
     "name": "stdout",
     "output_type": "stream",
     "text": [
      "Epochs:116, train_Loss:1.9218189716339111, test_Loss:1.11\n"
     ]
    },
    {
     "name": "stderr",
     "output_type": "stream",
     "text": [
      "100%|██████████| 600/600 [00:00<00:00, 665.61it/s]\n",
      " 11%|█▏        | 68/600 [00:00<00:00, 677.26it/s]"
     ]
    },
    {
     "name": "stdout",
     "output_type": "stream",
     "text": [
      "Epochs:117, train_Loss:1.922152042388916, test_Loss:1.11\n"
     ]
    },
    {
     "name": "stderr",
     "output_type": "stream",
     "text": [
      "100%|██████████| 600/600 [00:00<00:00, 666.25it/s]\n",
      " 11%|█         | 66/600 [00:00<00:00, 652.19it/s]"
     ]
    },
    {
     "name": "stdout",
     "output_type": "stream",
     "text": [
      "Epochs:118, train_Loss:1.9224039316177368, test_Loss:1.11\n"
     ]
    },
    {
     "name": "stderr",
     "output_type": "stream",
     "text": [
      "100%|██████████| 600/600 [00:00<00:00, 660.18it/s]\n",
      " 11%|█         | 66/600 [00:00<00:00, 652.21it/s]"
     ]
    },
    {
     "name": "stdout",
     "output_type": "stream",
     "text": [
      "Epochs:119, train_Loss:1.9227497577667236, test_Loss:1.11\n"
     ]
    },
    {
     "name": "stderr",
     "output_type": "stream",
     "text": [
      "100%|██████████| 600/600 [00:00<00:00, 644.56it/s]\n",
      " 11%|█         | 65/600 [00:00<00:00, 648.67it/s]"
     ]
    },
    {
     "name": "stdout",
     "output_type": "stream",
     "text": [
      "Epochs:120, train_Loss:1.9230557680130005, test_Loss:1.11\n"
     ]
    },
    {
     "name": "stderr",
     "output_type": "stream",
     "text": [
      "100%|██████████| 600/600 [00:00<00:00, 652.87it/s]\n",
      " 11%|█         | 67/600 [00:00<00:00, 660.86it/s]"
     ]
    },
    {
     "name": "stdout",
     "output_type": "stream",
     "text": [
      "Epochs:121, train_Loss:1.9233009815216064, test_Loss:1.11\n"
     ]
    },
    {
     "name": "stderr",
     "output_type": "stream",
     "text": [
      "100%|██████████| 600/600 [00:00<00:00, 664.96it/s]\n",
      " 11%|█         | 67/600 [00:00<00:00, 666.45it/s]"
     ]
    },
    {
     "name": "stdout",
     "output_type": "stream",
     "text": [
      "Epochs:122, train_Loss:1.9237163066864014, test_Loss:1.11\n"
     ]
    },
    {
     "name": "stderr",
     "output_type": "stream",
     "text": [
      "100%|██████████| 600/600 [00:00<00:00, 658.03it/s]\n",
      " 11%|█         | 67/600 [00:00<00:00, 660.23it/s]"
     ]
    },
    {
     "name": "stdout",
     "output_type": "stream",
     "text": [
      "Epochs:123, train_Loss:1.9241893291473389, test_Loss:1.11\n"
     ]
    },
    {
     "name": "stderr",
     "output_type": "stream",
     "text": [
      "100%|██████████| 600/600 [00:00<00:00, 667.34it/s]\n",
      " 11%|█▏        | 68/600 [00:00<00:00, 674.29it/s]"
     ]
    },
    {
     "name": "stdout",
     "output_type": "stream",
     "text": [
      "Epochs:124, train_Loss:1.9249435663223267, test_Loss:1.11\n"
     ]
    },
    {
     "name": "stderr",
     "output_type": "stream",
     "text": [
      "100%|██████████| 600/600 [00:00<00:00, 659.57it/s]\n",
      " 11%|█         | 66/600 [00:00<00:00, 655.18it/s]"
     ]
    },
    {
     "name": "stdout",
     "output_type": "stream",
     "text": [
      "Epochs:125, train_Loss:1.925220251083374, test_Loss:1.11\n"
     ]
    },
    {
     "name": "stderr",
     "output_type": "stream",
     "text": [
      "100%|██████████| 600/600 [00:00<00:00, 652.33it/s]\n",
      " 11%|█         | 67/600 [00:00<00:00, 664.55it/s]"
     ]
    },
    {
     "name": "stdout",
     "output_type": "stream",
     "text": [
      "Epochs:126, train_Loss:1.92558753490448, test_Loss:1.11\n"
     ]
    },
    {
     "name": "stderr",
     "output_type": "stream",
     "text": [
      "100%|██████████| 600/600 [00:00<00:00, 663.93it/s]\n",
      " 11%|█         | 66/600 [00:00<00:00, 657.79it/s]"
     ]
    },
    {
     "name": "stdout",
     "output_type": "stream",
     "text": [
      "Epochs:127, train_Loss:1.9259533882141113, test_Loss:1.11\n"
     ]
    },
    {
     "name": "stderr",
     "output_type": "stream",
     "text": [
      "100%|██████████| 600/600 [00:00<00:00, 659.31it/s]\n",
      " 11%|█         | 67/600 [00:00<00:00, 667.06it/s]"
     ]
    },
    {
     "name": "stdout",
     "output_type": "stream",
     "text": [
      "Epochs:128, train_Loss:1.9264979362487793, test_Loss:1.11\n"
     ]
    },
    {
     "name": "stderr",
     "output_type": "stream",
     "text": [
      "100%|██████████| 600/600 [00:00<00:00, 643.88it/s]\n",
      " 11%|█         | 66/600 [00:00<00:00, 656.17it/s]"
     ]
    },
    {
     "name": "stdout",
     "output_type": "stream",
     "text": [
      "Epochs:129, train_Loss:1.9268745183944702, test_Loss:1.11\n"
     ]
    },
    {
     "name": "stderr",
     "output_type": "stream",
     "text": [
      "100%|██████████| 600/600 [00:00<00:00, 662.62it/s]\n",
      " 11%|█         | 67/600 [00:00<00:00, 660.86it/s]"
     ]
    },
    {
     "name": "stdout",
     "output_type": "stream",
     "text": [
      "Epochs:130, train_Loss:1.9272042512893677, test_Loss:1.11\n"
     ]
    },
    {
     "name": "stderr",
     "output_type": "stream",
     "text": [
      "100%|██████████| 600/600 [00:00<00:00, 656.16it/s]\n",
      " 11%|█         | 66/600 [00:00<00:00, 653.87it/s]"
     ]
    },
    {
     "name": "stdout",
     "output_type": "stream",
     "text": [
      "Epochs:131, train_Loss:1.9271881580352783, test_Loss:1.11\n"
     ]
    },
    {
     "name": "stderr",
     "output_type": "stream",
     "text": [
      "100%|██████████| 600/600 [00:00<00:00, 655.97it/s]\n",
      " 11%|█         | 66/600 [00:00<00:00, 658.82it/s]"
     ]
    },
    {
     "name": "stdout",
     "output_type": "stream",
     "text": [
      "Epochs:132, train_Loss:1.927404522895813, test_Loss:1.11\n"
     ]
    },
    {
     "name": "stderr",
     "output_type": "stream",
     "text": [
      "100%|██████████| 600/600 [00:00<00:00, 666.12it/s]\n",
      " 11%|█▏        | 68/600 [00:00<00:00, 670.66it/s]"
     ]
    },
    {
     "name": "stdout",
     "output_type": "stream",
     "text": [
      "Epochs:133, train_Loss:1.9278085231781006, test_Loss:1.11\n"
     ]
    },
    {
     "name": "stderr",
     "output_type": "stream",
     "text": [
      "100%|██████████| 600/600 [00:00<00:00, 665.15it/s]\n",
      " 11%|█         | 66/600 [00:00<00:00, 659.53it/s]"
     ]
    },
    {
     "name": "stdout",
     "output_type": "stream",
     "text": [
      "Epochs:134, train_Loss:1.9282530546188354, test_Loss:1.11\n"
     ]
    },
    {
     "name": "stderr",
     "output_type": "stream",
     "text": [
      "100%|██████████| 600/600 [00:00<00:00, 658.30it/s]\n",
      " 11%|█         | 66/600 [00:00<00:00, 656.58it/s]"
     ]
    },
    {
     "name": "stdout",
     "output_type": "stream",
     "text": [
      "Epochs:135, train_Loss:1.9288705587387085, test_Loss:1.11\n"
     ]
    },
    {
     "name": "stderr",
     "output_type": "stream",
     "text": [
      "100%|██████████| 600/600 [00:00<00:00, 663.54it/s]\n",
      " 11%|█         | 67/600 [00:00<00:00, 661.97it/s]"
     ]
    },
    {
     "name": "stdout",
     "output_type": "stream",
     "text": [
      "Epochs:136, train_Loss:1.929190993309021, test_Loss:1.11\n"
     ]
    },
    {
     "name": "stderr",
     "output_type": "stream",
     "text": [
      "100%|██████████| 600/600 [00:00<00:00, 650.37it/s]\n",
      " 11%|█         | 65/600 [00:00<00:00, 647.33it/s]"
     ]
    },
    {
     "name": "stdout",
     "output_type": "stream",
     "text": [
      "Epochs:137, train_Loss:1.9297242164611816, test_Loss:1.11\n"
     ]
    },
    {
     "name": "stderr",
     "output_type": "stream",
     "text": [
      "100%|██████████| 600/600 [00:00<00:00, 649.76it/s]\n",
      " 11%|█         | 66/600 [00:00<00:00, 657.33it/s]"
     ]
    },
    {
     "name": "stdout",
     "output_type": "stream",
     "text": [
      "Epochs:138, train_Loss:1.929961085319519, test_Loss:1.11\n"
     ]
    },
    {
     "name": "stderr",
     "output_type": "stream",
     "text": [
      "100%|██████████| 600/600 [00:00<00:00, 665.25it/s]\n",
      " 11%|█         | 66/600 [00:00<00:00, 659.41it/s]"
     ]
    },
    {
     "name": "stdout",
     "output_type": "stream",
     "text": [
      "Epochs:139, train_Loss:1.9303990602493286, test_Loss:1.11\n"
     ]
    },
    {
     "name": "stderr",
     "output_type": "stream",
     "text": [
      "100%|██████████| 600/600 [00:00<00:00, 662.76it/s]\n",
      " 11%|█         | 66/600 [00:00<00:00, 652.30it/s]"
     ]
    },
    {
     "name": "stdout",
     "output_type": "stream",
     "text": [
      "Epochs:140, train_Loss:1.9307461977005005, test_Loss:1.11\n"
     ]
    },
    {
     "name": "stderr",
     "output_type": "stream",
     "text": [
      "100%|██████████| 600/600 [00:00<00:00, 661.29it/s]\n",
      " 11%|█▏        | 68/600 [00:00<00:00, 674.12it/s]"
     ]
    },
    {
     "name": "stdout",
     "output_type": "stream",
     "text": [
      "Epochs:141, train_Loss:1.9311621189117432, test_Loss:1.11\n"
     ]
    },
    {
     "name": "stderr",
     "output_type": "stream",
     "text": [
      "100%|██████████| 600/600 [00:00<00:00, 666.21it/s]\n",
      " 11%|█▏        | 68/600 [00:00<00:00, 673.79it/s]"
     ]
    },
    {
     "name": "stdout",
     "output_type": "stream",
     "text": [
      "Epochs:142, train_Loss:1.9313932657241821, test_Loss:1.11\n"
     ]
    },
    {
     "name": "stderr",
     "output_type": "stream",
     "text": [
      "100%|██████████| 600/600 [00:00<00:00, 651.74it/s]\n",
      " 11%|█         | 67/600 [00:00<00:00, 663.39it/s]"
     ]
    },
    {
     "name": "stdout",
     "output_type": "stream",
     "text": [
      "Epochs:143, train_Loss:1.931671380996704, test_Loss:1.11\n"
     ]
    },
    {
     "name": "stderr",
     "output_type": "stream",
     "text": [
      "100%|██████████| 600/600 [00:00<00:00, 665.16it/s]\n",
      " 11%|█         | 66/600 [00:00<00:00, 659.73it/s]"
     ]
    },
    {
     "name": "stdout",
     "output_type": "stream",
     "text": [
      "Epochs:144, train_Loss:1.931965947151184, test_Loss:1.11\n"
     ]
    },
    {
     "name": "stderr",
     "output_type": "stream",
     "text": [
      "100%|██████████| 600/600 [00:00<00:00, 662.06it/s]\n",
      " 11%|█▏        | 68/600 [00:00<00:00, 671.09it/s]"
     ]
    },
    {
     "name": "stdout",
     "output_type": "stream",
     "text": [
      "Epochs:145, train_Loss:1.9323078393936157, test_Loss:1.11\n"
     ]
    },
    {
     "name": "stderr",
     "output_type": "stream",
     "text": [
      "100%|██████████| 600/600 [00:00<00:00, 665.72it/s]\n",
      " 11%|█▏        | 68/600 [00:00<00:00, 670.99it/s]"
     ]
    },
    {
     "name": "stdout",
     "output_type": "stream",
     "text": [
      "Epochs:146, train_Loss:1.93255615234375, test_Loss:1.11\n"
     ]
    },
    {
     "name": "stderr",
     "output_type": "stream",
     "text": [
      "100%|██████████| 600/600 [00:00<00:00, 657.27it/s]\n",
      " 11%|█         | 66/600 [00:00<00:00, 658.82it/s]"
     ]
    },
    {
     "name": "stdout",
     "output_type": "stream",
     "text": [
      "Epochs:147, train_Loss:1.9326953887939453, test_Loss:1.11\n"
     ]
    },
    {
     "name": "stderr",
     "output_type": "stream",
     "text": [
      "100%|██████████| 600/600 [00:00<00:00, 667.00it/s]\n",
      " 12%|█▏        | 69/600 [00:00<00:00, 683.21it/s]"
     ]
    },
    {
     "name": "stdout",
     "output_type": "stream",
     "text": [
      "Epochs:148, train_Loss:1.932837724685669, test_Loss:1.11\n"
     ]
    },
    {
     "name": "stderr",
     "output_type": "stream",
     "text": [
      "100%|██████████| 600/600 [00:00<00:00, 662.72it/s]\n",
      " 11%|█         | 67/600 [00:00<00:00, 662.09it/s]"
     ]
    },
    {
     "name": "stdout",
     "output_type": "stream",
     "text": [
      "Epochs:149, train_Loss:1.9330705404281616, test_Loss:1.11\n"
     ]
    },
    {
     "name": "stderr",
     "output_type": "stream",
     "text": [
      "100%|██████████| 600/600 [00:00<00:00, 657.47it/s]\n",
      " 11%|█▏        | 68/600 [00:00<00:00, 673.50it/s]"
     ]
    },
    {
     "name": "stdout",
     "output_type": "stream",
     "text": [
      "Epochs:150, train_Loss:1.933266282081604, test_Loss:1.11\n"
     ]
    },
    {
     "name": "stderr",
     "output_type": "stream",
     "text": [
      "100%|██████████| 600/600 [00:00<00:00, 661.23it/s]\n",
      " 11%|█         | 67/600 [00:00<00:00, 669.63it/s]"
     ]
    },
    {
     "name": "stdout",
     "output_type": "stream",
     "text": [
      "Epochs:151, train_Loss:1.9334193468093872, test_Loss:1.11\n"
     ]
    },
    {
     "name": "stderr",
     "output_type": "stream",
     "text": [
      "100%|██████████| 600/600 [00:00<00:00, 666.04it/s]\n",
      " 11%|█         | 67/600 [00:00<00:00, 669.89it/s]"
     ]
    },
    {
     "name": "stdout",
     "output_type": "stream",
     "text": [
      "Epochs:152, train_Loss:1.9334744215011597, test_Loss:1.11\n"
     ]
    },
    {
     "name": "stderr",
     "output_type": "stream",
     "text": [
      "100%|██████████| 600/600 [00:00<00:00, 660.47it/s]\n",
      " 11%|█         | 67/600 [00:00<00:00, 664.64it/s]"
     ]
    },
    {
     "name": "stdout",
     "output_type": "stream",
     "text": [
      "Epochs:153, train_Loss:1.9334495067596436, test_Loss:1.11\n"
     ]
    },
    {
     "name": "stderr",
     "output_type": "stream",
     "text": [
      "100%|██████████| 600/600 [00:00<00:00, 659.51it/s]\n",
      " 11%|█         | 66/600 [00:00<00:00, 658.53it/s]"
     ]
    },
    {
     "name": "stdout",
     "output_type": "stream",
     "text": [
      "Epochs:154, train_Loss:1.9336942434310913, test_Loss:1.11\n"
     ]
    },
    {
     "name": "stderr",
     "output_type": "stream",
     "text": [
      "100%|██████████| 600/600 [00:00<00:00, 662.94it/s]\n",
      " 11%|█▏        | 68/600 [00:00<00:00, 672.91it/s]"
     ]
    },
    {
     "name": "stdout",
     "output_type": "stream",
     "text": [
      "Epochs:155, train_Loss:1.9338452816009521, test_Loss:1.11\n"
     ]
    },
    {
     "name": "stderr",
     "output_type": "stream",
     "text": [
      "100%|██████████| 600/600 [00:00<00:00, 666.46it/s]\n",
      " 11%|█         | 66/600 [00:00<00:00, 657.32it/s]"
     ]
    },
    {
     "name": "stdout",
     "output_type": "stream",
     "text": [
      "Epochs:156, train_Loss:1.9339697360992432, test_Loss:1.11\n"
     ]
    },
    {
     "name": "stderr",
     "output_type": "stream",
     "text": [
      "100%|██████████| 600/600 [00:00<00:00, 657.48it/s]\n",
      " 11%|█         | 65/600 [00:00<00:00, 649.41it/s]"
     ]
    },
    {
     "name": "stdout",
     "output_type": "stream",
     "text": [
      "Epochs:157, train_Loss:1.9341362714767456, test_Loss:1.11\n"
     ]
    },
    {
     "name": "stderr",
     "output_type": "stream",
     "text": [
      "100%|██████████| 600/600 [00:00<00:00, 665.13it/s]\n",
      " 11%|█         | 67/600 [00:00<00:00, 664.22it/s]"
     ]
    },
    {
     "name": "stdout",
     "output_type": "stream",
     "text": [
      "Epochs:158, train_Loss:1.934308409690857, test_Loss:1.11\n"
     ]
    },
    {
     "name": "stderr",
     "output_type": "stream",
     "text": [
      "100%|██████████| 600/600 [00:00<00:00, 663.12it/s]\n",
      " 11%|█         | 64/600 [00:00<00:00, 632.94it/s]"
     ]
    },
    {
     "name": "stdout",
     "output_type": "stream",
     "text": [
      "Epochs:159, train_Loss:1.9349045753479004, test_Loss:1.11\n"
     ]
    },
    {
     "name": "stderr",
     "output_type": "stream",
     "text": [
      "100%|██████████| 600/600 [00:00<00:00, 658.32it/s]\n",
      " 11%|█         | 66/600 [00:00<00:00, 658.20it/s]"
     ]
    },
    {
     "name": "stdout",
     "output_type": "stream",
     "text": [
      "Epochs:160, train_Loss:1.9352829456329346, test_Loss:1.11\n"
     ]
    },
    {
     "name": "stderr",
     "output_type": "stream",
     "text": [
      "100%|██████████| 600/600 [00:00<00:00, 669.12it/s]\n",
      " 11%|█▏        | 68/600 [00:00<00:00, 673.55it/s]"
     ]
    },
    {
     "name": "stdout",
     "output_type": "stream",
     "text": [
      "Epochs:161, train_Loss:1.9353994131088257, test_Loss:1.11\n"
     ]
    },
    {
     "name": "stderr",
     "output_type": "stream",
     "text": [
      "100%|██████████| 600/600 [00:00<00:00, 665.50it/s]\n",
      " 11%|█         | 67/600 [00:00<00:00, 664.24it/s]"
     ]
    },
    {
     "name": "stdout",
     "output_type": "stream",
     "text": [
      "Epochs:162, train_Loss:1.9356251955032349, test_Loss:1.11\n"
     ]
    },
    {
     "name": "stderr",
     "output_type": "stream",
     "text": [
      "100%|██████████| 600/600 [00:00<00:00, 654.05it/s]\n",
      " 11%|█▏        | 68/600 [00:00<00:00, 674.91it/s]"
     ]
    },
    {
     "name": "stdout",
     "output_type": "stream",
     "text": [
      "Epochs:163, train_Loss:1.9357351064682007, test_Loss:1.11\n"
     ]
    },
    {
     "name": "stderr",
     "output_type": "stream",
     "text": [
      "100%|██████████| 600/600 [00:00<00:00, 662.93it/s]\n",
      " 12%|█▏        | 69/600 [00:00<00:00, 680.85it/s]"
     ]
    },
    {
     "name": "stdout",
     "output_type": "stream",
     "text": [
      "Epochs:164, train_Loss:1.9359477758407593, test_Loss:1.11\n"
     ]
    },
    {
     "name": "stderr",
     "output_type": "stream",
     "text": [
      "100%|██████████| 600/600 [00:00<00:00, 665.10it/s]\n",
      " 11%|█         | 67/600 [00:00<00:00, 663.43it/s]"
     ]
    },
    {
     "name": "stdout",
     "output_type": "stream",
     "text": [
      "Epochs:165, train_Loss:1.9359588623046875, test_Loss:1.11\n"
     ]
    },
    {
     "name": "stderr",
     "output_type": "stream",
     "text": [
      "100%|██████████| 600/600 [00:00<00:00, 655.26it/s]\n",
      " 11%|█         | 66/600 [00:00<00:00, 653.14it/s]"
     ]
    },
    {
     "name": "stdout",
     "output_type": "stream",
     "text": [
      "Epochs:166, train_Loss:1.9360827207565308, test_Loss:1.11\n"
     ]
    },
    {
     "name": "stderr",
     "output_type": "stream",
     "text": [
      "100%|██████████| 600/600 [00:00<00:00, 662.56it/s]\n",
      " 11%|█▏        | 68/600 [00:00<00:00, 674.79it/s]"
     ]
    },
    {
     "name": "stdout",
     "output_type": "stream",
     "text": [
      "Epochs:167, train_Loss:1.9361506700515747, test_Loss:1.11\n"
     ]
    },
    {
     "name": "stderr",
     "output_type": "stream",
     "text": [
      "100%|██████████| 600/600 [00:00<00:00, 672.01it/s]\n",
      " 11%|█▏        | 68/600 [00:00<00:00, 670.23it/s]"
     ]
    },
    {
     "name": "stdout",
     "output_type": "stream",
     "text": [
      "Epochs:168, train_Loss:1.936440110206604, test_Loss:1.11\n"
     ]
    },
    {
     "name": "stderr",
     "output_type": "stream",
     "text": [
      "100%|██████████| 600/600 [00:00<00:00, 660.21it/s]\n",
      " 11%|█▏        | 68/600 [00:00<00:00, 675.83it/s]"
     ]
    },
    {
     "name": "stdout",
     "output_type": "stream",
     "text": [
      "Epochs:169, train_Loss:1.9364451169967651, test_Loss:1.11\n"
     ]
    },
    {
     "name": "stderr",
     "output_type": "stream",
     "text": [
      "100%|██████████| 600/600 [00:00<00:00, 663.34it/s]\n",
      " 11%|█         | 67/600 [00:00<00:00, 667.72it/s]"
     ]
    },
    {
     "name": "stdout",
     "output_type": "stream",
     "text": [
      "Epochs:170, train_Loss:1.9367479085922241, test_Loss:1.11\n"
     ]
    },
    {
     "name": "stderr",
     "output_type": "stream",
     "text": [
      "100%|██████████| 600/600 [00:00<00:00, 662.93it/s]\n",
      " 11%|█         | 67/600 [00:00<00:00, 665.58it/s]"
     ]
    },
    {
     "name": "stdout",
     "output_type": "stream",
     "text": [
      "Epochs:171, train_Loss:1.9367632865905762, test_Loss:1.11\n"
     ]
    },
    {
     "name": "stderr",
     "output_type": "stream",
     "text": [
      "100%|██████████| 600/600 [00:00<00:00, 665.03it/s]\n",
      " 11%|█         | 67/600 [00:00<00:00, 669.21it/s]"
     ]
    },
    {
     "name": "stdout",
     "output_type": "stream",
     "text": [
      "Epochs:172, train_Loss:1.9369081258773804, test_Loss:1.11\n"
     ]
    },
    {
     "name": "stderr",
     "output_type": "stream",
     "text": [
      "100%|██████████| 600/600 [00:00<00:00, 661.71it/s]\n",
      " 11%|█         | 67/600 [00:00<00:00, 665.74it/s]"
     ]
    },
    {
     "name": "stdout",
     "output_type": "stream",
     "text": [
      "Epochs:173, train_Loss:1.937042236328125, test_Loss:1.11\n"
     ]
    },
    {
     "name": "stderr",
     "output_type": "stream",
     "text": [
      "100%|██████████| 600/600 [00:00<00:00, 658.12it/s]\n",
      " 11%|█▏        | 68/600 [00:00<00:00, 678.33it/s]"
     ]
    },
    {
     "name": "stdout",
     "output_type": "stream",
     "text": [
      "Epochs:174, train_Loss:1.9373900890350342, test_Loss:1.11\n"
     ]
    },
    {
     "name": "stderr",
     "output_type": "stream",
     "text": [
      "100%|██████████| 600/600 [00:00<00:00, 656.11it/s]\n",
      " 11%|█▏        | 68/600 [00:00<00:00, 677.48it/s]"
     ]
    },
    {
     "name": "stdout",
     "output_type": "stream",
     "text": [
      "Epochs:175, train_Loss:1.9375052452087402, test_Loss:1.11\n"
     ]
    },
    {
     "name": "stderr",
     "output_type": "stream",
     "text": [
      "100%|██████████| 600/600 [00:00<00:00, 671.40it/s]\n",
      " 11%|█         | 67/600 [00:00<00:00, 668.67it/s]"
     ]
    },
    {
     "name": "stdout",
     "output_type": "stream",
     "text": [
      "Epochs:176, train_Loss:1.937814712524414, test_Loss:1.11\n"
     ]
    },
    {
     "name": "stderr",
     "output_type": "stream",
     "text": [
      "100%|██████████| 600/600 [00:00<00:00, 665.10it/s]\n",
      " 11%|█         | 67/600 [00:00<00:00, 664.49it/s]"
     ]
    },
    {
     "name": "stdout",
     "output_type": "stream",
     "text": [
      "Epochs:177, train_Loss:1.9381072521209717, test_Loss:1.11\n"
     ]
    },
    {
     "name": "stderr",
     "output_type": "stream",
     "text": [
      "100%|██████████| 600/600 [00:00<00:00, 665.90it/s]\n",
      " 11%|█▏        | 68/600 [00:00<00:00, 674.26it/s]"
     ]
    },
    {
     "name": "stdout",
     "output_type": "stream",
     "text": [
      "Epochs:178, train_Loss:1.9384127855300903, test_Loss:1.11\n"
     ]
    },
    {
     "name": "stderr",
     "output_type": "stream",
     "text": [
      "100%|██████████| 600/600 [00:00<00:00, 666.53it/s]\n",
      " 11%|█         | 67/600 [00:00<00:00, 662.44it/s]"
     ]
    },
    {
     "name": "stdout",
     "output_type": "stream",
     "text": [
      "Epochs:179, train_Loss:1.9382340908050537, test_Loss:1.11\n"
     ]
    },
    {
     "name": "stderr",
     "output_type": "stream",
     "text": [
      "100%|██████████| 600/600 [00:00<00:00, 659.06it/s]\n",
      " 11%|█         | 64/600 [00:00<00:00, 639.28it/s]"
     ]
    },
    {
     "name": "stdout",
     "output_type": "stream",
     "text": [
      "Epochs:180, train_Loss:1.9384074211120605, test_Loss:1.11\n"
     ]
    },
    {
     "name": "stderr",
     "output_type": "stream",
     "text": [
      "100%|██████████| 600/600 [00:00<00:00, 643.85it/s]\n",
      " 11%|█         | 66/600 [00:00<00:00, 657.51it/s]"
     ]
    },
    {
     "name": "stdout",
     "output_type": "stream",
     "text": [
      "Epochs:181, train_Loss:1.9386091232299805, test_Loss:1.11\n"
     ]
    },
    {
     "name": "stderr",
     "output_type": "stream",
     "text": [
      "100%|██████████| 600/600 [00:00<00:00, 666.83it/s]\n",
      " 11%|█▏        | 68/600 [00:00<00:00, 673.32it/s]"
     ]
    },
    {
     "name": "stdout",
     "output_type": "stream",
     "text": [
      "Epochs:182, train_Loss:1.9385679960250854, test_Loss:1.11\n"
     ]
    },
    {
     "name": "stderr",
     "output_type": "stream",
     "text": [
      "100%|██████████| 600/600 [00:00<00:00, 667.33it/s]\n",
      " 11%|█         | 66/600 [00:00<00:00, 659.22it/s]"
     ]
    },
    {
     "name": "stdout",
     "output_type": "stream",
     "text": [
      "Epochs:183, train_Loss:1.9385994672775269, test_Loss:1.11\n"
     ]
    },
    {
     "name": "stderr",
     "output_type": "stream",
     "text": [
      "100%|██████████| 600/600 [00:00<00:00, 657.64it/s]\n",
      " 11%|█         | 67/600 [00:00<00:00, 666.21it/s]"
     ]
    },
    {
     "name": "stdout",
     "output_type": "stream",
     "text": [
      "Epochs:184, train_Loss:1.9386837482452393, test_Loss:1.11\n"
     ]
    },
    {
     "name": "stderr",
     "output_type": "stream",
     "text": [
      "100%|██████████| 600/600 [00:00<00:00, 661.76it/s]\n",
      " 11%|█         | 67/600 [00:00<00:00, 669.93it/s]"
     ]
    },
    {
     "name": "stdout",
     "output_type": "stream",
     "text": [
      "Epochs:185, train_Loss:1.9389417171478271, test_Loss:1.11\n"
     ]
    },
    {
     "name": "stderr",
     "output_type": "stream",
     "text": [
      "100%|██████████| 600/600 [00:00<00:00, 660.14it/s]\n",
      " 11%|█▏        | 68/600 [00:00<00:00, 675.72it/s]"
     ]
    },
    {
     "name": "stdout",
     "output_type": "stream",
     "text": [
      "Epochs:186, train_Loss:1.939087986946106, test_Loss:1.11\n"
     ]
    },
    {
     "name": "stderr",
     "output_type": "stream",
     "text": [
      "100%|██████████| 600/600 [00:00<00:00, 665.71it/s]\n",
      " 11%|█         | 67/600 [00:00<00:00, 660.24it/s]"
     ]
    },
    {
     "name": "stdout",
     "output_type": "stream",
     "text": [
      "Epochs:187, train_Loss:1.9392234086990356, test_Loss:1.11\n"
     ]
    },
    {
     "name": "stderr",
     "output_type": "stream",
     "text": [
      "100%|██████████| 600/600 [00:00<00:00, 663.28it/s]\n",
      " 11%|█▏        | 68/600 [00:00<00:00, 678.19it/s]"
     ]
    },
    {
     "name": "stdout",
     "output_type": "stream",
     "text": [
      "Epochs:188, train_Loss:1.9394769668579102, test_Loss:1.11\n"
     ]
    },
    {
     "name": "stderr",
     "output_type": "stream",
     "text": [
      "100%|██████████| 600/600 [00:00<00:00, 660.69it/s]\n",
      " 11%|█         | 66/600 [00:00<00:00, 655.81it/s]"
     ]
    },
    {
     "name": "stdout",
     "output_type": "stream",
     "text": [
      "Epochs:189, train_Loss:1.939316987991333, test_Loss:1.11\n"
     ]
    },
    {
     "name": "stderr",
     "output_type": "stream",
     "text": [
      "100%|██████████| 600/600 [00:00<00:00, 647.64it/s]\n",
      " 11%|█         | 66/600 [00:00<00:00, 652.63it/s]"
     ]
    },
    {
     "name": "stdout",
     "output_type": "stream",
     "text": [
      "Epochs:190, train_Loss:1.9394718408584595, test_Loss:1.11\n"
     ]
    },
    {
     "name": "stderr",
     "output_type": "stream",
     "text": [
      "100%|██████████| 600/600 [00:00<00:00, 644.43it/s]\n",
      " 11%|█         | 66/600 [00:00<00:00, 650.83it/s]"
     ]
    },
    {
     "name": "stdout",
     "output_type": "stream",
     "text": [
      "Epochs:191, train_Loss:1.9396613836288452, test_Loss:1.11\n"
     ]
    },
    {
     "name": "stderr",
     "output_type": "stream",
     "text": [
      "100%|██████████| 600/600 [00:00<00:00, 643.78it/s]\n",
      " 11%|█         | 65/600 [00:00<00:00, 643.71it/s]"
     ]
    },
    {
     "name": "stdout",
     "output_type": "stream",
     "text": [
      "Epochs:192, train_Loss:1.9398599863052368, test_Loss:1.11\n"
     ]
    },
    {
     "name": "stderr",
     "output_type": "stream",
     "text": [
      "100%|██████████| 600/600 [00:00<00:00, 649.36it/s]\n",
      " 11%|█         | 67/600 [00:00<00:00, 668.95it/s]"
     ]
    },
    {
     "name": "stdout",
     "output_type": "stream",
     "text": [
      "Epochs:193, train_Loss:1.9399545192718506, test_Loss:1.11\n"
     ]
    },
    {
     "name": "stderr",
     "output_type": "stream",
     "text": [
      "100%|██████████| 600/600 [00:00<00:00, 656.38it/s]\n",
      " 11%|█         | 65/600 [00:00<00:00, 648.78it/s]"
     ]
    },
    {
     "name": "stdout",
     "output_type": "stream",
     "text": [
      "Epochs:194, train_Loss:1.9401178359985352, test_Loss:1.11\n"
     ]
    },
    {
     "name": "stderr",
     "output_type": "stream",
     "text": [
      "100%|██████████| 600/600 [00:00<00:00, 651.17it/s]\n",
      " 11%|█         | 66/600 [00:00<00:00, 651.74it/s]"
     ]
    },
    {
     "name": "stdout",
     "output_type": "stream",
     "text": [
      "Epochs:195, train_Loss:1.9402551651000977, test_Loss:1.11\n"
     ]
    },
    {
     "name": "stderr",
     "output_type": "stream",
     "text": [
      "100%|██████████| 600/600 [00:00<00:00, 661.89it/s]\n",
      " 11%|█▏        | 68/600 [00:00<00:00, 670.65it/s]"
     ]
    },
    {
     "name": "stdout",
     "output_type": "stream",
     "text": [
      "Epochs:196, train_Loss:1.9402681589126587, test_Loss:1.11\n"
     ]
    },
    {
     "name": "stderr",
     "output_type": "stream",
     "text": [
      "100%|██████████| 600/600 [00:00<00:00, 667.39it/s]\n",
      " 11%|█         | 67/600 [00:00<00:00, 669.32it/s]"
     ]
    },
    {
     "name": "stdout",
     "output_type": "stream",
     "text": [
      "Epochs:197, train_Loss:1.9405237436294556, test_Loss:1.11\n"
     ]
    },
    {
     "name": "stderr",
     "output_type": "stream",
     "text": [
      "100%|██████████| 600/600 [00:00<00:00, 668.36it/s]\n",
      " 11%|█         | 67/600 [00:00<00:00, 669.77it/s]"
     ]
    },
    {
     "name": "stdout",
     "output_type": "stream",
     "text": [
      "Epochs:198, train_Loss:1.940633773803711, test_Loss:1.11\n"
     ]
    },
    {
     "name": "stderr",
     "output_type": "stream",
     "text": [
      "100%|██████████| 600/600 [00:00<00:00, 660.55it/s]"
     ]
    },
    {
     "name": "stdout",
     "output_type": "stream",
     "text": [
      "Epochs:199, train_Loss:1.9406424760818481, test_Loss:1.11\n"
     ]
    },
    {
     "name": "stderr",
     "output_type": "stream",
     "text": [
      "\n"
     ]
    }
   ],
   "source": [
    "for epoch in range(1, 200):\n",
    "    start = 0\n",
    "    for _data in tqdm(train_loader):\n",
    "        y = tag_shaper(_data[:,0])\n",
    "#         x = input_shaper(_data[:, 1:input_dim+1],input_dim)\n",
    "        o = input_shaper(_data[:, input_dim+1],estimate_dim)\n",
    "#         x = x.to(device)\n",
    "        y = y.to(device)\n",
    "        o = o.to(device)\n",
    "        \n",
    "        optimizer.zero_grad()\n",
    "        \n",
    "#         z = q.sample({\"x\":x}, return_all=False)\n",
    "#         latent = z.get('z')\n",
    "        \n",
    "        end = start + batch_size\n",
    "        latent = torch.tensor(z_total_train[start:end]).to(device)\n",
    "        start = end\n",
    "        \n",
    "        output = model2(latent,y)\n",
    "        loss = criterion(output,o)        \n",
    "        loss.backward()\n",
    "        \n",
    "        optimizer.step()\n",
    "    \n",
    "    total = 0\n",
    "    total_loss = 0\n",
    "    start = 0\n",
    "    for _data in test_loader:\n",
    "        y = tag_shaper(_data[:,0])\n",
    "#         x = input_shaper(_data[:, 1:input_dim+1],input_dim)\n",
    "        o = input_shaper(_data[:, input_dim+1],estimate_dim)\n",
    "#         x = x.to(device)\n",
    "        y = y.to(device)\n",
    "        o = o.to(device)\n",
    "        \n",
    "#         z = q.sample({\"x\":x}, return_all=False)\n",
    "#         latent = z.get('z')\n",
    "        \n",
    "        end = start + batch_size\n",
    "        latent = torch.tensor(z_total_test[start:end]).to(device)\n",
    "        start = end        \n",
    "        \n",
    "        output = model2(latent,y)\n",
    "        loss = criterion(output,o)\n",
    "        \n",
    "        total_loss += loss *len(_data)\n",
    "        total += len(_data)\n",
    "    test_loss = total_loss/total\n",
    "    \n",
    "    print('Epochs:{}, train_Loss:{}, test_Loss:{:.2f}'.format(epoch,loss.item(), test_loss.item()))"
   ]
  },
  {
   "cell_type": "code",
   "execution_count": 43,
   "metadata": {},
   "outputs": [],
   "source": [
    "pt_size = 20000\n",
    "z_sample = 0.3* torch.randn(pt_size, latent_dim).to(device)\n",
    "\n",
    "# 非治療群を生成\n",
    "plot_number = 0\n",
    "uy_sample = torch.eye(2)[[plot_number]*pt_size].to(device)\n",
    "untreated=model2(z_sample,uy_sample)\n",
    "\n",
    "# 治療群を生成\n",
    "plot_number = 1\n",
    "ty_sample = torch.eye(2)[[plot_number]*pt_size].to(device)\n",
    "treated=model2(z_sample,ty_sample)"
   ]
  },
  {
   "cell_type": "code",
   "execution_count": 44,
   "metadata": {},
   "outputs": [
    {
     "data": {
      "image/png": "[encoded data removed]",
      "text/plain": [
       "<Figure size 432x288 with 1 Axes>"
      ]
     },
     "metadata": {
      "needs_background": "light"
     },
     "output_type": "display_data"
    }
   ],
   "source": [
    "plt.hist(untreated.detach().cpu().numpy(),bins=100)\n",
    "plt.show()"
   ]
  },
  {
   "cell_type": "code",
   "execution_count": 45,
   "metadata": {},
   "outputs": [
    {
     "data": {
      "image/png": "[encoded data removed]",
      "text/plain": [
       "<Figure size 432x288 with 1 Axes>"
      ]
     },
     "metadata": {
      "needs_background": "light"
     },
     "output_type": "display_data"
    }
   ],
   "source": [
    "plt.hist(treated.detach().cpu().numpy(),bins=100)\n",
    "plt.show()"
   ]
  },
  {
   "cell_type": "code",
   "execution_count": 46,
   "metadata": {},
   "outputs": [
    {
     "data": {
      "text/plain": [
       "1.6357293"
      ]
     },
     "execution_count": 46,
     "metadata": {},
     "output_type": "execute_result"
    },
    {
     "data": {
      "image/png": "[encoded data removed]",
      "text/plain": [
       "<Figure size 432x288 with 1 Axes>"
      ]
     },
     "metadata": {
      "needs_background": "light"
     },
     "output_type": "display_data"
    }
   ],
   "source": [
    "plt.hist(treated.detach().cpu().numpy()-untreated.detach().cpu().numpy(),bins=100)\n",
    "(treated.detach().cpu().numpy()-untreated.detach().cpu().numpy()).mean()"
   ]
  },
  {
   "cell_type": "code",
   "execution_count": 47,
   "metadata": {},
   "outputs": [
    {
     "data": {
      "image/png": "[encoded data removed]",
      "text/plain": [
       "<Figure size 432x288 with 1 Axes>"
      ]
     },
     "metadata": {
      "needs_background": "light"
     },
     "output_type": "display_data"
    }
   ],
   "source": [
    "plt.hist(untreated.detach().cpu().numpy(), bins=100, alpha=0.5)\n",
    "plt.hist(treated.detach().cpu().numpy(), bins=100, alpha=0.5)\n",
    "\n",
    "plt.hist(df_train[(df_train[0]==1)][10], bins=100, alpha=0.5)\n",
    "plt.hist(df_train[(df_train[0]==0)][10], bins=100, alpha=0.5)\n",
    "plt.show()"
   ]
  },
  {
   "cell_type": "code",
   "execution_count": null,
   "metadata": {},
   "outputs": [],
   "source": []
  }
 ],
 "metadata": {
  "kernelspec": {
   "display_name": "Python 3",
   "language": "python",
   "name": "python3"
  },
  "language_info": {
   "codemirror_mode": {
    "name": "ipython",
    "version": 3
   },
   "file_extension": ".py",
   "mimetype": "text/x-python",
   "name": "python",
   "nbconvert_exporter": "python",
   "pygments_lexer": "ipython3",
   "version": "3.6.8"
  }
 },
 "nbformat": 4,
 "nbformat_minor": 2
}
